{
 "cells": [
  {
   "cell_type": "markdown",
   "id": "a98f1c88-00b3-49d3-9bde-1083ad9bb30d",
   "metadata": {},
   "source": [
    "# Preparation"
   ]
  },
  {
   "cell_type": "markdown",
   "id": "eed3d0a5-8e71-4b42-94a7-9f9ba1f51000",
   "metadata": {},
   "source": [
    "`xmen dict conf/xmen.yaml --code src/gazetteer.py`\n",
    "(extend the SympTEMIST gazetteer with UMLS aliases and save as jsonl file)\n",
    "\n",
    "`xmen index conf/xmen.yaml --all`\n",
    "(compute TF-IDF and SapBERT indices)"
   ]
  },
  {
   "cell_type": "code",
   "execution_count": 1,
   "id": "613f5708-2682-4933-af8e-d4ad1e3ac408",
   "metadata": {},
   "outputs": [],
   "source": [
    "from datasets import load_dataset, DatasetDict, load_from_disk\n",
    "from pathlib import Path\n",
    "from xmen.evaluation import *"
   ]
  },
  {
   "cell_type": "code",
   "execution_count": 2,
   "id": "685c3dbe-0fd7-4428-a96b-dc42d4d5d2c5",
   "metadata": {},
   "outputs": [],
   "source": [
    "base_path = Path.home() / '.cache' / 'xmen' / 'symptemist'"
   ]
  },
  {
   "cell_type": "code",
   "execution_count": 3,
   "id": "cc930779-8e30-42bf-884e-589664a1f717",
   "metadata": {},
   "outputs": [
    {
     "name": "stderr",
     "output_type": "stream",
     "text": [
      "Found cached dataset symptemist (/dhc/home/florian.borchert/.cache/huggingface/datasets/symptemist/symptemist_linking_bigbio_kb/2.0.0/2542aaab0d6c9963785fca5b4b0712501e06aa5a2e136b7b4d26d1fd7a2c382a)\n"
     ]
    },
    {
     "data": {
      "application/vnd.jupyter.widget-view+json": {
       "model_id": "a38246182dfc48c2ba46e72b1dccd9a6",
       "version_major": 2,
       "version_minor": 0
      },
      "text/plain": [
       "  0%|          | 0/1 [00:00<?, ?it/s]"
      ]
     },
     "metadata": {},
     "output_type": "display_data"
    }
   ],
   "source": [
    "symptemist_data = load_dataset(\n",
    "    path=\"../../biomedical/bigbio/hub/hub_repos/symptemist/symptemist.py\", \n",
    "    name=\"symptemist_linking_bigbio_kb\"\n",
    ")\n",
    "train_data = symptemist_data['train']"
   ]
  },
  {
   "cell_type": "code",
   "execution_count": 4,
   "id": "b3376ccd-2313-413b-9a59-1365edddd6dd",
   "metadata": {},
   "outputs": [
    {
     "data": {
      "text/plain": [
       "60"
      ]
     },
     "execution_count": 4,
     "metadata": {},
     "output_type": "execute_result"
    }
   ],
   "source": [
    "#import random\n",
    "#random.seed(42)\n",
    "\n",
    "#doc_ids = symptemist_data['train']['document_id']\n",
    "#n_valid = int(0.2 * len(doc_ids))\n",
    "#n_valid\n",
    "#valid_doc_ids = random.sample(doc_ids, n_valid)\n",
    "#with open('../data/subtrack2_valid_docids.txt', 'w') as fh:\n",
    "#     for v in valid_doc_ids:\n",
    "#        fh.write(v + '\\n')\n",
    "valid_doc_ids = [doc_id.strip() for doc_id in open('../data/subtrack2_valid_docids.txt', 'r').readlines()]\n",
    "len(valid_doc_ids)"
   ]
  },
  {
   "cell_type": "code",
   "execution_count": 5,
   "id": "abd090c6-751b-4ca8-9451-9e9ea27fb4ae",
   "metadata": {},
   "outputs": [
    {
     "name": "stderr",
     "output_type": "stream",
     "text": [
      "Loading cached processed dataset at /dhc/home/florian.borchert/.cache/huggingface/datasets/symptemist/symptemist_linking_bigbio_kb/2.0.0/2542aaab0d6c9963785fca5b4b0712501e06aa5a2e136b7b4d26d1fd7a2c382a/cache-2fdb3259090cb02d.arrow\n",
      "Loading cached processed dataset at /dhc/home/florian.borchert/.cache/huggingface/datasets/symptemist/symptemist_linking_bigbio_kb/2.0.0/2542aaab0d6c9963785fca5b4b0712501e06aa5a2e136b7b4d26d1fd7a2c382a/cache-6587fb313b12f484.arrow\n"
     ]
    },
    {
     "data": {
      "text/plain": [
       "DatasetDict({\n",
       "    train: Dataset({\n",
       "        features: ['id', 'document_id', 'passages', 'entities', 'events', 'coreferences', 'relations'],\n",
       "        num_rows: 244\n",
       "    })\n",
       "    validation: Dataset({\n",
       "        features: ['id', 'document_id', 'passages', 'entities', 'events', 'coreferences', 'relations'],\n",
       "        num_rows: 60\n",
       "    })\n",
       "})"
      ]
     },
     "execution_count": 5,
     "metadata": {},
     "output_type": "execute_result"
    }
   ],
   "source": [
    "dataset = DatasetDict()\n",
    "dataset['train'] = train_data.filter(lambda d: d['document_id'] not in valid_doc_ids)\n",
    "dataset['validation'] = train_data.filter(lambda d: d['document_id'] in valid_doc_ids)\n",
    "dataset"
   ]
  },
  {
   "cell_type": "code",
   "execution_count": 6,
   "id": "70634a39-008a-4afe-8398-aa60042fbe3f",
   "metadata": {},
   "outputs": [
    {
     "data": {
      "text/plain": [
       "3484"
      ]
     },
     "execution_count": 6,
     "metadata": {},
     "output_type": "execute_result"
    }
   ],
   "source": [
    "from xmen.data import get_cuis\n",
    "cuis = get_cuis(dataset['train']) + get_cuis(dataset['validation'])\n",
    "len(cuis)"
   ]
  },
  {
   "cell_type": "code",
   "execution_count": 7,
   "id": "7b0dbaaf-ea2f-45e4-ad29-7e0412770200",
   "metadata": {},
   "outputs": [],
   "source": [
    "from xmen import load_kb\n",
    "kb = load_kb(base_path / 'symptemist.jsonl')"
   ]
  },
  {
   "cell_type": "code",
   "execution_count": 8,
   "id": "047c826f-121a-4645-ab50-082f3b6fa9be",
   "metadata": {},
   "outputs": [
    {
     "data": {
      "text/plain": [
       "{'NO_CODE'}"
      ]
     },
     "execution_count": 8,
     "metadata": {},
     "output_type": "execute_result"
    }
   ],
   "source": [
    "set([c for c in cuis if not c in kb.cui_to_entity])"
   ]
  },
  {
   "cell_type": "code",
   "execution_count": 9,
   "id": "fe183a67-d8e3-4d64-a860-528fe251f224",
   "metadata": {},
   "outputs": [
    {
     "data": {
      "text/plain": [
       "1079623"
      ]
     },
     "execution_count": 9,
     "metadata": {},
     "output_type": "execute_result"
    }
   ],
   "source": [
    "# aliases\n",
    "sum([len(c) for c in kb.alias_to_cuis.values()])"
   ]
  },
  {
   "cell_type": "markdown",
   "id": "da098f44-aa29-4527-adf2-154c871fd58d",
   "metadata": {},
   "source": [
    "# Candidate Generation"
   ]
  },
  {
   "cell_type": "code",
   "execution_count": null,
   "id": "2fba3fcd-f2c2-4160-b774-6bdab25764d4",
   "metadata": {},
   "outputs": [],
   "source": [
    "from xmen.linkers import default_ensemble"
   ]
  },
  {
   "cell_type": "code",
   "execution_count": null,
   "id": "80183943-568c-491f-8dab-d7859906f262",
   "metadata": {},
   "outputs": [],
   "source": [
    "linker = default_ensemble(base_path / 'index')"
   ]
  },
  {
   "cell_type": "code",
   "execution_count": null,
   "id": "4b150c65-6536-45c3-bb23-8db13a4f3b9d",
   "metadata": {},
   "outputs": [],
   "source": [
    "candidates_ngram = linker.linkers_fn['ngram']().predict_batch(dataset)"
   ]
  },
  {
   "cell_type": "code",
   "execution_count": null,
   "id": "ffc01a6e-298f-4060-84a1-ca2f092fe6e4",
   "metadata": {},
   "outputs": [],
   "source": [
    "print('Training Set:')\n",
    "_ = evaluate_at_k(dataset['train'], candidates_ngram['train'])\n",
    "print('Validation Set:')\n",
    "_ = evaluate_at_k(dataset['validation'], candidates_ngram['validation'])"
   ]
  },
  {
   "cell_type": "code",
   "execution_count": null,
   "id": "8ad57c4f-9a41-459c-8d02-b86c4742caa9",
   "metadata": {},
   "outputs": [],
   "source": [
    "candidates_sap = linker.linkers_fn['sapbert']().predict_batch(dataset, batch_size=128)"
   ]
  },
  {
   "cell_type": "code",
   "execution_count": null,
   "id": "94131636-05ff-43c0-89b3-b8e8ccf2bc0a",
   "metadata": {},
   "outputs": [],
   "source": [
    "print('Training Set:')\n",
    "_ = evaluate_at_k(dataset['train'], candidates_sap['train'])\n",
    "print('Validation Set:')\n",
    "_ = evaluate_at_k(dataset['validation'], candidates_sap['validation'])"
   ]
  },
  {
   "cell_type": "code",
   "execution_count": null,
   "id": "b283495f-d92b-4a6c-8ecf-e8203f88fc41",
   "metadata": {},
   "outputs": [],
   "source": [
    "candidates = linker.predict_batch(dataset, batch_size=128, top_k=64, reuse_preds={'sapbert' : candidates_sap, 'ngram' : candidates_ngram})"
   ]
  },
  {
   "cell_type": "code",
   "execution_count": null,
   "id": "2c993d4a-67bf-485c-8149-ca8afc7ac77f",
   "metadata": {},
   "outputs": [],
   "source": [
    "print('Training Set:')\n",
    "_ = evaluate_at_k(dataset['train'], candidates['train'])\n",
    "print('Validation Set:')\n",
    "_ = evaluate_at_k(dataset['validation'], candidates['validation'])"
   ]
  },
  {
   "cell_type": "code",
   "execution_count": null,
   "id": "fc612f23-d23b-4702-a244-71f5b62a0c9f",
   "metadata": {},
   "outputs": [],
   "source": [
    "candidates.save_to_disk('../data/candidates')"
   ]
  },
  {
   "cell_type": "markdown",
   "id": "00292c19-186c-4e54-9a8d-3b5d422e6efd",
   "metadata": {},
   "source": [
    "# Prepare Data for Reranking"
   ]
  },
  {
   "cell_type": "code",
   "execution_count": 10,
   "id": "9bbb8575-e71e-4983-9284-3574e5d675da",
   "metadata": {},
   "outputs": [],
   "source": [
    "from xmen.reranking import CrossEncoderReranker"
   ]
  },
  {
   "cell_type": "code",
   "execution_count": 11,
   "id": "8a684c02-33cb-418b-ade9-9646969650ce",
   "metadata": {},
   "outputs": [],
   "source": [
    "candidates = load_from_disk('../data/candidates')"
   ]
  },
  {
   "cell_type": "code",
   "execution_count": 13,
   "id": "f927cd06-a349-4082-ad6d-4299c6fed4fb",
   "metadata": {},
   "outputs": [],
   "source": [
    "ea_df = error_analysis(dataset['validation'], candidates['validation'])"
   ]
  },
  {
   "cell_type": "code",
   "execution_count": 27,
   "id": "1bb6ff55-0c34-4f42-9011-8f0f377e4b85",
   "metadata": {},
   "outputs": [
    {
     "name": "stdout",
     "output_type": "stream",
     "text": [
      "Recall@1 0.4230271668822768\n",
      "Recall@2 0.5433376455368694\n",
      "Recall@4 0.6261319534282018\n",
      "Recall@8 0.6817593790426908\n",
      "Recall@16 0.7309184993531694\n",
      "Recall@32 0.7684346701164295\n",
      "Recall@64 0.8007761966364813\n"
     ]
    }
   ],
   "source": [
    "_ = evaluate_at_k(dataset['validation'], candidates['validation'])"
   ]
  },
  {
   "cell_type": "code",
   "execution_count": 28,
   "id": "d85082d0-5d0b-4d25-8ddc-d1060314f89c",
   "metadata": {},
   "outputs": [
    {
     "name": "stdout",
     "output_type": "stream",
     "text": [
      "Context length: 128\n",
      "Use NIL values: True\n"
     ]
    },
    {
     "data": {
      "application/vnd.jupyter.widget-view+json": {
       "model_id": "a651f7cbd3aa4d1b82260667a5299bce",
       "version_major": 2,
       "version_minor": 0
      },
      "text/plain": [
       "  0%|          | 0/2711 [00:00<?, ?it/s]"
      ]
     },
     "metadata": {},
     "output_type": "display_data"
    },
    {
     "data": {
      "application/vnd.jupyter.widget-view+json": {
       "model_id": "7a92f4007c664d91b6134e5ab8b410fd",
       "version_major": 2,
       "version_minor": 0
      },
      "text/plain": [
       "  0%|          | 0/2711 [00:00<?, ?it/s]"
      ]
     },
     "metadata": {},
     "output_type": "display_data"
    },
    {
     "data": {
      "application/vnd.jupyter.widget-view+json": {
       "model_id": "6c641c8b88ec4203aeb1589b8a0191a6",
       "version_major": 2,
       "version_minor": 0
      },
      "text/plain": [
       "  0%|          | 0/2711 [00:00<?, ?it/s]"
      ]
     },
     "metadata": {},
     "output_type": "display_data"
    },
    {
     "data": {
      "application/vnd.jupyter.widget-view+json": {
       "model_id": "94549299d7de41aaa2522c41e9a899ef",
       "version_major": 2,
       "version_minor": 0
      },
      "text/plain": [
       "  0%|          | 0/773 [00:00<?, ?it/s]"
      ]
     },
     "metadata": {},
     "output_type": "display_data"
    },
    {
     "data": {
      "application/vnd.jupyter.widget-view+json": {
       "model_id": "ba9c7be938024b6a96b5d7cdc1df7175",
       "version_major": 2,
       "version_minor": 0
      },
      "text/plain": [
       "  0%|          | 0/773 [00:00<?, ?it/s]"
      ]
     },
     "metadata": {},
     "output_type": "display_data"
    },
    {
     "data": {
      "application/vnd.jupyter.widget-view+json": {
       "model_id": "298bd47c1a9f4629ab03db2a5d466a12",
       "version_major": 2,
       "version_minor": 0
      },
      "text/plain": [
       "  0%|          | 0/773 [00:00<?, ?it/s]"
      ]
     },
     "metadata": {},
     "output_type": "display_data"
    }
   ],
   "source": [
    "ce_dataset = CrossEncoderReranker.prepare_data(candidates, dataset, kb)"
   ]
  },
  {
   "cell_type": "markdown",
   "id": "f4c3d08d-7c1b-42f0-ab00-d82a7d7bda4b",
   "metadata": {},
   "source": [
    "# Reranker Training"
   ]
  },
  {
   "cell_type": "code",
   "execution_count": 29,
   "id": "679e98be-a7fa-4ff6-b247-027d190188e9",
   "metadata": {},
   "outputs": [],
   "source": [
    "from xmen.reranking.cross_encoder import CrossEncoderTrainingArgs\n",
    "args = CrossEncoderTrainingArgs(num_train_epochs=20, model_name='PlanTL-GOB-ES/roberta-base-biomedical-clinical-es')"
   ]
  },
  {
   "cell_type": "code",
   "execution_count": 30,
   "id": "a154681b-4b8c-4865-8c43-52111b9ea2e4",
   "metadata": {},
   "outputs": [],
   "source": [
    "import datetime\n",
    "output_dir = Path('output') / 'cross_encoder' / datetime.datetime.now().strftime(\"%Y%m%d-%H%M%S\")"
   ]
  },
  {
   "cell_type": "code",
   "execution_count": null,
   "id": "c7d55c13-51f7-43a1-9c3a-575b04d510aa",
   "metadata": {},
   "outputs": [
    {
     "name": "stderr",
     "output_type": "stream",
     "text": [
      "Failed to detect the name of this notebook, you can set it manually with the WANDB_NOTEBOOK_NAME environment variable to enable code saving.\n",
      "\u001b[34m\u001b[1mwandb\u001b[0m: Currently logged in as: \u001b[33mphlobo\u001b[0m. Use \u001b[1m`wandb login --relogin`\u001b[0m to force relogin\n"
     ]
    },
    {
     "data": {
      "text/html": [
       "wandb version 0.15.10 is available!  To upgrade, please run:\n",
       " $ pip install wandb --upgrade"
      ],
      "text/plain": [
       "<IPython.core.display.HTML object>"
      ]
     },
     "metadata": {},
     "output_type": "display_data"
    },
    {
     "data": {
      "text/html": [
       "Tracking run with wandb version 0.15.5"
      ],
      "text/plain": [
       "<IPython.core.display.HTML object>"
      ]
     },
     "metadata": {},
     "output_type": "display_data"
    },
    {
     "data": {
      "text/html": [
       "Run data is saved locally in <code>/dhc/home/florian.borchert/workspace/symptemist_biocreative_2023/notebooks/wandb/run-20230920_134759-kf9kqva6</code>"
      ],
      "text/plain": [
       "<IPython.core.display.HTML object>"
      ]
     },
     "metadata": {},
     "output_type": "display_data"
    },
    {
     "data": {
      "text/html": [
       "Syncing run <strong><a href='https://wandb.ai/phlobo/symptemist/runs/kf9kqva6' target=\"_blank\">lemon-bird-4</a></strong> to <a href='https://wandb.ai/phlobo/symptemist' target=\"_blank\">Weights & Biases</a> (<a href='https://wandb.me/run' target=\"_blank\">docs</a>)<br/>"
      ],
      "text/plain": [
       "<IPython.core.display.HTML object>"
      ]
     },
     "metadata": {},
     "output_type": "display_data"
    },
    {
     "data": {
      "text/html": [
       " View project at <a href='https://wandb.ai/phlobo/symptemist' target=\"_blank\">https://wandb.ai/phlobo/symptemist</a>"
      ],
      "text/plain": [
       "<IPython.core.display.HTML object>"
      ]
     },
     "metadata": {},
     "output_type": "display_data"
    },
    {
     "data": {
      "text/html": [
       " View run at <a href='https://wandb.ai/phlobo/symptemist/runs/kf9kqva6' target=\"_blank\">https://wandb.ai/phlobo/symptemist/runs/kf9kqva6</a>"
      ],
      "text/plain": [
       "<IPython.core.display.HTML object>"
      ]
     },
     "metadata": {},
     "output_type": "display_data"
    },
    {
     "name": "stdout",
     "output_type": "stream",
     "text": [
      "model_name := PlanTL-GOB-ES/roberta-base-biomedical-clinical-es\n",
      "num_train_epochs := 20\n",
      "fp16 := True\n",
      "label_smoothing := False\n",
      "rank_regularization := 1.0\n",
      "train_layers := None\n",
      "softmax_loss := True\n",
      "random_seed := 42\n",
      "learning_rate := 2e-05\n"
     ]
    },
    {
     "name": "stderr",
     "output_type": "stream",
     "text": [
      "Some weights of the model checkpoint at PlanTL-GOB-ES/roberta-base-biomedical-clinical-es were not used when initializing RobertaForSequenceClassification: ['lm_head.decoder.weight', 'lm_head.bias', 'lm_head.dense.bias', 'lm_head.decoder.bias', 'lm_head.layer_norm.weight', 'lm_head.layer_norm.bias', 'lm_head.dense.weight']\n",
      "- This IS expected if you are initializing RobertaForSequenceClassification from the checkpoint of a model trained on another task or with another architecture (e.g. initializing a BertForSequenceClassification model from a BertForPreTraining model).\n",
      "- This IS NOT expected if you are initializing RobertaForSequenceClassification from the checkpoint of a model that you expect to be exactly identical (initializing a BertForSequenceClassification model from a BertForSequenceClassification model).\n",
      "Some weights of RobertaForSequenceClassification were not initialized from the model checkpoint at PlanTL-GOB-ES/roberta-base-biomedical-clinical-es and are newly initialized: ['classifier.dense.bias', 'classifier.dense.weight', 'classifier.out_proj.weight', 'classifier.out_proj.bias']\n",
      "You should probably TRAIN this model on a down-stream task to be able to use it for predictions and inference.\n"
     ]
    },
    {
     "name": "stdout",
     "output_type": "stream",
     "text": [
      "2023-09-20 14:05:06 - EntityLinkingEvaluator: Evaluating the model on eval dataset after epoch 0:\n",
      "2023-09-20 14:10:20 - Accuracy: 0.5795601552393272\n",
      "2023-09-20 14:10:20 - Accuracy @ 5: 0.7645536869340233\n",
      "2023-09-20 14:10:20 - Accuracy @ 64: 1.0\n",
      "2023-09-20 14:10:20 - Baseline Accuracy: 0.4230271668822768\n",
      "2023-09-20 14:10:20 - Save model to output/cross_encoder/20230920-134756\n",
      "2023-09-20 14:27:21 - EntityLinkingEvaluator: Evaluating the model on eval dataset after epoch 1:\n",
      "2023-09-20 14:32:35 - Accuracy: 0.6338939197930142\n",
      "2023-09-20 14:32:35 - Accuracy @ 5: 0.7930142302716688\n",
      "2023-09-20 14:32:35 - Accuracy @ 64: 1.0\n",
      "2023-09-20 14:32:35 - Baseline Accuracy: 0.4230271668822768\n",
      "2023-09-20 14:32:35 - Save model to output/cross_encoder/20230920-134756\n",
      "2023-09-20 14:49:37 - EntityLinkingEvaluator: Evaluating the model on eval dataset after epoch 2:\n",
      "2023-09-20 14:54:51 - Accuracy: 0.6338939197930142\n",
      "2023-09-20 14:54:51 - Accuracy @ 5: 0.7723156532988357\n",
      "2023-09-20 14:54:51 - Accuracy @ 64: 1.0\n",
      "2023-09-20 14:54:51 - Baseline Accuracy: 0.4230271668822768\n",
      "2023-09-20 15:11:51 - EntityLinkingEvaluator: Evaluating the model on eval dataset after epoch 3:\n",
      "2023-09-20 15:17:06 - Accuracy: 0.6675291073738681\n",
      "2023-09-20 15:17:06 - Accuracy @ 5: 0.8188874514877102\n",
      "2023-09-20 15:17:06 - Accuracy @ 64: 1.0\n",
      "2023-09-20 15:17:06 - Baseline Accuracy: 0.4230271668822768\n",
      "2023-09-20 15:17:06 - Save model to output/cross_encoder/20230920-134756\n",
      "2023-09-20 15:34:08 - EntityLinkingEvaluator: Evaluating the model on eval dataset after epoch 4:\n",
      "2023-09-20 15:39:22 - Accuracy: 0.6727037516170763\n",
      "2023-09-20 15:39:22 - Accuracy @ 5: 0.8124191461836999\n",
      "2023-09-20 15:39:22 - Accuracy @ 64: 1.0\n",
      "2023-09-20 15:39:22 - Baseline Accuracy: 0.4230271668822768\n",
      "2023-09-20 15:39:22 - Save model to output/cross_encoder/20230920-134756\n",
      "2023-09-20 15:56:24 - EntityLinkingEvaluator: Evaluating the model on eval dataset after epoch 5:\n",
      "2023-09-20 16:01:38 - Accuracy: 0.6623544631306598\n",
      "2023-09-20 16:01:38 - Accuracy @ 5: 0.795601552393273\n",
      "2023-09-20 16:01:38 - Accuracy @ 64: 1.0\n",
      "2023-09-20 16:01:38 - Baseline Accuracy: 0.4230271668822768\n",
      "2023-09-20 16:18:39 - EntityLinkingEvaluator: Evaluating the model on eval dataset after epoch 6:\n",
      "2023-09-20 16:23:54 - Accuracy: 0.6830530401034929\n",
      "2023-09-20 16:23:54 - Accuracy @ 5: 0.8318240620957309\n",
      "2023-09-20 16:23:54 - Accuracy @ 64: 1.0\n",
      "2023-09-20 16:23:54 - Baseline Accuracy: 0.4230271668822768\n",
      "2023-09-20 16:23:54 - Save model to output/cross_encoder/20230920-134756\n",
      "2023-09-20 16:40:56 - EntityLinkingEvaluator: Evaluating the model on eval dataset after epoch 7:\n",
      "2023-09-20 16:46:10 - Accuracy: 0.685640362225097\n",
      "2023-09-20 16:46:10 - Accuracy @ 5: 0.8253557567917206\n",
      "2023-09-20 16:46:10 - Accuracy @ 64: 1.0\n",
      "2023-09-20 16:46:10 - Baseline Accuracy: 0.4230271668822768\n",
      "2023-09-20 16:46:10 - Save model to output/cross_encoder/20230920-134756\n",
      "2023-09-20 17:03:12 - EntityLinkingEvaluator: Evaluating the model on eval dataset after epoch 8:\n",
      "2023-09-20 17:08:27 - Accuracy: 0.6752910737386805\n",
      "2023-09-20 17:08:27 - Accuracy @ 5: 0.8369987063389392\n",
      "2023-09-20 17:08:27 - Accuracy @ 64: 1.0\n",
      "2023-09-20 17:08:27 - Baseline Accuracy: 0.4230271668822768\n",
      "2023-09-20 17:25:27 - EntityLinkingEvaluator: Evaluating the model on eval dataset after epoch 9:\n"
     ]
    }
   ],
   "source": [
    "import wandb\n",
    "\n",
    "wandb.init(project=\"symptemist\")\n",
    "\n",
    "try:\n",
    "    rr = CrossEncoderReranker()\n",
    "    rr.fit(args, ce_dataset['train'].dataset, ce_dataset['validation'].dataset, show_progress_bar=False, eval_callback=wandb.log, output_dir=output_dir)\n",
    "finally:\n",
    "    if run := wandb.run:\n",
    "        run.finish()"
   ]
  },
  {
   "cell_type": "markdown",
   "id": "7d7705e8-e7f4-4ea7-a255-ab59b8c13efb",
   "metadata": {},
   "source": [
    "# Prediction on Test Set"
   ]
  },
  {
   "cell_type": "code",
   "execution_count": 32,
   "id": "a372efb9-c1c2-4dfd-a7e4-4fc9b5e0bc90",
   "metadata": {},
   "outputs": [
    {
     "name": "stdout",
     "output_type": "stream",
     "text": [
      "2023-09-20 19:02:50 - Use pytorch device: cuda\n"
     ]
    }
   ],
   "source": [
    "rr = CrossEncoderReranker.load(output_dir, device=0)"
   ]
  },
  {
   "cell_type": "code",
   "execution_count": 33,
   "id": "8d7759ad-0ca2-41d9-a5e6-3a41f18ce2dc",
   "metadata": {},
   "outputs": [
    {
     "data": {
      "application/vnd.jupyter.widget-view+json": {
       "model_id": "f9a75151606943c5b3d323e31078e573",
       "version_major": 2,
       "version_minor": 0
      },
      "text/plain": [
       "Batches:   0%|          | 0/773 [00:00<?, ?it/s]"
      ]
     },
     "metadata": {},
     "output_type": "display_data"
    },
    {
     "data": {
      "application/vnd.jupyter.widget-view+json": {
       "model_id": "",
       "version_major": 2,
       "version_minor": 0
      },
      "text/plain": [
       "Map:   0%|          | 0/60 [00:00<?, ? examples/s]"
      ]
     },
     "metadata": {},
     "output_type": "display_data"
    },
    {
     "data": {
      "application/vnd.jupyter.widget-view+json": {
       "model_id": "",
       "version_major": 2,
       "version_minor": 0
      },
      "text/plain": [
       "Map:   0%|          | 0/60 [00:00<?, ? examples/s]"
      ]
     },
     "metadata": {},
     "output_type": "display_data"
    }
   ],
   "source": [
    "pred_validation = rr.rerank_batch(candidates['validation'], ce_dataset['validation'])"
   ]
  },
  {
   "cell_type": "code",
   "execution_count": 34,
   "id": "b6fba581-ff32-4027-8af9-47b78d091120",
   "metadata": {},
   "outputs": [
    {
     "data": {
      "text/plain": [
       "{'strict': {'precision': 0.7042682926829268,\n",
       "  'recall': 0.5976714100905562,\n",
       "  'fscore': 0.6466060181945417,\n",
       "  'ptp': 462,\n",
       "  'fp': 194,\n",
       "  'rtp': 462,\n",
       "  'fn': 311,\n",
       "  'n_docs_system': 60,\n",
       "  'n_annos_system': 656,\n",
       "  'n_docs_gold': 60,\n",
       "  'n_annos_gold': 773}}"
      ]
     },
     "execution_count": 34,
     "metadata": {},
     "output_type": "execute_result"
    }
   ],
   "source": [
    "evaluate(dataset['validation'], pred_validation)"
   ]
  },
  {
   "cell_type": "markdown",
   "id": "75a5b652-7ab3-4b88-aead-89fa2633e489",
   "metadata": {},
   "source": [
    "# Post-Processing"
   ]
  },
  {
   "cell_type": "code",
   "execution_count": 35,
   "id": "0822a3e2-5fe6-4c29-a451-73478d27edbf",
   "metadata": {},
   "outputs": [],
   "source": [
    "str2cui = []\n",
    "for d in dataset['train']['entities']:\n",
    "    for e in d:\n",
    "        str2cui.append({'text' : ' '.join(e['text']), 'norm' : e['normalized'][0]['db_id']})\n",
    "str2cui = pd.DataFrame(str2cui)"
   ]
  },
  {
   "cell_type": "code",
   "execution_count": 36,
   "id": "7204df82-1946-453f-9a3e-a0b7041fa9e5",
   "metadata": {},
   "outputs": [],
   "source": [
    "str2norm = str2cui.groupby('text').agg(set).norm"
   ]
  },
  {
   "cell_type": "code",
   "execution_count": 37,
   "id": "894ae7b7-3a01-447c-ade9-1f89fd8472de",
   "metadata": {},
   "outputs": [
    {
     "data": {
      "text/plain": [
       "Series([], Name: norm, dtype: object)"
      ]
     },
     "execution_count": 37,
     "metadata": {},
     "output_type": "execute_result"
    }
   ],
   "source": [
    "# Mapping is unique\n",
    "str2norm[str2norm.map(len) != 1]"
   ]
  },
  {
   "cell_type": "code",
   "execution_count": 38,
   "id": "5bb112e4-1aef-466b-99ec-6593e398d2b6",
   "metadata": {},
   "outputs": [],
   "source": [
    "str2cui_list = str2cui.groupby('text').agg(list).norm\n",
    "lookup = str2cui_list[str2cui_list.map(len) > 1].map(lambda l: l[0])"
   ]
  },
  {
   "cell_type": "code",
   "execution_count": 39,
   "id": "1c403393-cc90-4f00-bf50-1c96b752642a",
   "metadata": {},
   "outputs": [
    {
     "data": {
      "text/plain": [
       "text\n",
       "5HIAA en orina de 24 horas estaba dentro de los parámetros normales    171250001\n",
       "A nivel analítico no presentaba alteración                             166315009\n",
       "ALT y AST mayores de 20 veces el valor normal                          707724006\n",
       "ALT y AST menos de 3 veces el valor normal                             166642001\n",
       "AMA (Anticuerpos antimitocondriales) negativos                         310293008\n",
       "                                                                         ...    \n",
       "éxitus                                                                 419099009\n",
       "íleon por engrosamiento parietal                                       312895004\n",
       "íleon terminal una mucosa extremadamente irregular                     312895004\n",
       "óbito                                                                  419099009\n",
       "β-HCG normal                                                            33809001\n",
       "Name: norm, Length: 1985, dtype: object"
      ]
     },
     "execution_count": 39,
     "metadata": {},
     "output_type": "execute_result"
    }
   ],
   "source": [
    "lookup = str2norm.map(lambda s: list(s)[0])\n",
    "lookup"
   ]
  },
  {
   "cell_type": "code",
   "execution_count": 40,
   "id": "237dcdf8-05d3-4512-bd5d-a16a30e88ecf",
   "metadata": {},
   "outputs": [],
   "source": [
    "def transform_lookup(sample):\n",
    "    entities = sample['entities'].copy()\n",
    "    for e in entities:\n",
    "        t = ' '.join(e['text'])\n",
    "        if t in lookup.index:\n",
    "            train_cui = lookup.loc[t]\n",
    "            norm = e['normalized']\n",
    "            entry = {'db_name': 'SNOMED_CT', 'db_id': train_cui, 'score' : 1.0, 'predicted_by' : ['lookup']}\n",
    "            norm.insert(0, entry)\n",
    "    return { 'entities' : entities }"
   ]
  },
  {
   "cell_type": "code",
   "execution_count": 41,
   "id": "8a7b42d4-5710-4fdd-ae6e-3aa5e430ec23",
   "metadata": {},
   "outputs": [
    {
     "name": "stdout",
     "output_type": "stream",
     "text": [
      "2023-09-20 19:08:15 - Loading cached processed dataset at /dhc/home/florian.borchert/workspace/symptemist_biocreative_2023/data/candidates/validation/cache-713f0c3d98a3022a.arrow\n"
     ]
    }
   ],
   "source": [
    "pred_validation_lookup = pred_validation.map(transform_lookup)"
   ]
  },
  {
   "cell_type": "code",
   "execution_count": 42,
   "id": "c8a03072-44ab-4351-904f-e04d90dd62ef",
   "metadata": {},
   "outputs": [
    {
     "data": {
      "text/plain": [
       "{'strict': {'precision': 0.7123493975903614,\n",
       "  'recall': 0.6119016817593791,\n",
       "  'fscore': 0.6583159359777315,\n",
       "  'ptp': 473,\n",
       "  'fp': 191,\n",
       "  'rtp': 473,\n",
       "  'fn': 300,\n",
       "  'n_docs_system': 60,\n",
       "  'n_annos_system': 664,\n",
       "  'n_docs_gold': 60,\n",
       "  'n_annos_gold': 773}}"
      ]
     },
     "execution_count": 42,
     "metadata": {},
     "output_type": "execute_result"
    }
   ],
   "source": [
    "evaluate(dataset['validation'], pred_validation_lookup)"
   ]
  },
  {
   "cell_type": "code",
   "execution_count": null,
   "id": "e3a44856-b713-475a-a10e-dc007f9ebb65",
   "metadata": {},
   "outputs": [],
   "source": [
    "from xmen.evaluation import error_analysis"
   ]
  },
  {
   "cell_type": "code",
   "execution_count": 43,
   "id": "f1b405d1-e550-48bf-b4e9-c3aec38ec8ee",
   "metadata": {},
   "outputs": [],
   "source": [
    "ea_df = error_analysis(dataset['validation'], pred_validation_lookup)"
   ]
  },
  {
   "cell_type": "code",
   "execution_count": 44,
   "id": "588383f4-a6ff-404c-bf15-6a9257b5effc",
   "metadata": {},
   "outputs": [
    {
     "data": {
      "text/html": [
       "<div>\n",
       "<style scoped>\n",
       "    .dataframe tbody tr th:only-of-type {\n",
       "        vertical-align: middle;\n",
       "    }\n",
       "\n",
       "    .dataframe tbody tr th {\n",
       "        vertical-align: top;\n",
       "    }\n",
       "\n",
       "    .dataframe thead th {\n",
       "        text-align: right;\n",
       "    }\n",
       "</style>\n",
       "<table border=\"1\" class=\"dataframe\">\n",
       "  <thead>\n",
       "    <tr style=\"text-align: right;\">\n",
       "      <th></th>\n",
       "      <th>_word_len</th>\n",
       "      <th>_abbrev</th>\n",
       "      <th>pred_start</th>\n",
       "      <th>pred_end</th>\n",
       "      <th>pred_text</th>\n",
       "      <th>gt_start</th>\n",
       "      <th>gt_end</th>\n",
       "      <th>gt_text</th>\n",
       "      <th>entity_match_type</th>\n",
       "      <th>gold_concept</th>\n",
       "      <th>gold_type</th>\n",
       "      <th>pred_index</th>\n",
       "      <th>pred_index_score</th>\n",
       "      <th>pred_top</th>\n",
       "      <th>pred_top_score</th>\n",
       "      <th>document_id</th>\n",
       "    </tr>\n",
       "  </thead>\n",
       "  <tbody>\n",
       "    <tr>\n",
       "      <th>1</th>\n",
       "      <td>5</td>\n",
       "      <td>False</td>\n",
       "      <td>411</td>\n",
       "      <td>459</td>\n",
       "      <td>[alteraciones tróficas en extremidades inferio...</td>\n",
       "      <td>411</td>\n",
       "      <td>459</td>\n",
       "      <td>[alteraciones tróficas en extremidades inferio...</td>\n",
       "      <td>tp</td>\n",
       "      <td>{'db_name': 'SNOMED_CT', 'db_id': '373408007'}</td>\n",
       "      <td>SINTOMA</td>\n",
       "      <td>-1</td>\n",
       "      <td>NaN</td>\n",
       "      <td>449917004</td>\n",
       "      <td>0.016326</td>\n",
       "      <td>es-S0210-48062009000300017-1</td>\n",
       "    </tr>\n",
       "    <tr>\n",
       "      <th>2</th>\n",
       "      <td>9</td>\n",
       "      <td>False</td>\n",
       "      <td>865</td>\n",
       "      <td>936</td>\n",
       "      <td>[dos tercios anteriores del glande se encuentr...</td>\n",
       "      <td>865</td>\n",
       "      <td>936</td>\n",
       "      <td>[dos tercios anteriores del glande se encuentr...</td>\n",
       "      <td>tp</td>\n",
       "      <td>{'db_name': 'SNOMED_CT', 'db_id': '44882003'}</td>\n",
       "      <td>SINTOMA</td>\n",
       "      <td>-1</td>\n",
       "      <td>NaN</td>\n",
       "      <td>NIL</td>\n",
       "      <td>NaN</td>\n",
       "      <td>es-S0210-48062009000300017-1</td>\n",
       "    </tr>\n",
       "    <tr>\n",
       "      <th>4</th>\n",
       "      <td>5</td>\n",
       "      <td>False</td>\n",
       "      <td>1020</td>\n",
       "      <td>1057</td>\n",
       "      <td>[normalidad de los estudios urológicos]</td>\n",
       "      <td>1020</td>\n",
       "      <td>1057</td>\n",
       "      <td>[normalidad de los estudios urológicos]</td>\n",
       "      <td>tp</td>\n",
       "      <td>{'db_name': 'SNOMED_CT', 'db_id': '300561007'}</td>\n",
       "      <td>SINTOMA</td>\n",
       "      <td>-1</td>\n",
       "      <td>NaN</td>\n",
       "      <td>302778005</td>\n",
       "      <td>0.044476</td>\n",
       "      <td>es-S0210-48062009000300017-1</td>\n",
       "    </tr>\n",
       "    <tr>\n",
       "      <th>7</th>\n",
       "      <td>8</td>\n",
       "      <td>False</td>\n",
       "      <td>2713</td>\n",
       "      <td>2759</td>\n",
       "      <td>[a nivel del cardias masa mamelonada y ulcerada]</td>\n",
       "      <td>2713</td>\n",
       "      <td>2759</td>\n",
       "      <td>[a nivel del cardias masa mamelonada y ulcerada]</td>\n",
       "      <td>tp</td>\n",
       "      <td>{'db_name': 'SNOMED_CT', 'db_id': '126825008'}</td>\n",
       "      <td>SINTOMA</td>\n",
       "      <td>-1</td>\n",
       "      <td>NaN</td>\n",
       "      <td>NIL</td>\n",
       "      <td>NaN</td>\n",
       "      <td>es-S0210-48062009000300017-1</td>\n",
       "    </tr>\n",
       "    <tr>\n",
       "      <th>14</th>\n",
       "      <td>3</td>\n",
       "      <td>False</td>\n",
       "      <td>913</td>\n",
       "      <td>942</td>\n",
       "      <td>[Auscultación cardiaca rítmica]</td>\n",
       "      <td>913</td>\n",
       "      <td>942</td>\n",
       "      <td>[Auscultación cardiaca rítmica]</td>\n",
       "      <td>tp</td>\n",
       "      <td>{'db_name': 'SNOMED_CT', 'db_id': '64730000'}</td>\n",
       "      <td>SINTOMA</td>\n",
       "      <td>-1</td>\n",
       "      <td>NaN</td>\n",
       "      <td>106068003</td>\n",
       "      <td>0.016546</td>\n",
       "      <td>es-S0212-71992006000700009-1</td>\n",
       "    </tr>\n",
       "    <tr>\n",
       "      <th>...</th>\n",
       "      <td>...</td>\n",
       "      <td>...</td>\n",
       "      <td>...</td>\n",
       "      <td>...</td>\n",
       "      <td>...</td>\n",
       "      <td>...</td>\n",
       "      <td>...</td>\n",
       "      <td>...</td>\n",
       "      <td>...</td>\n",
       "      <td>...</td>\n",
       "      <td>...</td>\n",
       "      <td>...</td>\n",
       "      <td>...</td>\n",
       "      <td>...</td>\n",
       "      <td>...</td>\n",
       "      <td>...</td>\n",
       "    </tr>\n",
       "    <tr>\n",
       "      <th>740</th>\n",
       "      <td>7</td>\n",
       "      <td>False</td>\n",
       "      <td>675</td>\n",
       "      <td>736</td>\n",
       "      <td>[exploración sistémica, resultando todos los e...</td>\n",
       "      <td>675</td>\n",
       "      <td>736</td>\n",
       "      <td>[exploración sistémica, resultando todos los e...</td>\n",
       "      <td>tp</td>\n",
       "      <td>{'db_name': 'SNOMED_CT', 'db_id': 'NO_CODE'}</td>\n",
       "      <td>SINTOMA</td>\n",
       "      <td>-1</td>\n",
       "      <td>NaN</td>\n",
       "      <td>168699003</td>\n",
       "      <td>0.016326</td>\n",
       "      <td>es-S0365-66912004001000009-1</td>\n",
       "    </tr>\n",
       "    <tr>\n",
       "      <th>750</th>\n",
       "      <td>7</td>\n",
       "      <td>False</td>\n",
       "      <td>1123</td>\n",
       "      <td>1169</td>\n",
       "      <td>[engrosamiento de la pared intestinal en yeyuno]</td>\n",
       "      <td>1123</td>\n",
       "      <td>1169</td>\n",
       "      <td>[engrosamiento de la pared intestinal en yeyuno]</td>\n",
       "      <td>tp</td>\n",
       "      <td>{'db_name': 'SNOMED_CT', 'db_id': '304370001'}</td>\n",
       "      <td>SINTOMA</td>\n",
       "      <td>-1</td>\n",
       "      <td>NaN</td>\n",
       "      <td>550376571000132101</td>\n",
       "      <td>0.018853</td>\n",
       "      <td>es-S1130-01082008000800011-1</td>\n",
       "    </tr>\n",
       "    <tr>\n",
       "      <th>751</th>\n",
       "      <td>4</td>\n",
       "      <td>False</td>\n",
       "      <td>1485</td>\n",
       "      <td>1514</td>\n",
       "      <td>[plastrón localizado en yeyuno]</td>\n",
       "      <td>1485</td>\n",
       "      <td>1514</td>\n",
       "      <td>[plastrón localizado en yeyuno]</td>\n",
       "      <td>tp</td>\n",
       "      <td>{'db_name': 'SNOMED_CT', 'db_id': '282050000'}</td>\n",
       "      <td>SINTOMA</td>\n",
       "      <td>-1</td>\n",
       "      <td>NaN</td>\n",
       "      <td>NIL</td>\n",
       "      <td>NaN</td>\n",
       "      <td>es-S1130-01082008000800011-1</td>\n",
       "    </tr>\n",
       "    <tr>\n",
       "      <th>766</th>\n",
       "      <td>6</td>\n",
       "      <td>False</td>\n",
       "      <td>317</td>\n",
       "      <td>356</td>\n",
       "      <td>[tumoraciones en valva anterior de riñón]</td>\n",
       "      <td>317</td>\n",
       "      <td>356</td>\n",
       "      <td>[tumoraciones en valva anterior de riñón]</td>\n",
       "      <td>tp</td>\n",
       "      <td>{'db_name': 'SNOMED_CT', 'db_id': '309088003'}</td>\n",
       "      <td>SINTOMA</td>\n",
       "      <td>-1</td>\n",
       "      <td>NaN</td>\n",
       "      <td>237783006</td>\n",
       "      <td>0.016709</td>\n",
       "      <td>es-S0210-48062005000800014-1</td>\n",
       "    </tr>\n",
       "    <tr>\n",
       "      <th>772</th>\n",
       "      <td>9</td>\n",
       "      <td>False</td>\n",
       "      <td>629</td>\n",
       "      <td>690</td>\n",
       "      <td>[normal distribución de la salida de los tronc...</td>\n",
       "      <td>629</td>\n",
       "      <td>690</td>\n",
       "      <td>[normal distribución de la salida de los tronc...</td>\n",
       "      <td>tp</td>\n",
       "      <td>{'db_name': 'SNOMED_CT', 'db_id': '461398008'}</td>\n",
       "      <td>SINTOMA</td>\n",
       "      <td>-1</td>\n",
       "      <td>None</td>\n",
       "      <td>NIL</td>\n",
       "      <td>None</td>\n",
       "      <td>es-S0210-56912008000400007-4</td>\n",
       "    </tr>\n",
       "  </tbody>\n",
       "</table>\n",
       "<p>185 rows × 16 columns</p>\n",
       "</div>"
      ],
      "text/plain": [
       "     _word_len  _abbrev  pred_start  pred_end  \\\n",
       "1            5    False         411       459   \n",
       "2            9    False         865       936   \n",
       "4            5    False        1020      1057   \n",
       "7            8    False        2713      2759   \n",
       "14           3    False         913       942   \n",
       "..         ...      ...         ...       ...   \n",
       "740          7    False         675       736   \n",
       "750          7    False        1123      1169   \n",
       "751          4    False        1485      1514   \n",
       "766          6    False         317       356   \n",
       "772          9    False         629       690   \n",
       "\n",
       "                                             pred_text  gt_start  gt_end  \\\n",
       "1    [alteraciones tróficas en extremidades inferio...       411     459   \n",
       "2    [dos tercios anteriores del glande se encuentr...       865     936   \n",
       "4              [normalidad de los estudios urológicos]      1020    1057   \n",
       "7     [a nivel del cardias masa mamelonada y ulcerada]      2713    2759   \n",
       "14                     [Auscultación cardiaca rítmica]       913     942   \n",
       "..                                                 ...       ...     ...   \n",
       "740  [exploración sistémica, resultando todos los e...       675     736   \n",
       "750   [engrosamiento de la pared intestinal en yeyuno]      1123    1169   \n",
       "751                    [plastrón localizado en yeyuno]      1485    1514   \n",
       "766          [tumoraciones en valva anterior de riñón]       317     356   \n",
       "772  [normal distribución de la salida de los tronc...       629     690   \n",
       "\n",
       "                                               gt_text entity_match_type  \\\n",
       "1    [alteraciones tróficas en extremidades inferio...                tp   \n",
       "2    [dos tercios anteriores del glande se encuentr...                tp   \n",
       "4              [normalidad de los estudios urológicos]                tp   \n",
       "7     [a nivel del cardias masa mamelonada y ulcerada]                tp   \n",
       "14                     [Auscultación cardiaca rítmica]                tp   \n",
       "..                                                 ...               ...   \n",
       "740  [exploración sistémica, resultando todos los e...                tp   \n",
       "750   [engrosamiento de la pared intestinal en yeyuno]                tp   \n",
       "751                    [plastrón localizado en yeyuno]                tp   \n",
       "766          [tumoraciones en valva anterior de riñón]                tp   \n",
       "772  [normal distribución de la salida de los tronc...                tp   \n",
       "\n",
       "                                       gold_concept gold_type  pred_index  \\\n",
       "1    {'db_name': 'SNOMED_CT', 'db_id': '373408007'}   SINTOMA          -1   \n",
       "2     {'db_name': 'SNOMED_CT', 'db_id': '44882003'}   SINTOMA          -1   \n",
       "4    {'db_name': 'SNOMED_CT', 'db_id': '300561007'}   SINTOMA          -1   \n",
       "7    {'db_name': 'SNOMED_CT', 'db_id': '126825008'}   SINTOMA          -1   \n",
       "14    {'db_name': 'SNOMED_CT', 'db_id': '64730000'}   SINTOMA          -1   \n",
       "..                                              ...       ...         ...   \n",
       "740    {'db_name': 'SNOMED_CT', 'db_id': 'NO_CODE'}   SINTOMA          -1   \n",
       "750  {'db_name': 'SNOMED_CT', 'db_id': '304370001'}   SINTOMA          -1   \n",
       "751  {'db_name': 'SNOMED_CT', 'db_id': '282050000'}   SINTOMA          -1   \n",
       "766  {'db_name': 'SNOMED_CT', 'db_id': '309088003'}   SINTOMA          -1   \n",
       "772  {'db_name': 'SNOMED_CT', 'db_id': '461398008'}   SINTOMA          -1   \n",
       "\n",
       "    pred_index_score            pred_top pred_top_score  \\\n",
       "1                NaN           449917004       0.016326   \n",
       "2                NaN                 NIL            NaN   \n",
       "4                NaN           302778005       0.044476   \n",
       "7                NaN                 NIL            NaN   \n",
       "14               NaN           106068003       0.016546   \n",
       "..               ...                 ...            ...   \n",
       "740              NaN           168699003       0.016326   \n",
       "750              NaN  550376571000132101       0.018853   \n",
       "751              NaN                 NIL            NaN   \n",
       "766              NaN           237783006       0.016709   \n",
       "772             None                 NIL           None   \n",
       "\n",
       "                      document_id  \n",
       "1    es-S0210-48062009000300017-1  \n",
       "2    es-S0210-48062009000300017-1  \n",
       "4    es-S0210-48062009000300017-1  \n",
       "7    es-S0210-48062009000300017-1  \n",
       "14   es-S0212-71992006000700009-1  \n",
       "..                            ...  \n",
       "740  es-S0365-66912004001000009-1  \n",
       "750  es-S1130-01082008000800011-1  \n",
       "751  es-S1130-01082008000800011-1  \n",
       "766  es-S0210-48062005000800014-1  \n",
       "772  es-S0210-56912008000400007-4  \n",
       "\n",
       "[185 rows x 16 columns]"
      ]
     },
     "execution_count": 44,
     "metadata": {},
     "output_type": "execute_result"
    }
   ],
   "source": [
    "ea_df[ea_df.pred_index == -1]"
   ]
  },
  {
   "cell_type": "markdown",
   "id": "8f52b5a4-7424-4cf2-b02e-bd77720c9679",
   "metadata": {},
   "source": [
    "# Create Submission TSV"
   ]
  },
  {
   "cell_type": "markdown",
   "id": "82f7d535-25a2-4751-9aaa-a68f2740b862",
   "metadata": {},
   "source": [
    "## Validation Set"
   ]
  },
  {
   "cell_type": "code",
   "execution_count": null,
   "id": "b6e72993-c1bb-4971-91e0-3cb9a090f391",
   "metadata": {},
   "outputs": [],
   "source": [
    "import pandas as pd\n",
    "train_tsv = pd.read_csv(Path('../data/symptemist-train_all_subtasks+gazetteer+multilingual_230919/symptemist_train/subtask2-linking/symptemist_tsv_train_subtask2.tsv'), sep='\\t')\n",
    "valid_tsv = train_tsv[train_tsv.filename.isin(valid_doc_ids)]\n",
    "valid_tsv.rename(columns={'span_ini' : 'start_span', 'span_end' : 'end_span'}).to_csv('../data/valid_subtask2.tsv', sep='\\t', index=False)"
   ]
  },
  {
   "cell_type": "code",
   "execution_count": null,
   "id": "238adaf0-4a43-4056-bf5a-30cde0a5eab4",
   "metadata": {},
   "outputs": [],
   "source": [
    "len(valid_tsv)"
   ]
  },
  {
   "cell_type": "code",
   "execution_count": null,
   "id": "b52aad92-2d51-46eb-81a1-0c84927f18e3",
   "metadata": {},
   "outputs": [],
   "source": [
    "val_entities = [e for d in pred_validation['entities'] for e in d]"
   ]
  },
  {
   "cell_type": "code",
   "execution_count": null,
   "id": "dbb4879b-9770-4e0f-8c9d-9fcd1d88d823",
   "metadata": {},
   "outputs": [],
   "source": [
    "pred_tsv = valid_tsv.copy()[['filename', 'label', 'span_ini', 'span_end', 'text']]"
   ]
  },
  {
   "cell_type": "code",
   "execution_count": null,
   "id": "b90b4d20-1b67-413c-b0b2-ba31c32f6fa8",
   "metadata": {},
   "outputs": [],
   "source": [
    "ents = {(d['document_id'], e['offsets'][0][0], e['offsets'][0][1]) : e for d in pred_validation for e in d['entities']}"
   ]
  },
  {
   "cell_type": "code",
   "execution_count": null,
   "id": "df30f711-c997-4107-9832-d3cdc66bb94e",
   "metadata": {},
   "outputs": [],
   "source": [
    "assert len(ents) == len(pred_tsv)\n",
    "output_val = pred_tsv.copy()\n",
    "for idx, pred in pred_tsv.iterrows():\n",
    "    e_idx = (pred['filename'], pred['span_ini'], pred['span_end'])\n",
    "    assert e_idx in ents\n",
    "    norms = ents[e_idx]['normalized']\n",
    "    if len(norms) > 0:\n",
    "        output_val.loc[idx, 'code'] = norms[0]['db_id']"
   ]
  },
  {
   "cell_type": "code",
   "execution_count": null,
   "id": "a1e28fbf-a19c-4615-9231-7247a1d1162a",
   "metadata": {},
   "outputs": [],
   "source": [
    "output_val[~output_val.code.isna()].rename(columns={'span_ini' : 'start_span', 'span_end' : 'end_span'}).to_csv('../data/valid_pred_xmen.tsv', sep='\\t', index=False)"
   ]
  },
  {
   "cell_type": "code",
   "execution_count": null,
   "id": "98017f15-45c7-48ad-afac-64561e13644b",
   "metadata": {},
   "outputs": [],
   "source": [
    "#python medprocner_evaluation.py -r ../symptemist_biocreative_2023/data/valid_subtask2.tsv -p ../symptemist_biocreative_2023/data/valid_pred_xmen.tsv -t norm -o ../symptemist_biocreative_2023/data/"
   ]
  },
  {
   "cell_type": "markdown",
   "id": "3e0b911a-f1a0-4261-88b0-2a3a8aa3c016",
   "metadata": {},
   "source": [
    "# Test Set"
   ]
  },
  {
   "cell_type": "code",
   "execution_count": null,
   "id": "61781071-ed24-47d6-b3a6-dcb0865a408b",
   "metadata": {},
   "outputs": [],
   "source": []
  }
 ],
 "metadata": {
  "kernelspec": {
   "display_name": "Python [conda env:xmen100]",
   "language": "python",
   "name": "conda-env-xmen100-py"
  },
  "language_info": {
   "codemirror_mode": {
    "name": "ipython",
    "version": 3
   },
   "file_extension": ".py",
   "mimetype": "text/x-python",
   "name": "python",
   "nbconvert_exporter": "python",
   "pygments_lexer": "ipython3",
   "version": "3.10.11"
  }
 },
 "nbformat": 4,
 "nbformat_minor": 5
}
