{
 "cells": [
  {
   "cell_type": "markdown",
   "id": "a98f1c88-00b3-49d3-9bde-1083ad9bb30d",
   "metadata": {},
   "source": [
    "# Preparation"
   ]
  },
  {
   "cell_type": "markdown",
   "id": "eed3d0a5-8e71-4b42-94a7-9f9ba1f51000",
   "metadata": {},
   "source": [
    "`xmen dict conf/xmen.yaml --code src/gazetteer.py`\n",
    "(extend the SympTEMIST gazetteer with UMLS aliases and save as jsonl file)\n",
    "\n",
    "`xmen index conf/xmen.yaml --all`\n",
    "(compute TF-IDF and SapBERT indices)"
   ]
  },
  {
   "cell_type": "code",
   "execution_count": 1,
   "id": "613f5708-2682-4933-af8e-d4ad1e3ac408",
   "metadata": {},
   "outputs": [],
   "source": [
    "from datasets import load_dataset, DatasetDict\n",
    "from pathlib import Path"
   ]
  },
  {
   "cell_type": "code",
   "execution_count": 2,
   "id": "685c3dbe-0fd7-4428-a96b-dc42d4d5d2c5",
   "metadata": {},
   "outputs": [],
   "source": [
    "base_path = Path.home() / '.cache' / 'xmen' / 'symptemist'"
   ]
  },
  {
   "cell_type": "code",
   "execution_count": 3,
   "id": "cc930779-8e30-42bf-884e-589664a1f717",
   "metadata": {},
   "outputs": [
    {
     "name": "stderr",
     "output_type": "stream",
     "text": [
      "Found cached dataset symptemist (/dhc/home/florian.borchert/.cache/huggingface/datasets/symptemist/symptemist_linking_bigbio_kb/2.0.0/2542aaab0d6c9963785fca5b4b0712501e06aa5a2e136b7b4d26d1fd7a2c382a)\n"
     ]
    },
    {
     "data": {
      "application/vnd.jupyter.widget-view+json": {
       "model_id": "7b8c9eb3d7fa426e8192373da9f84ca2",
       "version_major": 2,
       "version_minor": 0
      },
      "text/plain": [
       "  0%|          | 0/1 [00:00<?, ?it/s]"
      ]
     },
     "metadata": {},
     "output_type": "display_data"
    }
   ],
   "source": [
    "symptemist_data = load_dataset(\n",
    "    path=\"../../biomedical/bigbio/hub/hub_repos/symptemist/symptemist.py\", \n",
    "    name=\"symptemist_linking_bigbio_kb\"\n",
    ")\n",
    "train_data = symptemist_data['train']"
   ]
  },
  {
   "cell_type": "code",
   "execution_count": 143,
   "id": "b3376ccd-2313-413b-9a59-1365edddd6dd",
   "metadata": {},
   "outputs": [
    {
     "data": {
      "text/plain": [
       "60"
      ]
     },
     "execution_count": 143,
     "metadata": {},
     "output_type": "execute_result"
    }
   ],
   "source": [
    "#import random\n",
    "#random.seed(42)\n",
    "\n",
    "#doc_ids = symptemist_data['train']['document_id']\n",
    "#n_valid = int(0.2 * len(doc_ids))\n",
    "#n_valid\n",
    "#valid_doc_ids = random.sample(doc_ids, n_valid)\n",
    "#with open('../data/subtrack2_valid_docids.txt', 'w') as fh:\n",
    "#     for v in valid_doc_ids:\n",
    "#        fh.write(v + '\\n')\n",
    "valid_doc_ids = [doc_id.strip() for doc_id in open('../data/subtrack2_valid_docids.txt', 'r').readlines()]\n",
    "len(valid_doc_ids)"
   ]
  },
  {
   "cell_type": "code",
   "execution_count": 5,
   "id": "abd090c6-751b-4ca8-9451-9e9ea27fb4ae",
   "metadata": {},
   "outputs": [
    {
     "name": "stderr",
     "output_type": "stream",
     "text": [
      "Loading cached processed dataset at /dhc/home/florian.borchert/.cache/huggingface/datasets/symptemist/symptemist_linking_bigbio_kb/2.0.0/2542aaab0d6c9963785fca5b4b0712501e06aa5a2e136b7b4d26d1fd7a2c382a/cache-2fdb3259090cb02d.arrow\n",
      "Loading cached processed dataset at /dhc/home/florian.borchert/.cache/huggingface/datasets/symptemist/symptemist_linking_bigbio_kb/2.0.0/2542aaab0d6c9963785fca5b4b0712501e06aa5a2e136b7b4d26d1fd7a2c382a/cache-6587fb313b12f484.arrow\n"
     ]
    },
    {
     "data": {
      "text/plain": [
       "DatasetDict({\n",
       "    train: Dataset({\n",
       "        features: ['id', 'document_id', 'passages', 'entities', 'events', 'coreferences', 'relations'],\n",
       "        num_rows: 244\n",
       "    })\n",
       "    validation: Dataset({\n",
       "        features: ['id', 'document_id', 'passages', 'entities', 'events', 'coreferences', 'relations'],\n",
       "        num_rows: 60\n",
       "    })\n",
       "})"
      ]
     },
     "execution_count": 5,
     "metadata": {},
     "output_type": "execute_result"
    }
   ],
   "source": [
    "dataset = DatasetDict()\n",
    "dataset['train'] = train_data.filter(lambda d: d['document_id'] not in valid_doc_ids)\n",
    "dataset['validation'] = train_data.filter(lambda d: d['document_id'] in valid_doc_ids)\n",
    "dataset"
   ]
  },
  {
   "cell_type": "code",
   "execution_count": 6,
   "id": "70634a39-008a-4afe-8398-aa60042fbe3f",
   "metadata": {},
   "outputs": [
    {
     "data": {
      "text/plain": [
       "3484"
      ]
     },
     "execution_count": 6,
     "metadata": {},
     "output_type": "execute_result"
    }
   ],
   "source": [
    "from xmen.data import get_cuis\n",
    "cuis = get_cuis(dataset['train']) + get_cuis(dataset['validation'])\n",
    "len(cuis)"
   ]
  },
  {
   "cell_type": "code",
   "execution_count": 7,
   "id": "7b0dbaaf-ea2f-45e4-ad29-7e0412770200",
   "metadata": {},
   "outputs": [],
   "source": [
    "from xmen import load_kb\n",
    "kb = load_kb(base_path / 'symptemist.jsonl')"
   ]
  },
  {
   "cell_type": "code",
   "execution_count": 8,
   "id": "047c826f-121a-4645-ab50-082f3b6fa9be",
   "metadata": {},
   "outputs": [
    {
     "data": {
      "text/plain": [
       "{'NO_CODE'}"
      ]
     },
     "execution_count": 8,
     "metadata": {},
     "output_type": "execute_result"
    }
   ],
   "source": [
    "set([c for c in cuis if not c in kb.cui_to_entity])"
   ]
  },
  {
   "cell_type": "code",
   "execution_count": 9,
   "id": "fe183a67-d8e3-4d64-a860-528fe251f224",
   "metadata": {},
   "outputs": [
    {
     "data": {
      "text/plain": [
       "1079623"
      ]
     },
     "execution_count": 9,
     "metadata": {},
     "output_type": "execute_result"
    }
   ],
   "source": [
    "# aliases\n",
    "sum([len(c) for c in kb.alias_to_cuis.values()])"
   ]
  },
  {
   "cell_type": "markdown",
   "id": "da098f44-aa29-4527-adf2-154c871fd58d",
   "metadata": {},
   "source": [
    "# Candidate Generation"
   ]
  },
  {
   "cell_type": "code",
   "execution_count": 10,
   "id": "2fba3fcd-f2c2-4160-b774-6bdab25764d4",
   "metadata": {},
   "outputs": [],
   "source": [
    "from xmen.linkers import default_ensemble\n",
    "from xmen.evaluation import evaluate_at_k"
   ]
  },
  {
   "cell_type": "code",
   "execution_count": 11,
   "id": "80183943-568c-491f-8dab-d7859906f262",
   "metadata": {},
   "outputs": [
    {
     "data": {
      "text/html": [
       "<pre style=\"white-space:pre;overflow-x:auto;line-height:normal;font-family:Menlo,'DejaVu Sans Mono',consolas,'Courier New',monospace\"><span style=\"color: #7fbfbf; text-decoration-color: #7fbfbf\">[09/19/23 16:52:12] </span><span style=\"color: #000080; text-decoration-color: #000080\">INFO    </span> Loading hierarchical faiss index                                <a href=\"file:///dhc/home/florian.borchert/workspace/xmen/xmen/linkers/sap_bert_linker.py\" target=\"_blank\"><span style=\"color: #7f7f7f; text-decoration-color: #7f7f7f\">sap_bert_linker.py</span></a><span style=\"color: #7f7f7f; text-decoration-color: #7f7f7f\">:</span><a href=\"file:///dhc/home/florian.borchert/workspace/xmen/xmen/linkers/sap_bert_linker.py#153\" target=\"_blank\"><span style=\"color: #7f7f7f; text-decoration-color: #7f7f7f\">153</span></a>\n",
       "</pre>\n"
      ],
      "text/plain": [
       "\u001b[2;36m[09/19/23 16:52:12]\u001b[0m\u001b[2;36m \u001b[0m\u001b[34mINFO    \u001b[0m Loading hierarchical faiss index                                \u001b]8;id=171339;file:///dhc/home/florian.borchert/workspace/xmen/xmen/linkers/sap_bert_linker.py\u001b\\\u001b[2msap_bert_linker.py\u001b[0m\u001b]8;;\u001b\\\u001b[2m:\u001b[0m\u001b]8;id=484714;file:///dhc/home/florian.borchert/workspace/xmen/xmen/linkers/sap_bert_linker.py#153\u001b\\\u001b[2m153\u001b[0m\u001b]8;;\u001b\\\n"
      ]
     },
     "metadata": {},
     "output_type": "display_data"
    },
    {
     "data": {
      "text/html": [
       "<pre style=\"white-space:pre;overflow-x:auto;line-height:normal;font-family:Menlo,'DejaVu Sans Mono',consolas,'Courier New',monospace\"><span style=\"color: #7fbfbf; text-decoration-color: #7fbfbf\">                    </span><span style=\"color: #000080; text-decoration-color: #000080\">INFO    </span> Loading index from                                                 <a href=\"file:///dhc/home/florian.borchert/workspace/xmen/xmen/linkers/faiss_indexer.py\" target=\"_blank\"><span style=\"color: #7f7f7f; text-decoration-color: #7f7f7f\">faiss_indexer.py</span></a><span style=\"color: #7f7f7f; text-decoration-color: #7f7f7f\">:</span><a href=\"file:///dhc/home/florian.borchert/workspace/xmen/xmen/linkers/faiss_indexer.py#64\" target=\"_blank\"><span style=\"color: #7f7f7f; text-decoration-color: #7f7f7f\">64</span></a>\n",
       "<span style=\"color: #7fbfbf; text-decoration-color: #7fbfbf\">                    </span>         <span style=\"color: #800080; text-decoration-color: #800080\">/dhc/home/florian.borchert/.cache/xmen/symptemist/index/sapbert/</span><span style=\"color: #ff00ff; text-decoration-color: #ff00ff\">em</span> <span style=\"color: #7f7f7f; text-decoration-color: #7f7f7f\">                   </span>\n",
       "<span style=\"color: #7fbfbf; text-decoration-color: #7fbfbf\">                    </span>         <span style=\"color: #ff00ff; text-decoration-color: #ff00ff\">bed_faiss_hier.pickle</span>                                              <span style=\"color: #7f7f7f; text-decoration-color: #7f7f7f\">                   </span>\n",
       "</pre>\n"
      ],
      "text/plain": [
       "\u001b[2;36m                   \u001b[0m\u001b[2;36m \u001b[0m\u001b[34mINFO    \u001b[0m Loading index from                                                 \u001b]8;id=230283;file:///dhc/home/florian.borchert/workspace/xmen/xmen/linkers/faiss_indexer.py\u001b\\\u001b[2mfaiss_indexer.py\u001b[0m\u001b]8;;\u001b\\\u001b[2m:\u001b[0m\u001b]8;id=717870;file:///dhc/home/florian.borchert/workspace/xmen/xmen/linkers/faiss_indexer.py#64\u001b\\\u001b[2m64\u001b[0m\u001b]8;;\u001b\\\n",
       "\u001b[2;36m                    \u001b[0m         \u001b[35m/dhc/home/florian.borchert/.cache/xmen/symptemist/index/sapbert/\u001b[0m\u001b[95mem\u001b[0m \u001b[2m                   \u001b[0m\n",
       "\u001b[2;36m                    \u001b[0m         \u001b[95mbed_faiss_hier.pickle\u001b[0m                                              \u001b[2m                   \u001b[0m\n"
      ]
     },
     "metadata": {},
     "output_type": "display_data"
    },
    {
     "data": {
      "text/html": [
       "<pre style=\"white-space:pre;overflow-x:auto;line-height:normal;font-family:Menlo,'DejaVu Sans Mono',consolas,'Courier New',monospace\"><span style=\"color: #7fbfbf; text-decoration-color: #7fbfbf\">[09/19/23 16:52:22] </span><span style=\"color: #000080; text-decoration-color: #000080\">INFO    </span> Loaded index of type <span style=\"font-weight: bold\">&lt;</span><span style=\"color: #ff00ff; text-decoration-color: #ff00ff; font-weight: bold\">class</span><span style=\"color: #000000; text-decoration-color: #000000\"> </span><span style=\"color: #008000; text-decoration-color: #008000\">'faiss.swigfaiss_avx2.IndexHNSWFlat'</span><span style=\"font-weight: bold\">&gt;</span>  <a href=\"file:///dhc/home/florian.borchert/workspace/xmen/xmen/linkers/faiss_indexer.py\" target=\"_blank\"><span style=\"color: #7f7f7f; text-decoration-color: #7f7f7f\">faiss_indexer.py</span></a><span style=\"color: #7f7f7f; text-decoration-color: #7f7f7f\">:</span><a href=\"file:///dhc/home/florian.borchert/workspace/xmen/xmen/linkers/faiss_indexer.py#66\" target=\"_blank\"><span style=\"color: #7f7f7f; text-decoration-color: #7f7f7f\">66</span></a>\n",
       "<span style=\"color: #7fbfbf; text-decoration-color: #7fbfbf\">                    </span>         and size <span style=\"color: #008080; text-decoration-color: #008080; font-weight: bold\">1079623</span>                                                   <span style=\"color: #7f7f7f; text-decoration-color: #7f7f7f\">                   </span>\n",
       "</pre>\n"
      ],
      "text/plain": [
       "\u001b[2;36m[09/19/23 16:52:22]\u001b[0m\u001b[2;36m \u001b[0m\u001b[34mINFO    \u001b[0m Loaded index of type \u001b[1m<\u001b[0m\u001b[1;95mclass\u001b[0m\u001b[39m \u001b[0m\u001b[32m'faiss.swigfaiss_avx2.IndexHNSWFlat'\u001b[0m\u001b[1m>\u001b[0m  \u001b]8;id=240174;file:///dhc/home/florian.borchert/workspace/xmen/xmen/linkers/faiss_indexer.py\u001b\\\u001b[2mfaiss_indexer.py\u001b[0m\u001b]8;;\u001b\\\u001b[2m:\u001b[0m\u001b]8;id=861722;file:///dhc/home/florian.borchert/workspace/xmen/xmen/linkers/faiss_indexer.py#66\u001b\\\u001b[2m66\u001b[0m\u001b]8;;\u001b\\\n",
       "\u001b[2;36m                    \u001b[0m         and size \u001b[1;36m1079623\u001b[0m                                                   \u001b[2m                   \u001b[0m\n"
      ]
     },
     "metadata": {},
     "output_type": "display_data"
    }
   ],
   "source": [
    "linker = default_ensemble(base_path / 'index')"
   ]
  },
  {
   "cell_type": "code",
   "execution_count": 12,
   "id": "4b150c65-6536-45c3-bb23-8db13a4f3b9d",
   "metadata": {},
   "outputs": [
    {
     "data": {
      "application/vnd.jupyter.widget-view+json": {
       "model_id": "",
       "version_major": 2,
       "version_minor": 0
      },
      "text/plain": [
       "Map:   0%|          | 0/244 [00:00<?, ? examples/s]"
      ]
     },
     "metadata": {},
     "output_type": "display_data"
    },
    {
     "data": {
      "application/vnd.jupyter.widget-view+json": {
       "model_id": "",
       "version_major": 2,
       "version_minor": 0
      },
      "text/plain": [
       "Map:   0%|          | 0/60 [00:00<?, ? examples/s]"
      ]
     },
     "metadata": {},
     "output_type": "display_data"
    }
   ],
   "source": [
    "candidates_ngram = linker.linkers_fn['ngram']().predict_batch(dataset)"
   ]
  },
  {
   "cell_type": "code",
   "execution_count": 13,
   "id": "ffc01a6e-298f-4060-84a1-ca2f092fe6e4",
   "metadata": {},
   "outputs": [
    {
     "name": "stdout",
     "output_type": "stream",
     "text": [
      "Training Set:\n",
      "Perf@1 0.35521947620804134\n",
      "Perf@2 0.47399483585392843\n",
      "Perf@4 0.5407598672076724\n",
      "Perf@8 0.5820730357801549\n",
      "Perf@16 0.6233862043526374\n",
      "Perf@32 0.66654371080782\n",
      "Perf@64 0.6938399114717816\n",
      "Validation Set:\n",
      "Perf@1 0.34799482535575677\n",
      "Perf@2 0.445019404915912\n",
      "Perf@4 0.5045278137128072\n",
      "Perf@8 0.5433376455368694\n",
      "Perf@16 0.5899094437257438\n",
      "Perf@32 0.6403622250970246\n",
      "Perf@64 0.6752910737386805\n"
     ]
    }
   ],
   "source": [
    "print('Training Set:')\n",
    "_ = evaluate_at_k(dataset['train'], candidates_ngram['train'])\n",
    "print('Validation Set:')\n",
    "_ = evaluate_at_k(dataset['validation'], candidates_ngram['validation'])"
   ]
  },
  {
   "cell_type": "code",
   "execution_count": 14,
   "id": "8ad57c4f-9a41-459c-8d02-b86c4742caa9",
   "metadata": {},
   "outputs": [
    {
     "data": {
      "application/vnd.jupyter.widget-view+json": {
       "model_id": "",
       "version_major": 2,
       "version_minor": 0
      },
      "text/plain": [
       "Map:   0%|          | 0/244 [00:00<?, ? examples/s]"
      ]
     },
     "metadata": {},
     "output_type": "display_data"
    },
    {
     "data": {
      "application/vnd.jupyter.widget-view+json": {
       "model_id": "",
       "version_major": 2,
       "version_minor": 0
      },
      "text/plain": [
       "Map:   0%|          | 0/60 [00:00<?, ? examples/s]"
      ]
     },
     "metadata": {},
     "output_type": "display_data"
    }
   ],
   "source": [
    "candidates_sap = linker.linkers_fn['sapbert']().predict_batch(dataset, batch_size=128)"
   ]
  },
  {
   "cell_type": "code",
   "execution_count": 15,
   "id": "94131636-05ff-43c0-89b3-b8e8ccf2bc0a",
   "metadata": {},
   "outputs": [
    {
     "name": "stdout",
     "output_type": "stream",
     "text": [
      "Training Set:\n",
      "Perf@1 0.4293618590925858\n",
      "Perf@2 0.5551457026927333\n",
      "Perf@4 0.6292880855772778\n",
      "Perf@8 0.6842493544817411\n",
      "Perf@16 0.7215049797122833\n",
      "Perf@32 0.7558096643305053\n",
      "Perf@64 0.782736997417927\n",
      "Validation Set:\n",
      "Perf@1 0.4023285899094437\n",
      "Perf@2 0.5433376455368694\n",
      "Perf@4 0.6170763260025873\n",
      "Perf@8 0.6752910737386805\n",
      "Perf@16 0.7257438551099612\n",
      "Perf@32 0.7619663648124192\n",
      "Perf@64 0.795601552393273\n"
     ]
    }
   ],
   "source": [
    "print('Training Set:')\n",
    "_ = evaluate_at_k(dataset['train'], candidates_sap['train'])\n",
    "print('Validation Set:')\n",
    "_ = evaluate_at_k(dataset['validation'], candidates_sap['validation'])"
   ]
  },
  {
   "cell_type": "code",
   "execution_count": 16,
   "id": "b283495f-d92b-4a6c-8ecf-e8203f88fc41",
   "metadata": {},
   "outputs": [
    {
     "data": {
      "application/vnd.jupyter.widget-view+json": {
       "model_id": "",
       "version_major": 2,
       "version_minor": 0
      },
      "text/plain": [
       "Map:   0%|          | 0/244 [00:00<?, ? examples/s]"
      ]
     },
     "metadata": {},
     "output_type": "display_data"
    },
    {
     "data": {
      "application/vnd.jupyter.widget-view+json": {
       "model_id": "",
       "version_major": 2,
       "version_minor": 0
      },
      "text/plain": [
       "Map:   0%|          | 0/60 [00:00<?, ? examples/s]"
      ]
     },
     "metadata": {},
     "output_type": "display_data"
    }
   ],
   "source": [
    "candidates = linker.predict_batch(dataset, batch_size=128, top_k=64, reuse_preds={'sapbert' : candidates_sap, 'ngram' : candidates_ngram})"
   ]
  },
  {
   "cell_type": "code",
   "execution_count": 17,
   "id": "2c993d4a-67bf-485c-8149-ca8afc7ac77f",
   "metadata": {},
   "outputs": [
    {
     "name": "stdout",
     "output_type": "stream",
     "text": [
      "Perf@1 0.4577646624861675\n",
      "Perf@2 0.5706381409074143\n",
      "Perf@4 0.633345628919218\n",
      "Perf@8 0.6883068978236813\n",
      "Perf@16 0.7303578015492438\n",
      "Perf@32 0.7624492807082257\n",
      "Perf@64 0.7893766137956474\n"
     ]
    }
   ],
   "source": [
    "_ = evaluate_at_k(dataset['train'], candidates['train'])"
   ]
  },
  {
   "cell_type": "code",
   "execution_count": 18,
   "id": "63da9413-2e12-466c-bba2-db4876057455",
   "metadata": {},
   "outputs": [
    {
     "name": "stdout",
     "output_type": "stream",
     "text": [
      "Perf@1 0.4230271668822768\n",
      "Perf@2 0.5433376455368694\n",
      "Perf@4 0.6261319534282018\n",
      "Perf@8 0.6817593790426908\n",
      "Perf@16 0.7309184993531694\n",
      "Perf@32 0.7684346701164295\n",
      "Perf@64 0.8007761966364813\n"
     ]
    }
   ],
   "source": [
    "_ = evaluate_at_k(dataset['validation'], candidates['validation'])"
   ]
  },
  {
   "cell_type": "markdown",
   "id": "00292c19-186c-4e54-9a8d-3b5d422e6efd",
   "metadata": {},
   "source": [
    "# Reranker Training"
   ]
  },
  {
   "cell_type": "code",
   "execution_count": 19,
   "id": "abc5277f-c127-4a85-85f8-d63ba7ad75db",
   "metadata": {},
   "outputs": [],
   "source": [
    "from xmen.reranking import CrossEncoderReranker\n",
    "from xmen.reranking.cross_encoder import CrossEncoderTrainingArgs"
   ]
  },
  {
   "cell_type": "code",
   "execution_count": 20,
   "id": "d85082d0-5d0b-4d25-8ddc-d1060314f89c",
   "metadata": {},
   "outputs": [
    {
     "name": "stdout",
     "output_type": "stream",
     "text": [
      "Context length: 128\n",
      "Use NIL values: True\n"
     ]
    },
    {
     "data": {
      "application/vnd.jupyter.widget-view+json": {
       "model_id": "4f4972b5742c4b688e68490c2ca0367d",
       "version_major": 2,
       "version_minor": 0
      },
      "text/plain": [
       "  0%|          | 0/2711 [00:00<?, ?it/s]"
      ]
     },
     "metadata": {},
     "output_type": "display_data"
    },
    {
     "data": {
      "application/vnd.jupyter.widget-view+json": {
       "model_id": "ac5f1e9a616b47ddb5b0ddcebcf7ea13",
       "version_major": 2,
       "version_minor": 0
      },
      "text/plain": [
       "  0%|          | 0/2711 [00:00<?, ?it/s]"
      ]
     },
     "metadata": {},
     "output_type": "display_data"
    },
    {
     "data": {
      "application/vnd.jupyter.widget-view+json": {
       "model_id": "4d59365f78f04859905a5d6cf8515360",
       "version_major": 2,
       "version_minor": 0
      },
      "text/plain": [
       "  0%|          | 0/2711 [00:00<?, ?it/s]"
      ]
     },
     "metadata": {},
     "output_type": "display_data"
    },
    {
     "data": {
      "application/vnd.jupyter.widget-view+json": {
       "model_id": "d60a1955fb7b4f639b18199e6af4bb6f",
       "version_major": 2,
       "version_minor": 0
      },
      "text/plain": [
       "  0%|          | 0/773 [00:00<?, ?it/s]"
      ]
     },
     "metadata": {},
     "output_type": "display_data"
    },
    {
     "data": {
      "application/vnd.jupyter.widget-view+json": {
       "model_id": "a26148df10c5485a838da2742df5d9c4",
       "version_major": 2,
       "version_minor": 0
      },
      "text/plain": [
       "  0%|          | 0/773 [00:00<?, ?it/s]"
      ]
     },
     "metadata": {},
     "output_type": "display_data"
    },
    {
     "data": {
      "application/vnd.jupyter.widget-view+json": {
       "model_id": "3a531728be004b5790dce5aa9def1d59",
       "version_major": 2,
       "version_minor": 0
      },
      "text/plain": [
       "  0%|          | 0/773 [00:00<?, ?it/s]"
      ]
     },
     "metadata": {},
     "output_type": "display_data"
    }
   ],
   "source": [
    "ce_dataset = CrossEncoderReranker.prepare_data(candidates, dataset, kb)"
   ]
  },
  {
   "cell_type": "code",
   "execution_count": 25,
   "id": "679e98be-a7fa-4ff6-b247-027d190188e9",
   "metadata": {},
   "outputs": [],
   "source": [
    "args = CrossEncoderTrainingArgs(num_train_epochs=2, model_name='PlanTL-GOB-ES/roberta-base-biomedical-clinical-es')"
   ]
  },
  {
   "cell_type": "code",
   "execution_count": 26,
   "id": "8c321d6f-476e-4efa-a07a-170f64fb3b62",
   "metadata": {},
   "outputs": [],
   "source": [
    "rr = CrossEncoderReranker()"
   ]
  },
  {
   "cell_type": "code",
   "execution_count": 27,
   "id": "c7d55c13-51f7-43a1-9c3a-575b04d510aa",
   "metadata": {},
   "outputs": [
    {
     "name": "stdout",
     "output_type": "stream",
     "text": [
      "model_name := PlanTL-GOB-ES/roberta-base-biomedical-clinical-es\n",
      "num_train_epochs := 2\n",
      "fp16 := True\n",
      "label_smoothing := False\n",
      "rank_regularization := 1.0\n",
      "train_layers := None\n",
      "softmax_loss := True\n",
      "random_seed := 42\n",
      "learning_rate := 2e-05\n"
     ]
    },
    {
     "name": "stderr",
     "output_type": "stream",
     "text": [
      "Some weights of the model checkpoint at PlanTL-GOB-ES/roberta-base-biomedical-clinical-es were not used when initializing RobertaForSequenceClassification: ['lm_head.layer_norm.weight', 'lm_head.dense.bias', 'lm_head.decoder.bias', 'lm_head.decoder.weight', 'lm_head.layer_norm.bias', 'lm_head.dense.weight', 'lm_head.bias']\n",
      "- This IS expected if you are initializing RobertaForSequenceClassification from the checkpoint of a model trained on another task or with another architecture (e.g. initializing a BertForSequenceClassification model from a BertForPreTraining model).\n",
      "- This IS NOT expected if you are initializing RobertaForSequenceClassification from the checkpoint of a model that you expect to be exactly identical (initializing a BertForSequenceClassification model from a BertForSequenceClassification model).\n",
      "Some weights of RobertaForSequenceClassification were not initialized from the model checkpoint at PlanTL-GOB-ES/roberta-base-biomedical-clinical-es and are newly initialized: ['classifier.dense.weight', 'classifier.out_proj.bias', 'classifier.dense.bias', 'classifier.out_proj.weight']\n",
      "You should probably TRAIN this model on a down-stream task to be able to use it for predictions and inference.\n"
     ]
    },
    {
     "data": {
      "application/vnd.jupyter.widget-view+json": {
       "model_id": "dc832ae7431d4645b5bf8b498bb269d9",
       "version_major": 2,
       "version_minor": 0
      },
      "text/plain": [
       "Epoch:   0%|          | 0/2 [00:00<?, ?it/s]"
      ]
     },
     "metadata": {},
     "output_type": "display_data"
    },
    {
     "data": {
      "application/vnd.jupyter.widget-view+json": {
       "model_id": "255291fbce07424abe8c20b903357f08",
       "version_major": 2,
       "version_minor": 0
      },
      "text/plain": [
       "Iteration:   0%|          | 0/2711 [00:00<?, ?it/s]"
      ]
     },
     "metadata": {},
     "output_type": "display_data"
    },
    {
     "name": "stdout",
     "output_type": "stream",
     "text": [
      "2023-09-19 17:20:37 - EntityLinkingEvaluator: Evaluating the model on eval dataset after epoch 0:\n",
      "2023-09-19 17:25:51 - Accuracy: 0.5756791720569211\n",
      "2023-09-19 17:25:51 - Accuracy @ 5: 0.7529107373868047\n",
      "2023-09-19 17:25:51 - Accuracy @ 64: 1.0\n",
      "2023-09-19 17:25:51 - Baseline Accuracy: 0.4230271668822768\n",
      "2023-09-19 17:25:51 - Save model to ./output/cross_encoder\n"
     ]
    },
    {
     "data": {
      "application/vnd.jupyter.widget-view+json": {
       "model_id": "500fd7a375f64be592ffd3ad3b1e18ff",
       "version_major": 2,
       "version_minor": 0
      },
      "text/plain": [
       "Iteration:   0%|          | 0/2711 [00:00<?, ?it/s]"
      ]
     },
     "metadata": {},
     "output_type": "display_data"
    },
    {
     "name": "stdout",
     "output_type": "stream",
     "text": [
      "2023-09-19 17:42:24 - EntityLinkingEvaluator: Evaluating the model on eval dataset after epoch 1:\n",
      "2023-09-19 17:47:37 - Accuracy: 0.6261319534282018\n",
      "2023-09-19 17:47:37 - Accuracy @ 5: 0.7852522639068564\n",
      "2023-09-19 17:47:37 - Accuracy @ 64: 1.0\n",
      "2023-09-19 17:47:37 - Baseline Accuracy: 0.4230271668822768\n",
      "2023-09-19 17:47:37 - Save model to ./output/cross_encoder\n"
     ]
    }
   ],
   "source": [
    "rr.fit(args, ce_dataset['train'].dataset, ce_dataset['validation'].dataset)"
   ]
  },
  {
   "cell_type": "markdown",
   "id": "7d7705e8-e7f4-4ea7-a255-ab59b8c13efb",
   "metadata": {},
   "source": [
    "# Prediction on Test Set"
   ]
  },
  {
   "cell_type": "code",
   "execution_count": 29,
   "id": "a372efb9-c1c2-4dfd-a7e4-4fc9b5e0bc90",
   "metadata": {},
   "outputs": [
    {
     "name": "stdout",
     "output_type": "stream",
     "text": [
      "2023-09-19 17:48:33 - Use pytorch device: cuda\n"
     ]
    }
   ],
   "source": [
    "rr = CrossEncoderReranker.load('./output/cross_encoder', device=0)"
   ]
  },
  {
   "cell_type": "code",
   "execution_count": 30,
   "id": "8d7759ad-0ca2-41d9-a5e6-3a41f18ce2dc",
   "metadata": {},
   "outputs": [
    {
     "data": {
      "application/vnd.jupyter.widget-view+json": {
       "model_id": "3df2482b09fd42d3bb69df304a73b892",
       "version_major": 2,
       "version_minor": 0
      },
      "text/plain": [
       "Batches:   0%|          | 0/773 [00:00<?, ?it/s]"
      ]
     },
     "metadata": {},
     "output_type": "display_data"
    },
    {
     "data": {
      "application/vnd.jupyter.widget-view+json": {
       "model_id": "",
       "version_major": 2,
       "version_minor": 0
      },
      "text/plain": [
       "Map:   0%|          | 0/60 [00:00<?, ? examples/s]"
      ]
     },
     "metadata": {},
     "output_type": "display_data"
    },
    {
     "data": {
      "application/vnd.jupyter.widget-view+json": {
       "model_id": "",
       "version_major": 2,
       "version_minor": 0
      },
      "text/plain": [
       "Map:   0%|          | 0/60 [00:00<?, ? examples/s]"
      ]
     },
     "metadata": {},
     "output_type": "display_data"
    }
   ],
   "source": [
    "pred_validation = rr.rerank_batch(candidates['validation'], ce_dataset['validation'])"
   ]
  },
  {
   "cell_type": "code",
   "execution_count": 33,
   "id": "f61ed9ff-7f2b-4c24-8099-ba90e9793856",
   "metadata": {},
   "outputs": [],
   "source": [
    "from xmen.evaluation import evaluate"
   ]
  },
  {
   "cell_type": "code",
   "execution_count": 56,
   "id": "b6fba581-ff32-4027-8af9-47b78d091120",
   "metadata": {},
   "outputs": [
    {
     "data": {
      "text/plain": [
       "{'strict': {'precision': 0.6226138032305433,\n",
       "  'recall': 0.5485122897800776,\n",
       "  'fscore': 0.5832187070151307,\n",
       "  'ptp': 424,\n",
       "  'fp': 257,\n",
       "  'rtp': 424,\n",
       "  'fn': 349,\n",
       "  'n_docs_system': 60,\n",
       "  'n_annos_system': 681,\n",
       "  'n_docs_gold': 60,\n",
       "  'n_annos_gold': 773}}"
      ]
     },
     "execution_count": 56,
     "metadata": {},
     "output_type": "execute_result"
    }
   ],
   "source": [
    "evaluate(dataset['validation'], pred_validation)"
   ]
  },
  {
   "cell_type": "markdown",
   "id": "75a5b652-7ab3-4b88-aead-89fa2633e489",
   "metadata": {},
   "source": [
    "# Post-Processing - Training Set Lookup?"
   ]
  },
  {
   "cell_type": "markdown",
   "id": "8f52b5a4-7424-4cf2-b02e-bd77720c9679",
   "metadata": {},
   "source": [
    "# Create Submission TSV"
   ]
  },
  {
   "cell_type": "markdown",
   "id": "82f7d535-25a2-4751-9aaa-a68f2740b862",
   "metadata": {},
   "source": [
    "## Validation Set"
   ]
  },
  {
   "cell_type": "code",
   "execution_count": 144,
   "id": "b6e72993-c1bb-4971-91e0-3cb9a090f391",
   "metadata": {},
   "outputs": [],
   "source": [
    "import pandas as pd\n",
    "train_tsv = pd.read_csv(Path('../data/symptemist-train_all_subtasks+gazetteer+multilingual_230919/symptemist_train/subtask2-linking/symptemist_tsv_train_subtask2.tsv'), sep='\\t')"
   ]
  },
  {
   "cell_type": "code",
   "execution_count": 145,
   "id": "4651cca2-3b08-4528-8007-b4ebf69f9f42",
   "metadata": {},
   "outputs": [],
   "source": [
    "valid_tsv = train_tsv[train_tsv.filename.isin(valid_doc_ids)]"
   ]
  },
  {
   "cell_type": "code",
   "execution_count": 146,
   "id": "b51cba6e-2472-41a6-8168-fc929d31d1e3",
   "metadata": {},
   "outputs": [],
   "source": [
    "valid_tsv.rename(columns={'span_ini' : 'start_span', 'span_end' : 'end_span'}).to_csv('../data/valid_subtask2.tsv', sep='\\t', index=False)"
   ]
  },
  {
   "cell_type": "code",
   "execution_count": 147,
   "id": "238adaf0-4a43-4056-bf5a-30cde0a5eab4",
   "metadata": {},
   "outputs": [
    {
     "data": {
      "text/plain": [
       "773"
      ]
     },
     "execution_count": 147,
     "metadata": {},
     "output_type": "execute_result"
    }
   ],
   "source": [
    "len(valid_tsv)"
   ]
  },
  {
   "cell_type": "code",
   "execution_count": 148,
   "id": "b52aad92-2d51-46eb-81a1-0c84927f18e3",
   "metadata": {},
   "outputs": [],
   "source": [
    "val_entities = [e for d in pred_validation['entities'] for e in d]"
   ]
  },
  {
   "cell_type": "code",
   "execution_count": 149,
   "id": "dbb4879b-9770-4e0f-8c9d-9fcd1d88d823",
   "metadata": {},
   "outputs": [],
   "source": [
    "pred_tsv = valid_tsv.copy()[['filename', 'label', 'span_ini', 'span_end', 'text']]"
   ]
  },
  {
   "cell_type": "code",
   "execution_count": 150,
   "id": "b90b4d20-1b67-413c-b0b2-ba31c32f6fa8",
   "metadata": {},
   "outputs": [],
   "source": [
    "ents = {(d['document_id'], e['offsets'][0][0], e['offsets'][0][1]) : e for d in pred_validation for e in d['entities']}"
   ]
  },
  {
   "cell_type": "code",
   "execution_count": 155,
   "id": "df30f711-c997-4107-9832-d3cdc66bb94e",
   "metadata": {},
   "outputs": [],
   "source": [
    "assert len(ents) == len(pred_tsv)\n",
    "output_val = pred_tsv.copy()\n",
    "for idx, pred in pred_tsv.iterrows():\n",
    "    e_idx = (pred['filename'], pred['span_ini'], pred['span_end'])\n",
    "    assert e_idx in ents\n",
    "    norms = ents[e_idx]['normalized']\n",
    "    if len(norms) > 0:\n",
    "        output_val.loc[idx, 'code'] = norms[0]['db_id']"
   ]
  },
  {
   "cell_type": "code",
   "execution_count": 156,
   "id": "a1e28fbf-a19c-4615-9231-7247a1d1162a",
   "metadata": {},
   "outputs": [],
   "source": [
    "output_val[~output_val.code.isna()].rename(columns={'span_ini' : 'start_span', 'span_end' : 'end_span'}).to_csv('../data/valid_pred_xmen.tsv', sep='\\t', index=False)"
   ]
  },
  {
   "cell_type": "code",
   "execution_count": 157,
   "id": "98017f15-45c7-48ad-afac-64561e13644b",
   "metadata": {},
   "outputs": [],
   "source": [
    "#python medprocner_evaluation.py -r ../symptemist_biocreative_2023/data/valid_subtask2.tsv -p ../symptemist_biocreative_2023/data/valid_pred_xmen.tsv -t norm -o ../symptemist_biocreative_2023/data/"
   ]
  },
  {
   "cell_type": "code",
   "execution_count": null,
   "id": "db349eff-1f39-418c-8365-56a0828ac175",
   "metadata": {},
   "outputs": [],
   "source": []
  }
 ],
 "metadata": {
  "kernelspec": {
   "display_name": "Python [conda env:xmen100]",
   "language": "python",
   "name": "conda-env-xmen100-py"
  },
  "language_info": {
   "codemirror_mode": {
    "name": "ipython",
    "version": 3
   },
   "file_extension": ".py",
   "mimetype": "text/x-python",
   "name": "python",
   "nbconvert_exporter": "python",
   "pygments_lexer": "ipython3",
   "version": "3.10.11"
  }
 },
 "nbformat": 4,
 "nbformat_minor": 5
}
