{
 "cells": [
  {
   "cell_type": "code",
   "execution_count": 26,
   "id": "613f5708-2682-4933-af8e-d4ad1e3ac408",
   "metadata": {},
   "outputs": [],
   "source": [
    "from datasets import load_dataset\n",
    "from pathlib import Path"
   ]
  },
  {
   "cell_type": "code",
   "execution_count": 69,
   "id": "685c3dbe-0fd7-4428-a96b-dc42d4d5d2c5",
   "metadata": {},
   "outputs": [],
   "source": [
    "base_path = Path.home() / '.cache' / 'xmen' / 'symptemist'"
   ]
  },
  {
   "cell_type": "code",
   "execution_count": 14,
   "id": "cc930779-8e30-42bf-884e-589664a1f717",
   "metadata": {},
   "outputs": [
    {
     "name": "stderr",
     "output_type": "stream",
     "text": [
      "Found cached dataset symptemist (/dhc/home/florian.borchert/.cache/huggingface/datasets/symptemist/symptemist_linking_bigbio_kb/2.0.0/b6cad1bf9c574bfc3ac6a1ea50a3b8ff5b30de3ee0a2b94b4d692546ddbf011f)\n"
     ]
    },
    {
     "data": {
      "application/vnd.jupyter.widget-view+json": {
       "model_id": "2aea4dd192b648aebf8b13dfdcdc3dfb",
       "version_major": 2,
       "version_minor": 0
      },
      "text/plain": [
       "  0%|          | 0/1 [00:00<?, ?it/s]"
      ]
     },
     "metadata": {},
     "output_type": "display_data"
    },
    {
     "data": {
      "text/plain": [
       "DatasetDict({\n",
       "    train: Dataset({\n",
       "        features: ['id', 'document_id', 'passages', 'entities', 'events', 'coreferences', 'relations'],\n",
       "        num_rows: 304\n",
       "    })\n",
       "})"
      ]
     },
     "execution_count": 14,
     "metadata": {},
     "output_type": "execute_result"
    }
   ],
   "source": [
    "data = load_dataset(\n",
    "    path=\"../../biomedical/bigbio/hub/hub_repos/symptemist/symptemist.py\", \n",
    "    name=\"symptemist_linking_bigbio_kb\"\n",
    ")\n",
    "data"
   ]
  },
  {
   "cell_type": "code",
   "execution_count": 67,
   "id": "2fba3fcd-f2c2-4160-b774-6bdab25764d4",
   "metadata": {},
   "outputs": [],
   "source": [
    "from xmen.linkers import default_ensemble"
   ]
  },
  {
   "cell_type": "code",
   "execution_count": 70,
   "id": "80183943-568c-491f-8dab-d7859906f262",
   "metadata": {},
   "outputs": [
    {
     "name": "stdout",
     "output_type": "stream",
     "text": [
      "\u001b[2;36m[09/15/23 21:58:04]\u001b[0m\u001b[2;36m \u001b[0m\u001b[34mINFO    \u001b[0m Loading hierarchical faiss   \u001b]8;id=394137;file:///dhc/home/florian.borchert/workspace/xmen/xmen/linkers/sap_bert_linker.py\u001b\\\u001b[2msap_bert_linker.py\u001b[0m\u001b]8;;\u001b\\\u001b[2m:\u001b[0m\u001b]8;id=394764;file:///dhc/home/florian.borchert/workspace/xmen/xmen/linkers/sap_bert_linker.py#153\u001b\\\u001b[2m153\u001b[0m\u001b]8;;\u001b\\\n",
      "\u001b[2;36m                    \u001b[0m         index                        \u001b[2m                      \u001b[0m\n",
      "\u001b[2;36m                   \u001b[0m\u001b[2;36m \u001b[0m\u001b[34mINFO    \u001b[0m Loading index from              \u001b]8;id=118718;file:///dhc/home/florian.borchert/workspace/xmen/xmen/linkers/faiss_indexer.py\u001b\\\u001b[2mfaiss_indexer.py\u001b[0m\u001b]8;;\u001b\\\u001b[2m:\u001b[0m\u001b]8;id=892162;file:///dhc/home/florian.borchert/workspace/xmen/xmen/linkers/faiss_indexer.py#64\u001b\\\u001b[2m64\u001b[0m\u001b]8;;\u001b\\\n",
      "\u001b[2;36m                    \u001b[0m         \u001b[35m/dhc/home/florian.borchert/.cac\u001b[0m \u001b[2m                   \u001b[0m\n",
      "\u001b[2;36m                    \u001b[0m         \u001b[35mhe/xmen/symptemist/index/sapber\u001b[0m \u001b[2m                   \u001b[0m\n",
      "\u001b[2;36m                    \u001b[0m         \u001b[35mt/\u001b[0m\u001b[95membed_faiss_hier.pickle\u001b[0m       \u001b[2m                   \u001b[0m\n",
      "\u001b[2;36m[09/15/23 21:58:12]\u001b[0m\u001b[2;36m \u001b[0m\u001b[34mINFO    \u001b[0m Loaded index of type \u001b[1m<\u001b[0m\u001b[1;95mclass\u001b[0m\u001b[39m \u001b[0m    \u001b]8;id=197716;file:///dhc/home/florian.borchert/workspace/xmen/xmen/linkers/faiss_indexer.py\u001b\\\u001b[2mfaiss_indexer.py\u001b[0m\u001b]8;;\u001b\\\u001b[2m:\u001b[0m\u001b]8;id=304028;file:///dhc/home/florian.borchert/workspace/xmen/xmen/linkers/faiss_indexer.py#66\u001b\\\u001b[2m66\u001b[0m\u001b]8;;\u001b\\\n",
      "\u001b[2;36m                    \u001b[0m         \u001b[32m'faiss.swigfaiss_avx2.IndexHNSW\u001b[0m \u001b[2m                   \u001b[0m\n",
      "\u001b[2;36m                    \u001b[0m         \u001b[32mFlat'\u001b[0m\u001b[1m>\u001b[0m and size \u001b[1;36m1078626\u001b[0m         \u001b[2m                   \u001b[0m\n"
     ]
    }
   ],
   "source": [
    "linker = default_ensemble(base_path / 'index')"
   ]
  },
  {
   "cell_type": "code",
   "execution_count": 71,
   "id": "27fda484-665a-40cd-b7da-1fabe8a8c227",
   "metadata": {},
   "outputs": [],
   "source": [
    "from xmen.data import Sampler"
   ]
  },
  {
   "cell_type": "code",
   "execution_count": 102,
   "id": "9654d973-7a7d-4919-a175-d48db5ecbcc4",
   "metadata": {},
   "outputs": [],
   "source": [
    "sample = data#Sampler(52, 30).transform_batch(data)"
   ]
  },
  {
   "cell_type": "code",
   "execution_count": 103,
   "id": "9bad389c-93ea-4739-a450-e7f26524270b",
   "metadata": {},
   "outputs": [],
   "source": [
    "from xmen.data import get_cuis\n",
    "from xmen import load_kb"
   ]
  },
  {
   "cell_type": "code",
   "execution_count": 104,
   "id": "1bc60f3a-1f4f-40be-9fe3-4c3355622960",
   "metadata": {},
   "outputs": [
    {
     "data": {
      "application/vnd.jupyter.widget-view+json": {
       "model_id": "0efbf3c474144d0f86c0a3bff8b637a3",
       "version_major": 2,
       "version_minor": 0
      },
      "text/plain": [
       "Map:   0%|          | 0/304 [00:00<?, ? examples/s]"
      ]
     },
     "metadata": {},
     "output_type": "display_data"
    }
   ],
   "source": [
    "candidates = linker.predict_batch(sample, batch_size=128)"
   ]
  },
  {
   "cell_type": "code",
   "execution_count": 105,
   "id": "4b150c65-6536-45c3-bb23-8db13a4f3b9d",
   "metadata": {},
   "outputs": [
    {
     "data": {
      "application/vnd.jupyter.widget-view+json": {
       "model_id": "11dd141f836b4d0f8d9fb961721b5d93",
       "version_major": 2,
       "version_minor": 0
      },
      "text/plain": [
       "Map:   0%|          | 0/304 [00:00<?, ? examples/s]"
      ]
     },
     "metadata": {},
     "output_type": "display_data"
    }
   ],
   "source": [
    "cn = linker.linkers_fn['ngram']().predict_batch(sample['train'])"
   ]
  },
  {
   "cell_type": "code",
   "execution_count": 106,
   "id": "8ad57c4f-9a41-459c-8d02-b86c4742caa9",
   "metadata": {},
   "outputs": [
    {
     "data": {
      "application/vnd.jupyter.widget-view+json": {
       "model_id": "6a8d385685144bbfac3cd3212920aaad",
       "version_major": 2,
       "version_minor": 0
      },
      "text/plain": [
       "Map:   0%|          | 0/304 [00:00<?, ? examples/s]"
      ]
     },
     "metadata": {},
     "output_type": "display_data"
    }
   ],
   "source": [
    "cs = linker.linkers_fn['sapbert']().predict_batch(sample['train'])"
   ]
  },
  {
   "cell_type": "code",
   "execution_count": 107,
   "id": "9027ad34-eeda-4bef-a778-bd7f17b9ce72",
   "metadata": {},
   "outputs": [],
   "source": [
    "from xmen.evaluation import evaluate_at_k"
   ]
  },
  {
   "cell_type": "code",
   "execution_count": 108,
   "id": "9e00c605-6741-45bf-9858-12927e9002e8",
   "metadata": {},
   "outputs": [
    {
     "name": "stdout",
     "output_type": "stream",
     "text": [
      "Perf@1 0.3289027149321267\n",
      "Perf@2 0.43721719457013575\n",
      "Perf@4 0.5\n",
      "Perf@8 0.5378959276018099\n",
      "Perf@16 0.5808823529411765\n",
      "Perf@32 0.6233031674208145\n",
      "Perf@64 0.6504524886877828\n"
     ]
    }
   ],
   "source": [
    "_ = evaluate_at_k(sample['train'], cn)"
   ]
  },
  {
   "cell_type": "code",
   "execution_count": 109,
   "id": "19609fbe-89fd-4bb3-b1d8-187a56af9a12",
   "metadata": {},
   "outputs": [
    {
     "name": "stdout",
     "output_type": "stream",
     "text": [
      "Perf@1 0.40384615384615385\n",
      "Perf@2 0.520079185520362\n",
      "Perf@4 0.5871040723981901\n",
      "Perf@8 0.641685520361991\n",
      "Perf@16 0.681843891402715\n",
      "Perf@32 0.7149321266968326\n",
      "Perf@64 0.7423642533936652\n"
     ]
    }
   ],
   "source": [
    "_ = evaluate_at_k(sample['train'], cs)"
   ]
  },
  {
   "cell_type": "code",
   "execution_count": 110,
   "id": "ac6d2130-d357-42c1-9e28-d4bc63a70b34",
   "metadata": {},
   "outputs": [
    {
     "name": "stdout",
     "output_type": "stream",
     "text": [
      "Perf@1 0.43240950226244346\n",
      "Perf@2 0.5313914027149321\n",
      "Perf@4 0.5947398190045249\n",
      "Perf@8 0.6464932126696833\n",
      "Perf@16 0.6894796380090498\n",
      "Perf@32 0.7214366515837104\n",
      "Perf@64 0.7474547511312217\n"
     ]
    }
   ],
   "source": [
    "_ = evaluate_at_k(sample['train'], candidates['train'])"
   ]
  },
  {
   "cell_type": "code",
   "execution_count": 79,
   "id": "d7038afd-00c8-4643-9e2a-fd593ae9f4f7",
   "metadata": {},
   "outputs": [],
   "source": [
    "cuis = get_cuis(data['train'])"
   ]
  },
  {
   "cell_type": "code",
   "execution_count": 80,
   "id": "5b6d59a8-91be-4d58-839e-2716faed56f0",
   "metadata": {},
   "outputs": [
    {
     "data": {
      "text/plain": [
       "3536"
      ]
     },
     "execution_count": 80,
     "metadata": {},
     "output_type": "execute_result"
    }
   ],
   "source": [
    "len(cuis)"
   ]
  },
  {
   "cell_type": "code",
   "execution_count": 30,
   "id": "f3e652ea-bc72-4c2e-93d1-d748f795a9ad",
   "metadata": {},
   "outputs": [],
   "source": [
    "kb = load_kb(base_path / 'symptemist.jsonl')"
   ]
  },
  {
   "cell_type": "code",
   "execution_count": null,
   "id": "50f1dfa5-957b-4064-91de-491fc7127fbe",
   "metadata": {},
   "outputs": [],
   "source": [
    "gaz = pd.read_csv('../data/symptemist_gazetter_snomed_ES_v1.tsv', sep='\\t')"
   ]
  },
  {
   "cell_type": "code",
   "execution_count": null,
   "id": "873feed0-9006-49fd-84f2-9d4e930483b8",
   "metadata": {},
   "outputs": [
    {
     "data": {
      "text/html": [
       "<div>\n",
       "<style scoped>\n",
       "    .dataframe tbody tr th:only-of-type {\n",
       "        vertical-align: middle;\n",
       "    }\n",
       "\n",
       "    .dataframe tbody tr th {\n",
       "        vertical-align: top;\n",
       "    }\n",
       "\n",
       "    .dataframe thead th {\n",
       "        text-align: right;\n",
       "    }\n",
       "</style>\n",
       "<table border=\"1\" class=\"dataframe\">\n",
       "  <thead>\n",
       "    <tr style=\"text-align: right;\">\n",
       "      <th></th>\n",
       "      <th>code</th>\n",
       "      <th>language</th>\n",
       "      <th>term</th>\n",
       "      <th>semantic_tag</th>\n",
       "      <th>mainterm</th>\n",
       "    </tr>\n",
       "  </thead>\n",
       "  <tbody>\n",
       "  </tbody>\n",
       "</table>\n",
       "</div>"
      ],
      "text/plain": [
       "Empty DataFrame\n",
       "Columns: [code, language, term, semantic_tag, mainterm]\n",
       "Index: []"
      ]
     },
     "execution_count": 36,
     "metadata": {},
     "output_type": "execute_result"
    }
   ],
   "source": [
    "gaz[gaz.code == 309306009]"
   ]
  },
  {
   "cell_type": "code",
   "execution_count": null,
   "id": "a65b63d4-daf2-489a-8187-391f3af61579",
   "metadata": {},
   "outputs": [],
   "source": [
    "dat = pd.read_csv('../data/symptemist_tsv_train_subtask2.tsv', sep='\\t')"
   ]
  },
  {
   "cell_type": "code",
   "execution_count": null,
   "id": "9c97ecfd-f47f-4272-a262-595489d94bac",
   "metadata": {},
   "outputs": [],
   "source": [
    "idx = set(gaz.code.values.astype('str'))"
   ]
  },
  {
   "cell_type": "code",
   "execution_count": null,
   "id": "553025df-bbf7-45bd-8fc0-6ae57255a533",
   "metadata": {},
   "outputs": [
    {
     "data": {
      "text/html": [
       "<div>\n",
       "<style scoped>\n",
       "    .dataframe tbody tr th:only-of-type {\n",
       "        vertical-align: middle;\n",
       "    }\n",
       "\n",
       "    .dataframe tbody tr th {\n",
       "        vertical-align: top;\n",
       "    }\n",
       "\n",
       "    .dataframe thead th {\n",
       "        text-align: right;\n",
       "    }\n",
       "</style>\n",
       "<table border=\"1\" class=\"dataframe\">\n",
       "  <thead>\n",
       "    <tr style=\"text-align: right;\">\n",
       "      <th></th>\n",
       "      <th>filename</th>\n",
       "      <th>label</th>\n",
       "      <th>start_span</th>\n",
       "      <th>end_span</th>\n",
       "      <th>text</th>\n",
       "      <th>code</th>\n",
       "      <th>sem_rel</th>\n",
       "      <th>is_abbrev</th>\n",
       "      <th>is_composite</th>\n",
       "      <th>need_context</th>\n",
       "    </tr>\n",
       "  </thead>\n",
       "  <tbody>\n",
       "    <tr>\n",
       "      <th>37</th>\n",
       "      <td>es-S0376-78922015000200010-1</td>\n",
       "      <td>SINTOMA</td>\n",
       "      <td>1139</td>\n",
       "      <td>1160</td>\n",
       "      <td>actividad paroxística</td>\n",
       "      <td>1.56255710001191E+016</td>\n",
       "      <td>EXACT</td>\n",
       "      <td>False</td>\n",
       "      <td>False</td>\n",
       "      <td>False</td>\n",
       "    </tr>\n",
       "    <tr>\n",
       "      <th>50</th>\n",
       "      <td>es-S0376-78922009000300010-1</td>\n",
       "      <td>SINTOMA</td>\n",
       "      <td>1538</td>\n",
       "      <td>1587</td>\n",
       "      <td>adelgazamiento por desgrasamiento de los colgajos</td>\n",
       "      <td>1202017008</td>\n",
       "      <td>EXACT</td>\n",
       "      <td>False</td>\n",
       "      <td>False</td>\n",
       "      <td>True</td>\n",
       "    </tr>\n",
       "    <tr>\n",
       "      <th>176</th>\n",
       "      <td>es-S0376-78922015000400013-1</td>\n",
       "      <td>SINTOMA</td>\n",
       "      <td>243</td>\n",
       "      <td>314</td>\n",
       "      <td>anfractuosidades en el tejido cutáneo-adiposo ...</td>\n",
       "      <td>1.06828710001191E+016</td>\n",
       "      <td>NARROW</td>\n",
       "      <td>False</td>\n",
       "      <td>False</td>\n",
       "      <td>True</td>\n",
       "    </tr>\n",
       "    <tr>\n",
       "      <th>225</th>\n",
       "      <td>es-S1130-01082009000700012-1</td>\n",
       "      <td>SINTOMA</td>\n",
       "      <td>1006</td>\n",
       "      <td>1024</td>\n",
       "      <td>apéndice epiploico</td>\n",
       "      <td>1.47202310001191E+016</td>\n",
       "      <td>EXACT</td>\n",
       "      <td>False</td>\n",
       "      <td>False</td>\n",
       "      <td>True</td>\n",
       "    </tr>\n",
       "    <tr>\n",
       "      <th>236</th>\n",
       "      <td>es-S0004-06142008000600014-1</td>\n",
       "      <td>SINTOMA</td>\n",
       "      <td>687</td>\n",
       "      <td>702</td>\n",
       "      <td>áreas quísticas</td>\n",
       "      <td>1.62173410001191E+016</td>\n",
       "      <td>EXACT</td>\n",
       "      <td>False</td>\n",
       "      <td>False</td>\n",
       "      <td>False</td>\n",
       "    </tr>\n",
       "    <tr>\n",
       "      <th>...</th>\n",
       "      <td>...</td>\n",
       "      <td>...</td>\n",
       "      <td>...</td>\n",
       "      <td>...</td>\n",
       "      <td>...</td>\n",
       "      <td>...</td>\n",
       "      <td>...</td>\n",
       "      <td>...</td>\n",
       "      <td>...</td>\n",
       "      <td>...</td>\n",
       "    </tr>\n",
       "    <tr>\n",
       "      <th>3285</th>\n",
       "      <td>es-S0212-71992006000800007-1</td>\n",
       "      <td>SINTOMA</td>\n",
       "      <td>4427</td>\n",
       "      <td>4449</td>\n",
       "      <td>tinción de ZN negativo</td>\n",
       "      <td>309306009</td>\n",
       "      <td>NARROW</td>\n",
       "      <td>True</td>\n",
       "      <td>False</td>\n",
       "      <td>False</td>\n",
       "    </tr>\n",
       "    <tr>\n",
       "      <th>3288</th>\n",
       "      <td>es-S1130-01082008001000010-1</td>\n",
       "      <td>SINTOMA</td>\n",
       "      <td>1988</td>\n",
       "      <td>2010</td>\n",
       "      <td>tinción Zielh negativa</td>\n",
       "      <td>309306009</td>\n",
       "      <td>NARROW</td>\n",
       "      <td>False</td>\n",
       "      <td>False</td>\n",
       "      <td>False</td>\n",
       "    </tr>\n",
       "    <tr>\n",
       "      <th>3289</th>\n",
       "      <td>es-S0212-71992004000800009-1</td>\n",
       "      <td>SINTOMA</td>\n",
       "      <td>2878</td>\n",
       "      <td>2959</td>\n",
       "      <td>tinciones de muestras respiratorias fueron neg...</td>\n",
       "      <td>309306009</td>\n",
       "      <td>NARROW</td>\n",
       "      <td>False</td>\n",
       "      <td>False</td>\n",
       "      <td>False</td>\n",
       "    </tr>\n",
       "    <tr>\n",
       "      <th>3491</th>\n",
       "      <td>es-S1130-05582003000600004-1</td>\n",
       "      <td>SINTOMA</td>\n",
       "      <td>426</td>\n",
       "      <td>480</td>\n",
       "      <td>zona anterior izquierda mandibular se apreció ...</td>\n",
       "      <td>1.06793510001191E+016</td>\n",
       "      <td>NARROW</td>\n",
       "      <td>False</td>\n",
       "      <td>False</td>\n",
       "      <td>False</td>\n",
       "    </tr>\n",
       "    <tr>\n",
       "      <th>3493</th>\n",
       "      <td>es-S0210-48062009000400017-1</td>\n",
       "      <td>SINTOMA</td>\n",
       "      <td>1674</td>\n",
       "      <td>1851</td>\n",
       "      <td>zona nodular en su polo superior de mayor inte...</td>\n",
       "      <td>NO_CODE</td>\n",
       "      <td>NO_CODE</td>\n",
       "      <td>False</td>\n",
       "      <td>False</td>\n",
       "      <td>True</td>\n",
       "    </tr>\n",
       "  </tbody>\n",
       "</table>\n",
       "<p>226 rows × 10 columns</p>\n",
       "</div>"
      ],
      "text/plain": [
       "                          filename    label  ...  is_composite  need_context\n",
       "37    es-S0376-78922015000200010-1  SINTOMA  ...         False         False\n",
       "50    es-S0376-78922009000300010-1  SINTOMA  ...         False          True\n",
       "176   es-S0376-78922015000400013-1  SINTOMA  ...         False          True\n",
       "225   es-S1130-01082009000700012-1  SINTOMA  ...         False          True\n",
       "236   es-S0004-06142008000600014-1  SINTOMA  ...         False         False\n",
       "...                            ...      ...  ...           ...           ...\n",
       "3285  es-S0212-71992006000800007-1  SINTOMA  ...         False         False\n",
       "3288  es-S1130-01082008001000010-1  SINTOMA  ...         False         False\n",
       "3289  es-S0212-71992004000800009-1  SINTOMA  ...         False         False\n",
       "3491  es-S1130-05582003000600004-1  SINTOMA  ...         False         False\n",
       "3493  es-S0210-48062009000400017-1  SINTOMA  ...         False          True\n",
       "\n",
       "[226 rows x 10 columns]"
      ]
     },
     "execution_count": 66,
     "metadata": {},
     "output_type": "execute_result"
    }
   ],
   "source": [
    "dat[~dat.code.isin(idx)]"
   ]
  },
  {
   "cell_type": "code",
   "execution_count": 31,
   "id": "dd6473b2-1566-4297-b9b4-d7b4a1e98081",
   "metadata": {},
   "outputs": [
    {
     "data": {
      "text/plain": [
       "['NO_CODE',\n",
       " '309306009',\n",
       " '271594007',\n",
       " '257552002',\n",
       " '14760008',\n",
       " '161980004',\n",
       " '271823003',\n",
       " 'NO_CODE',\n",
       " 'NO_CODE',\n",
       " 'NO_CODE',\n",
       " 'NO_CODE',\n",
       " '309306009',\n",
       " '248239003',\n",
       " '271823003',\n",
       " 'NO_CODE',\n",
       " '165232002',\n",
       " 'NO_CODE',\n",
       " 'NO_CODE',\n",
       " '274643008',\n",
       " '193982009',\n",
       " 'NO_CODE',\n",
       " '267038008',\n",
       " '1.57499610001191E',\n",
       " '016',\n",
       " 'NO_CODE',\n",
       " 'NO_CODE',\n",
       " '271782001',\n",
       " '271823003',\n",
       " 'NO_CODE',\n",
       " '271594007',\n",
       " '168265009',\n",
       " 'NO_CODE',\n",
       " '309306009',\n",
       " '131148009',\n",
       " '268926000',\n",
       " '1.56255710001191E',\n",
       " '016',\n",
       " 'NO_CODE',\n",
       " 'NO_CODE',\n",
       " 'NO_CODE',\n",
       " '168265009',\n",
       " '251435008',\n",
       " '267038008',\n",
       " '309306009',\n",
       " '1141974008',\n",
       " '309306009',\n",
       " '703630003',\n",
       " '221360009',\n",
       " '1202017008',\n",
       " 'NO_CODE',\n",
       " '309306009',\n",
       " '309306009',\n",
       " '271823003',\n",
       " '1.06787910001191E',\n",
       " '016',\n",
       " 'NO_CODE',\n",
       " '131148009',\n",
       " 'NO_CODE',\n",
       " '251384004',\n",
       " '239551005',\n",
       " '309306009',\n",
       " 'NO_CODE',\n",
       " '1.62173410001191E',\n",
       " '016',\n",
       " '274718005',\n",
       " 'NO_CODE',\n",
       " 'NO_CODE',\n",
       " '309305008',\n",
       " 'NO_CODE',\n",
       " 'NO_CODE',\n",
       " '274643008',\n",
       " 'NO_CODE',\n",
       " '131148009',\n",
       " '309569001',\n",
       " '267038008',\n",
       " 'NO_CODE',\n",
       " '268926000',\n",
       " 'NO_CODE',\n",
       " '131148009',\n",
       " 'NO_CODE',\n",
       " 'NO_CODE',\n",
       " '54200006',\n",
       " '710592007',\n",
       " 'NO_CODE',\n",
       " '257552002',\n",
       " 'NO_CODE',\n",
       " 'NO_CODE',\n",
       " '257552002',\n",
       " '267038008',\n",
       " '267038008',\n",
       " '1.68360910001191E',\n",
       " '016',\n",
       " 'NO_CODE',\n",
       " 'NO_CODE',\n",
       " 'NO_CODE',\n",
       " 'NO_CODE',\n",
       " '168265009',\n",
       " '131148009',\n",
       " '235719002',\n",
       " '257552002',\n",
       " '1.59303010001191E',\n",
       " '016',\n",
       " '83514008',\n",
       " '83514008',\n",
       " 'NO_CODE',\n",
       " '309306009',\n",
       " '309306009',\n",
       " '703630003',\n",
       " '201051000',\n",
       " '201051000',\n",
       " '274643008',\n",
       " '112638000',\n",
       " '112638000',\n",
       " '131148009',\n",
       " '165232002',\n",
       " '703630003',\n",
       " '271782001',\n",
       " '120816007',\n",
       " '165232002',\n",
       " '1.06828710001191E',\n",
       " '016',\n",
       " '238772004',\n",
       " '120670006',\n",
       " '1.59978E',\n",
       " '016',\n",
       " 'NO_CODE',\n",
       " '309569001',\n",
       " 'NO_CODE',\n",
       " '274643008',\n",
       " '309306009',\n",
       " '307490000',\n",
       " 'NO_CODE',\n",
       " '414563008',\n",
       " '1.47202310001191E',\n",
       " '016',\n",
       " '1.67798010001191E',\n",
       " '016',\n",
       " '130951007',\n",
       " '165232002',\n",
       " '271782001',\n",
       " 'NO_CODE',\n",
       " '1.59303810001191E',\n",
       " '016',\n",
       " '131148009',\n",
       " '1275616003',\n",
       " '1.59861910001191E',\n",
       " '016',\n",
       " '439577000',\n",
       " '278683009',\n",
       " 'NO_CODE',\n",
       " '1.06793510001191E',\n",
       " '016',\n",
       " '271594007',\n",
       " '131148009',\n",
       " 'NO_CODE',\n",
       " '278683009',\n",
       " 'NO_CODE',\n",
       " '130951007',\n",
       " '54200006',\n",
       " 'NO_CODE',\n",
       " '131148009',\n",
       " '131148009',\n",
       " '131148009',\n",
       " '271823003',\n",
       " '271823003',\n",
       " '1.06794310001191E',\n",
       " '016',\n",
       " 'NO_CODE',\n",
       " '165232002',\n",
       " '58083006',\n",
       " '257552002',\n",
       " '267038008',\n",
       " '708291009',\n",
       " '193523008',\n",
       " '309303001',\n",
       " '131148009',\n",
       " '131148009',\n",
       " 'NO_CODE',\n",
       " 'NO_CODE',\n",
       " '267038008',\n",
       " '271782001',\n",
       " '271823003',\n",
       " '129759000',\n",
       " '129759000',\n",
       " '129759000',\n",
       " 'NO_CODE',\n",
       " '1.59303810001191E',\n",
       " '016',\n",
       " 'NO_CODE',\n",
       " 'NO_CODE',\n",
       " 'NO_CODE',\n",
       " '1.59269410001191E',\n",
       " '016',\n",
       " '703630003',\n",
       " '131148009',\n",
       " 'NO_CODE',\n",
       " '267038008',\n",
       " '257552002',\n",
       " '131148009',\n",
       " '271594007',\n",
       " '131148009',\n",
       " '1.66753E',\n",
       " '016',\n",
       " '267038008',\n",
       " '267038008',\n",
       " '131148009',\n",
       " '131148009',\n",
       " '131148009',\n",
       " '131148009',\n",
       " '131148009',\n",
       " '131148009',\n",
       " '131148009',\n",
       " '131148009',\n",
       " '131148009',\n",
       " '162010006',\n",
       " '274667000',\n",
       " 'NO_CODE',\n",
       " 'NO_CODE',\n",
       " '271594007',\n",
       " '309306009',\n",
       " '274667000',\n",
       " '162010006',\n",
       " '300592009',\n",
       " '1.59301010001191E',\n",
       " '016',\n",
       " 'NO_CODE',\n",
       " '168265009',\n",
       " 'NO_CODE',\n",
       " '274643008',\n",
       " '131148009',\n",
       " 'NO_CODE',\n",
       " '131148009',\n",
       " '257552002']"
      ]
     },
     "execution_count": 31,
     "metadata": {},
     "output_type": "execute_result"
    }
   ],
   "source": [
    "[c for c in cuis if not c in kb.cui_to_entity]"
   ]
  },
  {
   "cell_type": "code",
   "execution_count": null,
   "id": "63da9413-2e12-466c-bba2-db4876057455",
   "metadata": {},
   "outputs": [],
   "source": []
  }
 ],
 "metadata": {
  "kernelspec": {
   "display_name": "Python [conda env:xmen100]",
   "language": "python",
   "name": "conda-env-xmen100-py"
  },
  "language_info": {
   "codemirror_mode": {
    "name": "ipython",
    "version": 3
   },
   "file_extension": ".py",
   "mimetype": "text/x-python",
   "name": "python",
   "nbconvert_exporter": "python",
   "pygments_lexer": "ipython3",
   "version": "3.10.11"
  }
 },
 "nbformat": 4,
 "nbformat_minor": 5
}
