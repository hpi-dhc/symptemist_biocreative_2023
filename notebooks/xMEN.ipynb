{
 "cells": [
  {
   "cell_type": "code",
   "execution_count": 1,
   "id": "73d5c7aa-15c3-4e59-b177-5cd3543c3795",
   "metadata": {},
   "outputs": [],
   "source": [
    "import os\n",
    "os.environ['CUDA_VISIBLE_DEVICE'] = '2'"
   ]
  },
  {
   "cell_type": "markdown",
   "id": "a98f1c88-00b3-49d3-9bde-1083ad9bb30d",
   "metadata": {},
   "source": [
    "# Preparation"
   ]
  },
  {
   "cell_type": "markdown",
   "id": "eed3d0a5-8e71-4b42-94a7-9f9ba1f51000",
   "metadata": {},
   "source": [
    "`xmen dict conf/xmen.yaml --code src/gazetteer.py`\n",
    "(extend the SympTEMIST gazetteer with UMLS aliases and save as jsonl file)\n",
    "\n",
    "`xmen index conf/xmen.yaml --all`\n",
    "(compute TF-IDF and SapBERT indices)"
   ]
  },
  {
   "cell_type": "code",
   "execution_count": 63,
   "id": "18211ef8-4e9f-4893-aabf-5721bd39064f",
   "metadata": {},
   "outputs": [],
   "source": [
    "def count_ents(ds):\n",
    "    print(len([e for d in ds['entities'] for e in d]))"
   ]
  },
  {
   "cell_type": "code",
   "execution_count": 2,
   "id": "613f5708-2682-4933-af8e-d4ad1e3ac408",
   "metadata": {},
   "outputs": [],
   "source": [
    "from datasets import load_dataset, DatasetDict, load_from_disk\n",
    "from pathlib import Path\n",
    "from xmen.evaluation import *"
   ]
  },
  {
   "cell_type": "code",
   "execution_count": 3,
   "id": "685c3dbe-0fd7-4428-a96b-dc42d4d5d2c5",
   "metadata": {},
   "outputs": [],
   "source": [
    "base_path = Path.home() / '.cache' / 'xmen' / 'symptemist'"
   ]
  },
  {
   "cell_type": "code",
   "execution_count": 4,
   "id": "cc930779-8e30-42bf-884e-589664a1f717",
   "metadata": {},
   "outputs": [
    {
     "name": "stderr",
     "output_type": "stream",
     "text": [
      "Found cached dataset symptemist (/home/Florian.Borchert/.cache/huggingface/datasets/symptemist/symptemist_linking_bigbio_kb/2.2.0/3dbf79e4e7b75f1bb9c18feedb52bbb78832208c888945f61f41b6ed603cf32c)\n"
     ]
    },
    {
     "data": {
      "application/vnd.jupyter.widget-view+json": {
       "model_id": "0f43ce7fffd54ae5a8f89a6224933839",
       "version_major": 2,
       "version_minor": 0
      },
      "text/plain": [
       "  0%|          | 0/2 [00:00<?, ?it/s]"
      ]
     },
     "metadata": {},
     "output_type": "display_data"
    }
   ],
   "source": [
    "symptemist_data = load_dataset(\n",
    "    path=\"../../biomedical/bigbio/hub/hub_repos/symptemist/symptemist.py\", \n",
    "    name=\"symptemist_linking_bigbio_kb\"\n",
    ")\n",
    "train_data = symptemist_data['train']\n",
    "test_data = symptemist_data['test']"
   ]
  },
  {
   "cell_type": "code",
   "execution_count": 5,
   "id": "b3376ccd-2313-413b-9a59-1365edddd6dd",
   "metadata": {},
   "outputs": [
    {
     "data": {
      "text/plain": [
       "60"
      ]
     },
     "execution_count": 5,
     "metadata": {},
     "output_type": "execute_result"
    }
   ],
   "source": [
    "#import random\n",
    "#random.seed(42)\n",
    "\n",
    "#doc_ids = symptemist_data['train']['document_id']\n",
    "#n_valid = int(0.2 * len(doc_ids))\n",
    "#n_valid\n",
    "#valid_doc_ids = random.sample(doc_ids, n_valid)\n",
    "#with open('../data/subtrack2_valid_docids.txt', 'w') as fh:\n",
    "#     for v in valid_doc_ids:\n",
    "#        fh.write(v + '\\n')\n",
    "valid_doc_ids = [doc_id.strip() for doc_id in open('../data/subtrack2_valid_docids.txt', 'r').readlines()]\n",
    "len(valid_doc_ids)"
   ]
  },
  {
   "cell_type": "code",
   "execution_count": 6,
   "id": "abd090c6-751b-4ca8-9451-9e9ea27fb4ae",
   "metadata": {},
   "outputs": [
    {
     "name": "stderr",
     "output_type": "stream",
     "text": [
      "Loading cached processed dataset at /home/Florian.Borchert/.cache/huggingface/datasets/symptemist/symptemist_linking_bigbio_kb/2.2.0/3dbf79e4e7b75f1bb9c18feedb52bbb78832208c888945f61f41b6ed603cf32c/cache-ce59562e02ad8e8e.arrow\n",
      "Loading cached processed dataset at /home/Florian.Borchert/.cache/huggingface/datasets/symptemist/symptemist_linking_bigbio_kb/2.2.0/3dbf79e4e7b75f1bb9c18feedb52bbb78832208c888945f61f41b6ed603cf32c/cache-fbd11820a1aceef7.arrow\n"
     ]
    },
    {
     "data": {
      "text/plain": [
       "DatasetDict({\n",
       "    train: Dataset({\n",
       "        features: ['id', 'document_id', 'passages', 'entities', 'events', 'coreferences', 'relations'],\n",
       "        num_rows: 244\n",
       "    })\n",
       "    validation: Dataset({\n",
       "        features: ['id', 'document_id', 'passages', 'entities', 'events', 'coreferences', 'relations'],\n",
       "        num_rows: 60\n",
       "    })\n",
       "    test: Dataset({\n",
       "        features: ['id', 'document_id', 'passages', 'entities', 'events', 'coreferences', 'relations'],\n",
       "        num_rows: 247\n",
       "    })\n",
       "})"
      ]
     },
     "execution_count": 6,
     "metadata": {},
     "output_type": "execute_result"
    }
   ],
   "source": [
    "dataset = DatasetDict()\n",
    "dataset['train'] = train_data.filter(lambda d: d['document_id'] not in valid_doc_ids)\n",
    "dataset['validation'] = train_data.filter(lambda d: d['document_id'] in valid_doc_ids)\n",
    "dataset['test'] = test_data\n",
    "dataset"
   ]
  },
  {
   "cell_type": "code",
   "execution_count": 7,
   "id": "70634a39-008a-4afe-8398-aa60042fbe3f",
   "metadata": {},
   "outputs": [
    {
     "data": {
      "text/plain": [
       "3484"
      ]
     },
     "execution_count": 7,
     "metadata": {},
     "output_type": "execute_result"
    }
   ],
   "source": [
    "from xmen.data import get_cuis\n",
    "cuis = get_cuis(dataset['train']) + get_cuis(dataset['validation'])\n",
    "len(cuis)"
   ]
  },
  {
   "cell_type": "code",
   "execution_count": 8,
   "id": "7b0dbaaf-ea2f-45e4-ad29-7e0412770200",
   "metadata": {},
   "outputs": [],
   "source": [
    "from xmen import load_kb\n",
    "kb = load_kb(base_path / 'symptemist.jsonl')"
   ]
  },
  {
   "cell_type": "code",
   "execution_count": 9,
   "id": "047c826f-121a-4645-ab50-082f3b6fa9be",
   "metadata": {},
   "outputs": [
    {
     "data": {
      "text/plain": [
       "{'NO_CODE'}"
      ]
     },
     "execution_count": 9,
     "metadata": {},
     "output_type": "execute_result"
    }
   ],
   "source": [
    "set([c for c in cuis if not c in kb.cui_to_entity])"
   ]
  },
  {
   "cell_type": "code",
   "execution_count": 10,
   "id": "fe183a67-d8e3-4d64-a860-528fe251f224",
   "metadata": {},
   "outputs": [
    {
     "data": {
      "text/plain": [
       "1079623"
      ]
     },
     "execution_count": 10,
     "metadata": {},
     "output_type": "execute_result"
    }
   ],
   "source": [
    "# aliases\n",
    "sum([len(c) for c in kb.alias_to_cuis.values()])"
   ]
  },
  {
   "cell_type": "markdown",
   "id": "da098f44-aa29-4527-adf2-154c871fd58d",
   "metadata": {},
   "source": [
    "# Candidate Generation"
   ]
  },
  {
   "cell_type": "code",
   "execution_count": 11,
   "id": "2fba3fcd-f2c2-4160-b774-6bdab25764d4",
   "metadata": {},
   "outputs": [],
   "source": [
    "from xmen.linkers import default_ensemble"
   ]
  },
  {
   "cell_type": "code",
   "execution_count": null,
   "id": "80183943-568c-491f-8dab-d7859906f262",
   "metadata": {},
   "outputs": [],
   "source": [
    "linker = default_ensemble(base_path / 'index')"
   ]
  },
  {
   "cell_type": "code",
   "execution_count": null,
   "id": "4b150c65-6536-45c3-bb23-8db13a4f3b9d",
   "metadata": {},
   "outputs": [],
   "source": [
    "candidates_ngram = linker.linkers_fn['ngram']().predict_batch(dataset)"
   ]
  },
  {
   "cell_type": "code",
   "execution_count": null,
   "id": "ffc01a6e-298f-4060-84a1-ca2f092fe6e4",
   "metadata": {},
   "outputs": [],
   "source": [
    "print('Training Set:')\n",
    "_ = evaluate_at_k(dataset['train'], candidates_ngram['train'])\n",
    "print('Validation Set:')\n",
    "_ = evaluate_at_k(dataset['validation'], candidates_ngram['validation'])"
   ]
  },
  {
   "cell_type": "code",
   "execution_count": null,
   "id": "8ad57c4f-9a41-459c-8d02-b86c4742caa9",
   "metadata": {},
   "outputs": [],
   "source": [
    "candidates_sap = linker.linkers_fn['sapbert']().predict_batch(dataset, batch_size=128)"
   ]
  },
  {
   "cell_type": "code",
   "execution_count": null,
   "id": "94131636-05ff-43c0-89b3-b8e8ccf2bc0a",
   "metadata": {},
   "outputs": [],
   "source": [
    "print('Training Set:')\n",
    "_ = evaluate_at_k(dataset['train'], candidates_sap['train'])\n",
    "print('Validation Set:')\n",
    "_ = evaluate_at_k(dataset['validation'], candidates_sap['validation'])"
   ]
  },
  {
   "cell_type": "code",
   "execution_count": null,
   "id": "b283495f-d92b-4a6c-8ecf-e8203f88fc41",
   "metadata": {},
   "outputs": [],
   "source": [
    "candidates = linker.predict_batch(dataset, batch_size=128, top_k=64, reuse_preds={'sapbert' : candidates_sap, 'ngram' : candidates_ngram})"
   ]
  },
  {
   "cell_type": "code",
   "execution_count": null,
   "id": "2c993d4a-67bf-485c-8149-ca8afc7ac77f",
   "metadata": {},
   "outputs": [],
   "source": [
    "print('Training Set:')\n",
    "_ = evaluate_at_k(dataset['train'], candidates['train'])\n",
    "print('Validation Set:')\n",
    "_ = evaluate_at_k(dataset['validation'], candidates['validation'])"
   ]
  },
  {
   "cell_type": "code",
   "execution_count": null,
   "id": "fc612f23-d23b-4702-a244-71f5b62a0c9f",
   "metadata": {},
   "outputs": [],
   "source": [
    "candidates.save_to_disk('../data/candidates')"
   ]
  },
  {
   "cell_type": "code",
   "execution_count": null,
   "id": "6c95e491-119f-4ac9-8c47-cba7b4157663",
   "metadata": {},
   "outputs": [],
   "source": [
    "candidates"
   ]
  },
  {
   "cell_type": "markdown",
   "id": "00292c19-186c-4e54-9a8d-3b5d422e6efd",
   "metadata": {},
   "source": [
    "# Prepare Data for Reranking"
   ]
  },
  {
   "cell_type": "code",
   "execution_count": 12,
   "id": "9bbb8575-e71e-4983-9284-3574e5d675da",
   "metadata": {},
   "outputs": [],
   "source": [
    "from xmen.reranking import CrossEncoderReranker"
   ]
  },
  {
   "cell_type": "code",
   "execution_count": 13,
   "id": "8a684c02-33cb-418b-ade9-9646969650ce",
   "metadata": {},
   "outputs": [],
   "source": [
    "candidates = load_from_disk('../data/candidates')"
   ]
  },
  {
   "cell_type": "code",
   "execution_count": 15,
   "id": "1bb6ff55-0c34-4f42-9011-8f0f377e4b85",
   "metadata": {},
   "outputs": [
    {
     "name": "stdout",
     "output_type": "stream",
     "text": [
      "Recall@1 0.4217335058214748\n",
      "Recall@2 0.5433376455368694\n",
      "Recall@4 0.6261319534282018\n",
      "Recall@8 0.6817593790426908\n",
      "Recall@16 0.7309184993531694\n",
      "Recall@32 0.7684346701164295\n",
      "Recall@64 0.8020698576972833\n"
     ]
    }
   ],
   "source": [
    "_ = evaluate_at_k(dataset['validation'], candidates['validation'])"
   ]
  },
  {
   "cell_type": "code",
   "execution_count": 17,
   "id": "d85082d0-5d0b-4d25-8ddc-d1060314f89c",
   "metadata": {},
   "outputs": [
    {
     "name": "stdout",
     "output_type": "stream",
     "text": [
      "Context length: 128\n",
      "Use NIL values: True\n"
     ]
    },
    {
     "data": {
      "application/vnd.jupyter.widget-view+json": {
       "model_id": "1effc303578b48d7a5ea40567bdada1a",
       "version_major": 2,
       "version_minor": 0
      },
      "text/plain": [
       "  0%|          | 0/2711 [00:00<?, ?it/s]"
      ]
     },
     "metadata": {},
     "output_type": "display_data"
    },
    {
     "data": {
      "application/vnd.jupyter.widget-view+json": {
       "model_id": "f098d63682a04fbcbabe17a5304ff4d5",
       "version_major": 2,
       "version_minor": 0
      },
      "text/plain": [
       "  0%|          | 0/2711 [00:00<?, ?it/s]"
      ]
     },
     "metadata": {},
     "output_type": "display_data"
    },
    {
     "data": {
      "application/vnd.jupyter.widget-view+json": {
       "model_id": "7edb2f4e571b4e8ea5ad0ae0a0f299cc",
       "version_major": 2,
       "version_minor": 0
      },
      "text/plain": [
       "  0%|          | 0/2711 [00:00<?, ?it/s]"
      ]
     },
     "metadata": {},
     "output_type": "display_data"
    },
    {
     "data": {
      "application/vnd.jupyter.widget-view+json": {
       "model_id": "506979dde4cb40f9949d5e6baf1daafd",
       "version_major": 2,
       "version_minor": 0
      },
      "text/plain": [
       "  0%|          | 0/773 [00:00<?, ?it/s]"
      ]
     },
     "metadata": {},
     "output_type": "display_data"
    },
    {
     "data": {
      "application/vnd.jupyter.widget-view+json": {
       "model_id": "5952a364c59845eea4fe96662efb7021",
       "version_major": 2,
       "version_minor": 0
      },
      "text/plain": [
       "  0%|          | 0/773 [00:00<?, ?it/s]"
      ]
     },
     "metadata": {},
     "output_type": "display_data"
    },
    {
     "data": {
      "application/vnd.jupyter.widget-view+json": {
       "model_id": "a39bb3679a4e406bad9aba5170bea6b6",
       "version_major": 2,
       "version_minor": 0
      },
      "text/plain": [
       "  0%|          | 0/773 [00:00<?, ?it/s]"
      ]
     },
     "metadata": {},
     "output_type": "display_data"
    },
    {
     "data": {
      "application/vnd.jupyter.widget-view+json": {
       "model_id": "e67aa4967d4f41e6aaaa206f3e10c75d",
       "version_major": 2,
       "version_minor": 0
      },
      "text/plain": [
       "  0%|          | 0/3104 [00:00<?, ?it/s]"
      ]
     },
     "metadata": {},
     "output_type": "display_data"
    },
    {
     "data": {
      "application/vnd.jupyter.widget-view+json": {
       "model_id": "999ea84d3ed8457fa2ce5512cd838705",
       "version_major": 2,
       "version_minor": 0
      },
      "text/plain": [
       "  0%|          | 0/3104 [00:00<?, ?it/s]"
      ]
     },
     "metadata": {},
     "output_type": "display_data"
    },
    {
     "data": {
      "application/vnd.jupyter.widget-view+json": {
       "model_id": "015ab7f03848423f89e3229903fd5e27",
       "version_major": 2,
       "version_minor": 0
      },
      "text/plain": [
       "  0%|          | 0/3104 [00:00<?, ?it/s]"
      ]
     },
     "metadata": {},
     "output_type": "display_data"
    }
   ],
   "source": [
    "ce_dataset = CrossEncoderReranker.prepare_data(candidates, dataset, kb)"
   ]
  },
  {
   "cell_type": "markdown",
   "id": "f4c3d08d-7c1b-42f0-ab00-d82a7d7bda4b",
   "metadata": {},
   "source": [
    "# Reranker Training"
   ]
  },
  {
   "cell_type": "code",
   "execution_count": null,
   "id": "679e98be-a7fa-4ff6-b247-027d190188e9",
   "metadata": {},
   "outputs": [],
   "source": [
    "from xmen.reranking.cross_encoder import CrossEncoderTrainingArgs\n",
    "args = CrossEncoderTrainingArgs(num_train_epochs=20, model_name='PlanTL-GOB-ES/roberta-base-biomedical-clinical-es')"
   ]
  },
  {
   "cell_type": "code",
   "execution_count": null,
   "id": "a154681b-4b8c-4865-8c43-52111b9ea2e4",
   "metadata": {},
   "outputs": [],
   "source": [
    "import datetime\n",
    "output_dir = Path('output') / 'cross_encoder' / datetime.datetime.now().strftime(\"%Y%m%d-%H%M%S\")"
   ]
  },
  {
   "cell_type": "code",
   "execution_count": null,
   "id": "c7d55c13-51f7-43a1-9c3a-575b04d510aa",
   "metadata": {},
   "outputs": [],
   "source": [
    "import wandb\n",
    "\n",
    "wandb.init(project=\"symptemist\")\n",
    "\n",
    "try:\n",
    "    rr = CrossEncoderReranker()\n",
    "    rr.fit(args, ce_dataset['train'].dataset, ce_dataset['validation'].dataset, show_progress_bar=False, eval_callback=wandb.log, output_dir=output_dir)\n",
    "finally:\n",
    "    if run := wandb.run:\n",
    "        run.finish()"
   ]
  },
  {
   "cell_type": "markdown",
   "id": "7d7705e8-e7f4-4ea7-a255-ab59b8c13efb",
   "metadata": {},
   "source": [
    "# Prediction on Validation / Test Set"
   ]
  },
  {
   "cell_type": "code",
   "execution_count": 18,
   "id": "a372efb9-c1c2-4dfd-a7e4-4fc9b5e0bc90",
   "metadata": {},
   "outputs": [],
   "source": [
    "rr = CrossEncoderReranker.load('output/cross_encoder/20230920-134756/', device=0)"
   ]
  },
  {
   "cell_type": "code",
   "execution_count": 19,
   "id": "8d7759ad-0ca2-41d9-a5e6-3a41f18ce2dc",
   "metadata": {},
   "outputs": [
    {
     "data": {
      "application/vnd.jupyter.widget-view+json": {
       "model_id": "dac65a79c5394b57b47da776cbe53501",
       "version_major": 2,
       "version_minor": 0
      },
      "text/plain": [
       "Batches:   0%|          | 0/773 [00:00<?, ?it/s]"
      ]
     },
     "metadata": {},
     "output_type": "display_data"
    },
    {
     "data": {
      "application/vnd.jupyter.widget-view+json": {
       "model_id": "",
       "version_major": 2,
       "version_minor": 0
      },
      "text/plain": [
       "Map:   0%|          | 0/60 [00:00<?, ? examples/s]"
      ]
     },
     "metadata": {},
     "output_type": "display_data"
    },
    {
     "data": {
      "application/vnd.jupyter.widget-view+json": {
       "model_id": "",
       "version_major": 2,
       "version_minor": 0
      },
      "text/plain": [
       "Map:   0%|          | 0/60 [00:00<?, ? examples/s]"
      ]
     },
     "metadata": {},
     "output_type": "display_data"
    },
    {
     "data": {
      "application/vnd.jupyter.widget-view+json": {
       "model_id": "",
       "version_major": 2,
       "version_minor": 0
      },
      "text/plain": [
       "Saving the dataset (0/1 shards):   0%|          | 0/60 [00:00<?, ? examples/s]"
      ]
     },
     "metadata": {},
     "output_type": "display_data"
    }
   ],
   "source": [
    "pred_validation = rr.rerank_batch(candidates['validation'], ce_dataset['validation'])\n",
    "pred_validation.save_to_disk('../data/pred_validation')"
   ]
  },
  {
   "cell_type": "code",
   "execution_count": 21,
   "id": "926bf4d8-eb13-4990-83ed-bdf137fdee5e",
   "metadata": {},
   "outputs": [
    {
     "data": {
      "text/plain": [
       "{'strict': {'precision': 0.69558599695586,\n",
       "  'recall': 0.5912031047865459,\n",
       "  'fscore': 0.6391608391608392,\n",
       "  'ptp': 457,\n",
       "  'fp': 200,\n",
       "  'rtp': 457,\n",
       "  'fn': 316,\n",
       "  'n_docs_system': 60,\n",
       "  'n_annos_system': 657,\n",
       "  'n_docs_gold': 60,\n",
       "  'n_annos_gold': 773}}"
      ]
     },
     "execution_count": 21,
     "metadata": {},
     "output_type": "execute_result"
    }
   ],
   "source": [
    "evaluate(dataset['validation'], pred_validation)"
   ]
  },
  {
   "cell_type": "code",
   "execution_count": 20,
   "id": "df1f2c13-25bf-4778-b261-d2ff0c0bf20b",
   "metadata": {},
   "outputs": [
    {
     "data": {
      "application/vnd.jupyter.widget-view+json": {
       "model_id": "6b56c5b80d3249ceb53b8b9a0bb2ae14",
       "version_major": 2,
       "version_minor": 0
      },
      "text/plain": [
       "Batches:   0%|          | 0/773 [00:00<?, ?it/s]"
      ]
     },
     "metadata": {},
     "output_type": "display_data"
    },
    {
     "data": {
      "application/vnd.jupyter.widget-view+json": {
       "model_id": "",
       "version_major": 2,
       "version_minor": 0
      },
      "text/plain": [
       "Map:   0%|          | 0/60 [00:00<?, ? examples/s]"
      ]
     },
     "metadata": {},
     "output_type": "display_data"
    },
    {
     "data": {
      "application/vnd.jupyter.widget-view+json": {
       "model_id": "",
       "version_major": 2,
       "version_minor": 0
      },
      "text/plain": [
       "Map:   0%|          | 0/60 [00:00<?, ? examples/s]"
      ]
     },
     "metadata": {},
     "output_type": "display_data"
    },
    {
     "data": {
      "application/vnd.jupyter.widget-view+json": {
       "model_id": "",
       "version_major": 2,
       "version_minor": 0
      },
      "text/plain": [
       "Saving the dataset (0/1 shards):   0%|          | 0/60 [00:00<?, ? examples/s]"
      ]
     },
     "metadata": {},
     "output_type": "display_data"
    }
   ],
   "source": [
    "pred_validation_no_nil = rr.rerank_batch(candidates['validation'], ce_dataset['validation'], allow_nil=False)\n",
    "pred_validation_no_nil.save_to_disk('../data/pred_validation_no_nil')"
   ]
  },
  {
   "cell_type": "code",
   "execution_count": 22,
   "id": "b6fba581-ff32-4027-8af9-47b78d091120",
   "metadata": {},
   "outputs": [
    {
     "data": {
      "text/plain": [
       "{'strict': {'precision': 0.6093143596377749,\n",
       "  'recall': 0.6093143596377749,\n",
       "  'fscore': 0.6093143596377749,\n",
       "  'ptp': 471,\n",
       "  'fp': 302,\n",
       "  'rtp': 471,\n",
       "  'fn': 302,\n",
       "  'n_docs_system': 60,\n",
       "  'n_annos_system': 773,\n",
       "  'n_docs_gold': 60,\n",
       "  'n_annos_gold': 773}}"
      ]
     },
     "execution_count": 22,
     "metadata": {},
     "output_type": "execute_result"
    }
   ],
   "source": [
    "evaluate(dataset['validation'], pred_validation_no_nil)"
   ]
  },
  {
   "cell_type": "code",
   "execution_count": 23,
   "id": "a3cccbb1-b4ac-4ac2-9123-404bf63b0c2f",
   "metadata": {},
   "outputs": [
    {
     "data": {
      "application/vnd.jupyter.widget-view+json": {
       "model_id": "8d717a6864684660aebb5c5e957b5e80",
       "version_major": 2,
       "version_minor": 0
      },
      "text/plain": [
       "Batches:   0%|          | 0/3104 [00:00<?, ?it/s]"
      ]
     },
     "metadata": {},
     "output_type": "display_data"
    },
    {
     "data": {
      "application/vnd.jupyter.widget-view+json": {
       "model_id": "",
       "version_major": 2,
       "version_minor": 0
      },
      "text/plain": [
       "Map:   0%|          | 0/247 [00:00<?, ? examples/s]"
      ]
     },
     "metadata": {},
     "output_type": "display_data"
    },
    {
     "data": {
      "application/vnd.jupyter.widget-view+json": {
       "model_id": "",
       "version_major": 2,
       "version_minor": 0
      },
      "text/plain": [
       "Map:   0%|          | 0/247 [00:00<?, ? examples/s]"
      ]
     },
     "metadata": {},
     "output_type": "display_data"
    },
    {
     "data": {
      "application/vnd.jupyter.widget-view+json": {
       "model_id": "",
       "version_major": 2,
       "version_minor": 0
      },
      "text/plain": [
       "Saving the dataset (0/1 shards):   0%|          | 0/247 [00:00<?, ? examples/s]"
      ]
     },
     "metadata": {},
     "output_type": "display_data"
    }
   ],
   "source": [
    "pred_test = rr.rerank_batch(candidates['test'], ce_dataset['test'])\n",
    "pred_test.save_to_disk('../data/pred_test')"
   ]
  },
  {
   "cell_type": "code",
   "execution_count": 24,
   "id": "b76dae6f-5f44-4779-a5f6-fda44a75a426",
   "metadata": {},
   "outputs": [
    {
     "data": {
      "application/vnd.jupyter.widget-view+json": {
       "model_id": "f61b615751e246088eef58a2b3400def",
       "version_major": 2,
       "version_minor": 0
      },
      "text/plain": [
       "Batches:   0%|          | 0/3104 [00:00<?, ?it/s]"
      ]
     },
     "metadata": {},
     "output_type": "display_data"
    },
    {
     "data": {
      "application/vnd.jupyter.widget-view+json": {
       "model_id": "",
       "version_major": 2,
       "version_minor": 0
      },
      "text/plain": [
       "Map:   0%|          | 0/247 [00:00<?, ? examples/s]"
      ]
     },
     "metadata": {},
     "output_type": "display_data"
    },
    {
     "data": {
      "application/vnd.jupyter.widget-view+json": {
       "model_id": "",
       "version_major": 2,
       "version_minor": 0
      },
      "text/plain": [
       "Map:   0%|          | 0/247 [00:00<?, ? examples/s]"
      ]
     },
     "metadata": {},
     "output_type": "display_data"
    },
    {
     "data": {
      "application/vnd.jupyter.widget-view+json": {
       "model_id": "",
       "version_major": 2,
       "version_minor": 0
      },
      "text/plain": [
       "Saving the dataset (0/1 shards):   0%|          | 0/247 [00:00<?, ? examples/s]"
      ]
     },
     "metadata": {},
     "output_type": "display_data"
    }
   ],
   "source": [
    "pred_test_no_nil = rr.rerank_batch(candidates['test'], ce_dataset['test'], allow_nil=False)\n",
    "pred_test_no_nil.save_to_disk('../data/pred_test_no_nil')"
   ]
  },
  {
   "cell_type": "markdown",
   "id": "75a5b652-7ab3-4b88-aead-89fa2633e489",
   "metadata": {},
   "source": [
    "# Post-Processing"
   ]
  },
  {
   "cell_type": "code",
   "execution_count": 25,
   "id": "0822a3e2-5fe6-4c29-a451-73478d27edbf",
   "metadata": {},
   "outputs": [
    {
     "data": {
      "text/plain": [
       "text\n",
       "5HIAA en orina de 24 horas estaba dentro de los parámetros normales    171250001\n",
       "A nivel analítico no presentaba alteración                             166315009\n",
       "ALT y AST mayores de 20 veces el valor normal                          707724006\n",
       "ALT y AST menos de 3 veces el valor normal                             166642001\n",
       "AMA (Anticuerpos antimitocondriales) negativos                         310293008\n",
       "                                                                         ...    \n",
       "éxitus                                                                 419099009\n",
       "íleon por engrosamiento parietal                                       312895004\n",
       "íleon terminal una mucosa extremadamente irregular                     312895004\n",
       "óbito                                                                  419099009\n",
       "β-HCG normal                                                            33809001\n",
       "Name: norm, Length: 1985, dtype: object"
      ]
     },
     "execution_count": 25,
     "metadata": {},
     "output_type": "execute_result"
    }
   ],
   "source": [
    "str2cui = []\n",
    "for d in dataset['train']['entities']:\n",
    "    for e in d:\n",
    "        str2cui.append({'text' : ' '.join(e['text']), 'norm' : e['normalized'][0]['db_id']})\n",
    "str2cui = pd.DataFrame(str2cui)\n",
    "str2norm = str2cui.groupby('text').agg(set).norm\n",
    "\n",
    "str2cui_list = str2cui.groupby('text').agg(list).norm\n",
    "\n",
    "lookup = str2cui_list[str2cui_list.map(len) > 1].map(lambda l: l[0])\n",
    "lookup = str2norm.map(lambda s: list(s)[0])\n",
    "\n",
    "lookup"
   ]
  },
  {
   "cell_type": "code",
   "execution_count": 26,
   "id": "894ae7b7-3a01-447c-ade9-1f89fd8472de",
   "metadata": {},
   "outputs": [
    {
     "data": {
      "text/plain": [
       "Series([], Name: norm, dtype: object)"
      ]
     },
     "execution_count": 26,
     "metadata": {},
     "output_type": "execute_result"
    }
   ],
   "source": [
    "# Mapping is unique\n",
    "str2norm[str2norm.map(len) != 1]"
   ]
  },
  {
   "cell_type": "code",
   "execution_count": 27,
   "id": "5bb112e4-1aef-466b-99ec-6593e398d2b6",
   "metadata": {},
   "outputs": [],
   "source": [
    "def transform_lookup(sample):\n",
    "    entities = sample['entities'].copy()\n",
    "    for e in entities:\n",
    "        t = ' '.join(e['text'])\n",
    "        if t in lookup.index:\n",
    "            train_cui = lookup.loc[t]\n",
    "            norm = e['normalized']\n",
    "            entry = {'db_name': 'SNOMED_CT', 'db_id': train_cui, 'score' : 1.0, 'predicted_by' : ['lookup']}\n",
    "            norm.insert(0, entry)\n",
    "    return { 'entities' : entities }"
   ]
  },
  {
   "cell_type": "code",
   "execution_count": 30,
   "id": "ebd62cf0-0a33-4a52-9d22-7729a58c47d7",
   "metadata": {},
   "outputs": [],
   "source": [
    "from xmen.data import filter_and_apply_threshold\n",
    "\n",
    "def get_all_predictions(pred, pred_no_nil):\n",
    "    pred = pred.map(transform_lookup)\n",
    "    pred_no_nil = pred_no_nil.map(transform_lookup)\n",
    "    \n",
    "    pred_02 = filter_and_apply_threshold(pred, k=64, threshold=0.02)\n",
    "    pred_no_nil_02 = filter_and_apply_threshold(pred_no_nil, k=64, threshold=0.02)\n",
    "    \n",
    "    return {\n",
    "        'xmen' : pred,\n",
    "        'xmen_no_nil': pred_no_nil,\n",
    "        'xmen_02': pred_02,\n",
    "        'xmen_no_nil_02' : pred_no_nil_02\n",
    "    }"
   ]
  },
  {
   "cell_type": "code",
   "execution_count": 32,
   "id": "59c27582-8647-458e-adf3-5ce220cbcae8",
   "metadata": {},
   "outputs": [
    {
     "name": "stderr",
     "output_type": "stream",
     "text": [
      "Loading cached processed dataset at /mnt/nfs/home/Florian.Borchert/workspace/symptemist_biocreative_2023/data/candidates/validation/cache-be7bfafbf6fb8015.arrow\n",
      "Loading cached processed dataset at /mnt/nfs/home/Florian.Borchert/workspace/symptemist_biocreative_2023/data/candidates/validation/cache-f703e5ffe7edf423.arrow\n"
     ]
    },
    {
     "data": {
      "application/vnd.jupyter.widget-view+json": {
       "model_id": "",
       "version_major": 2,
       "version_minor": 0
      },
      "text/plain": [
       "Map:   0%|          | 0/60 [00:00<?, ? examples/s]"
      ]
     },
     "metadata": {},
     "output_type": "display_data"
    },
    {
     "data": {
      "application/vnd.jupyter.widget-view+json": {
       "model_id": "",
       "version_major": 2,
       "version_minor": 0
      },
      "text/plain": [
       "Map:   0%|          | 0/60 [00:00<?, ? examples/s]"
      ]
     },
     "metadata": {},
     "output_type": "display_data"
    },
    {
     "data": {
      "application/vnd.jupyter.widget-view+json": {
       "model_id": "",
       "version_major": 2,
       "version_minor": 0
      },
      "text/plain": [
       "Map:   0%|          | 0/247 [00:00<?, ? examples/s]"
      ]
     },
     "metadata": {},
     "output_type": "display_data"
    },
    {
     "data": {
      "application/vnd.jupyter.widget-view+json": {
       "model_id": "",
       "version_major": 2,
       "version_minor": 0
      },
      "text/plain": [
       "Map:   0%|          | 0/247 [00:00<?, ? examples/s]"
      ]
     },
     "metadata": {},
     "output_type": "display_data"
    },
    {
     "data": {
      "application/vnd.jupyter.widget-view+json": {
       "model_id": "",
       "version_major": 2,
       "version_minor": 0
      },
      "text/plain": [
       "Map:   0%|          | 0/247 [00:00<?, ? examples/s]"
      ]
     },
     "metadata": {},
     "output_type": "display_data"
    },
    {
     "data": {
      "application/vnd.jupyter.widget-view+json": {
       "model_id": "",
       "version_major": 2,
       "version_minor": 0
      },
      "text/plain": [
       "Map:   0%|          | 0/247 [00:00<?, ? examples/s]"
      ]
     },
     "metadata": {},
     "output_type": "display_data"
    }
   ],
   "source": [
    "results_valid = get_all_predictions(pred_validation, pred_validation_no_nil)\n",
    "results_test = get_all_predictions(pred_test, pred_test_no_nil)"
   ]
  },
  {
   "cell_type": "markdown",
   "id": "8f52b5a4-7424-4cf2-b02e-bd77720c9679",
   "metadata": {},
   "source": [
    "# Create Submission TSV"
   ]
  },
  {
   "cell_type": "code",
   "execution_count": 74,
   "id": "54820a5d-1332-460b-842b-0551d6b0df19",
   "metadata": {},
   "outputs": [],
   "source": [
    "def write_tsv(folder, input_tsv, name, result):\n",
    "    pred_tsv = input_tsv.copy()[['filename', 'label', 'span_ini', 'span_end', 'text']]\n",
    "    ents = {(d['document_id'], e['offsets'][0][0], e['offsets'][0][1]) : e for d in result for e in d['entities']}\n",
    "    \n",
    "    assert len(ents) == len(pred_tsv.drop_duplicates(subset=['filename', 'span_ini', 'span_end'])), (len(ents), len(pred_tsv))\n",
    "    output = pred_tsv.copy()\n",
    "    for idx, pred in pred_tsv.iterrows():\n",
    "        e_idx = (pred['filename'], pred['span_ini'], pred['span_end'])\n",
    "        assert e_idx in ents\n",
    "        norms = ents[e_idx]['normalized']\n",
    "        if len(norms) > 0:\n",
    "            output.loc[idx, 'code'] = norms[0]['db_id']        \n",
    "    out = Path(folder) / name\n",
    "    print('Written to:', out)\n",
    "    output[~output.code.isna()].rename(columns={'span_ini' : 'start_span', 'span_end' : 'end_span'}).to_csv(out, sep='\\t', index=False)"
   ]
  },
  {
   "cell_type": "markdown",
   "id": "82f7d535-25a2-4751-9aaa-a68f2740b862",
   "metadata": {},
   "source": [
    "## Validation Set"
   ]
  },
  {
   "cell_type": "code",
   "execution_count": 50,
   "id": "b6e72993-c1bb-4971-91e0-3cb9a090f391",
   "metadata": {},
   "outputs": [],
   "source": [
    "import pandas as pd\n",
    "train_tsv = pd.read_csv(Path('../data/symptemist-train_all_subtasks+gazetteer+multilingual_230919/symptemist_train/subtask2-linking/symptemist_tsv_train_subtask2.tsv'), sep='\\t')\n",
    "valid_tsv = train_tsv[train_tsv.filename.isin(valid_doc_ids)]\n",
    "valid_tsv.rename(columns={'span_ini' : 'start_span', 'span_end' : 'end_span'}).to_csv('../data/valid_subtask2.tsv', sep='\\t', index=False)"
   ]
  },
  {
   "cell_type": "code",
   "execution_count": 51,
   "id": "238adaf0-4a43-4056-bf5a-30cde0a5eab4",
   "metadata": {},
   "outputs": [
    {
     "data": {
      "text/plain": [
       "773"
      ]
     },
     "execution_count": 51,
     "metadata": {},
     "output_type": "execute_result"
    }
   ],
   "source": [
    "len(valid_tsv)"
   ]
  },
  {
   "cell_type": "code",
   "execution_count": 52,
   "id": "1d2c99d1-a6b0-4b43-a8e3-94e3b79d8ced",
   "metadata": {},
   "outputs": [
    {
     "name": "stdout",
     "output_type": "stream",
     "text": [
      "Written to: submission/validation/xmen.tsv\n",
      "{'strict': {'precision': 0.706766917293233, 'recall': 0.6080206985769728, 'fscore': 0.6536856745479833, 'ptp': 470, 'fp': 195, 'rtp': 470, 'fn': 303, 'n_docs_system': 60, 'n_annos_system': 665, 'n_docs_gold': 60, 'n_annos_gold': 773}}\n",
      "Written to: submission/validation/xmen_no_nil.tsv\n",
      "{'strict': {'precision': 0.6261319534282018, 'recall': 0.6261319534282018, 'fscore': 0.6261319534282018, 'ptp': 484, 'fp': 289, 'rtp': 484, 'fn': 289, 'n_docs_system': 60, 'n_annos_system': 773, 'n_docs_gold': 60, 'n_annos_gold': 773}}\n",
      "Written to: submission/validation/xmen_02.tsv\n",
      "{'strict': {'precision': 0.8924731182795699, 'recall': 0.536869340232859, 'fscore': 0.6704361873990307, 'ptp': 415, 'fp': 50, 'rtp': 415, 'fn': 358, 'n_docs_system': 60, 'n_annos_system': 465, 'n_docs_gold': 60, 'n_annos_gold': 773}}\n",
      "Written to: submission/validation/xmen_no_nil_02.tsv\n",
      "{'strict': {'precision': 0.8919491525423728, 'recall': 0.5446313065976714, 'fscore': 0.6763052208835341, 'ptp': 421, 'fp': 51, 'rtp': 421, 'fn': 352, 'n_docs_system': 60, 'n_annos_system': 472, 'n_docs_gold': 60, 'n_annos_gold': 773}}\n"
     ]
    }
   ],
   "source": [
    "for k, v in results_valid.items():\n",
    "    write_tsv('submission/validation', valid_tsv, k + '.tsv', v)\n",
    "    print(evaluate(dataset['validation'], v))"
   ]
  },
  {
   "cell_type": "markdown",
   "id": "3e0b911a-f1a0-4261-88b0-2a3a8aa3c016",
   "metadata": {},
   "source": [
    "# Test Set"
   ]
  },
  {
   "cell_type": "code",
   "execution_count": 75,
   "id": "61ecfd0c-a8d8-4239-971d-0fa98735fea2",
   "metadata": {},
   "outputs": [],
   "source": [
    "#test_tsv.drop_duplicates(subset=['filename', 'span_ini', 'span_end'])"
   ]
  },
  {
   "cell_type": "code",
   "execution_count": 76,
   "id": "6a544b3a-81d4-4fee-ac7e-e3e5ce8cc3b4",
   "metadata": {},
   "outputs": [
    {
     "data": {
      "text/html": [
       "<div>\n",
       "<style scoped>\n",
       "    .dataframe tbody tr th:only-of-type {\n",
       "        vertical-align: middle;\n",
       "    }\n",
       "\n",
       "    .dataframe tbody tr th {\n",
       "        vertical-align: top;\n",
       "    }\n",
       "\n",
       "    .dataframe thead th {\n",
       "        text-align: right;\n",
       "    }\n",
       "</style>\n",
       "<table border=\"1\" class=\"dataframe\">\n",
       "  <thead>\n",
       "    <tr style=\"text-align: right;\">\n",
       "      <th></th>\n",
       "      <th>filename</th>\n",
       "      <th>label</th>\n",
       "      <th>span_ini</th>\n",
       "      <th>span_end</th>\n",
       "      <th>text</th>\n",
       "      <th>code</th>\n",
       "    </tr>\n",
       "  </thead>\n",
       "  <tbody>\n",
       "    <tr>\n",
       "      <th>0</th>\n",
       "      <td>es-S1138-123X2005000200006-2</td>\n",
       "      <td>SINTOMA</td>\n",
       "      <td>227</td>\n",
       "      <td>257</td>\n",
       "      <td>tensión de los tejidos blandos</td>\n",
       "      <td>NaN</td>\n",
       "    </tr>\n",
       "    <tr>\n",
       "      <th>1</th>\n",
       "      <td>es-S1138-123X2005000200006-2</td>\n",
       "      <td>SINTOMA</td>\n",
       "      <td>579</td>\n",
       "      <td>606</td>\n",
       "      <td>segmentos estaban alineados</td>\n",
       "      <td>NaN</td>\n",
       "    </tr>\n",
       "    <tr>\n",
       "      <th>2</th>\n",
       "      <td>es-S0211-69952011000100019-1</td>\n",
       "      <td>SINTOMA</td>\n",
       "      <td>676</td>\n",
       "      <td>716</td>\n",
       "      <td>normalización de la radiografía de tórax</td>\n",
       "      <td>NaN</td>\n",
       "    </tr>\n",
       "    <tr>\n",
       "      <th>3</th>\n",
       "      <td>es-S0211-69952011000100019-1</td>\n",
       "      <td>SINTOMA</td>\n",
       "      <td>390</td>\n",
       "      <td>411</td>\n",
       "      <td>incomodidad abdominal</td>\n",
       "      <td>NaN</td>\n",
       "    </tr>\n",
       "    <tr>\n",
       "      <th>4</th>\n",
       "      <td>es-S0211-69952011000100019-1</td>\n",
       "      <td>SINTOMA</td>\n",
       "      <td>413</td>\n",
       "      <td>445</td>\n",
       "      <td>dolor pleurítico en el hemitórax</td>\n",
       "      <td>NaN</td>\n",
       "    </tr>\n",
       "    <tr>\n",
       "      <th>...</th>\n",
       "      <td>...</td>\n",
       "      <td>...</td>\n",
       "      <td>...</td>\n",
       "      <td>...</td>\n",
       "      <td>...</td>\n",
       "      <td>...</td>\n",
       "    </tr>\n",
       "    <tr>\n",
       "      <th>3099</th>\n",
       "      <td>es-S0212-16112011000300031-1</td>\n",
       "      <td>SINTOMA</td>\n",
       "      <td>1502</td>\n",
       "      <td>1523</td>\n",
       "      <td>estómago de retención</td>\n",
       "      <td>NaN</td>\n",
       "    </tr>\n",
       "    <tr>\n",
       "      <th>3100</th>\n",
       "      <td>es-S0212-16112011000300031-1</td>\n",
       "      <td>SINTOMA</td>\n",
       "      <td>1527</td>\n",
       "      <td>1559</td>\n",
       "      <td>alteraciones hidroelectrolíticas</td>\n",
       "      <td>NaN</td>\n",
       "    </tr>\n",
       "    <tr>\n",
       "      <th>3101</th>\n",
       "      <td>es-S0212-16112011000300031-1</td>\n",
       "      <td>SINTOMA</td>\n",
       "      <td>2321</td>\n",
       "      <td>2339</td>\n",
       "      <td>hipotonía gástrica</td>\n",
       "      <td>NaN</td>\n",
       "    </tr>\n",
       "    <tr>\n",
       "      <th>3102</th>\n",
       "      <td>es-S0212-16112011000300031-1</td>\n",
       "      <td>SINTOMA</td>\n",
       "      <td>255</td>\n",
       "      <td>332</td>\n",
       "      <td>estudio bioquímico completo, hemograma y funci...</td>\n",
       "      <td>NaN</td>\n",
       "    </tr>\n",
       "    <tr>\n",
       "      <th>3103</th>\n",
       "      <td>es-S0212-16112011000300031-1</td>\n",
       "      <td>SINTOMA</td>\n",
       "      <td>594</td>\n",
       "      <td>695</td>\n",
       "      <td>endoscopia digestiva alta (EDA), anticuerpos a...</td>\n",
       "      <td>NaN</td>\n",
       "    </tr>\n",
       "  </tbody>\n",
       "</table>\n",
       "<p>3104 rows × 6 columns</p>\n",
       "</div>"
      ],
      "text/plain": [
       "                          filename    label  span_ini  span_end  \\\n",
       "0     es-S1138-123X2005000200006-2  SINTOMA       227       257   \n",
       "1     es-S1138-123X2005000200006-2  SINTOMA       579       606   \n",
       "2     es-S0211-69952011000100019-1  SINTOMA       676       716   \n",
       "3     es-S0211-69952011000100019-1  SINTOMA       390       411   \n",
       "4     es-S0211-69952011000100019-1  SINTOMA       413       445   \n",
       "...                            ...      ...       ...       ...   \n",
       "3099  es-S0212-16112011000300031-1  SINTOMA      1502      1523   \n",
       "3100  es-S0212-16112011000300031-1  SINTOMA      1527      1559   \n",
       "3101  es-S0212-16112011000300031-1  SINTOMA      2321      2339   \n",
       "3102  es-S0212-16112011000300031-1  SINTOMA       255       332   \n",
       "3103  es-S0212-16112011000300031-1  SINTOMA       594       695   \n",
       "\n",
       "                                                   text  code  \n",
       "0                        tensión de los tejidos blandos   NaN  \n",
       "1                           segmentos estaban alineados   NaN  \n",
       "2              normalización de la radiografía de tórax   NaN  \n",
       "3                                 incomodidad abdominal   NaN  \n",
       "4                      dolor pleurítico en el hemitórax   NaN  \n",
       "...                                                 ...   ...  \n",
       "3099                              estómago de retención   NaN  \n",
       "3100                   alteraciones hidroelectrolíticas   NaN  \n",
       "3101                                 hipotonía gástrica   NaN  \n",
       "3102  estudio bioquímico completo, hemograma y funci...   NaN  \n",
       "3103  endoscopia digestiva alta (EDA), anticuerpos a...   NaN  \n",
       "\n",
       "[3104 rows x 6 columns]"
      ]
     },
     "execution_count": 76,
     "metadata": {},
     "output_type": "execute_result"
    }
   ],
   "source": [
    "test_tsv = pd.read_csv(Path('../data/symptemist-train_all_subtasks+gazetteer+multilingual+test_all_subtasks+bg_231006/symptemist_test/subtask2-linking/symptemist_tsv_test_subtask2.tsv'), sep='\\t')\n",
    "test_tsv"
   ]
  },
  {
   "cell_type": "code",
   "execution_count": 101,
   "id": "61781071-ed24-47d6-b3a6-dcb0865a408b",
   "metadata": {},
   "outputs": [
    {
     "name": "stdout",
     "output_type": "stream",
     "text": [
      "Written to: submission/test/subtask2-linking/1-xmen.tsv\n",
      "Written to: submission/test/subtask2-linking/2-xmen_no_nil.tsv\n",
      "Written to: submission/test/subtask2-linking/3-xmen_02.tsv\n",
      "Written to: submission/test/subtask2-linking/4-xmen_no_nil_02.tsv\n"
     ]
    }
   ],
   "source": [
    "for i, (k, v) in enumerate(results_test.items()):\n",
    "    write_tsv('submission/test/subtask2-linking', test_tsv, f\"{i+1}-{k}.tsv\", v)"
   ]
  },
  {
   "cell_type": "code",
   "execution_count": 104,
   "id": "8e4d09c6-25b8-488b-b2a8-24f5331f89d7",
   "metadata": {},
   "outputs": [],
   "source": [
    "pxs = [pd.read_csv(f'submission/test/subtask2-linking/{i+1}-{k}.tsv', sep='\\t') for i, k in enumerate(results_test.keys())]"
   ]
  },
  {
   "cell_type": "code",
   "execution_count": 112,
   "id": "c7cb088d-8f6b-468d-a9db-d65c1ca2f29c",
   "metadata": {},
   "outputs": [
    {
     "data": {
      "text/html": [
       "<div>\n",
       "<style scoped>\n",
       "    .dataframe tbody tr th:only-of-type {\n",
       "        vertical-align: middle;\n",
       "    }\n",
       "\n",
       "    .dataframe tbody tr th {\n",
       "        vertical-align: top;\n",
       "    }\n",
       "\n",
       "    .dataframe thead th {\n",
       "        text-align: right;\n",
       "    }\n",
       "</style>\n",
       "<table border=\"1\" class=\"dataframe\">\n",
       "  <thead>\n",
       "    <tr style=\"text-align: right;\">\n",
       "      <th></th>\n",
       "      <th>filename</th>\n",
       "      <th>label</th>\n",
       "      <th>start_span</th>\n",
       "      <th>end_span</th>\n",
       "      <th>text</th>\n",
       "      <th>code</th>\n",
       "    </tr>\n",
       "  </thead>\n",
       "  <tbody>\n",
       "    <tr>\n",
       "      <th>0</th>\n",
       "      <td>es-S1138-123X2005000200006-2</td>\n",
       "      <td>SINTOMA</td>\n",
       "      <td>227</td>\n",
       "      <td>257</td>\n",
       "      <td>tensión de los tejidos blandos</td>\n",
       "      <td>416809004</td>\n",
       "    </tr>\n",
       "    <tr>\n",
       "      <th>1</th>\n",
       "      <td>es-S0211-69952011000100019-1</td>\n",
       "      <td>SINTOMA</td>\n",
       "      <td>676</td>\n",
       "      <td>716</td>\n",
       "      <td>normalización de la radiografía de tórax</td>\n",
       "      <td>168733007</td>\n",
       "    </tr>\n",
       "    <tr>\n",
       "      <th>2</th>\n",
       "      <td>es-S0211-69952011000100019-1</td>\n",
       "      <td>SINTOMA</td>\n",
       "      <td>390</td>\n",
       "      <td>411</td>\n",
       "      <td>incomodidad abdominal</td>\n",
       "      <td>43364001</td>\n",
       "    </tr>\n",
       "    <tr>\n",
       "      <th>3</th>\n",
       "      <td>es-S0211-69952011000100019-1</td>\n",
       "      <td>SINTOMA</td>\n",
       "      <td>413</td>\n",
       "      <td>445</td>\n",
       "      <td>dolor pleurítico en el hemitórax</td>\n",
       "      <td>2237002</td>\n",
       "    </tr>\n",
       "    <tr>\n",
       "      <th>4</th>\n",
       "      <td>es-S0211-69952011000100019-1</td>\n",
       "      <td>SINTOMA</td>\n",
       "      <td>1576</td>\n",
       "      <td>1584</td>\n",
       "      <td>falleció</td>\n",
       "      <td>419099009</td>\n",
       "    </tr>\n",
       "    <tr>\n",
       "      <th>...</th>\n",
       "      <td>...</td>\n",
       "      <td>...</td>\n",
       "      <td>...</td>\n",
       "      <td>...</td>\n",
       "      <td>...</td>\n",
       "      <td>...</td>\n",
       "    </tr>\n",
       "    <tr>\n",
       "      <th>2636</th>\n",
       "      <td>es-S0212-16112011000300031-1</td>\n",
       "      <td>SINTOMA</td>\n",
       "      <td>1502</td>\n",
       "      <td>1523</td>\n",
       "      <td>estómago de retención</td>\n",
       "      <td>307227006</td>\n",
       "    </tr>\n",
       "    <tr>\n",
       "      <th>2637</th>\n",
       "      <td>es-S0212-16112011000300031-1</td>\n",
       "      <td>SINTOMA</td>\n",
       "      <td>1527</td>\n",
       "      <td>1559</td>\n",
       "      <td>alteraciones hidroelectrolíticas</td>\n",
       "      <td>76314005</td>\n",
       "    </tr>\n",
       "    <tr>\n",
       "      <th>2638</th>\n",
       "      <td>es-S0212-16112011000300031-1</td>\n",
       "      <td>SINTOMA</td>\n",
       "      <td>2321</td>\n",
       "      <td>2339</td>\n",
       "      <td>hipotonía gástrica</td>\n",
       "      <td>46218001</td>\n",
       "    </tr>\n",
       "    <tr>\n",
       "      <th>2639</th>\n",
       "      <td>es-S0212-16112011000300031-1</td>\n",
       "      <td>SINTOMA</td>\n",
       "      <td>255</td>\n",
       "      <td>332</td>\n",
       "      <td>estudio bioquímico completo, hemograma y funci...</td>\n",
       "      <td>312397004</td>\n",
       "    </tr>\n",
       "    <tr>\n",
       "      <th>2640</th>\n",
       "      <td>es-S0212-16112011000300031-1</td>\n",
       "      <td>SINTOMA</td>\n",
       "      <td>594</td>\n",
       "      <td>695</td>\n",
       "      <td>endoscopia digestiva alta (EDA), anticuerpos a...</td>\n",
       "      <td>163132008</td>\n",
       "    </tr>\n",
       "  </tbody>\n",
       "</table>\n",
       "<p>2641 rows × 6 columns</p>\n",
       "</div>"
      ],
      "text/plain": [
       "                          filename    label  start_span  end_span  \\\n",
       "0     es-S1138-123X2005000200006-2  SINTOMA         227       257   \n",
       "1     es-S0211-69952011000100019-1  SINTOMA         676       716   \n",
       "2     es-S0211-69952011000100019-1  SINTOMA         390       411   \n",
       "3     es-S0211-69952011000100019-1  SINTOMA         413       445   \n",
       "4     es-S0211-69952011000100019-1  SINTOMA        1576      1584   \n",
       "...                            ...      ...         ...       ...   \n",
       "2636  es-S0212-16112011000300031-1  SINTOMA        1502      1523   \n",
       "2637  es-S0212-16112011000300031-1  SINTOMA        1527      1559   \n",
       "2638  es-S0212-16112011000300031-1  SINTOMA        2321      2339   \n",
       "2639  es-S0212-16112011000300031-1  SINTOMA         255       332   \n",
       "2640  es-S0212-16112011000300031-1  SINTOMA         594       695   \n",
       "\n",
       "                                                   text       code  \n",
       "0                        tensión de los tejidos blandos  416809004  \n",
       "1              normalización de la radiografía de tórax  168733007  \n",
       "2                                 incomodidad abdominal   43364001  \n",
       "3                      dolor pleurítico en el hemitórax    2237002  \n",
       "4                                              falleció  419099009  \n",
       "...                                                 ...        ...  \n",
       "2636                              estómago de retención  307227006  \n",
       "2637                   alteraciones hidroelectrolíticas   76314005  \n",
       "2638                                 hipotonía gástrica   46218001  \n",
       "2639  estudio bioquímico completo, hemograma y funci...  312397004  \n",
       "2640  endoscopia digestiva alta (EDA), anticuerpos a...  163132008  \n",
       "\n",
       "[2641 rows x 6 columns]"
      ]
     },
     "execution_count": 112,
     "metadata": {},
     "output_type": "execute_result"
    }
   ],
   "source": [
    "pxs[0]"
   ]
  },
  {
   "cell_type": "code",
   "execution_count": 111,
   "id": "36c4a687-aaf5-4d14-8cb7-6d48e3398e08",
   "metadata": {},
   "outputs": [
    {
     "data": {
      "text/html": [
       "<div>\n",
       "<style scoped>\n",
       "    .dataframe tbody tr th:only-of-type {\n",
       "        vertical-align: middle;\n",
       "    }\n",
       "\n",
       "    .dataframe tbody tr th {\n",
       "        vertical-align: top;\n",
       "    }\n",
       "\n",
       "    .dataframe thead th {\n",
       "        text-align: right;\n",
       "    }\n",
       "</style>\n",
       "<table border=\"1\" class=\"dataframe\">\n",
       "  <thead>\n",
       "    <tr style=\"text-align: right;\">\n",
       "      <th></th>\n",
       "      <th>filename</th>\n",
       "      <th>label</th>\n",
       "      <th>start_span</th>\n",
       "      <th>end_span</th>\n",
       "      <th>text</th>\n",
       "      <th>code</th>\n",
       "    </tr>\n",
       "  </thead>\n",
       "  <tbody>\n",
       "    <tr>\n",
       "      <th>0</th>\n",
       "      <td>es-S1138-123X2005000200006-2</td>\n",
       "      <td>SINTOMA</td>\n",
       "      <td>227</td>\n",
       "      <td>257</td>\n",
       "      <td>tensión de los tejidos blandos</td>\n",
       "      <td>416809004</td>\n",
       "    </tr>\n",
       "    <tr>\n",
       "      <th>1</th>\n",
       "      <td>es-S1138-123X2005000200006-2</td>\n",
       "      <td>SINTOMA</td>\n",
       "      <td>579</td>\n",
       "      <td>606</td>\n",
       "      <td>segmentos estaban alineados</td>\n",
       "      <td>251256007</td>\n",
       "    </tr>\n",
       "    <tr>\n",
       "      <th>2</th>\n",
       "      <td>es-S0211-69952011000100019-1</td>\n",
       "      <td>SINTOMA</td>\n",
       "      <td>676</td>\n",
       "      <td>716</td>\n",
       "      <td>normalización de la radiografía de tórax</td>\n",
       "      <td>168733007</td>\n",
       "    </tr>\n",
       "    <tr>\n",
       "      <th>3</th>\n",
       "      <td>es-S0211-69952011000100019-1</td>\n",
       "      <td>SINTOMA</td>\n",
       "      <td>390</td>\n",
       "      <td>411</td>\n",
       "      <td>incomodidad abdominal</td>\n",
       "      <td>43364001</td>\n",
       "    </tr>\n",
       "    <tr>\n",
       "      <th>4</th>\n",
       "      <td>es-S0211-69952011000100019-1</td>\n",
       "      <td>SINTOMA</td>\n",
       "      <td>413</td>\n",
       "      <td>445</td>\n",
       "      <td>dolor pleurítico en el hemitórax</td>\n",
       "      <td>2237002</td>\n",
       "    </tr>\n",
       "    <tr>\n",
       "      <th>...</th>\n",
       "      <td>...</td>\n",
       "      <td>...</td>\n",
       "      <td>...</td>\n",
       "      <td>...</td>\n",
       "      <td>...</td>\n",
       "      <td>...</td>\n",
       "    </tr>\n",
       "    <tr>\n",
       "      <th>3099</th>\n",
       "      <td>es-S0212-16112011000300031-1</td>\n",
       "      <td>SINTOMA</td>\n",
       "      <td>1502</td>\n",
       "      <td>1523</td>\n",
       "      <td>estómago de retención</td>\n",
       "      <td>307227006</td>\n",
       "    </tr>\n",
       "    <tr>\n",
       "      <th>3100</th>\n",
       "      <td>es-S0212-16112011000300031-1</td>\n",
       "      <td>SINTOMA</td>\n",
       "      <td>1527</td>\n",
       "      <td>1559</td>\n",
       "      <td>alteraciones hidroelectrolíticas</td>\n",
       "      <td>76314005</td>\n",
       "    </tr>\n",
       "    <tr>\n",
       "      <th>3101</th>\n",
       "      <td>es-S0212-16112011000300031-1</td>\n",
       "      <td>SINTOMA</td>\n",
       "      <td>2321</td>\n",
       "      <td>2339</td>\n",
       "      <td>hipotonía gástrica</td>\n",
       "      <td>46218001</td>\n",
       "    </tr>\n",
       "    <tr>\n",
       "      <th>3102</th>\n",
       "      <td>es-S0212-16112011000300031-1</td>\n",
       "      <td>SINTOMA</td>\n",
       "      <td>255</td>\n",
       "      <td>332</td>\n",
       "      <td>estudio bioquímico completo, hemograma y funci...</td>\n",
       "      <td>312397004</td>\n",
       "    </tr>\n",
       "    <tr>\n",
       "      <th>3103</th>\n",
       "      <td>es-S0212-16112011000300031-1</td>\n",
       "      <td>SINTOMA</td>\n",
       "      <td>594</td>\n",
       "      <td>695</td>\n",
       "      <td>endoscopia digestiva alta (EDA), anticuerpos a...</td>\n",
       "      <td>163132008</td>\n",
       "    </tr>\n",
       "  </tbody>\n",
       "</table>\n",
       "<p>3104 rows × 6 columns</p>\n",
       "</div>"
      ],
      "text/plain": [
       "                          filename    label  start_span  end_span  \\\n",
       "0     es-S1138-123X2005000200006-2  SINTOMA         227       257   \n",
       "1     es-S1138-123X2005000200006-2  SINTOMA         579       606   \n",
       "2     es-S0211-69952011000100019-1  SINTOMA         676       716   \n",
       "3     es-S0211-69952011000100019-1  SINTOMA         390       411   \n",
       "4     es-S0211-69952011000100019-1  SINTOMA         413       445   \n",
       "...                            ...      ...         ...       ...   \n",
       "3099  es-S0212-16112011000300031-1  SINTOMA        1502      1523   \n",
       "3100  es-S0212-16112011000300031-1  SINTOMA        1527      1559   \n",
       "3101  es-S0212-16112011000300031-1  SINTOMA        2321      2339   \n",
       "3102  es-S0212-16112011000300031-1  SINTOMA         255       332   \n",
       "3103  es-S0212-16112011000300031-1  SINTOMA         594       695   \n",
       "\n",
       "                                                   text       code  \n",
       "0                        tensión de los tejidos blandos  416809004  \n",
       "1                           segmentos estaban alineados  251256007  \n",
       "2              normalización de la radiografía de tórax  168733007  \n",
       "3                                 incomodidad abdominal   43364001  \n",
       "4                      dolor pleurítico en el hemitórax    2237002  \n",
       "...                                                 ...        ...  \n",
       "3099                              estómago de retención  307227006  \n",
       "3100                   alteraciones hidroelectrolíticas   76314005  \n",
       "3101                                 hipotonía gástrica   46218001  \n",
       "3102  estudio bioquímico completo, hemograma y funci...  312397004  \n",
       "3103  endoscopia digestiva alta (EDA), anticuerpos a...  163132008  \n",
       "\n",
       "[3104 rows x 6 columns]"
      ]
     },
     "execution_count": 111,
     "metadata": {},
     "output_type": "execute_result"
    }
   ],
   "source": [
    "pxs[1]"
   ]
  },
  {
   "cell_type": "code",
   "execution_count": 134,
   "id": "c2ee10d1-629f-47c2-b4e0-503f042bb5ff",
   "metadata": {},
   "outputs": [
    {
     "name": "stdout",
     "output_type": "stream",
     "text": [
      "huggingface/tokenizers: The current process just got forked, after parallelism has already been used. Disabling parallelism to avoid deadlocks...\n",
      "To disable this warning, you can either:\n",
      "\t- Avoid using `tokenizers` before the fork if possible\n",
      "\t- Explicitly set the environment variable TOKENIZERS_PARALLELISM=(true | false)\n",
      "  adding: subtask2-linking/ (stored 0%)\n",
      "  adding: subtask2-linking/1-xmen.tsv (deflated 73%)\n",
      "  adding: subtask2-linking/2-xmen_no_nil.tsv (deflated 72%)\n",
      "  adding: subtask2-linking/3-xmen_02.tsv (deflated 75%)\n",
      "  adding: subtask2-linking/4-xmen_no_nil_02.tsv (deflated 75%)\n",
      "  adding: README.txt (deflated 45%)\n"
     ]
    }
   ],
   "source": [
    "!cd submission/test; zip -r ../symptemist_HPI-DHC_subtask2_20231009.zip . -x \"**/.*\" -x \".*\""
   ]
  },
  {
   "cell_type": "code",
   "execution_count": 115,
   "id": "c1baf5b5-1493-4368-bee5-dc640e5b5afa",
   "metadata": {},
   "outputs": [],
   "source": [
    "train_preds = pd.read_csv('../data/subtask1-ner/1-1e5_best_withcontext.tsv', sep='\\t')"
   ]
  },
  {
   "cell_type": "code",
   "execution_count": 123,
   "id": "e0b6487f-2e4d-470d-b79f-d561fb0b0ddf",
   "metadata": {},
   "outputs": [
    {
     "data": {
      "text/html": [
       "<div>\n",
       "<style scoped>\n",
       "    .dataframe tbody tr th:only-of-type {\n",
       "        vertical-align: middle;\n",
       "    }\n",
       "\n",
       "    .dataframe tbody tr th {\n",
       "        vertical-align: top;\n",
       "    }\n",
       "\n",
       "    .dataframe thead th {\n",
       "        text-align: right;\n",
       "    }\n",
       "</style>\n",
       "<table border=\"1\" class=\"dataframe\">\n",
       "  <thead>\n",
       "    <tr style=\"text-align: right;\">\n",
       "      <th></th>\n",
       "      <th>filename</th>\n",
       "      <th>label</th>\n",
       "      <th>start_span</th>\n",
       "      <th>end_span</th>\n",
       "      <th>text</th>\n",
       "    </tr>\n",
       "  </thead>\n",
       "  <tbody>\n",
       "    <tr>\n",
       "      <th>0</th>\n",
       "      <td>es-S0365-66912012000500003-1</td>\n",
       "      <td>SINTOMA</td>\n",
       "      <td>133</td>\n",
       "      <td>145</td>\n",
       "      <td>dolor ocular</td>\n",
       "    </tr>\n",
       "    <tr>\n",
       "      <th>1</th>\n",
       "      <td>es-S0365-66912012000500003-1</td>\n",
       "      <td>SINTOMA</td>\n",
       "      <td>148</td>\n",
       "      <td>202</td>\n",
       "      <td>disminución progresiva de agudeza visual en am...</td>\n",
       "    </tr>\n",
       "    <tr>\n",
       "      <th>2</th>\n",
       "      <td>es-S0365-66912012000500003-1</td>\n",
       "      <td>SINTOMA</td>\n",
       "      <td>598</td>\n",
       "      <td>640</td>\n",
       "      <td>hemorragia en astilla peripapilar inferior</td>\n",
       "    </tr>\n",
       "    <tr>\n",
       "      <th>3</th>\n",
       "      <td>es-S0365-66912012000500003-1</td>\n",
       "      <td>SINTOMA</td>\n",
       "      <td>642</td>\n",
       "      <td>688</td>\n",
       "      <td>pliegues retinocoroideos temporales superiores</td>\n",
       "    </tr>\n",
       "    <tr>\n",
       "      <th>4</th>\n",
       "      <td>es-S0365-66912012000500003-1</td>\n",
       "      <td>SINTOMA</td>\n",
       "      <td>691</td>\n",
       "      <td>709</td>\n",
       "      <td>exudados lipídicos</td>\n",
       "    </tr>\n",
       "    <tr>\n",
       "      <th>5</th>\n",
       "      <td>es-S0365-66912012000500003-1</td>\n",
       "      <td>SINTOMA</td>\n",
       "      <td>718</td>\n",
       "      <td>733</td>\n",
       "      <td>retina aplicada</td>\n",
       "    </tr>\n",
       "    <tr>\n",
       "      <th>6</th>\n",
       "      <td>es-S0365-66912012000500003-1</td>\n",
       "      <td>SINTOMA</td>\n",
       "      <td>790</td>\n",
       "      <td>819</td>\n",
       "      <td>engrosamiento escleral difuso</td>\n",
       "    </tr>\n",
       "    <tr>\n",
       "      <th>7</th>\n",
       "      <td>es-S0365-66912012000500003-1</td>\n",
       "      <td>SINTOMA</td>\n",
       "      <td>830</td>\n",
       "      <td>859</td>\n",
       "      <td>fluido en la cápsula de Tenon</td>\n",
       "    </tr>\n",
       "    <tr>\n",
       "      <th>8</th>\n",
       "      <td>es-S0365-66912012000500003-1</td>\n",
       "      <td>SINTOMA</td>\n",
       "      <td>885</td>\n",
       "      <td>899</td>\n",
       "      <td>signo «de la T</td>\n",
       "    </tr>\n",
       "    <tr>\n",
       "      <th>9</th>\n",
       "      <td>es-S0365-66912012000500003-1</td>\n",
       "      <td>SINTOMA</td>\n",
       "      <td>1693</td>\n",
       "      <td>1705</td>\n",
       "      <td>dolor ocular</td>\n",
       "    </tr>\n",
       "    <tr>\n",
       "      <th>10</th>\n",
       "      <td>es-S0365-66912012000500003-1</td>\n",
       "      <td>SINTOMA</td>\n",
       "      <td>1708</td>\n",
       "      <td>1736</td>\n",
       "      <td>enrojecimiento de ambos ojos</td>\n",
       "    </tr>\n",
       "    <tr>\n",
       "      <th>11</th>\n",
       "      <td>es-S0365-66912012000500003-1</td>\n",
       "      <td>SINTOMA</td>\n",
       "      <td>1908</td>\n",
       "      <td>1930</td>\n",
       "      <td>actividad inflamatoria</td>\n",
       "    </tr>\n",
       "    <tr>\n",
       "      <th>12</th>\n",
       "      <td>es-S0365-66912012000500003-1</td>\n",
       "      <td>SINTOMA</td>\n",
       "      <td>1980</td>\n",
       "      <td>2034</td>\n",
       "      <td>pliegues a nivel de la retina interna/EPR/cori...</td>\n",
       "    </tr>\n",
       "    <tr>\n",
       "      <th>13</th>\n",
       "      <td>es-S0365-66912012000500003-1</td>\n",
       "      <td>SINTOMA</td>\n",
       "      <td>2180</td>\n",
       "      <td>2205</td>\n",
       "      <td>situación clínica estable</td>\n",
       "    </tr>\n",
       "    <tr>\n",
       "      <th>14</th>\n",
       "      <td>es-S0365-66912012000500003-1</td>\n",
       "      <td>SINTOMA</td>\n",
       "      <td>2502</td>\n",
       "      <td>2509</td>\n",
       "      <td>estable</td>\n",
       "    </tr>\n",
       "    <tr>\n",
       "      <th>15</th>\n",
       "      <td>es-S0365-66912012000500003-1</td>\n",
       "      <td>SINTOMA</td>\n",
       "      <td>2531</td>\n",
       "      <td>2551</td>\n",
       "      <td>signos inflamatorios</td>\n",
       "    </tr>\n",
       "    <tr>\n",
       "      <th>16</th>\n",
       "      <td>es-S0210-48062009000600012-1</td>\n",
       "      <td>SINTOMA</td>\n",
       "      <td>391</td>\n",
       "      <td>430</td>\n",
       "      <td>controles de test del aliento negativos</td>\n",
       "    </tr>\n",
       "    <tr>\n",
       "      <th>17</th>\n",
       "      <td>es-S0210-48062009000600012-1</td>\n",
       "      <td>SINTOMA</td>\n",
       "      <td>535</td>\n",
       "      <td>554</td>\n",
       "      <td>síndrome prostático</td>\n",
       "    </tr>\n",
       "    <tr>\n",
       "      <th>18</th>\n",
       "      <td>es-S0210-48062009000600012-1</td>\n",
       "      <td>SINTOMA</td>\n",
       "      <td>936</td>\n",
       "      <td>945</td>\n",
       "      <td>fallecido</td>\n",
       "    </tr>\n",
       "    <tr>\n",
       "      <th>19</th>\n",
       "      <td>es-S0210-48062009000600012-1</td>\n",
       "      <td>SINTOMA</td>\n",
       "      <td>1016</td>\n",
       "      <td>1041</td>\n",
       "      <td>sintomatología prostática</td>\n",
       "    </tr>\n",
       "  </tbody>\n",
       "</table>\n",
       "</div>"
      ],
      "text/plain": [
       "                        filename    label  start_span  end_span  \\\n",
       "0   es-S0365-66912012000500003-1  SINTOMA         133       145   \n",
       "1   es-S0365-66912012000500003-1  SINTOMA         148       202   \n",
       "2   es-S0365-66912012000500003-1  SINTOMA         598       640   \n",
       "3   es-S0365-66912012000500003-1  SINTOMA         642       688   \n",
       "4   es-S0365-66912012000500003-1  SINTOMA         691       709   \n",
       "5   es-S0365-66912012000500003-1  SINTOMA         718       733   \n",
       "6   es-S0365-66912012000500003-1  SINTOMA         790       819   \n",
       "7   es-S0365-66912012000500003-1  SINTOMA         830       859   \n",
       "8   es-S0365-66912012000500003-1  SINTOMA         885       899   \n",
       "9   es-S0365-66912012000500003-1  SINTOMA        1693      1705   \n",
       "10  es-S0365-66912012000500003-1  SINTOMA        1708      1736   \n",
       "11  es-S0365-66912012000500003-1  SINTOMA        1908      1930   \n",
       "12  es-S0365-66912012000500003-1  SINTOMA        1980      2034   \n",
       "13  es-S0365-66912012000500003-1  SINTOMA        2180      2205   \n",
       "14  es-S0365-66912012000500003-1  SINTOMA        2502      2509   \n",
       "15  es-S0365-66912012000500003-1  SINTOMA        2531      2551   \n",
       "16  es-S0210-48062009000600012-1  SINTOMA         391       430   \n",
       "17  es-S0210-48062009000600012-1  SINTOMA         535       554   \n",
       "18  es-S0210-48062009000600012-1  SINTOMA         936       945   \n",
       "19  es-S0210-48062009000600012-1  SINTOMA        1016      1041   \n",
       "\n",
       "                                                 text  \n",
       "0                                        dolor ocular  \n",
       "1   disminución progresiva de agudeza visual en am...  \n",
       "2          hemorragia en astilla peripapilar inferior  \n",
       "3      pliegues retinocoroideos temporales superiores  \n",
       "4                                  exudados lipídicos  \n",
       "5                                     retina aplicada  \n",
       "6                       engrosamiento escleral difuso  \n",
       "7                       fluido en la cápsula de Tenon  \n",
       "8                                      signo «de la T  \n",
       "9                                        dolor ocular  \n",
       "10                       enrojecimiento de ambos ojos  \n",
       "11                             actividad inflamatoria  \n",
       "12  pliegues a nivel de la retina interna/EPR/cori...  \n",
       "13                          situación clínica estable  \n",
       "14                                            estable  \n",
       "15                               signos inflamatorios  \n",
       "16            controles de test del aliento negativos  \n",
       "17                                síndrome prostático  \n",
       "18                                          fallecido  \n",
       "19                          sintomatología prostática  "
      ]
     },
     "execution_count": 123,
     "metadata": {},
     "output_type": "execute_result"
    }
   ],
   "source": [
    "train_preds.head(20)"
   ]
  },
  {
   "cell_type": "code",
   "execution_count": 129,
   "id": "9d9f7bff-e082-4d39-903d-56211e1570e4",
   "metadata": {},
   "outputs": [
    {
     "data": {
      "text/html": [
       "<div>\n",
       "<style scoped>\n",
       "    .dataframe tbody tr th:only-of-type {\n",
       "        vertical-align: middle;\n",
       "    }\n",
       "\n",
       "    .dataframe tbody tr th {\n",
       "        vertical-align: top;\n",
       "    }\n",
       "\n",
       "    .dataframe thead th {\n",
       "        text-align: right;\n",
       "    }\n",
       "</style>\n",
       "<table border=\"1\" class=\"dataframe\">\n",
       "  <thead>\n",
       "    <tr style=\"text-align: right;\">\n",
       "      <th></th>\n",
       "      <th>filename</th>\n",
       "      <th>label</th>\n",
       "      <th>start_span</th>\n",
       "      <th>end_span</th>\n",
       "      <th>text</th>\n",
       "    </tr>\n",
       "  </thead>\n",
       "  <tbody>\n",
       "    <tr>\n",
       "      <th>23</th>\n",
       "      <td>es-S0210-48062009000600012-1</td>\n",
       "      <td>SINTOMA</td>\n",
       "      <td>3129</td>\n",
       "      <td>3181</td>\n",
       "      <td>captación a nivel presacro, subpleural (D8) y ...</td>\n",
       "    </tr>\n",
       "    <tr>\n",
       "      <th>31</th>\n",
       "      <td>es-S1698-44472004000400012-1</td>\n",
       "      <td>SINTOMA</td>\n",
       "      <td>1046</td>\n",
       "      <td>1141</td>\n",
       "      <td>hemograma y el estudio de coagulación postoper...</td>\n",
       "    </tr>\n",
       "    <tr>\n",
       "      <th>44</th>\n",
       "      <td>es-S0213-12852005000400003-1</td>\n",
       "      <td>SINTOMA</td>\n",
       "      <td>586</td>\n",
       "      <td>639</td>\n",
       "      <td>inflamación de los ganglios cervicales y subma...</td>\n",
       "    </tr>\n",
       "    <tr>\n",
       "      <th>51</th>\n",
       "      <td>es-S2254-28842014000200009-1</td>\n",
       "      <td>SINTOMA</td>\n",
       "      <td>604</td>\n",
       "      <td>650</td>\n",
       "      <td>Menstruación muy duradera (8 días) y abundante</td>\n",
       "    </tr>\n",
       "    <tr>\n",
       "      <th>53</th>\n",
       "      <td>es-S2254-28842014000200009-1</td>\n",
       "      <td>SINTOMA</td>\n",
       "      <td>672</td>\n",
       "      <td>696</td>\n",
       "      <td>palidez cutánea y mucosa</td>\n",
       "    </tr>\n",
       "    <tr>\n",
       "      <th>...</th>\n",
       "      <td>...</td>\n",
       "      <td>...</td>\n",
       "      <td>...</td>\n",
       "      <td>...</td>\n",
       "      <td>...</td>\n",
       "    </tr>\n",
       "    <tr>\n",
       "      <th>2757</th>\n",
       "      <td>es-S0365-66912008000700010-1</td>\n",
       "      <td>SINTOMA</td>\n",
       "      <td>335</td>\n",
       "      <td>371</td>\n",
       "      <td>pupilas isocóricas y normorreactivas</td>\n",
       "    </tr>\n",
       "    <tr>\n",
       "      <th>2758</th>\n",
       "      <td>es-S0365-66912008000700010-1</td>\n",
       "      <td>SINTOMA</td>\n",
       "      <td>501</td>\n",
       "      <td>561</td>\n",
       "      <td>papila del OD aparecía hiperémica y ligerament...</td>\n",
       "    </tr>\n",
       "    <tr>\n",
       "      <th>2765</th>\n",
       "      <td>es-S1130-63432014000400016-1</td>\n",
       "      <td>SINTOMA</td>\n",
       "      <td>239</td>\n",
       "      <td>327</td>\n",
       "      <td>exantema maculopapuloeritematoso, evanescente ...</td>\n",
       "    </tr>\n",
       "    <tr>\n",
       "      <th>2773</th>\n",
       "      <td>es-S1130-63432014000400016-1</td>\n",
       "      <td>SINTOMA</td>\n",
       "      <td>2830</td>\n",
       "      <td>2911</td>\n",
       "      <td>manifestaciones articulares en codos y carpos ...</td>\n",
       "    </tr>\n",
       "    <tr>\n",
       "      <th>2790</th>\n",
       "      <td>es-S1139-76322015000400012-1</td>\n",
       "      <td>SINTOMA</td>\n",
       "      <td>1310</td>\n",
       "      <td>1384</td>\n",
       "      <td>serologías de Borrelia burgdorferri y Rickette...</td>\n",
       "    </tr>\n",
       "  </tbody>\n",
       "</table>\n",
       "<p>223 rows × 5 columns</p>\n",
       "</div>"
      ],
      "text/plain": [
       "                          filename    label  start_span  end_span  \\\n",
       "23    es-S0210-48062009000600012-1  SINTOMA        3129      3181   \n",
       "31    es-S1698-44472004000400012-1  SINTOMA        1046      1141   \n",
       "44    es-S0213-12852005000400003-1  SINTOMA         586       639   \n",
       "51    es-S2254-28842014000200009-1  SINTOMA         604       650   \n",
       "53    es-S2254-28842014000200009-1  SINTOMA         672       696   \n",
       "...                            ...      ...         ...       ...   \n",
       "2757  es-S0365-66912008000700010-1  SINTOMA         335       371   \n",
       "2758  es-S0365-66912008000700010-1  SINTOMA         501       561   \n",
       "2765  es-S1130-63432014000400016-1  SINTOMA         239       327   \n",
       "2773  es-S1130-63432014000400016-1  SINTOMA        2830      2911   \n",
       "2790  es-S1139-76322015000400012-1  SINTOMA        1310      1384   \n",
       "\n",
       "                                                   text  \n",
       "23    captación a nivel presacro, subpleural (D8) y ...  \n",
       "31    hemograma y el estudio de coagulación postoper...  \n",
       "44    inflamación de los ganglios cervicales y subma...  \n",
       "51       Menstruación muy duradera (8 días) y abundante  \n",
       "53                             palidez cutánea y mucosa  \n",
       "...                                                 ...  \n",
       "2757               pupilas isocóricas y normorreactivas  \n",
       "2758  papila del OD aparecía hiperémica y ligerament...  \n",
       "2765  exantema maculopapuloeritematoso, evanescente ...  \n",
       "2773  manifestaciones articulares en codos y carpos ...  \n",
       "2790  serologías de Borrelia burgdorferri y Rickette...  \n",
       "\n",
       "[223 rows x 5 columns]"
      ]
     },
     "execution_count": 129,
     "metadata": {},
     "output_type": "execute_result"
    }
   ],
   "source": [
    "train_preds[train_preds.text.str.contains(' y ')]"
   ]
  },
  {
   "cell_type": "code",
   "execution_count": 131,
   "id": "5c805ea4-eb1e-49b4-88ab-4963e612c112",
   "metadata": {},
   "outputs": [],
   "source": [
    "fname = 'es-S0210-48062009000600012-1'"
   ]
  },
  {
   "cell_type": "code",
   "execution_count": 132,
   "id": "fa62522f-9f2e-4149-875d-258463a76c6f",
   "metadata": {},
   "outputs": [
    {
     "data": {
      "text/html": [
       "<div>\n",
       "<style scoped>\n",
       "    .dataframe tbody tr th:only-of-type {\n",
       "        vertical-align: middle;\n",
       "    }\n",
       "\n",
       "    .dataframe tbody tr th {\n",
       "        vertical-align: top;\n",
       "    }\n",
       "\n",
       "    .dataframe thead th {\n",
       "        text-align: right;\n",
       "    }\n",
       "</style>\n",
       "<table border=\"1\" class=\"dataframe\">\n",
       "  <thead>\n",
       "    <tr style=\"text-align: right;\">\n",
       "      <th></th>\n",
       "      <th>filename</th>\n",
       "      <th>label</th>\n",
       "      <th>start_span</th>\n",
       "      <th>end_span</th>\n",
       "      <th>text</th>\n",
       "    </tr>\n",
       "  </thead>\n",
       "  <tbody>\n",
       "    <tr>\n",
       "      <th>16</th>\n",
       "      <td>es-S0210-48062009000600012-1</td>\n",
       "      <td>SINTOMA</td>\n",
       "      <td>391</td>\n",
       "      <td>430</td>\n",
       "      <td>controles de test del aliento negativos</td>\n",
       "    </tr>\n",
       "    <tr>\n",
       "      <th>17</th>\n",
       "      <td>es-S0210-48062009000600012-1</td>\n",
       "      <td>SINTOMA</td>\n",
       "      <td>535</td>\n",
       "      <td>554</td>\n",
       "      <td>síndrome prostático</td>\n",
       "    </tr>\n",
       "    <tr>\n",
       "      <th>18</th>\n",
       "      <td>es-S0210-48062009000600012-1</td>\n",
       "      <td>SINTOMA</td>\n",
       "      <td>936</td>\n",
       "      <td>945</td>\n",
       "      <td>fallecido</td>\n",
       "    </tr>\n",
       "    <tr>\n",
       "      <th>19</th>\n",
       "      <td>es-S0210-48062009000600012-1</td>\n",
       "      <td>SINTOMA</td>\n",
       "      <td>1016</td>\n",
       "      <td>1041</td>\n",
       "      <td>sintomatología prostática</td>\n",
       "    </tr>\n",
       "    <tr>\n",
       "      <th>20</th>\n",
       "      <td>es-S0210-48062009000600012-1</td>\n",
       "      <td>SINTOMA</td>\n",
       "      <td>1127</td>\n",
       "      <td>1149</td>\n",
       "      <td>próstata firboelástica</td>\n",
       "    </tr>\n",
       "    <tr>\n",
       "      <th>21</th>\n",
       "      <td>es-S0210-48062009000600012-1</td>\n",
       "      <td>SINTOMA</td>\n",
       "      <td>1588</td>\n",
       "      <td>1612</td>\n",
       "      <td>tejido prostático normal</td>\n",
       "    </tr>\n",
       "    <tr>\n",
       "      <th>22</th>\n",
       "      <td>es-S0210-48062009000600012-1</td>\n",
       "      <td>SINTOMA</td>\n",
       "      <td>2902</td>\n",
       "      <td>2920</td>\n",
       "      <td>masa paravertebral</td>\n",
       "    </tr>\n",
       "    <tr>\n",
       "      <th>23</th>\n",
       "      <td>es-S0210-48062009000600012-1</td>\n",
       "      <td>SINTOMA</td>\n",
       "      <td>3129</td>\n",
       "      <td>3181</td>\n",
       "      <td>captación a nivel presacro, subpleural (D8) y ...</td>\n",
       "    </tr>\n",
       "    <tr>\n",
       "      <th>24</th>\n",
       "      <td>es-S0210-48062009000600012-1</td>\n",
       "      <td>SINTOMA</td>\n",
       "      <td>3197</td>\n",
       "      <td>3228</td>\n",
       "      <td>cariotipo con resultado de 46XY</td>\n",
       "    </tr>\n",
       "    <tr>\n",
       "      <th>25</th>\n",
       "      <td>es-S0210-48062009000600012-1</td>\n",
       "      <td>SINTOMA</td>\n",
       "      <td>3938</td>\n",
       "      <td>3950</td>\n",
       "      <td>asintomático</td>\n",
       "    </tr>\n",
       "  </tbody>\n",
       "</table>\n",
       "</div>"
      ],
      "text/plain": [
       "                        filename    label  start_span  end_span  \\\n",
       "16  es-S0210-48062009000600012-1  SINTOMA         391       430   \n",
       "17  es-S0210-48062009000600012-1  SINTOMA         535       554   \n",
       "18  es-S0210-48062009000600012-1  SINTOMA         936       945   \n",
       "19  es-S0210-48062009000600012-1  SINTOMA        1016      1041   \n",
       "20  es-S0210-48062009000600012-1  SINTOMA        1127      1149   \n",
       "21  es-S0210-48062009000600012-1  SINTOMA        1588      1612   \n",
       "22  es-S0210-48062009000600012-1  SINTOMA        2902      2920   \n",
       "23  es-S0210-48062009000600012-1  SINTOMA        3129      3181   \n",
       "24  es-S0210-48062009000600012-1  SINTOMA        3197      3228   \n",
       "25  es-S0210-48062009000600012-1  SINTOMA        3938      3950   \n",
       "\n",
       "                                                 text  \n",
       "16            controles de test del aliento negativos  \n",
       "17                                síndrome prostático  \n",
       "18                                          fallecido  \n",
       "19                          sintomatología prostática  \n",
       "20                             próstata firboelástica  \n",
       "21                           tejido prostático normal  \n",
       "22                                 masa paravertebral  \n",
       "23  captación a nivel presacro, subpleural (D8) y ...  \n",
       "24                    cariotipo con resultado de 46XY  \n",
       "25                                       asintomático  "
      ]
     },
     "execution_count": 132,
     "metadata": {},
     "output_type": "execute_result"
    }
   ],
   "source": [
    "train_preds.query('filename == @fname').sort_values('start_span')"
   ]
  },
  {
   "cell_type": "code",
   "execution_count": 133,
   "id": "19e98433-fb09-4b5f-ad2a-404c4f512fb5",
   "metadata": {},
   "outputs": [
    {
     "data": {
      "text/html": [
       "<div>\n",
       "<style scoped>\n",
       "    .dataframe tbody tr th:only-of-type {\n",
       "        vertical-align: middle;\n",
       "    }\n",
       "\n",
       "    .dataframe tbody tr th {\n",
       "        vertical-align: top;\n",
       "    }\n",
       "\n",
       "    .dataframe thead th {\n",
       "        text-align: right;\n",
       "    }\n",
       "</style>\n",
       "<table border=\"1\" class=\"dataframe\">\n",
       "  <thead>\n",
       "    <tr style=\"text-align: right;\">\n",
       "      <th></th>\n",
       "      <th>filename</th>\n",
       "      <th>label</th>\n",
       "      <th>span_ini</th>\n",
       "      <th>span_end</th>\n",
       "      <th>text</th>\n",
       "      <th>code</th>\n",
       "    </tr>\n",
       "  </thead>\n",
       "  <tbody>\n",
       "    <tr>\n",
       "      <th>1291</th>\n",
       "      <td>es-S0210-48062009000600012-1</td>\n",
       "      <td>SINTOMA</td>\n",
       "      <td>404</td>\n",
       "      <td>430</td>\n",
       "      <td>test del aliento negativos</td>\n",
       "      <td>NaN</td>\n",
       "    </tr>\n",
       "    <tr>\n",
       "      <th>1296</th>\n",
       "      <td>es-S0210-48062009000600012-1</td>\n",
       "      <td>SINTOMA</td>\n",
       "      <td>535</td>\n",
       "      <td>554</td>\n",
       "      <td>síndrome prostático</td>\n",
       "      <td>NaN</td>\n",
       "    </tr>\n",
       "    <tr>\n",
       "      <th>1297</th>\n",
       "      <td>es-S0210-48062009000600012-1</td>\n",
       "      <td>SINTOMA</td>\n",
       "      <td>936</td>\n",
       "      <td>945</td>\n",
       "      <td>fallecido</td>\n",
       "      <td>NaN</td>\n",
       "    </tr>\n",
       "    <tr>\n",
       "      <th>1288</th>\n",
       "      <td>es-S0210-48062009000600012-1</td>\n",
       "      <td>SINTOMA</td>\n",
       "      <td>1016</td>\n",
       "      <td>1041</td>\n",
       "      <td>sintomatología prostática</td>\n",
       "      <td>NaN</td>\n",
       "    </tr>\n",
       "    <tr>\n",
       "      <th>1289</th>\n",
       "      <td>es-S0210-48062009000600012-1</td>\n",
       "      <td>SINTOMA</td>\n",
       "      <td>1127</td>\n",
       "      <td>1149</td>\n",
       "      <td>próstata firboelástica</td>\n",
       "      <td>NaN</td>\n",
       "    </tr>\n",
       "    <tr>\n",
       "      <th>1293</th>\n",
       "      <td>es-S0210-48062009000600012-1</td>\n",
       "      <td>SINTOMA</td>\n",
       "      <td>1154</td>\n",
       "      <td>1162</td>\n",
       "      <td>dolorosa</td>\n",
       "      <td>NaN</td>\n",
       "    </tr>\n",
       "    <tr>\n",
       "      <th>1298</th>\n",
       "      <td>es-S0210-48062009000600012-1</td>\n",
       "      <td>SINTOMA</td>\n",
       "      <td>1588</td>\n",
       "      <td>1612</td>\n",
       "      <td>tejido prostático normal</td>\n",
       "      <td>NaN</td>\n",
       "    </tr>\n",
       "    <tr>\n",
       "      <th>1299</th>\n",
       "      <td>es-S0210-48062009000600012-1</td>\n",
       "      <td>SINTOMA</td>\n",
       "      <td>1640</td>\n",
       "      <td>1654</td>\n",
       "      <td>estroma normal</td>\n",
       "      <td>NaN</td>\n",
       "    </tr>\n",
       "    <tr>\n",
       "      <th>1300</th>\n",
       "      <td>es-S0210-48062009000600012-1</td>\n",
       "      <td>SINTOMA</td>\n",
       "      <td>1927</td>\n",
       "      <td>1941</td>\n",
       "      <td>estroma normal</td>\n",
       "      <td>NaN</td>\n",
       "    </tr>\n",
       "    <tr>\n",
       "      <th>1294</th>\n",
       "      <td>es-S0210-48062009000600012-1</td>\n",
       "      <td>SINTOMA</td>\n",
       "      <td>2459</td>\n",
       "      <td>2477</td>\n",
       "      <td>traslocación 14-18</td>\n",
       "      <td>NaN</td>\n",
       "    </tr>\n",
       "    <tr>\n",
       "      <th>1290</th>\n",
       "      <td>es-S0210-48062009000600012-1</td>\n",
       "      <td>SINTOMA</td>\n",
       "      <td>2902</td>\n",
       "      <td>2920</td>\n",
       "      <td>masa paravertebral</td>\n",
       "      <td>NaN</td>\n",
       "    </tr>\n",
       "    <tr>\n",
       "      <th>1295</th>\n",
       "      <td>es-S0210-48062009000600012-1</td>\n",
       "      <td>SINTOMA</td>\n",
       "      <td>3197</td>\n",
       "      <td>3228</td>\n",
       "      <td>cariotipo con resultado de 46XY</td>\n",
       "      <td>NaN</td>\n",
       "    </tr>\n",
       "    <tr>\n",
       "      <th>1292</th>\n",
       "      <td>es-S0210-48062009000600012-1</td>\n",
       "      <td>SINTOMA</td>\n",
       "      <td>3938</td>\n",
       "      <td>3950</td>\n",
       "      <td>asintomático</td>\n",
       "      <td>NaN</td>\n",
       "    </tr>\n",
       "  </tbody>\n",
       "</table>\n",
       "</div>"
      ],
      "text/plain": [
       "                          filename    label  span_ini  span_end  \\\n",
       "1291  es-S0210-48062009000600012-1  SINTOMA       404       430   \n",
       "1296  es-S0210-48062009000600012-1  SINTOMA       535       554   \n",
       "1297  es-S0210-48062009000600012-1  SINTOMA       936       945   \n",
       "1288  es-S0210-48062009000600012-1  SINTOMA      1016      1041   \n",
       "1289  es-S0210-48062009000600012-1  SINTOMA      1127      1149   \n",
       "1293  es-S0210-48062009000600012-1  SINTOMA      1154      1162   \n",
       "1298  es-S0210-48062009000600012-1  SINTOMA      1588      1612   \n",
       "1299  es-S0210-48062009000600012-1  SINTOMA      1640      1654   \n",
       "1300  es-S0210-48062009000600012-1  SINTOMA      1927      1941   \n",
       "1294  es-S0210-48062009000600012-1  SINTOMA      2459      2477   \n",
       "1290  es-S0210-48062009000600012-1  SINTOMA      2902      2920   \n",
       "1295  es-S0210-48062009000600012-1  SINTOMA      3197      3228   \n",
       "1292  es-S0210-48062009000600012-1  SINTOMA      3938      3950   \n",
       "\n",
       "                                 text  code  \n",
       "1291       test del aliento negativos   NaN  \n",
       "1296              síndrome prostático   NaN  \n",
       "1297                        fallecido   NaN  \n",
       "1288        sintomatología prostática   NaN  \n",
       "1289           próstata firboelástica   NaN  \n",
       "1293                         dolorosa   NaN  \n",
       "1298         tejido prostático normal   NaN  \n",
       "1299                   estroma normal   NaN  \n",
       "1300                   estroma normal   NaN  \n",
       "1294               traslocación 14-18   NaN  \n",
       "1290               masa paravertebral   NaN  \n",
       "1295  cariotipo con resultado de 46XY   NaN  \n",
       "1292                     asintomático   NaN  "
      ]
     },
     "execution_count": 133,
     "metadata": {},
     "output_type": "execute_result"
    }
   ],
   "source": [
    "test_tsv.query('filename == @fname').sort_values('span_ini')"
   ]
  },
  {
   "cell_type": "code",
   "execution_count": null,
   "id": "455c74d8-bf1d-4c6c-a0af-b9583c6bad2b",
   "metadata": {},
   "outputs": [],
   "source": []
  }
 ],
 "metadata": {
  "kernelspec": {
   "display_name": "Python [conda env:xmen_notebooks]",
   "language": "python",
   "name": "conda-env-xmen_notebooks-py"
  },
  "language_info": {
   "codemirror_mode": {
    "name": "ipython",
    "version": 3
   },
   "file_extension": ".py",
   "mimetype": "text/x-python",
   "name": "python",
   "nbconvert_exporter": "python",
   "pygments_lexer": "ipython3",
   "version": "3.10.11"
  }
 },
 "nbformat": 4,
 "nbformat_minor": 5
}
