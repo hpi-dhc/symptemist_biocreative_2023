{
 "cells": [
  {
   "cell_type": "code",
   "execution_count": 1,
   "id": "fcd34648-dd9a-46b6-bfc4-202a017c7020",
   "metadata": {},
   "outputs": [],
   "source": [
    "from datasets import load_dataset, Dataset \n",
    "import datasets\n",
    "import torch\n",
    "import os\n",
    "import pandas as pd\n",
    "from tqdm import tqdm"
   ]
  },
  {
   "cell_type": "code",
   "execution_count": 2,
   "id": "24b5d33c-7c98-4fb6-a4da-5a24e78762fc",
   "metadata": {},
   "outputs": [],
   "source": [
    "os.environ[\"CUDA_VISIBLE_DEVICES\"] = '0'"
   ]
  },
  {
   "cell_type": "code",
   "execution_count": 3,
   "id": "a7dc2f05-f968-40a8-8e41-f34ded13b8bc",
   "metadata": {},
   "outputs": [
    {
     "name": "stderr",
     "output_type": "stream",
     "text": [
      "Found cached dataset symptemist (/home/Ignacio.Rodriguez/.cache/huggingface/datasets/symptemist/symptemist_entities_bigbio_kb/1.0.0/6eca3229d6e85bf4857c66298013fa7ce6ad7a5e9376e32f68dadbbf5cd93ecb)\n"
     ]
    },
    {
     "data": {
      "application/vnd.jupyter.widget-view+json": {
       "model_id": "a9dbef87d1064df1bab989ff9123bb69",
       "version_major": 2,
       "version_minor": 0
      },
      "text/plain": [
       "  0%|          | 0/1 [00:00<?, ?it/s]"
      ]
     },
     "metadata": {},
     "output_type": "display_data"
    },
    {
     "data": {
      "text/plain": [
       "DatasetDict({\n",
       "    train: Dataset({\n",
       "        features: ['id', 'document_id', 'passages', 'entities', 'events', 'coreferences', 'relations'],\n",
       "        num_rows: 744\n",
       "    })\n",
       "})"
      ]
     },
     "execution_count": 3,
     "metadata": {},
     "output_type": "execute_result"
    }
   ],
   "source": [
    "data = load_dataset(\n",
    "    path=\"../../biomedical/bigbio/hub/hub_repos/symptemist/symptemist.py\", \n",
    "    name=\"symptemist_entities_bigbio_kb\"\n",
    ")\n",
    "data"
   ]
  },
  {
   "cell_type": "code",
   "execution_count": 4,
   "id": "4b60299f-20ea-47b2-9ae3-688ef357f029",
   "metadata": {},
   "outputs": [
    {
     "data": {
      "text/plain": [
       "['O', 'SINTOMA']"
      ]
     },
     "execution_count": 4,
     "metadata": {},
     "output_type": "execute_result"
    }
   ],
   "source": [
    "labels = [\"O\", \"SINTOMA\"]\n",
    "labels"
   ]
  },
  {
   "cell_type": "code",
   "execution_count": 5,
   "id": "5acff072-0377-4d62-a4fe-ab080de16338",
   "metadata": {},
   "outputs": [],
   "source": [
    "import spacy\n",
    "nlp = spacy.load(\"es_core_news_sm\")"
   ]
  },
  {
   "cell_type": "code",
   "execution_count": 6,
   "id": "6d74b672-6056-4d53-941e-807a97778402",
   "metadata": {},
   "outputs": [
    {
     "name": "stderr",
     "output_type": "stream",
     "text": [
      "Document progress:: 744it [00:23, 31.20it/s]\n"
     ]
    }
   ],
   "source": [
    "def bigbio2spanmarker(split: Dataset) -> Dataset:\n",
    "    output = {\n",
    "        \"document_id\": [],\n",
    "        \"sentence_id\": [],\n",
    "        \"tokens\": [],\n",
    "        \"ner_tags\": [],        \n",
    "    }\n",
    "    \n",
    "    for doc_id, row in tqdm(enumerate(split), desc=\"Document progress:\"):\n",
    "        \n",
    "        text = row[\"passages\"][0][\"text\"][0]\n",
    "        entities = row[\"entities\"]\n",
    "        doc = nlp(text)\n",
    "        \n",
    "        for sentence_id, sentence in enumerate(doc.sents):\n",
    "            \n",
    "            tokens = []\n",
    "            token_positions = []\n",
    "            \n",
    "            for token in sentence:\n",
    "                tokens.append(token.text)\n",
    "                token_positions.append(token.idx)\n",
    "        \n",
    "            ner_tags = [0] * len(tokens)\n",
    "                \n",
    "            for i, position in enumerate(token_positions):\n",
    "                for entity in entities:\n",
    "                    for offset in entity[\"offsets\"]:\n",
    "                        if position==offset[0]:\n",
    "                            ner_tags[i] = 1\n",
    "                        elif position in range(offset[0],offset[1]):\n",
    "                            ner_tags[i] = 1\n",
    "        \n",
    "            output[\"document_id\"].append(doc_id)\n",
    "            output[\"sentence_id\"].append(sentence_id)\n",
    "            output[\"tokens\"].append(tokens)\n",
    "            output[\"ner_tags\"].append(ner_tags)\n",
    "        \n",
    "    return datasets.Dataset.from_dict(output)\n",
    "\n",
    "symp = bigbio2spanmarker(data[\"train\"])"
   ]
  },
  {
   "cell_type": "code",
   "execution_count": 7,
   "id": "f6a3afcc-22a9-474d-94ed-d16e37c02db2",
   "metadata": {},
   "outputs": [
    {
     "name": "stderr",
     "output_type": "stream",
     "text": [
      "Some weights of RobertaModel were not initialized from the model checkpoint at PlanTL-GOB-ES/roberta-base-biomedical-clinical-es and are newly initialized: ['roberta.pooler.dense.weight', 'roberta.pooler.dense.bias']\n",
      "You should probably TRAIN this model on a down-stream task to be able to use it for predictions and inference.\n",
      "You are resizing the embedding layer without providing a `pad_to_multiple_of` parameter. This means that the new embeding dimension will be 52002. This might induce some performance reduction as *Tensor Cores* will not be available. For more details  about this, or help on choosing the correct value for resizing, refer to this guide: https://docs.nvidia.com/deeplearning/performance/dl-performance-matrix-multiplication/index.html#requirements-tc\n"
     ]
    }
   ],
   "source": [
    "from span_marker import SpanMarkerModel\n",
    "\n",
    "model_name = \"PlanTL-GOB-ES/roberta-base-biomedical-clinical-es\"\n",
    "model = SpanMarkerModel.from_pretrained(model_name, labels=labels, model_max_length=256)"
   ]
  },
  {
   "cell_type": "code",
   "execution_count": 8,
   "id": "e9d2dcda-311b-4754-bdf1-2a02c1c46b92",
   "metadata": {},
   "outputs": [],
   "source": [
    "from transformers import TrainingArguments\n",
    "\n",
    "args = TrainingArguments(\n",
    "    output_dir = \"../checkpoints\",\n",
    "    per_device_train_batch_size = 32,\n",
    "    per_device_eval_batch_size = 32,\n",
    "    fp16 = True,\n",
    "    save_strategy = \"epoch\",\n",
    "    overwrite_output_dir = True,\n",
    "    evaluation_strategy = \"epoch\",\n",
    "    save_total_limit = 2,\n",
    "    num_train_epochs = 40,\n",
    "    load_best_model_at_end = True,\n",
    "    metric_for_best_model = \"eval_overall_f1\",\n",
    "    lr_scheduler_type = \"linear\",\n",
    "    learning_rate = 0.00005,\n",
    "    warmup_ratio = 0.0,\n",
    "    label_smoothing_factor = 0.0,\n",
    "    weight_decay = 0.0,\n",
    ")\n"
   ]
  },
  {
   "cell_type": "code",
   "execution_count": 9,
   "id": "5c6d5884-c720-4fb0-9b0a-6641f54280a2",
   "metadata": {},
   "outputs": [],
   "source": [
    "from span_marker import Trainer\n",
    "\n",
    "trainer = Trainer(\n",
    "    model=model,\n",
    "    args=args,\n",
    "    train_dataset = symp.select(range(10356)),\n",
    "    eval_dataset = symp.select(range(10356,12946)),\n",
    ")"
   ]
  },
  {
   "cell_type": "code",
   "execution_count": 10,
   "id": "1ad9c9ee-e239-4474-bed5-3b5197852a92",
   "metadata": {
    "scrolled": true
   },
   "outputs": [
    {
     "name": "stderr",
     "output_type": "stream",
     "text": [
      "\u001b[34m\u001b[1mwandb\u001b[0m: Currently logged in as: \u001b[33millorca\u001b[0m. Use \u001b[1m`wandb login --relogin`\u001b[0m to force relogin\n"
     ]
    },
    {
     "data": {
      "text/html": [
       "wandb version 0.15.10 is available!  To upgrade, please run:\n",
       " $ pip install wandb --upgrade"
      ],
      "text/plain": [
       "<IPython.core.display.HTML object>"
      ]
     },
     "metadata": {},
     "output_type": "display_data"
    },
    {
     "data": {
      "text/html": [
       "Tracking run with wandb version 0.13.10"
      ],
      "text/plain": [
       "<IPython.core.display.HTML object>"
      ]
     },
     "metadata": {},
     "output_type": "display_data"
    },
    {
     "data": {
      "text/html": [
       "Run data is saved locally in <code>/home/Ignacio.Rodriguez/symptemist_biocreative_2023/notebooks/wandb/run-20230912_114805-yerzjtw5</code>"
      ],
      "text/plain": [
       "<IPython.core.display.HTML object>"
      ]
     },
     "metadata": {},
     "output_type": "display_data"
    },
    {
     "data": {
      "text/html": [
       "Syncing run <strong><a href='https://wandb.ai/illorca/symptemist_ner/runs/yerzjtw5' target=\"_blank\">balmy-lake-23</a></strong> to <a href='https://wandb.ai/illorca/symptemist_ner' target=\"_blank\">Weights & Biases</a> (<a href='https://wandb.me/run' target=\"_blank\">docs</a>)<br/>"
      ],
      "text/plain": [
       "<IPython.core.display.HTML object>"
      ]
     },
     "metadata": {},
     "output_type": "display_data"
    },
    {
     "data": {
      "text/html": [
       " View project at <a href='https://wandb.ai/illorca/symptemist_ner' target=\"_blank\">https://wandb.ai/illorca/symptemist_ner</a>"
      ],
      "text/plain": [
       "<IPython.core.display.HTML object>"
      ]
     },
     "metadata": {},
     "output_type": "display_data"
    },
    {
     "data": {
      "text/html": [
       " View run at <a href='https://wandb.ai/illorca/symptemist_ner/runs/yerzjtw5' target=\"_blank\">https://wandb.ai/illorca/symptemist_ner/runs/yerzjtw5</a>"
      ],
      "text/plain": [
       "<IPython.core.display.HTML object>"
      ]
     },
     "metadata": {},
     "output_type": "display_data"
    },
    {
     "data": {
      "application/vnd.jupyter.widget-view+json": {
       "model_id": "",
       "version_major": 2,
       "version_minor": 0
      },
      "text/plain": [
       "Label normalizing the train dataset:   0%|          | 0/10356 [00:00<?, ? examples/s]"
      ]
     },
     "metadata": {},
     "output_type": "display_data"
    },
    {
     "data": {
      "application/vnd.jupyter.widget-view+json": {
       "model_id": "",
       "version_major": 2,
       "version_minor": 0
      },
      "text/plain": [
       "Tokenizing the train dataset:   0%|          | 0/10356 [00:00<?, ? examples/s]"
      ]
     },
     "metadata": {},
     "output_type": "display_data"
    },
    {
     "name": "stderr",
     "output_type": "stream",
     "text": [
      "This SpanMarker model will ignore 10.791367% of all annotated entities in the train dataset. This is caused by the SpanMarkerModel maximum entity length of 8 words.\n",
      "These are the frequencies of the missed entities due to maximum entity length out of 7367 total entities:\n",
      "- 194 missed entities with 9 words (2.633365%)\n",
      "- 139 missed entities with 10 words (1.886792%)\n",
      "- 85 missed entities with 11 words (1.153794%)\n",
      "- 88 missed entities with 12 words (1.194516%)\n",
      "- 64 missed entities with 13 words (0.868739%)\n",
      "- 47 missed entities with 14 words (0.637980%)\n",
      "- 35 missed entities with 15 words (0.475092%)\n",
      "- 27 missed entities with 16 words (0.366499%)\n",
      "- 15 missed entities with 17 words (0.203611%)\n",
      "- 26 missed entities with 18 words (0.352925%)\n",
      "- 13 missed entities with 19 words (0.176463%)\n",
      "- 9 missed entities with 20 words (0.122166%)\n",
      "- 11 missed entities with 21 words (0.149315%)\n",
      "- 8 missed entities with 22 words (0.108592%)\n",
      "- 6 missed entities with 23 words (0.081444%)\n",
      "- 3 missed entities with 24 words (0.040722%)\n",
      "- 1 missed entities with 25 words (0.013574%)\n",
      "- 2 missed entities with 26 words (0.027148%)\n",
      "- 3 missed entities with 28 words (0.040722%)\n",
      "- 2 missed entities with 29 words (0.027148%)\n",
      "- 1 missed entities with 32 words (0.013574%)\n",
      "- 1 missed entities with 33 words (0.013574%)\n",
      "- 2 missed entities with 36 words (0.027148%)\n",
      "- 3 missed entities with 38 words (0.040722%)\n",
      "- 1 missed entities with 39 words (0.013574%)\n",
      "- 1 missed entities with 40 words (0.013574%)\n",
      "- 1 missed entities with 41 words (0.013574%)\n",
      "- 1 missed entities with 46 words (0.013574%)\n",
      "- 2 missed entities with 47 words (0.027148%)\n",
      "- 1 missed entities with 53 words (0.013574%)\n",
      "- 1 missed entities with 61 words (0.013574%)\n",
      "- 1 missed entities with 63 words (0.013574%)\n",
      "- 1 missed entities with 64 words (0.013574%)\n"
     ]
    },
    {
     "data": {
      "application/vnd.jupyter.widget-view+json": {
       "model_id": "",
       "version_major": 2,
       "version_minor": 0
      },
      "text/plain": [
       "Adding document-level context:   0%|          | 0/10356 [00:00<?, ?it/s]"
      ]
     },
     "metadata": {},
     "output_type": "display_data"
    },
    {
     "data": {
      "application/vnd.jupyter.widget-view+json": {
       "model_id": "",
       "version_major": 2,
       "version_minor": 0
      },
      "text/plain": [
       "Spreading data between multiple samples:   0%|          | 0/10356 [00:00<?, ? examples/s]"
      ]
     },
     "metadata": {},
     "output_type": "display_data"
    },
    {
     "data": {
      "text/html": [
       "\n",
       "    <div>\n",
       "      \n",
       "      <progress value='23560' max='23560' style='width:300px; height:20px; vertical-align: middle;'></progress>\n",
       "      [23560/23560 3:31:55, Epoch 40/40]\n",
       "    </div>\n",
       "    <table border=\"1\" class=\"dataframe\">\n",
       "  <thead>\n",
       " <tr style=\"text-align: left;\">\n",
       "      <th>Epoch</th>\n",
       "      <th>Training Loss</th>\n",
       "      <th>Validation Loss</th>\n",
       "      <th>Overall Precision</th>\n",
       "      <th>Overall Recall</th>\n",
       "      <th>Overall F1</th>\n",
       "      <th>Overall Accuracy</th>\n",
       "    </tr>\n",
       "  </thead>\n",
       "  <tbody>\n",
       "    <tr>\n",
       "      <td>1</td>\n",
       "      <td>0.022600</td>\n",
       "      <td>0.006742</td>\n",
       "      <td>0.716678</td>\n",
       "      <td>0.674327</td>\n",
       "      <td>0.694858</td>\n",
       "      <td>0.957768</td>\n",
       "    </tr>\n",
       "    <tr>\n",
       "      <td>2</td>\n",
       "      <td>0.005800</td>\n",
       "      <td>0.005887</td>\n",
       "      <td>0.769122</td>\n",
       "      <td>0.713066</td>\n",
       "      <td>0.740034</td>\n",
       "      <td>0.963001</td>\n",
       "    </tr>\n",
       "    <tr>\n",
       "      <td>3</td>\n",
       "      <td>0.003900</td>\n",
       "      <td>0.006286</td>\n",
       "      <td>0.738651</td>\n",
       "      <td>0.747866</td>\n",
       "      <td>0.743230</td>\n",
       "      <td>0.963754</td>\n",
       "    </tr>\n",
       "    <tr>\n",
       "      <td>4</td>\n",
       "      <td>0.003100</td>\n",
       "      <td>0.006078</td>\n",
       "      <td>0.728087</td>\n",
       "      <td>0.747209</td>\n",
       "      <td>0.737524</td>\n",
       "      <td>0.962751</td>\n",
       "    </tr>\n",
       "    <tr>\n",
       "      <td>5</td>\n",
       "      <td>0.002200</td>\n",
       "      <td>0.007007</td>\n",
       "      <td>0.736334</td>\n",
       "      <td>0.751806</td>\n",
       "      <td>0.743990</td>\n",
       "      <td>0.961982</td>\n",
       "    </tr>\n",
       "    <tr>\n",
       "      <td>6</td>\n",
       "      <td>0.001200</td>\n",
       "      <td>0.008767</td>\n",
       "      <td>0.722710</td>\n",
       "      <td>0.756402</td>\n",
       "      <td>0.739172</td>\n",
       "      <td>0.962567</td>\n",
       "    </tr>\n",
       "    <tr>\n",
       "      <td>7</td>\n",
       "      <td>0.000900</td>\n",
       "      <td>0.009193</td>\n",
       "      <td>0.728149</td>\n",
       "      <td>0.743926</td>\n",
       "      <td>0.735953</td>\n",
       "      <td>0.961413</td>\n",
       "    </tr>\n",
       "    <tr>\n",
       "      <td>8</td>\n",
       "      <td>0.000800</td>\n",
       "      <td>0.009789</td>\n",
       "      <td>0.780282</td>\n",
       "      <td>0.727511</td>\n",
       "      <td>0.752973</td>\n",
       "      <td>0.964974</td>\n",
       "    </tr>\n",
       "    <tr>\n",
       "      <td>9</td>\n",
       "      <td>0.000700</td>\n",
       "      <td>0.011322</td>\n",
       "      <td>0.743280</td>\n",
       "      <td>0.726198</td>\n",
       "      <td>0.734640</td>\n",
       "      <td>0.961647</td>\n",
       "    </tr>\n",
       "    <tr>\n",
       "      <td>10</td>\n",
       "      <td>0.000700</td>\n",
       "      <td>0.010011</td>\n",
       "      <td>0.715796</td>\n",
       "      <td>0.755745</td>\n",
       "      <td>0.735228</td>\n",
       "      <td>0.961179</td>\n",
       "    </tr>\n",
       "    <tr>\n",
       "      <td>11</td>\n",
       "      <td>0.000700</td>\n",
       "      <td>0.010053</td>\n",
       "      <td>0.728814</td>\n",
       "      <td>0.762311</td>\n",
       "      <td>0.745186</td>\n",
       "      <td>0.960811</td>\n",
       "    </tr>\n",
       "    <tr>\n",
       "      <td>12</td>\n",
       "      <td>0.000500</td>\n",
       "      <td>0.011641</td>\n",
       "      <td>0.764352</td>\n",
       "      <td>0.751806</td>\n",
       "      <td>0.758027</td>\n",
       "      <td>0.965292</td>\n",
       "    </tr>\n",
       "    <tr>\n",
       "      <td>13</td>\n",
       "      <td>0.000500</td>\n",
       "      <td>0.011370</td>\n",
       "      <td>0.787361</td>\n",
       "      <td>0.695338</td>\n",
       "      <td>0.738494</td>\n",
       "      <td>0.961229</td>\n",
       "    </tr>\n",
       "    <tr>\n",
       "      <td>14</td>\n",
       "      <td>0.000300</td>\n",
       "      <td>0.013114</td>\n",
       "      <td>0.712065</td>\n",
       "      <td>0.751806</td>\n",
       "      <td>0.731396</td>\n",
       "      <td>0.960142</td>\n",
       "    </tr>\n",
       "    <tr>\n",
       "      <td>15</td>\n",
       "      <td>0.000400</td>\n",
       "      <td>0.012146</td>\n",
       "      <td>0.778648</td>\n",
       "      <td>0.718319</td>\n",
       "      <td>0.747268</td>\n",
       "      <td>0.965058</td>\n",
       "    </tr>\n",
       "    <tr>\n",
       "      <td>16</td>\n",
       "      <td>0.000400</td>\n",
       "      <td>0.012888</td>\n",
       "      <td>0.747172</td>\n",
       "      <td>0.737360</td>\n",
       "      <td>0.742234</td>\n",
       "      <td>0.961513</td>\n",
       "    </tr>\n",
       "    <tr>\n",
       "      <td>17</td>\n",
       "      <td>0.000300</td>\n",
       "      <td>0.011412</td>\n",
       "      <td>0.768583</td>\n",
       "      <td>0.719632</td>\n",
       "      <td>0.743303</td>\n",
       "      <td>0.963419</td>\n",
       "    </tr>\n",
       "    <tr>\n",
       "      <td>18</td>\n",
       "      <td>0.000200</td>\n",
       "      <td>0.012240</td>\n",
       "      <td>0.713407</td>\n",
       "      <td>0.761655</td>\n",
       "      <td>0.736742</td>\n",
       "      <td>0.962282</td>\n",
       "    </tr>\n",
       "    <tr>\n",
       "      <td>19</td>\n",
       "      <td>0.000200</td>\n",
       "      <td>0.013258</td>\n",
       "      <td>0.744079</td>\n",
       "      <td>0.742613</td>\n",
       "      <td>0.743345</td>\n",
       "      <td>0.963369</td>\n",
       "    </tr>\n",
       "    <tr>\n",
       "      <td>20</td>\n",
       "      <td>0.000200</td>\n",
       "      <td>0.011301</td>\n",
       "      <td>0.742594</td>\n",
       "      <td>0.740643</td>\n",
       "      <td>0.741617</td>\n",
       "      <td>0.962182</td>\n",
       "    </tr>\n",
       "    <tr>\n",
       "      <td>21</td>\n",
       "      <td>0.000200</td>\n",
       "      <td>0.012344</td>\n",
       "      <td>0.748000</td>\n",
       "      <td>0.736704</td>\n",
       "      <td>0.742309</td>\n",
       "      <td>0.962617</td>\n",
       "    </tr>\n",
       "    <tr>\n",
       "      <td>22</td>\n",
       "      <td>0.000200</td>\n",
       "      <td>0.012368</td>\n",
       "      <td>0.720124</td>\n",
       "      <td>0.763624</td>\n",
       "      <td>0.741236</td>\n",
       "      <td>0.963018</td>\n",
       "    </tr>\n",
       "    <tr>\n",
       "      <td>23</td>\n",
       "      <td>0.000100</td>\n",
       "      <td>0.014106</td>\n",
       "      <td>0.802985</td>\n",
       "      <td>0.706500</td>\n",
       "      <td>0.751659</td>\n",
       "      <td>0.963770</td>\n",
       "    </tr>\n",
       "    <tr>\n",
       "      <td>24</td>\n",
       "      <td>0.000200</td>\n",
       "      <td>0.013144</td>\n",
       "      <td>0.744984</td>\n",
       "      <td>0.755745</td>\n",
       "      <td>0.750326</td>\n",
       "      <td>0.963971</td>\n",
       "    </tr>\n",
       "    <tr>\n",
       "      <td>25</td>\n",
       "      <td>0.000100</td>\n",
       "      <td>0.012954</td>\n",
       "      <td>0.745430</td>\n",
       "      <td>0.722915</td>\n",
       "      <td>0.734000</td>\n",
       "      <td>0.961714</td>\n",
       "    </tr>\n",
       "    <tr>\n",
       "      <td>26</td>\n",
       "      <td>0.000100</td>\n",
       "      <td>0.015671</td>\n",
       "      <td>0.780418</td>\n",
       "      <td>0.711753</td>\n",
       "      <td>0.744505</td>\n",
       "      <td>0.963687</td>\n",
       "    </tr>\n",
       "    <tr>\n",
       "      <td>27</td>\n",
       "      <td>0.000100</td>\n",
       "      <td>0.014659</td>\n",
       "      <td>0.765432</td>\n",
       "      <td>0.732764</td>\n",
       "      <td>0.748742</td>\n",
       "      <td>0.962617</td>\n",
       "    </tr>\n",
       "    <tr>\n",
       "      <td>28</td>\n",
       "      <td>0.000100</td>\n",
       "      <td>0.014656</td>\n",
       "      <td>0.761807</td>\n",
       "      <td>0.730794</td>\n",
       "      <td>0.745979</td>\n",
       "      <td>0.963052</td>\n",
       "    </tr>\n",
       "    <tr>\n",
       "      <td>29</td>\n",
       "      <td>0.000100</td>\n",
       "      <td>0.014510</td>\n",
       "      <td>0.772509</td>\n",
       "      <td>0.738017</td>\n",
       "      <td>0.754869</td>\n",
       "      <td>0.964473</td>\n",
       "    </tr>\n",
       "    <tr>\n",
       "      <td>30</td>\n",
       "      <td>0.000100</td>\n",
       "      <td>0.014996</td>\n",
       "      <td>0.758827</td>\n",
       "      <td>0.747866</td>\n",
       "      <td>0.753307</td>\n",
       "      <td>0.964356</td>\n",
       "    </tr>\n",
       "    <tr>\n",
       "      <td>31</td>\n",
       "      <td>0.000100</td>\n",
       "      <td>0.015539</td>\n",
       "      <td>0.749356</td>\n",
       "      <td>0.763624</td>\n",
       "      <td>0.756423</td>\n",
       "      <td>0.964740</td>\n",
       "    </tr>\n",
       "    <tr>\n",
       "      <td>32</td>\n",
       "      <td>0.000000</td>\n",
       "      <td>0.016494</td>\n",
       "      <td>0.757695</td>\n",
       "      <td>0.759685</td>\n",
       "      <td>0.758689</td>\n",
       "      <td>0.964640</td>\n",
       "    </tr>\n",
       "    <tr>\n",
       "      <td>33</td>\n",
       "      <td>0.000000</td>\n",
       "      <td>0.017141</td>\n",
       "      <td>0.753662</td>\n",
       "      <td>0.743270</td>\n",
       "      <td>0.748430</td>\n",
       "      <td>0.963235</td>\n",
       "    </tr>\n",
       "    <tr>\n",
       "      <td>34</td>\n",
       "      <td>0.000000</td>\n",
       "      <td>0.018059</td>\n",
       "      <td>0.762162</td>\n",
       "      <td>0.740643</td>\n",
       "      <td>0.751249</td>\n",
       "      <td>0.964356</td>\n",
       "    </tr>\n",
       "    <tr>\n",
       "      <td>35</td>\n",
       "      <td>0.000000</td>\n",
       "      <td>0.017438</td>\n",
       "      <td>0.743523</td>\n",
       "      <td>0.753775</td>\n",
       "      <td>0.748614</td>\n",
       "      <td>0.963670</td>\n",
       "    </tr>\n",
       "    <tr>\n",
       "      <td>36</td>\n",
       "      <td>0.000000</td>\n",
       "      <td>0.017681</td>\n",
       "      <td>0.760081</td>\n",
       "      <td>0.742613</td>\n",
       "      <td>0.751245</td>\n",
       "      <td>0.963804</td>\n",
       "    </tr>\n",
       "    <tr>\n",
       "      <td>37</td>\n",
       "      <td>0.000000</td>\n",
       "      <td>0.018403</td>\n",
       "      <td>0.748527</td>\n",
       "      <td>0.750492</td>\n",
       "      <td>0.749508</td>\n",
       "      <td>0.963319</td>\n",
       "    </tr>\n",
       "    <tr>\n",
       "      <td>38</td>\n",
       "      <td>0.000000</td>\n",
       "      <td>0.017816</td>\n",
       "      <td>0.758205</td>\n",
       "      <td>0.743270</td>\n",
       "      <td>0.750663</td>\n",
       "      <td>0.963754</td>\n",
       "    </tr>\n",
       "    <tr>\n",
       "      <td>39</td>\n",
       "      <td>0.000000</td>\n",
       "      <td>0.017930</td>\n",
       "      <td>0.747059</td>\n",
       "      <td>0.750492</td>\n",
       "      <td>0.748772</td>\n",
       "      <td>0.963453</td>\n",
       "    </tr>\n",
       "    <tr>\n",
       "      <td>40</td>\n",
       "      <td>0.000000</td>\n",
       "      <td>0.017909</td>\n",
       "      <td>0.758043</td>\n",
       "      <td>0.742613</td>\n",
       "      <td>0.750249</td>\n",
       "      <td>0.964004</td>\n",
       "    </tr>\n",
       "  </tbody>\n",
       "</table><p>"
      ],
      "text/plain": [
       "<IPython.core.display.HTML object>"
      ]
     },
     "metadata": {},
     "output_type": "display_data"
    },
    {
     "data": {
      "application/vnd.jupyter.widget-view+json": {
       "model_id": "",
       "version_major": 2,
       "version_minor": 0
      },
      "text/plain": [
       "Label normalizing the evaluation dataset:   0%|          | 0/2590 [00:00<?, ? examples/s]"
      ]
     },
     "metadata": {},
     "output_type": "display_data"
    },
    {
     "data": {
      "application/vnd.jupyter.widget-view+json": {
       "model_id": "",
       "version_major": 2,
       "version_minor": 0
      },
      "text/plain": [
       "Tokenizing the evaluation dataset:   0%|          | 0/2590 [00:00<?, ? examples/s]"
      ]
     },
     "metadata": {},
     "output_type": "display_data"
    },
    {
     "name": "stderr",
     "output_type": "stream",
     "text": [
      "This SpanMarker model won't be able to predict 10.779145% of all annotated entities in the evaluation dataset. This is caused by the SpanMarkerModel maximum entity length of 8 words.\n",
      "These are the frequencies of the missed entities due to maximum entity length out of 1707 total entities:\n",
      "- 42 missed entities with 9 words (2.460457%)\n",
      "- 30 missed entities with 10 words (1.757469%)\n",
      "- 23 missed entities with 11 words (1.347393%)\n",
      "- 17 missed entities with 12 words (0.995899%)\n",
      "- 14 missed entities with 13 words (0.820152%)\n",
      "- 13 missed entities with 14 words (0.761570%)\n",
      "- 10 missed entities with 15 words (0.585823%)\n",
      "- 11 missed entities with 16 words (0.644405%)\n",
      "- 5 missed entities with 17 words (0.292912%)\n",
      "- 4 missed entities with 18 words (0.234329%)\n",
      "- 2 missed entities with 19 words (0.117165%)\n",
      "- 1 missed entities with 20 words (0.058582%)\n",
      "- 3 missed entities with 21 words (0.175747%)\n",
      "- 5 missed entities with 23 words (0.292912%)\n",
      "- 1 missed entities with 24 words (0.058582%)\n",
      "- 1 missed entities with 25 words (0.058582%)\n",
      "- 1 missed entities with 30 words (0.058582%)\n",
      "- 1 missed entities with 31 words (0.058582%)\n"
     ]
    },
    {
     "data": {
      "application/vnd.jupyter.widget-view+json": {
       "model_id": "",
       "version_major": 2,
       "version_minor": 0
      },
      "text/plain": [
       "Adding document-level context:   0%|          | 0/2590 [00:00<?, ?it/s]"
      ]
     },
     "metadata": {},
     "output_type": "display_data"
    },
    {
     "data": {
      "application/vnd.jupyter.widget-view+json": {
       "model_id": "",
       "version_major": 2,
       "version_minor": 0
      },
      "text/plain": [
       "Spreading data between multiple samples:   0%|          | 0/2590 [00:00<?, ? examples/s]"
      ]
     },
     "metadata": {},
     "output_type": "display_data"
    },
    {
     "data": {
      "application/vnd.jupyter.widget-view+json": {
       "model_id": "",
       "version_major": 2,
       "version_minor": 0
      },
      "text/plain": [
       "Label normalizing the evaluation dataset:   0%|          | 0/2590 [00:00<?, ? examples/s]"
      ]
     },
     "metadata": {},
     "output_type": "display_data"
    },
    {
     "data": {
      "application/vnd.jupyter.widget-view+json": {
       "model_id": "",
       "version_major": 2,
       "version_minor": 0
      },
      "text/plain": [
       "Tokenizing the evaluation dataset:   0%|          | 0/2590 [00:00<?, ? examples/s]"
      ]
     },
     "metadata": {},
     "output_type": "display_data"
    },
    {
     "name": "stderr",
     "output_type": "stream",
     "text": [
      "This SpanMarker model won't be able to predict 10.779145% of all annotated entities in the evaluation dataset. This is caused by the SpanMarkerModel maximum entity length of 8 words.\n",
      "These are the frequencies of the missed entities due to maximum entity length out of 1707 total entities:\n",
      "- 42 missed entities with 9 words (2.460457%)\n",
      "- 30 missed entities with 10 words (1.757469%)\n",
      "- 23 missed entities with 11 words (1.347393%)\n",
      "- 17 missed entities with 12 words (0.995899%)\n",
      "- 14 missed entities with 13 words (0.820152%)\n",
      "- 13 missed entities with 14 words (0.761570%)\n",
      "- 10 missed entities with 15 words (0.585823%)\n",
      "- 11 missed entities with 16 words (0.644405%)\n",
      "- 5 missed entities with 17 words (0.292912%)\n",
      "- 4 missed entities with 18 words (0.234329%)\n",
      "- 2 missed entities with 19 words (0.117165%)\n",
      "- 1 missed entities with 20 words (0.058582%)\n",
      "- 3 missed entities with 21 words (0.175747%)\n",
      "- 5 missed entities with 23 words (0.292912%)\n",
      "- 1 missed entities with 24 words (0.058582%)\n",
      "- 1 missed entities with 25 words (0.058582%)\n",
      "- 1 missed entities with 30 words (0.058582%)\n",
      "- 1 missed entities with 31 words (0.058582%)\n"
     ]
    },
    {
     "data": {
      "application/vnd.jupyter.widget-view+json": {
       "model_id": "",
       "version_major": 2,
       "version_minor": 0
      },
      "text/plain": [
       "Adding document-level context:   0%|          | 0/2590 [00:00<?, ?it/s]"
      ]
     },
     "metadata": {},
     "output_type": "display_data"
    },
    {
     "data": {
      "application/vnd.jupyter.widget-view+json": {
       "model_id": "",
       "version_major": 2,
       "version_minor": 0
      },
      "text/plain": [
       "Spreading data between multiple samples:   0%|          | 0/2590 [00:00<?, ? examples/s]"
      ]
     },
     "metadata": {},
     "output_type": "display_data"
    },
    {
     "data": {
      "application/vnd.jupyter.widget-view+json": {
       "model_id": "",
       "version_major": 2,
       "version_minor": 0
      },
      "text/plain": [
       "Label normalizing the evaluation dataset:   0%|          | 0/2590 [00:00<?, ? examples/s]"
      ]
     },
     "metadata": {},
     "output_type": "display_data"
    },
    {
     "data": {
      "application/vnd.jupyter.widget-view+json": {
       "model_id": "",
       "version_major": 2,
       "version_minor": 0
      },
      "text/plain": [
       "Tokenizing the evaluation dataset:   0%|          | 0/2590 [00:00<?, ? examples/s]"
      ]
     },
     "metadata": {},
     "output_type": "display_data"
    },
    {
     "name": "stderr",
     "output_type": "stream",
     "text": [
      "This SpanMarker model won't be able to predict 10.779145% of all annotated entities in the evaluation dataset. This is caused by the SpanMarkerModel maximum entity length of 8 words.\n",
      "These are the frequencies of the missed entities due to maximum entity length out of 1707 total entities:\n",
      "- 42 missed entities with 9 words (2.460457%)\n",
      "- 30 missed entities with 10 words (1.757469%)\n",
      "- 23 missed entities with 11 words (1.347393%)\n",
      "- 17 missed entities with 12 words (0.995899%)\n",
      "- 14 missed entities with 13 words (0.820152%)\n",
      "- 13 missed entities with 14 words (0.761570%)\n",
      "- 10 missed entities with 15 words (0.585823%)\n",
      "- 11 missed entities with 16 words (0.644405%)\n",
      "- 5 missed entities with 17 words (0.292912%)\n",
      "- 4 missed entities with 18 words (0.234329%)\n",
      "- 2 missed entities with 19 words (0.117165%)\n",
      "- 1 missed entities with 20 words (0.058582%)\n",
      "- 3 missed entities with 21 words (0.175747%)\n",
      "- 5 missed entities with 23 words (0.292912%)\n",
      "- 1 missed entities with 24 words (0.058582%)\n",
      "- 1 missed entities with 25 words (0.058582%)\n",
      "- 1 missed entities with 30 words (0.058582%)\n",
      "- 1 missed entities with 31 words (0.058582%)\n"
     ]
    },
    {
     "data": {
      "application/vnd.jupyter.widget-view+json": {
       "model_id": "",
       "version_major": 2,
       "version_minor": 0
      },
      "text/plain": [
       "Adding document-level context:   0%|          | 0/2590 [00:00<?, ?it/s]"
      ]
     },
     "metadata": {},
     "output_type": "display_data"
    },
    {
     "data": {
      "application/vnd.jupyter.widget-view+json": {
       "model_id": "",
       "version_major": 2,
       "version_minor": 0
      },
      "text/plain": [
       "Spreading data between multiple samples:   0%|          | 0/2590 [00:00<?, ? examples/s]"
      ]
     },
     "metadata": {},
     "output_type": "display_data"
    },
    {
     "data": {
      "application/vnd.jupyter.widget-view+json": {
       "model_id": "",
       "version_major": 2,
       "version_minor": 0
      },
      "text/plain": [
       "Label normalizing the evaluation dataset:   0%|          | 0/2590 [00:00<?, ? examples/s]"
      ]
     },
     "metadata": {},
     "output_type": "display_data"
    },
    {
     "data": {
      "application/vnd.jupyter.widget-view+json": {
       "model_id": "",
       "version_major": 2,
       "version_minor": 0
      },
      "text/plain": [
       "Tokenizing the evaluation dataset:   0%|          | 0/2590 [00:00<?, ? examples/s]"
      ]
     },
     "metadata": {},
     "output_type": "display_data"
    },
    {
     "name": "stderr",
     "output_type": "stream",
     "text": [
      "This SpanMarker model won't be able to predict 10.779145% of all annotated entities in the evaluation dataset. This is caused by the SpanMarkerModel maximum entity length of 8 words.\n",
      "These are the frequencies of the missed entities due to maximum entity length out of 1707 total entities:\n",
      "- 42 missed entities with 9 words (2.460457%)\n",
      "- 30 missed entities with 10 words (1.757469%)\n",
      "- 23 missed entities with 11 words (1.347393%)\n",
      "- 17 missed entities with 12 words (0.995899%)\n",
      "- 14 missed entities with 13 words (0.820152%)\n",
      "- 13 missed entities with 14 words (0.761570%)\n",
      "- 10 missed entities with 15 words (0.585823%)\n",
      "- 11 missed entities with 16 words (0.644405%)\n",
      "- 5 missed entities with 17 words (0.292912%)\n",
      "- 4 missed entities with 18 words (0.234329%)\n",
      "- 2 missed entities with 19 words (0.117165%)\n",
      "- 1 missed entities with 20 words (0.058582%)\n",
      "- 3 missed entities with 21 words (0.175747%)\n",
      "- 5 missed entities with 23 words (0.292912%)\n",
      "- 1 missed entities with 24 words (0.058582%)\n",
      "- 1 missed entities with 25 words (0.058582%)\n",
      "- 1 missed entities with 30 words (0.058582%)\n",
      "- 1 missed entities with 31 words (0.058582%)\n"
     ]
    },
    {
     "data": {
      "application/vnd.jupyter.widget-view+json": {
       "model_id": "",
       "version_major": 2,
       "version_minor": 0
      },
      "text/plain": [
       "Adding document-level context:   0%|          | 0/2590 [00:00<?, ?it/s]"
      ]
     },
     "metadata": {},
     "output_type": "display_data"
    },
    {
     "data": {
      "application/vnd.jupyter.widget-view+json": {
       "model_id": "",
       "version_major": 2,
       "version_minor": 0
      },
      "text/plain": [
       "Spreading data between multiple samples:   0%|          | 0/2590 [00:00<?, ? examples/s]"
      ]
     },
     "metadata": {},
     "output_type": "display_data"
    },
    {
     "data": {
      "application/vnd.jupyter.widget-view+json": {
       "model_id": "",
       "version_major": 2,
       "version_minor": 0
      },
      "text/plain": [
       "Label normalizing the evaluation dataset:   0%|          | 0/2590 [00:00<?, ? examples/s]"
      ]
     },
     "metadata": {},
     "output_type": "display_data"
    },
    {
     "data": {
      "application/vnd.jupyter.widget-view+json": {
       "model_id": "",
       "version_major": 2,
       "version_minor": 0
      },
      "text/plain": [
       "Tokenizing the evaluation dataset:   0%|          | 0/2590 [00:00<?, ? examples/s]"
      ]
     },
     "metadata": {},
     "output_type": "display_data"
    },
    {
     "name": "stderr",
     "output_type": "stream",
     "text": [
      "This SpanMarker model won't be able to predict 10.779145% of all annotated entities in the evaluation dataset. This is caused by the SpanMarkerModel maximum entity length of 8 words.\n",
      "These are the frequencies of the missed entities due to maximum entity length out of 1707 total entities:\n",
      "- 42 missed entities with 9 words (2.460457%)\n",
      "- 30 missed entities with 10 words (1.757469%)\n",
      "- 23 missed entities with 11 words (1.347393%)\n",
      "- 17 missed entities with 12 words (0.995899%)\n",
      "- 14 missed entities with 13 words (0.820152%)\n",
      "- 13 missed entities with 14 words (0.761570%)\n",
      "- 10 missed entities with 15 words (0.585823%)\n",
      "- 11 missed entities with 16 words (0.644405%)\n",
      "- 5 missed entities with 17 words (0.292912%)\n",
      "- 4 missed entities with 18 words (0.234329%)\n",
      "- 2 missed entities with 19 words (0.117165%)\n",
      "- 1 missed entities with 20 words (0.058582%)\n",
      "- 3 missed entities with 21 words (0.175747%)\n",
      "- 5 missed entities with 23 words (0.292912%)\n",
      "- 1 missed entities with 24 words (0.058582%)\n",
      "- 1 missed entities with 25 words (0.058582%)\n",
      "- 1 missed entities with 30 words (0.058582%)\n",
      "- 1 missed entities with 31 words (0.058582%)\n"
     ]
    },
    {
     "data": {
      "application/vnd.jupyter.widget-view+json": {
       "model_id": "",
       "version_major": 2,
       "version_minor": 0
      },
      "text/plain": [
       "Adding document-level context:   0%|          | 0/2590 [00:00<?, ?it/s]"
      ]
     },
     "metadata": {},
     "output_type": "display_data"
    },
    {
     "data": {
      "application/vnd.jupyter.widget-view+json": {
       "model_id": "",
       "version_major": 2,
       "version_minor": 0
      },
      "text/plain": [
       "Spreading data between multiple samples:   0%|          | 0/2590 [00:00<?, ? examples/s]"
      ]
     },
     "metadata": {},
     "output_type": "display_data"
    },
    {
     "data": {
      "application/vnd.jupyter.widget-view+json": {
       "model_id": "",
       "version_major": 2,
       "version_minor": 0
      },
      "text/plain": [
       "Label normalizing the evaluation dataset:   0%|          | 0/2590 [00:00<?, ? examples/s]"
      ]
     },
     "metadata": {},
     "output_type": "display_data"
    },
    {
     "data": {
      "application/vnd.jupyter.widget-view+json": {
       "model_id": "",
       "version_major": 2,
       "version_minor": 0
      },
      "text/plain": [
       "Tokenizing the evaluation dataset:   0%|          | 0/2590 [00:00<?, ? examples/s]"
      ]
     },
     "metadata": {},
     "output_type": "display_data"
    },
    {
     "name": "stderr",
     "output_type": "stream",
     "text": [
      "This SpanMarker model won't be able to predict 10.779145% of all annotated entities in the evaluation dataset. This is caused by the SpanMarkerModel maximum entity length of 8 words.\n",
      "These are the frequencies of the missed entities due to maximum entity length out of 1707 total entities:\n",
      "- 42 missed entities with 9 words (2.460457%)\n",
      "- 30 missed entities with 10 words (1.757469%)\n",
      "- 23 missed entities with 11 words (1.347393%)\n",
      "- 17 missed entities with 12 words (0.995899%)\n",
      "- 14 missed entities with 13 words (0.820152%)\n",
      "- 13 missed entities with 14 words (0.761570%)\n",
      "- 10 missed entities with 15 words (0.585823%)\n",
      "- 11 missed entities with 16 words (0.644405%)\n",
      "- 5 missed entities with 17 words (0.292912%)\n",
      "- 4 missed entities with 18 words (0.234329%)\n",
      "- 2 missed entities with 19 words (0.117165%)\n",
      "- 1 missed entities with 20 words (0.058582%)\n",
      "- 3 missed entities with 21 words (0.175747%)\n",
      "- 5 missed entities with 23 words (0.292912%)\n",
      "- 1 missed entities with 24 words (0.058582%)\n",
      "- 1 missed entities with 25 words (0.058582%)\n",
      "- 1 missed entities with 30 words (0.058582%)\n",
      "- 1 missed entities with 31 words (0.058582%)\n"
     ]
    },
    {
     "data": {
      "application/vnd.jupyter.widget-view+json": {
       "model_id": "",
       "version_major": 2,
       "version_minor": 0
      },
      "text/plain": [
       "Adding document-level context:   0%|          | 0/2590 [00:00<?, ?it/s]"
      ]
     },
     "metadata": {},
     "output_type": "display_data"
    },
    {
     "data": {
      "application/vnd.jupyter.widget-view+json": {
       "model_id": "",
       "version_major": 2,
       "version_minor": 0
      },
      "text/plain": [
       "Spreading data between multiple samples:   0%|          | 0/2590 [00:00<?, ? examples/s]"
      ]
     },
     "metadata": {},
     "output_type": "display_data"
    },
    {
     "data": {
      "application/vnd.jupyter.widget-view+json": {
       "model_id": "",
       "version_major": 2,
       "version_minor": 0
      },
      "text/plain": [
       "Label normalizing the evaluation dataset:   0%|          | 0/2590 [00:00<?, ? examples/s]"
      ]
     },
     "metadata": {},
     "output_type": "display_data"
    },
    {
     "data": {
      "application/vnd.jupyter.widget-view+json": {
       "model_id": "",
       "version_major": 2,
       "version_minor": 0
      },
      "text/plain": [
       "Tokenizing the evaluation dataset:   0%|          | 0/2590 [00:00<?, ? examples/s]"
      ]
     },
     "metadata": {},
     "output_type": "display_data"
    },
    {
     "name": "stderr",
     "output_type": "stream",
     "text": [
      "This SpanMarker model won't be able to predict 10.779145% of all annotated entities in the evaluation dataset. This is caused by the SpanMarkerModel maximum entity length of 8 words.\n",
      "These are the frequencies of the missed entities due to maximum entity length out of 1707 total entities:\n",
      "- 42 missed entities with 9 words (2.460457%)\n",
      "- 30 missed entities with 10 words (1.757469%)\n",
      "- 23 missed entities with 11 words (1.347393%)\n",
      "- 17 missed entities with 12 words (0.995899%)\n",
      "- 14 missed entities with 13 words (0.820152%)\n",
      "- 13 missed entities with 14 words (0.761570%)\n",
      "- 10 missed entities with 15 words (0.585823%)\n",
      "- 11 missed entities with 16 words (0.644405%)\n",
      "- 5 missed entities with 17 words (0.292912%)\n",
      "- 4 missed entities with 18 words (0.234329%)\n",
      "- 2 missed entities with 19 words (0.117165%)\n",
      "- 1 missed entities with 20 words (0.058582%)\n",
      "- 3 missed entities with 21 words (0.175747%)\n",
      "- 5 missed entities with 23 words (0.292912%)\n",
      "- 1 missed entities with 24 words (0.058582%)\n",
      "- 1 missed entities with 25 words (0.058582%)\n",
      "- 1 missed entities with 30 words (0.058582%)\n",
      "- 1 missed entities with 31 words (0.058582%)\n"
     ]
    },
    {
     "data": {
      "application/vnd.jupyter.widget-view+json": {
       "model_id": "",
       "version_major": 2,
       "version_minor": 0
      },
      "text/plain": [
       "Adding document-level context:   0%|          | 0/2590 [00:00<?, ?it/s]"
      ]
     },
     "metadata": {},
     "output_type": "display_data"
    },
    {
     "data": {
      "application/vnd.jupyter.widget-view+json": {
       "model_id": "",
       "version_major": 2,
       "version_minor": 0
      },
      "text/plain": [
       "Spreading data between multiple samples:   0%|          | 0/2590 [00:00<?, ? examples/s]"
      ]
     },
     "metadata": {},
     "output_type": "display_data"
    },
    {
     "data": {
      "application/vnd.jupyter.widget-view+json": {
       "model_id": "",
       "version_major": 2,
       "version_minor": 0
      },
      "text/plain": [
       "Label normalizing the evaluation dataset:   0%|          | 0/2590 [00:00<?, ? examples/s]"
      ]
     },
     "metadata": {},
     "output_type": "display_data"
    },
    {
     "data": {
      "application/vnd.jupyter.widget-view+json": {
       "model_id": "",
       "version_major": 2,
       "version_minor": 0
      },
      "text/plain": [
       "Tokenizing the evaluation dataset:   0%|          | 0/2590 [00:00<?, ? examples/s]"
      ]
     },
     "metadata": {},
     "output_type": "display_data"
    },
    {
     "name": "stderr",
     "output_type": "stream",
     "text": [
      "This SpanMarker model won't be able to predict 10.779145% of all annotated entities in the evaluation dataset. This is caused by the SpanMarkerModel maximum entity length of 8 words.\n",
      "These are the frequencies of the missed entities due to maximum entity length out of 1707 total entities:\n",
      "- 42 missed entities with 9 words (2.460457%)\n",
      "- 30 missed entities with 10 words (1.757469%)\n",
      "- 23 missed entities with 11 words (1.347393%)\n",
      "- 17 missed entities with 12 words (0.995899%)\n",
      "- 14 missed entities with 13 words (0.820152%)\n",
      "- 13 missed entities with 14 words (0.761570%)\n",
      "- 10 missed entities with 15 words (0.585823%)\n",
      "- 11 missed entities with 16 words (0.644405%)\n",
      "- 5 missed entities with 17 words (0.292912%)\n",
      "- 4 missed entities with 18 words (0.234329%)\n",
      "- 2 missed entities with 19 words (0.117165%)\n",
      "- 1 missed entities with 20 words (0.058582%)\n",
      "- 3 missed entities with 21 words (0.175747%)\n",
      "- 5 missed entities with 23 words (0.292912%)\n",
      "- 1 missed entities with 24 words (0.058582%)\n",
      "- 1 missed entities with 25 words (0.058582%)\n",
      "- 1 missed entities with 30 words (0.058582%)\n",
      "- 1 missed entities with 31 words (0.058582%)\n"
     ]
    },
    {
     "data": {
      "application/vnd.jupyter.widget-view+json": {
       "model_id": "7f0fcde7afeb40ffa1f9d27572cf482e",
       "version_major": 2,
       "version_minor": 0
      },
      "text/plain": [
       "Adding document-level context:   0%|          | 0/2590 [00:00<?, ?it/s]"
      ]
     },
     "metadata": {},
     "output_type": "display_data"
    },
    {
     "data": {
      "application/vnd.jupyter.widget-view+json": {
       "model_id": "d12d056ae25046ef91ec776bacb3a96b",
       "version_major": 2,
       "version_minor": 0
      },
      "text/plain": [
       "Spreading data between multiple samples:   0%|          | 0/2590 [00:00<?, ? examples/s]"
      ]
     },
     "metadata": {},
     "output_type": "display_data"
    },
    {
     "data": {
      "application/vnd.jupyter.widget-view+json": {
       "model_id": "e88f2aa8977a49b2a66a75d4e8bcddf3",
       "version_major": 2,
       "version_minor": 0
      },
      "text/plain": [
       "Label normalizing the evaluation dataset:   0%|          | 0/2590 [00:00<?, ? examples/s]"
      ]
     },
     "metadata": {},
     "output_type": "display_data"
    },
    {
     "data": {
      "application/vnd.jupyter.widget-view+json": {
       "model_id": "b6861f0ab6044dc5b9edb9d404bfd1a9",
       "version_major": 2,
       "version_minor": 0
      },
      "text/plain": [
       "Tokenizing the evaluation dataset:   0%|          | 0/2590 [00:00<?, ? examples/s]"
      ]
     },
     "metadata": {},
     "output_type": "display_data"
    },
    {
     "name": "stderr",
     "output_type": "stream",
     "text": [
      "This SpanMarker model won't be able to predict 10.779145% of all annotated entities in the evaluation dataset. This is caused by the SpanMarkerModel maximum entity length of 8 words.\n",
      "These are the frequencies of the missed entities due to maximum entity length out of 1707 total entities:\n",
      "- 42 missed entities with 9 words (2.460457%)\n",
      "- 30 missed entities with 10 words (1.757469%)\n",
      "- 23 missed entities with 11 words (1.347393%)\n",
      "- 17 missed entities with 12 words (0.995899%)\n",
      "- 14 missed entities with 13 words (0.820152%)\n",
      "- 13 missed entities with 14 words (0.761570%)\n",
      "- 10 missed entities with 15 words (0.585823%)\n",
      "- 11 missed entities with 16 words (0.644405%)\n",
      "- 5 missed entities with 17 words (0.292912%)\n",
      "- 4 missed entities with 18 words (0.234329%)\n",
      "- 2 missed entities with 19 words (0.117165%)\n",
      "- 1 missed entities with 20 words (0.058582%)\n",
      "- 3 missed entities with 21 words (0.175747%)\n",
      "- 5 missed entities with 23 words (0.292912%)\n",
      "- 1 missed entities with 24 words (0.058582%)\n",
      "- 1 missed entities with 25 words (0.058582%)\n",
      "- 1 missed entities with 30 words (0.058582%)\n",
      "- 1 missed entities with 31 words (0.058582%)\n"
     ]
    },
    {
     "data": {
      "application/vnd.jupyter.widget-view+json": {
       "model_id": "c09dfb2e582e4cd69fa9e1d56126162a",
       "version_major": 2,
       "version_minor": 0
      },
      "text/plain": [
       "Adding document-level context:   0%|          | 0/2590 [00:00<?, ?it/s]"
      ]
     },
     "metadata": {},
     "output_type": "display_data"
    },
    {
     "data": {
      "application/vnd.jupyter.widget-view+json": {
       "model_id": "11cd545bf51f4513adfb28c0f28d93e6",
       "version_major": 2,
       "version_minor": 0
      },
      "text/plain": [
       "Spreading data between multiple samples:   0%|          | 0/2590 [00:00<?, ? examples/s]"
      ]
     },
     "metadata": {},
     "output_type": "display_data"
    },
    {
     "data": {
      "application/vnd.jupyter.widget-view+json": {
       "model_id": "89c73181f2ba48bab820f5fa2c1423dd",
       "version_major": 2,
       "version_minor": 0
      },
      "text/plain": [
       "Label normalizing the evaluation dataset:   0%|          | 0/2590 [00:00<?, ? examples/s]"
      ]
     },
     "metadata": {},
     "output_type": "display_data"
    },
    {
     "data": {
      "application/vnd.jupyter.widget-view+json": {
       "model_id": "071369d69fb249f3acb70f7acbcf2046",
       "version_major": 2,
       "version_minor": 0
      },
      "text/plain": [
       "Tokenizing the evaluation dataset:   0%|          | 0/2590 [00:00<?, ? examples/s]"
      ]
     },
     "metadata": {},
     "output_type": "display_data"
    },
    {
     "name": "stderr",
     "output_type": "stream",
     "text": [
      "This SpanMarker model won't be able to predict 10.779145% of all annotated entities in the evaluation dataset. This is caused by the SpanMarkerModel maximum entity length of 8 words.\n",
      "These are the frequencies of the missed entities due to maximum entity length out of 1707 total entities:\n",
      "- 42 missed entities with 9 words (2.460457%)\n",
      "- 30 missed entities with 10 words (1.757469%)\n",
      "- 23 missed entities with 11 words (1.347393%)\n",
      "- 17 missed entities with 12 words (0.995899%)\n",
      "- 14 missed entities with 13 words (0.820152%)\n",
      "- 13 missed entities with 14 words (0.761570%)\n",
      "- 10 missed entities with 15 words (0.585823%)\n",
      "- 11 missed entities with 16 words (0.644405%)\n",
      "- 5 missed entities with 17 words (0.292912%)\n",
      "- 4 missed entities with 18 words (0.234329%)\n",
      "- 2 missed entities with 19 words (0.117165%)\n",
      "- 1 missed entities with 20 words (0.058582%)\n",
      "- 3 missed entities with 21 words (0.175747%)\n",
      "- 5 missed entities with 23 words (0.292912%)\n",
      "- 1 missed entities with 24 words (0.058582%)\n",
      "- 1 missed entities with 25 words (0.058582%)\n",
      "- 1 missed entities with 30 words (0.058582%)\n",
      "- 1 missed entities with 31 words (0.058582%)\n"
     ]
    },
    {
     "data": {
      "application/vnd.jupyter.widget-view+json": {
       "model_id": "d1951bb1f9324ac1a8fec289440bfc80",
       "version_major": 2,
       "version_minor": 0
      },
      "text/plain": [
       "Adding document-level context:   0%|          | 0/2590 [00:00<?, ?it/s]"
      ]
     },
     "metadata": {},
     "output_type": "display_data"
    },
    {
     "data": {
      "application/vnd.jupyter.widget-view+json": {
       "model_id": "45907b5b827b40dc80f2b7fbf7824d1f",
       "version_major": 2,
       "version_minor": 0
      },
      "text/plain": [
       "Spreading data between multiple samples:   0%|          | 0/2590 [00:00<?, ? examples/s]"
      ]
     },
     "metadata": {},
     "output_type": "display_data"
    },
    {
     "data": {
      "application/vnd.jupyter.widget-view+json": {
       "model_id": "24e580d17ee94fa5afc358978c6b3fce",
       "version_major": 2,
       "version_minor": 0
      },
      "text/plain": [
       "Label normalizing the evaluation dataset:   0%|          | 0/2590 [00:00<?, ? examples/s]"
      ]
     },
     "metadata": {},
     "output_type": "display_data"
    },
    {
     "data": {
      "application/vnd.jupyter.widget-view+json": {
       "model_id": "f0952b436640489d8b0ba50c14e33d8e",
       "version_major": 2,
       "version_minor": 0
      },
      "text/plain": [
       "Tokenizing the evaluation dataset:   0%|          | 0/2590 [00:00<?, ? examples/s]"
      ]
     },
     "metadata": {},
     "output_type": "display_data"
    },
    {
     "name": "stderr",
     "output_type": "stream",
     "text": [
      "This SpanMarker model won't be able to predict 10.779145% of all annotated entities in the evaluation dataset. This is caused by the SpanMarkerModel maximum entity length of 8 words.\n",
      "These are the frequencies of the missed entities due to maximum entity length out of 1707 total entities:\n",
      "- 42 missed entities with 9 words (2.460457%)\n",
      "- 30 missed entities with 10 words (1.757469%)\n",
      "- 23 missed entities with 11 words (1.347393%)\n",
      "- 17 missed entities with 12 words (0.995899%)\n",
      "- 14 missed entities with 13 words (0.820152%)\n",
      "- 13 missed entities with 14 words (0.761570%)\n",
      "- 10 missed entities with 15 words (0.585823%)\n",
      "- 11 missed entities with 16 words (0.644405%)\n",
      "- 5 missed entities with 17 words (0.292912%)\n",
      "- 4 missed entities with 18 words (0.234329%)\n",
      "- 2 missed entities with 19 words (0.117165%)\n",
      "- 1 missed entities with 20 words (0.058582%)\n",
      "- 3 missed entities with 21 words (0.175747%)\n",
      "- 5 missed entities with 23 words (0.292912%)\n",
      "- 1 missed entities with 24 words (0.058582%)\n",
      "- 1 missed entities with 25 words (0.058582%)\n",
      "- 1 missed entities with 30 words (0.058582%)\n",
      "- 1 missed entities with 31 words (0.058582%)\n"
     ]
    },
    {
     "data": {
      "application/vnd.jupyter.widget-view+json": {
       "model_id": "a21a72bcf00d444e9e36999d8d9050d3",
       "version_major": 2,
       "version_minor": 0
      },
      "text/plain": [
       "Adding document-level context:   0%|          | 0/2590 [00:00<?, ?it/s]"
      ]
     },
     "metadata": {},
     "output_type": "display_data"
    },
    {
     "data": {
      "application/vnd.jupyter.widget-view+json": {
       "model_id": "ed61d6c951554553b868d15272231a06",
       "version_major": 2,
       "version_minor": 0
      },
      "text/plain": [
       "Spreading data between multiple samples:   0%|          | 0/2590 [00:00<?, ? examples/s]"
      ]
     },
     "metadata": {},
     "output_type": "display_data"
    },
    {
     "data": {
      "application/vnd.jupyter.widget-view+json": {
       "model_id": "6a236222c72e4a3ba7a46c86ef4cb78e",
       "version_major": 2,
       "version_minor": 0
      },
      "text/plain": [
       "Label normalizing the evaluation dataset:   0%|          | 0/2590 [00:00<?, ? examples/s]"
      ]
     },
     "metadata": {},
     "output_type": "display_data"
    },
    {
     "data": {
      "application/vnd.jupyter.widget-view+json": {
       "model_id": "cb13f2be3c26497d94db0a9486fe6896",
       "version_major": 2,
       "version_minor": 0
      },
      "text/plain": [
       "Tokenizing the evaluation dataset:   0%|          | 0/2590 [00:00<?, ? examples/s]"
      ]
     },
     "metadata": {},
     "output_type": "display_data"
    },
    {
     "name": "stderr",
     "output_type": "stream",
     "text": [
      "This SpanMarker model won't be able to predict 10.779145% of all annotated entities in the evaluation dataset. This is caused by the SpanMarkerModel maximum entity length of 8 words.\n",
      "These are the frequencies of the missed entities due to maximum entity length out of 1707 total entities:\n",
      "- 42 missed entities with 9 words (2.460457%)\n",
      "- 30 missed entities with 10 words (1.757469%)\n",
      "- 23 missed entities with 11 words (1.347393%)\n",
      "- 17 missed entities with 12 words (0.995899%)\n",
      "- 14 missed entities with 13 words (0.820152%)\n",
      "- 13 missed entities with 14 words (0.761570%)\n",
      "- 10 missed entities with 15 words (0.585823%)\n",
      "- 11 missed entities with 16 words (0.644405%)\n",
      "- 5 missed entities with 17 words (0.292912%)\n",
      "- 4 missed entities with 18 words (0.234329%)\n",
      "- 2 missed entities with 19 words (0.117165%)\n",
      "- 1 missed entities with 20 words (0.058582%)\n",
      "- 3 missed entities with 21 words (0.175747%)\n",
      "- 5 missed entities with 23 words (0.292912%)\n",
      "- 1 missed entities with 24 words (0.058582%)\n",
      "- 1 missed entities with 25 words (0.058582%)\n",
      "- 1 missed entities with 30 words (0.058582%)\n",
      "- 1 missed entities with 31 words (0.058582%)\n"
     ]
    },
    {
     "data": {
      "application/vnd.jupyter.widget-view+json": {
       "model_id": "2eb3ad285c2b41aa9dc6c7bc83272967",
       "version_major": 2,
       "version_minor": 0
      },
      "text/plain": [
       "Adding document-level context:   0%|          | 0/2590 [00:00<?, ?it/s]"
      ]
     },
     "metadata": {},
     "output_type": "display_data"
    },
    {
     "data": {
      "application/vnd.jupyter.widget-view+json": {
       "model_id": "4ea1af3277a444208b2fa7f48c244111",
       "version_major": 2,
       "version_minor": 0
      },
      "text/plain": [
       "Spreading data between multiple samples:   0%|          | 0/2590 [00:00<?, ? examples/s]"
      ]
     },
     "metadata": {},
     "output_type": "display_data"
    },
    {
     "data": {
      "application/vnd.jupyter.widget-view+json": {
       "model_id": "11072e47c07647dfad0f567903ecc60e",
       "version_major": 2,
       "version_minor": 0
      },
      "text/plain": [
       "Label normalizing the evaluation dataset:   0%|          | 0/2590 [00:00<?, ? examples/s]"
      ]
     },
     "metadata": {},
     "output_type": "display_data"
    },
    {
     "data": {
      "application/vnd.jupyter.widget-view+json": {
       "model_id": "12f1994cfa1546c3a85a7cd0208e7175",
       "version_major": 2,
       "version_minor": 0
      },
      "text/plain": [
       "Tokenizing the evaluation dataset:   0%|          | 0/2590 [00:00<?, ? examples/s]"
      ]
     },
     "metadata": {},
     "output_type": "display_data"
    },
    {
     "name": "stderr",
     "output_type": "stream",
     "text": [
      "This SpanMarker model won't be able to predict 10.779145% of all annotated entities in the evaluation dataset. This is caused by the SpanMarkerModel maximum entity length of 8 words.\n",
      "These are the frequencies of the missed entities due to maximum entity length out of 1707 total entities:\n",
      "- 42 missed entities with 9 words (2.460457%)\n",
      "- 30 missed entities with 10 words (1.757469%)\n",
      "- 23 missed entities with 11 words (1.347393%)\n",
      "- 17 missed entities with 12 words (0.995899%)\n",
      "- 14 missed entities with 13 words (0.820152%)\n",
      "- 13 missed entities with 14 words (0.761570%)\n",
      "- 10 missed entities with 15 words (0.585823%)\n",
      "- 11 missed entities with 16 words (0.644405%)\n",
      "- 5 missed entities with 17 words (0.292912%)\n",
      "- 4 missed entities with 18 words (0.234329%)\n",
      "- 2 missed entities with 19 words (0.117165%)\n",
      "- 1 missed entities with 20 words (0.058582%)\n",
      "- 3 missed entities with 21 words (0.175747%)\n",
      "- 5 missed entities with 23 words (0.292912%)\n",
      "- 1 missed entities with 24 words (0.058582%)\n",
      "- 1 missed entities with 25 words (0.058582%)\n",
      "- 1 missed entities with 30 words (0.058582%)\n",
      "- 1 missed entities with 31 words (0.058582%)\n"
     ]
    },
    {
     "data": {
      "application/vnd.jupyter.widget-view+json": {
       "model_id": "f667efb2e28f4dbc82ceb76f8a768e80",
       "version_major": 2,
       "version_minor": 0
      },
      "text/plain": [
       "Adding document-level context:   0%|          | 0/2590 [00:00<?, ?it/s]"
      ]
     },
     "metadata": {},
     "output_type": "display_data"
    },
    {
     "data": {
      "application/vnd.jupyter.widget-view+json": {
       "model_id": "34dbc9682a054ad393679031a0d0567b",
       "version_major": 2,
       "version_minor": 0
      },
      "text/plain": [
       "Spreading data between multiple samples:   0%|          | 0/2590 [00:00<?, ? examples/s]"
      ]
     },
     "metadata": {},
     "output_type": "display_data"
    },
    {
     "data": {
      "application/vnd.jupyter.widget-view+json": {
       "model_id": "86fd871a613a4e4b88f7337d26be5155",
       "version_major": 2,
       "version_minor": 0
      },
      "text/plain": [
       "Label normalizing the evaluation dataset:   0%|          | 0/2590 [00:00<?, ? examples/s]"
      ]
     },
     "metadata": {},
     "output_type": "display_data"
    },
    {
     "data": {
      "application/vnd.jupyter.widget-view+json": {
       "model_id": "ef15653345ed4622aa0eac66acbb17f2",
       "version_major": 2,
       "version_minor": 0
      },
      "text/plain": [
       "Tokenizing the evaluation dataset:   0%|          | 0/2590 [00:00<?, ? examples/s]"
      ]
     },
     "metadata": {},
     "output_type": "display_data"
    },
    {
     "name": "stderr",
     "output_type": "stream",
     "text": [
      "This SpanMarker model won't be able to predict 10.779145% of all annotated entities in the evaluation dataset. This is caused by the SpanMarkerModel maximum entity length of 8 words.\n",
      "These are the frequencies of the missed entities due to maximum entity length out of 1707 total entities:\n",
      "- 42 missed entities with 9 words (2.460457%)\n",
      "- 30 missed entities with 10 words (1.757469%)\n",
      "- 23 missed entities with 11 words (1.347393%)\n",
      "- 17 missed entities with 12 words (0.995899%)\n",
      "- 14 missed entities with 13 words (0.820152%)\n",
      "- 13 missed entities with 14 words (0.761570%)\n",
      "- 10 missed entities with 15 words (0.585823%)\n",
      "- 11 missed entities with 16 words (0.644405%)\n",
      "- 5 missed entities with 17 words (0.292912%)\n",
      "- 4 missed entities with 18 words (0.234329%)\n",
      "- 2 missed entities with 19 words (0.117165%)\n",
      "- 1 missed entities with 20 words (0.058582%)\n",
      "- 3 missed entities with 21 words (0.175747%)\n",
      "- 5 missed entities with 23 words (0.292912%)\n",
      "- 1 missed entities with 24 words (0.058582%)\n",
      "- 1 missed entities with 25 words (0.058582%)\n",
      "- 1 missed entities with 30 words (0.058582%)\n",
      "- 1 missed entities with 31 words (0.058582%)\n"
     ]
    },
    {
     "data": {
      "application/vnd.jupyter.widget-view+json": {
       "model_id": "33560063b5f44a15adecf68d105a2dbb",
       "version_major": 2,
       "version_minor": 0
      },
      "text/plain": [
       "Adding document-level context:   0%|          | 0/2590 [00:00<?, ?it/s]"
      ]
     },
     "metadata": {},
     "output_type": "display_data"
    },
    {
     "data": {
      "application/vnd.jupyter.widget-view+json": {
       "model_id": "ac65a876c9fc443999bfdcb96c43dafb",
       "version_major": 2,
       "version_minor": 0
      },
      "text/plain": [
       "Spreading data between multiple samples:   0%|          | 0/2590 [00:00<?, ? examples/s]"
      ]
     },
     "metadata": {},
     "output_type": "display_data"
    },
    {
     "data": {
      "application/vnd.jupyter.widget-view+json": {
       "model_id": "873238067379474188a46bc41904bbfe",
       "version_major": 2,
       "version_minor": 0
      },
      "text/plain": [
       "Label normalizing the evaluation dataset:   0%|          | 0/2590 [00:00<?, ? examples/s]"
      ]
     },
     "metadata": {},
     "output_type": "display_data"
    },
    {
     "data": {
      "application/vnd.jupyter.widget-view+json": {
       "model_id": "1dc153ddad1c491e800f7cb7e5030eab",
       "version_major": 2,
       "version_minor": 0
      },
      "text/plain": [
       "Tokenizing the evaluation dataset:   0%|          | 0/2590 [00:00<?, ? examples/s]"
      ]
     },
     "metadata": {},
     "output_type": "display_data"
    },
    {
     "name": "stderr",
     "output_type": "stream",
     "text": [
      "This SpanMarker model won't be able to predict 10.779145% of all annotated entities in the evaluation dataset. This is caused by the SpanMarkerModel maximum entity length of 8 words.\n",
      "These are the frequencies of the missed entities due to maximum entity length out of 1707 total entities:\n",
      "- 42 missed entities with 9 words (2.460457%)\n",
      "- 30 missed entities with 10 words (1.757469%)\n",
      "- 23 missed entities with 11 words (1.347393%)\n",
      "- 17 missed entities with 12 words (0.995899%)\n",
      "- 14 missed entities with 13 words (0.820152%)\n",
      "- 13 missed entities with 14 words (0.761570%)\n",
      "- 10 missed entities with 15 words (0.585823%)\n",
      "- 11 missed entities with 16 words (0.644405%)\n",
      "- 5 missed entities with 17 words (0.292912%)\n",
      "- 4 missed entities with 18 words (0.234329%)\n",
      "- 2 missed entities with 19 words (0.117165%)\n",
      "- 1 missed entities with 20 words (0.058582%)\n",
      "- 3 missed entities with 21 words (0.175747%)\n",
      "- 5 missed entities with 23 words (0.292912%)\n",
      "- 1 missed entities with 24 words (0.058582%)\n",
      "- 1 missed entities with 25 words (0.058582%)\n",
      "- 1 missed entities with 30 words (0.058582%)\n",
      "- 1 missed entities with 31 words (0.058582%)\n"
     ]
    },
    {
     "data": {
      "application/vnd.jupyter.widget-view+json": {
       "model_id": "272fa5c7351848ff9da791fea2d1b72b",
       "version_major": 2,
       "version_minor": 0
      },
      "text/plain": [
       "Adding document-level context:   0%|          | 0/2590 [00:00<?, ?it/s]"
      ]
     },
     "metadata": {},
     "output_type": "display_data"
    },
    {
     "data": {
      "application/vnd.jupyter.widget-view+json": {
       "model_id": "3ee3af4d9e2849119c34bbe0c7265d64",
       "version_major": 2,
       "version_minor": 0
      },
      "text/plain": [
       "Spreading data between multiple samples:   0%|          | 0/2590 [00:00<?, ? examples/s]"
      ]
     },
     "metadata": {},
     "output_type": "display_data"
    },
    {
     "data": {
      "application/vnd.jupyter.widget-view+json": {
       "model_id": "dfa8bd5517434475bbff78d3d73552d3",
       "version_major": 2,
       "version_minor": 0
      },
      "text/plain": [
       "Label normalizing the evaluation dataset:   0%|          | 0/2590 [00:00<?, ? examples/s]"
      ]
     },
     "metadata": {},
     "output_type": "display_data"
    },
    {
     "data": {
      "application/vnd.jupyter.widget-view+json": {
       "model_id": "4111df9535ad4b79813ab289a405d09f",
       "version_major": 2,
       "version_minor": 0
      },
      "text/plain": [
       "Tokenizing the evaluation dataset:   0%|          | 0/2590 [00:00<?, ? examples/s]"
      ]
     },
     "metadata": {},
     "output_type": "display_data"
    },
    {
     "name": "stderr",
     "output_type": "stream",
     "text": [
      "This SpanMarker model won't be able to predict 10.779145% of all annotated entities in the evaluation dataset. This is caused by the SpanMarkerModel maximum entity length of 8 words.\n",
      "These are the frequencies of the missed entities due to maximum entity length out of 1707 total entities:\n",
      "- 42 missed entities with 9 words (2.460457%)\n",
      "- 30 missed entities with 10 words (1.757469%)\n",
      "- 23 missed entities with 11 words (1.347393%)\n",
      "- 17 missed entities with 12 words (0.995899%)\n",
      "- 14 missed entities with 13 words (0.820152%)\n",
      "- 13 missed entities with 14 words (0.761570%)\n",
      "- 10 missed entities with 15 words (0.585823%)\n",
      "- 11 missed entities with 16 words (0.644405%)\n",
      "- 5 missed entities with 17 words (0.292912%)\n",
      "- 4 missed entities with 18 words (0.234329%)\n",
      "- 2 missed entities with 19 words (0.117165%)\n",
      "- 1 missed entities with 20 words (0.058582%)\n",
      "- 3 missed entities with 21 words (0.175747%)\n",
      "- 5 missed entities with 23 words (0.292912%)\n",
      "- 1 missed entities with 24 words (0.058582%)\n",
      "- 1 missed entities with 25 words (0.058582%)\n",
      "- 1 missed entities with 30 words (0.058582%)\n",
      "- 1 missed entities with 31 words (0.058582%)\n"
     ]
    },
    {
     "data": {
      "application/vnd.jupyter.widget-view+json": {
       "model_id": "15c14786aae44764982f80756406f6d7",
       "version_major": 2,
       "version_minor": 0
      },
      "text/plain": [
       "Adding document-level context:   0%|          | 0/2590 [00:00<?, ?it/s]"
      ]
     },
     "metadata": {},
     "output_type": "display_data"
    },
    {
     "data": {
      "application/vnd.jupyter.widget-view+json": {
       "model_id": "c6fef975717b4ea993df82d9d9840ca3",
       "version_major": 2,
       "version_minor": 0
      },
      "text/plain": [
       "Spreading data between multiple samples:   0%|          | 0/2590 [00:00<?, ? examples/s]"
      ]
     },
     "metadata": {},
     "output_type": "display_data"
    },
    {
     "data": {
      "application/vnd.jupyter.widget-view+json": {
       "model_id": "7c61fc2c594c4dc8b7a5c9931be949ef",
       "version_major": 2,
       "version_minor": 0
      },
      "text/plain": [
       "Label normalizing the evaluation dataset:   0%|          | 0/2590 [00:00<?, ? examples/s]"
      ]
     },
     "metadata": {},
     "output_type": "display_data"
    },
    {
     "data": {
      "application/vnd.jupyter.widget-view+json": {
       "model_id": "7b9b46f7b7084be19f77ec2e654dfc48",
       "version_major": 2,
       "version_minor": 0
      },
      "text/plain": [
       "Tokenizing the evaluation dataset:   0%|          | 0/2590 [00:00<?, ? examples/s]"
      ]
     },
     "metadata": {},
     "output_type": "display_data"
    },
    {
     "name": "stderr",
     "output_type": "stream",
     "text": [
      "This SpanMarker model won't be able to predict 10.779145% of all annotated entities in the evaluation dataset. This is caused by the SpanMarkerModel maximum entity length of 8 words.\n",
      "These are the frequencies of the missed entities due to maximum entity length out of 1707 total entities:\n",
      "- 42 missed entities with 9 words (2.460457%)\n",
      "- 30 missed entities with 10 words (1.757469%)\n",
      "- 23 missed entities with 11 words (1.347393%)\n",
      "- 17 missed entities with 12 words (0.995899%)\n",
      "- 14 missed entities with 13 words (0.820152%)\n",
      "- 13 missed entities with 14 words (0.761570%)\n",
      "- 10 missed entities with 15 words (0.585823%)\n",
      "- 11 missed entities with 16 words (0.644405%)\n",
      "- 5 missed entities with 17 words (0.292912%)\n",
      "- 4 missed entities with 18 words (0.234329%)\n",
      "- 2 missed entities with 19 words (0.117165%)\n",
      "- 1 missed entities with 20 words (0.058582%)\n",
      "- 3 missed entities with 21 words (0.175747%)\n",
      "- 5 missed entities with 23 words (0.292912%)\n",
      "- 1 missed entities with 24 words (0.058582%)\n",
      "- 1 missed entities with 25 words (0.058582%)\n",
      "- 1 missed entities with 30 words (0.058582%)\n",
      "- 1 missed entities with 31 words (0.058582%)\n"
     ]
    },
    {
     "data": {
      "application/vnd.jupyter.widget-view+json": {
       "model_id": "70103409ef1d48f6af08519822dcf9d2",
       "version_major": 2,
       "version_minor": 0
      },
      "text/plain": [
       "Adding document-level context:   0%|          | 0/2590 [00:00<?, ?it/s]"
      ]
     },
     "metadata": {},
     "output_type": "display_data"
    },
    {
     "data": {
      "application/vnd.jupyter.widget-view+json": {
       "model_id": "02568f23655942aca62be428ab6faf5c",
       "version_major": 2,
       "version_minor": 0
      },
      "text/plain": [
       "Spreading data between multiple samples:   0%|          | 0/2590 [00:00<?, ? examples/s]"
      ]
     },
     "metadata": {},
     "output_type": "display_data"
    },
    {
     "data": {
      "application/vnd.jupyter.widget-view+json": {
       "model_id": "36ef0e61a683420ab30cc575566c19f1",
       "version_major": 2,
       "version_minor": 0
      },
      "text/plain": [
       "Label normalizing the evaluation dataset:   0%|          | 0/2590 [00:00<?, ? examples/s]"
      ]
     },
     "metadata": {},
     "output_type": "display_data"
    },
    {
     "data": {
      "application/vnd.jupyter.widget-view+json": {
       "model_id": "01aedb7b692b4785b8a8d4fd9ae44fd0",
       "version_major": 2,
       "version_minor": 0
      },
      "text/plain": [
       "Tokenizing the evaluation dataset:   0%|          | 0/2590 [00:00<?, ? examples/s]"
      ]
     },
     "metadata": {},
     "output_type": "display_data"
    },
    {
     "name": "stderr",
     "output_type": "stream",
     "text": [
      "This SpanMarker model won't be able to predict 10.779145% of all annotated entities in the evaluation dataset. This is caused by the SpanMarkerModel maximum entity length of 8 words.\n",
      "These are the frequencies of the missed entities due to maximum entity length out of 1707 total entities:\n",
      "- 42 missed entities with 9 words (2.460457%)\n",
      "- 30 missed entities with 10 words (1.757469%)\n",
      "- 23 missed entities with 11 words (1.347393%)\n",
      "- 17 missed entities with 12 words (0.995899%)\n",
      "- 14 missed entities with 13 words (0.820152%)\n",
      "- 13 missed entities with 14 words (0.761570%)\n",
      "- 10 missed entities with 15 words (0.585823%)\n",
      "- 11 missed entities with 16 words (0.644405%)\n",
      "- 5 missed entities with 17 words (0.292912%)\n",
      "- 4 missed entities with 18 words (0.234329%)\n",
      "- 2 missed entities with 19 words (0.117165%)\n",
      "- 1 missed entities with 20 words (0.058582%)\n",
      "- 3 missed entities with 21 words (0.175747%)\n",
      "- 5 missed entities with 23 words (0.292912%)\n",
      "- 1 missed entities with 24 words (0.058582%)\n",
      "- 1 missed entities with 25 words (0.058582%)\n",
      "- 1 missed entities with 30 words (0.058582%)\n",
      "- 1 missed entities with 31 words (0.058582%)\n"
     ]
    },
    {
     "data": {
      "application/vnd.jupyter.widget-view+json": {
       "model_id": "27bce096d9d44512aaa4f07f8917771b",
       "version_major": 2,
       "version_minor": 0
      },
      "text/plain": [
       "Adding document-level context:   0%|          | 0/2590 [00:00<?, ?it/s]"
      ]
     },
     "metadata": {},
     "output_type": "display_data"
    },
    {
     "data": {
      "application/vnd.jupyter.widget-view+json": {
       "model_id": "761ad191d0974945a25a39e91648d742",
       "version_major": 2,
       "version_minor": 0
      },
      "text/plain": [
       "Spreading data between multiple samples:   0%|          | 0/2590 [00:00<?, ? examples/s]"
      ]
     },
     "metadata": {},
     "output_type": "display_data"
    },
    {
     "data": {
      "application/vnd.jupyter.widget-view+json": {
       "model_id": "be7c4a8aeb7c4996a6490216c08873c7",
       "version_major": 2,
       "version_minor": 0
      },
      "text/plain": [
       "Label normalizing the evaluation dataset:   0%|          | 0/2590 [00:00<?, ? examples/s]"
      ]
     },
     "metadata": {},
     "output_type": "display_data"
    },
    {
     "data": {
      "application/vnd.jupyter.widget-view+json": {
       "model_id": "bb0545e4fdfc466b8bc768f2bc14c22b",
       "version_major": 2,
       "version_minor": 0
      },
      "text/plain": [
       "Tokenizing the evaluation dataset:   0%|          | 0/2590 [00:00<?, ? examples/s]"
      ]
     },
     "metadata": {},
     "output_type": "display_data"
    },
    {
     "name": "stderr",
     "output_type": "stream",
     "text": [
      "This SpanMarker model won't be able to predict 10.779145% of all annotated entities in the evaluation dataset. This is caused by the SpanMarkerModel maximum entity length of 8 words.\n",
      "These are the frequencies of the missed entities due to maximum entity length out of 1707 total entities:\n",
      "- 42 missed entities with 9 words (2.460457%)\n",
      "- 30 missed entities with 10 words (1.757469%)\n",
      "- 23 missed entities with 11 words (1.347393%)\n",
      "- 17 missed entities with 12 words (0.995899%)\n",
      "- 14 missed entities with 13 words (0.820152%)\n",
      "- 13 missed entities with 14 words (0.761570%)\n",
      "- 10 missed entities with 15 words (0.585823%)\n",
      "- 11 missed entities with 16 words (0.644405%)\n",
      "- 5 missed entities with 17 words (0.292912%)\n",
      "- 4 missed entities with 18 words (0.234329%)\n",
      "- 2 missed entities with 19 words (0.117165%)\n",
      "- 1 missed entities with 20 words (0.058582%)\n",
      "- 3 missed entities with 21 words (0.175747%)\n",
      "- 5 missed entities with 23 words (0.292912%)\n",
      "- 1 missed entities with 24 words (0.058582%)\n",
      "- 1 missed entities with 25 words (0.058582%)\n",
      "- 1 missed entities with 30 words (0.058582%)\n",
      "- 1 missed entities with 31 words (0.058582%)\n"
     ]
    },
    {
     "data": {
      "application/vnd.jupyter.widget-view+json": {
       "model_id": "6e1e951f307240f9a30def17e7ccdc13",
       "version_major": 2,
       "version_minor": 0
      },
      "text/plain": [
       "Adding document-level context:   0%|          | 0/2590 [00:00<?, ?it/s]"
      ]
     },
     "metadata": {},
     "output_type": "display_data"
    },
    {
     "data": {
      "application/vnd.jupyter.widget-view+json": {
       "model_id": "324592cd201e4a98bf5556f648fea369",
       "version_major": 2,
       "version_minor": 0
      },
      "text/plain": [
       "Spreading data between multiple samples:   0%|          | 0/2590 [00:00<?, ? examples/s]"
      ]
     },
     "metadata": {},
     "output_type": "display_data"
    },
    {
     "data": {
      "application/vnd.jupyter.widget-view+json": {
       "model_id": "fc44c093acbd46c9b1b7d6fe7f2fefd8",
       "version_major": 2,
       "version_minor": 0
      },
      "text/plain": [
       "Label normalizing the evaluation dataset:   0%|          | 0/2590 [00:00<?, ? examples/s]"
      ]
     },
     "metadata": {},
     "output_type": "display_data"
    },
    {
     "data": {
      "application/vnd.jupyter.widget-view+json": {
       "model_id": "b405cb1db6b947138436aeaa485b32e6",
       "version_major": 2,
       "version_minor": 0
      },
      "text/plain": [
       "Tokenizing the evaluation dataset:   0%|          | 0/2590 [00:00<?, ? examples/s]"
      ]
     },
     "metadata": {},
     "output_type": "display_data"
    },
    {
     "name": "stderr",
     "output_type": "stream",
     "text": [
      "This SpanMarker model won't be able to predict 10.779145% of all annotated entities in the evaluation dataset. This is caused by the SpanMarkerModel maximum entity length of 8 words.\n",
      "These are the frequencies of the missed entities due to maximum entity length out of 1707 total entities:\n",
      "- 42 missed entities with 9 words (2.460457%)\n",
      "- 30 missed entities with 10 words (1.757469%)\n",
      "- 23 missed entities with 11 words (1.347393%)\n",
      "- 17 missed entities with 12 words (0.995899%)\n",
      "- 14 missed entities with 13 words (0.820152%)\n",
      "- 13 missed entities with 14 words (0.761570%)\n",
      "- 10 missed entities with 15 words (0.585823%)\n",
      "- 11 missed entities with 16 words (0.644405%)\n",
      "- 5 missed entities with 17 words (0.292912%)\n",
      "- 4 missed entities with 18 words (0.234329%)\n",
      "- 2 missed entities with 19 words (0.117165%)\n",
      "- 1 missed entities with 20 words (0.058582%)\n",
      "- 3 missed entities with 21 words (0.175747%)\n",
      "- 5 missed entities with 23 words (0.292912%)\n",
      "- 1 missed entities with 24 words (0.058582%)\n",
      "- 1 missed entities with 25 words (0.058582%)\n",
      "- 1 missed entities with 30 words (0.058582%)\n",
      "- 1 missed entities with 31 words (0.058582%)\n"
     ]
    },
    {
     "data": {
      "application/vnd.jupyter.widget-view+json": {
       "model_id": "84a707430b894f36880215eaa44e1738",
       "version_major": 2,
       "version_minor": 0
      },
      "text/plain": [
       "Adding document-level context:   0%|          | 0/2590 [00:00<?, ?it/s]"
      ]
     },
     "metadata": {},
     "output_type": "display_data"
    },
    {
     "data": {
      "application/vnd.jupyter.widget-view+json": {
       "model_id": "4bb5a23c034040d0a9e5a3c98bc529ae",
       "version_major": 2,
       "version_minor": 0
      },
      "text/plain": [
       "Spreading data between multiple samples:   0%|          | 0/2590 [00:00<?, ? examples/s]"
      ]
     },
     "metadata": {},
     "output_type": "display_data"
    },
    {
     "data": {
      "application/vnd.jupyter.widget-view+json": {
       "model_id": "a600f90d7b614ff9b3ef6b4746e3637e",
       "version_major": 2,
       "version_minor": 0
      },
      "text/plain": [
       "Label normalizing the evaluation dataset:   0%|          | 0/2590 [00:00<?, ? examples/s]"
      ]
     },
     "metadata": {},
     "output_type": "display_data"
    },
    {
     "data": {
      "application/vnd.jupyter.widget-view+json": {
       "model_id": "3598a0fb45e242fda5697c8dc0efb25f",
       "version_major": 2,
       "version_minor": 0
      },
      "text/plain": [
       "Tokenizing the evaluation dataset:   0%|          | 0/2590 [00:00<?, ? examples/s]"
      ]
     },
     "metadata": {},
     "output_type": "display_data"
    },
    {
     "name": "stderr",
     "output_type": "stream",
     "text": [
      "This SpanMarker model won't be able to predict 10.779145% of all annotated entities in the evaluation dataset. This is caused by the SpanMarkerModel maximum entity length of 8 words.\n",
      "These are the frequencies of the missed entities due to maximum entity length out of 1707 total entities:\n",
      "- 42 missed entities with 9 words (2.460457%)\n",
      "- 30 missed entities with 10 words (1.757469%)\n",
      "- 23 missed entities with 11 words (1.347393%)\n",
      "- 17 missed entities with 12 words (0.995899%)\n",
      "- 14 missed entities with 13 words (0.820152%)\n",
      "- 13 missed entities with 14 words (0.761570%)\n",
      "- 10 missed entities with 15 words (0.585823%)\n",
      "- 11 missed entities with 16 words (0.644405%)\n",
      "- 5 missed entities with 17 words (0.292912%)\n",
      "- 4 missed entities with 18 words (0.234329%)\n",
      "- 2 missed entities with 19 words (0.117165%)\n",
      "- 1 missed entities with 20 words (0.058582%)\n",
      "- 3 missed entities with 21 words (0.175747%)\n",
      "- 5 missed entities with 23 words (0.292912%)\n",
      "- 1 missed entities with 24 words (0.058582%)\n",
      "- 1 missed entities with 25 words (0.058582%)\n",
      "- 1 missed entities with 30 words (0.058582%)\n",
      "- 1 missed entities with 31 words (0.058582%)\n"
     ]
    },
    {
     "data": {
      "application/vnd.jupyter.widget-view+json": {
       "model_id": "86d8837c8eda4842ac27bb5ea9eff7a8",
       "version_major": 2,
       "version_minor": 0
      },
      "text/plain": [
       "Adding document-level context:   0%|          | 0/2590 [00:00<?, ?it/s]"
      ]
     },
     "metadata": {},
     "output_type": "display_data"
    },
    {
     "data": {
      "application/vnd.jupyter.widget-view+json": {
       "model_id": "b85cf1cd1b824eeba4f5011be9cc4de2",
       "version_major": 2,
       "version_minor": 0
      },
      "text/plain": [
       "Spreading data between multiple samples:   0%|          | 0/2590 [00:00<?, ? examples/s]"
      ]
     },
     "metadata": {},
     "output_type": "display_data"
    },
    {
     "data": {
      "application/vnd.jupyter.widget-view+json": {
       "model_id": "e0dd89898a8c4a45ad0fa9df4ded3c84",
       "version_major": 2,
       "version_minor": 0
      },
      "text/plain": [
       "Label normalizing the evaluation dataset:   0%|          | 0/2590 [00:00<?, ? examples/s]"
      ]
     },
     "metadata": {},
     "output_type": "display_data"
    },
    {
     "data": {
      "application/vnd.jupyter.widget-view+json": {
       "model_id": "0b6355ce6f6740948e557dcb29845622",
       "version_major": 2,
       "version_minor": 0
      },
      "text/plain": [
       "Tokenizing the evaluation dataset:   0%|          | 0/2590 [00:00<?, ? examples/s]"
      ]
     },
     "metadata": {},
     "output_type": "display_data"
    },
    {
     "name": "stderr",
     "output_type": "stream",
     "text": [
      "This SpanMarker model won't be able to predict 10.779145% of all annotated entities in the evaluation dataset. This is caused by the SpanMarkerModel maximum entity length of 8 words.\n",
      "These are the frequencies of the missed entities due to maximum entity length out of 1707 total entities:\n",
      "- 42 missed entities with 9 words (2.460457%)\n",
      "- 30 missed entities with 10 words (1.757469%)\n",
      "- 23 missed entities with 11 words (1.347393%)\n",
      "- 17 missed entities with 12 words (0.995899%)\n",
      "- 14 missed entities with 13 words (0.820152%)\n",
      "- 13 missed entities with 14 words (0.761570%)\n",
      "- 10 missed entities with 15 words (0.585823%)\n",
      "- 11 missed entities with 16 words (0.644405%)\n",
      "- 5 missed entities with 17 words (0.292912%)\n",
      "- 4 missed entities with 18 words (0.234329%)\n",
      "- 2 missed entities with 19 words (0.117165%)\n",
      "- 1 missed entities with 20 words (0.058582%)\n",
      "- 3 missed entities with 21 words (0.175747%)\n",
      "- 5 missed entities with 23 words (0.292912%)\n",
      "- 1 missed entities with 24 words (0.058582%)\n",
      "- 1 missed entities with 25 words (0.058582%)\n",
      "- 1 missed entities with 30 words (0.058582%)\n",
      "- 1 missed entities with 31 words (0.058582%)\n"
     ]
    },
    {
     "data": {
      "application/vnd.jupyter.widget-view+json": {
       "model_id": "c243a92a5d684f8ba06264edd4d0de23",
       "version_major": 2,
       "version_minor": 0
      },
      "text/plain": [
       "Adding document-level context:   0%|          | 0/2590 [00:00<?, ?it/s]"
      ]
     },
     "metadata": {},
     "output_type": "display_data"
    },
    {
     "data": {
      "application/vnd.jupyter.widget-view+json": {
       "model_id": "5fc6ff78e5344118853b4c2a497b376a",
       "version_major": 2,
       "version_minor": 0
      },
      "text/plain": [
       "Spreading data between multiple samples:   0%|          | 0/2590 [00:00<?, ? examples/s]"
      ]
     },
     "metadata": {},
     "output_type": "display_data"
    },
    {
     "data": {
      "application/vnd.jupyter.widget-view+json": {
       "model_id": "e0452237d2ff4a2ebeaa089904e3e807",
       "version_major": 2,
       "version_minor": 0
      },
      "text/plain": [
       "Label normalizing the evaluation dataset:   0%|          | 0/2590 [00:00<?, ? examples/s]"
      ]
     },
     "metadata": {},
     "output_type": "display_data"
    },
    {
     "data": {
      "application/vnd.jupyter.widget-view+json": {
       "model_id": "68053c83f9804b1ebb4127b9339346c6",
       "version_major": 2,
       "version_minor": 0
      },
      "text/plain": [
       "Tokenizing the evaluation dataset:   0%|          | 0/2590 [00:00<?, ? examples/s]"
      ]
     },
     "metadata": {},
     "output_type": "display_data"
    },
    {
     "name": "stderr",
     "output_type": "stream",
     "text": [
      "This SpanMarker model won't be able to predict 10.779145% of all annotated entities in the evaluation dataset. This is caused by the SpanMarkerModel maximum entity length of 8 words.\n",
      "These are the frequencies of the missed entities due to maximum entity length out of 1707 total entities:\n",
      "- 42 missed entities with 9 words (2.460457%)\n",
      "- 30 missed entities with 10 words (1.757469%)\n",
      "- 23 missed entities with 11 words (1.347393%)\n",
      "- 17 missed entities with 12 words (0.995899%)\n",
      "- 14 missed entities with 13 words (0.820152%)\n",
      "- 13 missed entities with 14 words (0.761570%)\n",
      "- 10 missed entities with 15 words (0.585823%)\n",
      "- 11 missed entities with 16 words (0.644405%)\n",
      "- 5 missed entities with 17 words (0.292912%)\n",
      "- 4 missed entities with 18 words (0.234329%)\n",
      "- 2 missed entities with 19 words (0.117165%)\n",
      "- 1 missed entities with 20 words (0.058582%)\n",
      "- 3 missed entities with 21 words (0.175747%)\n",
      "- 5 missed entities with 23 words (0.292912%)\n",
      "- 1 missed entities with 24 words (0.058582%)\n",
      "- 1 missed entities with 25 words (0.058582%)\n",
      "- 1 missed entities with 30 words (0.058582%)\n",
      "- 1 missed entities with 31 words (0.058582%)\n"
     ]
    },
    {
     "data": {
      "application/vnd.jupyter.widget-view+json": {
       "model_id": "0eec2b5c4fa042f58b86f86d9122cb5c",
       "version_major": 2,
       "version_minor": 0
      },
      "text/plain": [
       "Adding document-level context:   0%|          | 0/2590 [00:00<?, ?it/s]"
      ]
     },
     "metadata": {},
     "output_type": "display_data"
    },
    {
     "data": {
      "application/vnd.jupyter.widget-view+json": {
       "model_id": "5d162fd2aaa441e890569034e435c22a",
       "version_major": 2,
       "version_minor": 0
      },
      "text/plain": [
       "Spreading data between multiple samples:   0%|          | 0/2590 [00:00<?, ? examples/s]"
      ]
     },
     "metadata": {},
     "output_type": "display_data"
    },
    {
     "data": {
      "application/vnd.jupyter.widget-view+json": {
       "model_id": "df903363090547bfaf83259eeefe5b2a",
       "version_major": 2,
       "version_minor": 0
      },
      "text/plain": [
       "Label normalizing the evaluation dataset:   0%|          | 0/2590 [00:00<?, ? examples/s]"
      ]
     },
     "metadata": {},
     "output_type": "display_data"
    },
    {
     "data": {
      "application/vnd.jupyter.widget-view+json": {
       "model_id": "0616725bf23e4c0381081a38a0c8e6a9",
       "version_major": 2,
       "version_minor": 0
      },
      "text/plain": [
       "Tokenizing the evaluation dataset:   0%|          | 0/2590 [00:00<?, ? examples/s]"
      ]
     },
     "metadata": {},
     "output_type": "display_data"
    },
    {
     "name": "stderr",
     "output_type": "stream",
     "text": [
      "This SpanMarker model won't be able to predict 10.779145% of all annotated entities in the evaluation dataset. This is caused by the SpanMarkerModel maximum entity length of 8 words.\n",
      "These are the frequencies of the missed entities due to maximum entity length out of 1707 total entities:\n",
      "- 42 missed entities with 9 words (2.460457%)\n",
      "- 30 missed entities with 10 words (1.757469%)\n",
      "- 23 missed entities with 11 words (1.347393%)\n",
      "- 17 missed entities with 12 words (0.995899%)\n",
      "- 14 missed entities with 13 words (0.820152%)\n",
      "- 13 missed entities with 14 words (0.761570%)\n",
      "- 10 missed entities with 15 words (0.585823%)\n",
      "- 11 missed entities with 16 words (0.644405%)\n",
      "- 5 missed entities with 17 words (0.292912%)\n",
      "- 4 missed entities with 18 words (0.234329%)\n",
      "- 2 missed entities with 19 words (0.117165%)\n",
      "- 1 missed entities with 20 words (0.058582%)\n",
      "- 3 missed entities with 21 words (0.175747%)\n",
      "- 5 missed entities with 23 words (0.292912%)\n",
      "- 1 missed entities with 24 words (0.058582%)\n",
      "- 1 missed entities with 25 words (0.058582%)\n",
      "- 1 missed entities with 30 words (0.058582%)\n",
      "- 1 missed entities with 31 words (0.058582%)\n"
     ]
    },
    {
     "data": {
      "application/vnd.jupyter.widget-view+json": {
       "model_id": "b3b93c6d1d554d2bba66ec5d479d0ba7",
       "version_major": 2,
       "version_minor": 0
      },
      "text/plain": [
       "Adding document-level context:   0%|          | 0/2590 [00:00<?, ?it/s]"
      ]
     },
     "metadata": {},
     "output_type": "display_data"
    },
    {
     "data": {
      "application/vnd.jupyter.widget-view+json": {
       "model_id": "b67081ce513146d5b36c89b7d3242796",
       "version_major": 2,
       "version_minor": 0
      },
      "text/plain": [
       "Spreading data between multiple samples:   0%|          | 0/2590 [00:00<?, ? examples/s]"
      ]
     },
     "metadata": {},
     "output_type": "display_data"
    },
    {
     "data": {
      "application/vnd.jupyter.widget-view+json": {
       "model_id": "c666b41385cd4ac8a0330c07297340ba",
       "version_major": 2,
       "version_minor": 0
      },
      "text/plain": [
       "Label normalizing the evaluation dataset:   0%|          | 0/2590 [00:00<?, ? examples/s]"
      ]
     },
     "metadata": {},
     "output_type": "display_data"
    },
    {
     "data": {
      "application/vnd.jupyter.widget-view+json": {
       "model_id": "e8625a0b28a74afda854d74ece594d5f",
       "version_major": 2,
       "version_minor": 0
      },
      "text/plain": [
       "Tokenizing the evaluation dataset:   0%|          | 0/2590 [00:00<?, ? examples/s]"
      ]
     },
     "metadata": {},
     "output_type": "display_data"
    },
    {
     "name": "stderr",
     "output_type": "stream",
     "text": [
      "This SpanMarker model won't be able to predict 10.779145% of all annotated entities in the evaluation dataset. This is caused by the SpanMarkerModel maximum entity length of 8 words.\n",
      "These are the frequencies of the missed entities due to maximum entity length out of 1707 total entities:\n",
      "- 42 missed entities with 9 words (2.460457%)\n",
      "- 30 missed entities with 10 words (1.757469%)\n",
      "- 23 missed entities with 11 words (1.347393%)\n",
      "- 17 missed entities with 12 words (0.995899%)\n",
      "- 14 missed entities with 13 words (0.820152%)\n",
      "- 13 missed entities with 14 words (0.761570%)\n",
      "- 10 missed entities with 15 words (0.585823%)\n",
      "- 11 missed entities with 16 words (0.644405%)\n",
      "- 5 missed entities with 17 words (0.292912%)\n",
      "- 4 missed entities with 18 words (0.234329%)\n",
      "- 2 missed entities with 19 words (0.117165%)\n",
      "- 1 missed entities with 20 words (0.058582%)\n",
      "- 3 missed entities with 21 words (0.175747%)\n",
      "- 5 missed entities with 23 words (0.292912%)\n",
      "- 1 missed entities with 24 words (0.058582%)\n",
      "- 1 missed entities with 25 words (0.058582%)\n",
      "- 1 missed entities with 30 words (0.058582%)\n",
      "- 1 missed entities with 31 words (0.058582%)\n"
     ]
    },
    {
     "data": {
      "application/vnd.jupyter.widget-view+json": {
       "model_id": "2c6c3bdd87c84a6fbc4325bc5ea5916e",
       "version_major": 2,
       "version_minor": 0
      },
      "text/plain": [
       "Adding document-level context:   0%|          | 0/2590 [00:00<?, ?it/s]"
      ]
     },
     "metadata": {},
     "output_type": "display_data"
    },
    {
     "data": {
      "application/vnd.jupyter.widget-view+json": {
       "model_id": "9a518426df864c9da0386ad12b361af6",
       "version_major": 2,
       "version_minor": 0
      },
      "text/plain": [
       "Spreading data between multiple samples:   0%|          | 0/2590 [00:00<?, ? examples/s]"
      ]
     },
     "metadata": {},
     "output_type": "display_data"
    },
    {
     "data": {
      "application/vnd.jupyter.widget-view+json": {
       "model_id": "802ad5a12c684296aa0207ce31e67b16",
       "version_major": 2,
       "version_minor": 0
      },
      "text/plain": [
       "Label normalizing the evaluation dataset:   0%|          | 0/2590 [00:00<?, ? examples/s]"
      ]
     },
     "metadata": {},
     "output_type": "display_data"
    },
    {
     "data": {
      "application/vnd.jupyter.widget-view+json": {
       "model_id": "ef20d27dd8ed472ea9597d00c67bf582",
       "version_major": 2,
       "version_minor": 0
      },
      "text/plain": [
       "Tokenizing the evaluation dataset:   0%|          | 0/2590 [00:00<?, ? examples/s]"
      ]
     },
     "metadata": {},
     "output_type": "display_data"
    },
    {
     "name": "stderr",
     "output_type": "stream",
     "text": [
      "This SpanMarker model won't be able to predict 10.779145% of all annotated entities in the evaluation dataset. This is caused by the SpanMarkerModel maximum entity length of 8 words.\n",
      "These are the frequencies of the missed entities due to maximum entity length out of 1707 total entities:\n",
      "- 42 missed entities with 9 words (2.460457%)\n",
      "- 30 missed entities with 10 words (1.757469%)\n",
      "- 23 missed entities with 11 words (1.347393%)\n",
      "- 17 missed entities with 12 words (0.995899%)\n",
      "- 14 missed entities with 13 words (0.820152%)\n",
      "- 13 missed entities with 14 words (0.761570%)\n",
      "- 10 missed entities with 15 words (0.585823%)\n",
      "- 11 missed entities with 16 words (0.644405%)\n",
      "- 5 missed entities with 17 words (0.292912%)\n",
      "- 4 missed entities with 18 words (0.234329%)\n",
      "- 2 missed entities with 19 words (0.117165%)\n",
      "- 1 missed entities with 20 words (0.058582%)\n",
      "- 3 missed entities with 21 words (0.175747%)\n",
      "- 5 missed entities with 23 words (0.292912%)\n",
      "- 1 missed entities with 24 words (0.058582%)\n",
      "- 1 missed entities with 25 words (0.058582%)\n",
      "- 1 missed entities with 30 words (0.058582%)\n",
      "- 1 missed entities with 31 words (0.058582%)\n"
     ]
    },
    {
     "data": {
      "application/vnd.jupyter.widget-view+json": {
       "model_id": "0f401bc04df94df9a134ddcd521f9ed1",
       "version_major": 2,
       "version_minor": 0
      },
      "text/plain": [
       "Adding document-level context:   0%|          | 0/2590 [00:00<?, ?it/s]"
      ]
     },
     "metadata": {},
     "output_type": "display_data"
    },
    {
     "data": {
      "application/vnd.jupyter.widget-view+json": {
       "model_id": "732b00ef8b374de587081cc17295d6ef",
       "version_major": 2,
       "version_minor": 0
      },
      "text/plain": [
       "Spreading data between multiple samples:   0%|          | 0/2590 [00:00<?, ? examples/s]"
      ]
     },
     "metadata": {},
     "output_type": "display_data"
    },
    {
     "data": {
      "application/vnd.jupyter.widget-view+json": {
       "model_id": "6e9a22e3ba41481a80473a1d5b8421ab",
       "version_major": 2,
       "version_minor": 0
      },
      "text/plain": [
       "Label normalizing the evaluation dataset:   0%|          | 0/2590 [00:00<?, ? examples/s]"
      ]
     },
     "metadata": {},
     "output_type": "display_data"
    },
    {
     "data": {
      "application/vnd.jupyter.widget-view+json": {
       "model_id": "65225257eabd44b1a65eaf35cf97bf86",
       "version_major": 2,
       "version_minor": 0
      },
      "text/plain": [
       "Tokenizing the evaluation dataset:   0%|          | 0/2590 [00:00<?, ? examples/s]"
      ]
     },
     "metadata": {},
     "output_type": "display_data"
    },
    {
     "name": "stderr",
     "output_type": "stream",
     "text": [
      "This SpanMarker model won't be able to predict 10.779145% of all annotated entities in the evaluation dataset. This is caused by the SpanMarkerModel maximum entity length of 8 words.\n",
      "These are the frequencies of the missed entities due to maximum entity length out of 1707 total entities:\n",
      "- 42 missed entities with 9 words (2.460457%)\n",
      "- 30 missed entities with 10 words (1.757469%)\n",
      "- 23 missed entities with 11 words (1.347393%)\n",
      "- 17 missed entities with 12 words (0.995899%)\n",
      "- 14 missed entities with 13 words (0.820152%)\n",
      "- 13 missed entities with 14 words (0.761570%)\n",
      "- 10 missed entities with 15 words (0.585823%)\n",
      "- 11 missed entities with 16 words (0.644405%)\n",
      "- 5 missed entities with 17 words (0.292912%)\n",
      "- 4 missed entities with 18 words (0.234329%)\n",
      "- 2 missed entities with 19 words (0.117165%)\n",
      "- 1 missed entities with 20 words (0.058582%)\n",
      "- 3 missed entities with 21 words (0.175747%)\n",
      "- 5 missed entities with 23 words (0.292912%)\n",
      "- 1 missed entities with 24 words (0.058582%)\n",
      "- 1 missed entities with 25 words (0.058582%)\n",
      "- 1 missed entities with 30 words (0.058582%)\n",
      "- 1 missed entities with 31 words (0.058582%)\n"
     ]
    },
    {
     "data": {
      "application/vnd.jupyter.widget-view+json": {
       "model_id": "83fdbaac4ff34b35a614c2eabd1a3413",
       "version_major": 2,
       "version_minor": 0
      },
      "text/plain": [
       "Adding document-level context:   0%|          | 0/2590 [00:00<?, ?it/s]"
      ]
     },
     "metadata": {},
     "output_type": "display_data"
    },
    {
     "data": {
      "application/vnd.jupyter.widget-view+json": {
       "model_id": "527dacd7e6e1471eacf54c3238fc38e1",
       "version_major": 2,
       "version_minor": 0
      },
      "text/plain": [
       "Spreading data between multiple samples:   0%|          | 0/2590 [00:00<?, ? examples/s]"
      ]
     },
     "metadata": {},
     "output_type": "display_data"
    },
    {
     "data": {
      "application/vnd.jupyter.widget-view+json": {
       "model_id": "85d0fcdc36674e36a1bfd1b440acd680",
       "version_major": 2,
       "version_minor": 0
      },
      "text/plain": [
       "Label normalizing the evaluation dataset:   0%|          | 0/2590 [00:00<?, ? examples/s]"
      ]
     },
     "metadata": {},
     "output_type": "display_data"
    },
    {
     "data": {
      "application/vnd.jupyter.widget-view+json": {
       "model_id": "52dc2d2a7d3d44e39871541179fca413",
       "version_major": 2,
       "version_minor": 0
      },
      "text/plain": [
       "Tokenizing the evaluation dataset:   0%|          | 0/2590 [00:00<?, ? examples/s]"
      ]
     },
     "metadata": {},
     "output_type": "display_data"
    },
    {
     "name": "stderr",
     "output_type": "stream",
     "text": [
      "This SpanMarker model won't be able to predict 10.779145% of all annotated entities in the evaluation dataset. This is caused by the SpanMarkerModel maximum entity length of 8 words.\n",
      "These are the frequencies of the missed entities due to maximum entity length out of 1707 total entities:\n",
      "- 42 missed entities with 9 words (2.460457%)\n",
      "- 30 missed entities with 10 words (1.757469%)\n",
      "- 23 missed entities with 11 words (1.347393%)\n",
      "- 17 missed entities with 12 words (0.995899%)\n",
      "- 14 missed entities with 13 words (0.820152%)\n",
      "- 13 missed entities with 14 words (0.761570%)\n",
      "- 10 missed entities with 15 words (0.585823%)\n",
      "- 11 missed entities with 16 words (0.644405%)\n",
      "- 5 missed entities with 17 words (0.292912%)\n",
      "- 4 missed entities with 18 words (0.234329%)\n",
      "- 2 missed entities with 19 words (0.117165%)\n",
      "- 1 missed entities with 20 words (0.058582%)\n",
      "- 3 missed entities with 21 words (0.175747%)\n",
      "- 5 missed entities with 23 words (0.292912%)\n",
      "- 1 missed entities with 24 words (0.058582%)\n",
      "- 1 missed entities with 25 words (0.058582%)\n",
      "- 1 missed entities with 30 words (0.058582%)\n",
      "- 1 missed entities with 31 words (0.058582%)\n"
     ]
    },
    {
     "data": {
      "application/vnd.jupyter.widget-view+json": {
       "model_id": "bd0ac5a9511d4e8da7fd9696ea25b103",
       "version_major": 2,
       "version_minor": 0
      },
      "text/plain": [
       "Adding document-level context:   0%|          | 0/2590 [00:00<?, ?it/s]"
      ]
     },
     "metadata": {},
     "output_type": "display_data"
    },
    {
     "data": {
      "application/vnd.jupyter.widget-view+json": {
       "model_id": "0daab36e23d84a91a93ba0843a16f8fa",
       "version_major": 2,
       "version_minor": 0
      },
      "text/plain": [
       "Spreading data between multiple samples:   0%|          | 0/2590 [00:00<?, ? examples/s]"
      ]
     },
     "metadata": {},
     "output_type": "display_data"
    },
    {
     "data": {
      "application/vnd.jupyter.widget-view+json": {
       "model_id": "c2f30a4950c94401ae88901a4d2f949c",
       "version_major": 2,
       "version_minor": 0
      },
      "text/plain": [
       "Label normalizing the evaluation dataset:   0%|          | 0/2590 [00:00<?, ? examples/s]"
      ]
     },
     "metadata": {},
     "output_type": "display_data"
    },
    {
     "data": {
      "application/vnd.jupyter.widget-view+json": {
       "model_id": "1d5776db80c34ce789e117d7fa700a70",
       "version_major": 2,
       "version_minor": 0
      },
      "text/plain": [
       "Tokenizing the evaluation dataset:   0%|          | 0/2590 [00:00<?, ? examples/s]"
      ]
     },
     "metadata": {},
     "output_type": "display_data"
    },
    {
     "name": "stderr",
     "output_type": "stream",
     "text": [
      "This SpanMarker model won't be able to predict 10.779145% of all annotated entities in the evaluation dataset. This is caused by the SpanMarkerModel maximum entity length of 8 words.\n",
      "These are the frequencies of the missed entities due to maximum entity length out of 1707 total entities:\n",
      "- 42 missed entities with 9 words (2.460457%)\n",
      "- 30 missed entities with 10 words (1.757469%)\n",
      "- 23 missed entities with 11 words (1.347393%)\n",
      "- 17 missed entities with 12 words (0.995899%)\n",
      "- 14 missed entities with 13 words (0.820152%)\n",
      "- 13 missed entities with 14 words (0.761570%)\n",
      "- 10 missed entities with 15 words (0.585823%)\n",
      "- 11 missed entities with 16 words (0.644405%)\n",
      "- 5 missed entities with 17 words (0.292912%)\n",
      "- 4 missed entities with 18 words (0.234329%)\n",
      "- 2 missed entities with 19 words (0.117165%)\n",
      "- 1 missed entities with 20 words (0.058582%)\n",
      "- 3 missed entities with 21 words (0.175747%)\n",
      "- 5 missed entities with 23 words (0.292912%)\n",
      "- 1 missed entities with 24 words (0.058582%)\n",
      "- 1 missed entities with 25 words (0.058582%)\n",
      "- 1 missed entities with 30 words (0.058582%)\n",
      "- 1 missed entities with 31 words (0.058582%)\n"
     ]
    },
    {
     "data": {
      "application/vnd.jupyter.widget-view+json": {
       "model_id": "c65eeb78f2f248c99d9512547706b6cd",
       "version_major": 2,
       "version_minor": 0
      },
      "text/plain": [
       "Adding document-level context:   0%|          | 0/2590 [00:00<?, ?it/s]"
      ]
     },
     "metadata": {},
     "output_type": "display_data"
    },
    {
     "data": {
      "application/vnd.jupyter.widget-view+json": {
       "model_id": "4f7ba61078f9419fb30c2793a0f87b51",
       "version_major": 2,
       "version_minor": 0
      },
      "text/plain": [
       "Spreading data between multiple samples:   0%|          | 0/2590 [00:00<?, ? examples/s]"
      ]
     },
     "metadata": {},
     "output_type": "display_data"
    },
    {
     "data": {
      "application/vnd.jupyter.widget-view+json": {
       "model_id": "991fccdf322f4282ad233f6c9400927f",
       "version_major": 2,
       "version_minor": 0
      },
      "text/plain": [
       "Label normalizing the evaluation dataset:   0%|          | 0/2590 [00:00<?, ? examples/s]"
      ]
     },
     "metadata": {},
     "output_type": "display_data"
    },
    {
     "data": {
      "application/vnd.jupyter.widget-view+json": {
       "model_id": "8c298c7e076246a0bc9009070f7ca9bf",
       "version_major": 2,
       "version_minor": 0
      },
      "text/plain": [
       "Tokenizing the evaluation dataset:   0%|          | 0/2590 [00:00<?, ? examples/s]"
      ]
     },
     "metadata": {},
     "output_type": "display_data"
    },
    {
     "name": "stderr",
     "output_type": "stream",
     "text": [
      "This SpanMarker model won't be able to predict 10.779145% of all annotated entities in the evaluation dataset. This is caused by the SpanMarkerModel maximum entity length of 8 words.\n",
      "These are the frequencies of the missed entities due to maximum entity length out of 1707 total entities:\n",
      "- 42 missed entities with 9 words (2.460457%)\n",
      "- 30 missed entities with 10 words (1.757469%)\n",
      "- 23 missed entities with 11 words (1.347393%)\n",
      "- 17 missed entities with 12 words (0.995899%)\n",
      "- 14 missed entities with 13 words (0.820152%)\n",
      "- 13 missed entities with 14 words (0.761570%)\n",
      "- 10 missed entities with 15 words (0.585823%)\n",
      "- 11 missed entities with 16 words (0.644405%)\n",
      "- 5 missed entities with 17 words (0.292912%)\n",
      "- 4 missed entities with 18 words (0.234329%)\n",
      "- 2 missed entities with 19 words (0.117165%)\n",
      "- 1 missed entities with 20 words (0.058582%)\n",
      "- 3 missed entities with 21 words (0.175747%)\n",
      "- 5 missed entities with 23 words (0.292912%)\n",
      "- 1 missed entities with 24 words (0.058582%)\n",
      "- 1 missed entities with 25 words (0.058582%)\n",
      "- 1 missed entities with 30 words (0.058582%)\n",
      "- 1 missed entities with 31 words (0.058582%)\n"
     ]
    },
    {
     "data": {
      "application/vnd.jupyter.widget-view+json": {
       "model_id": "b56e1f6268d341f29ca7e956910d2c98",
       "version_major": 2,
       "version_minor": 0
      },
      "text/plain": [
       "Adding document-level context:   0%|          | 0/2590 [00:00<?, ?it/s]"
      ]
     },
     "metadata": {},
     "output_type": "display_data"
    },
    {
     "data": {
      "application/vnd.jupyter.widget-view+json": {
       "model_id": "ae742cc505634d99b749856ce8b51fa3",
       "version_major": 2,
       "version_minor": 0
      },
      "text/plain": [
       "Spreading data between multiple samples:   0%|          | 0/2590 [00:00<?, ? examples/s]"
      ]
     },
     "metadata": {},
     "output_type": "display_data"
    },
    {
     "data": {
      "application/vnd.jupyter.widget-view+json": {
       "model_id": "16a7d8fe2c1c496f80f763ebaeb66516",
       "version_major": 2,
       "version_minor": 0
      },
      "text/plain": [
       "Label normalizing the evaluation dataset:   0%|          | 0/2590 [00:00<?, ? examples/s]"
      ]
     },
     "metadata": {},
     "output_type": "display_data"
    },
    {
     "data": {
      "application/vnd.jupyter.widget-view+json": {
       "model_id": "64987c4f535f403eacc5a774e1949015",
       "version_major": 2,
       "version_minor": 0
      },
      "text/plain": [
       "Tokenizing the evaluation dataset:   0%|          | 0/2590 [00:00<?, ? examples/s]"
      ]
     },
     "metadata": {},
     "output_type": "display_data"
    },
    {
     "name": "stderr",
     "output_type": "stream",
     "text": [
      "This SpanMarker model won't be able to predict 10.779145% of all annotated entities in the evaluation dataset. This is caused by the SpanMarkerModel maximum entity length of 8 words.\n",
      "These are the frequencies of the missed entities due to maximum entity length out of 1707 total entities:\n",
      "- 42 missed entities with 9 words (2.460457%)\n",
      "- 30 missed entities with 10 words (1.757469%)\n",
      "- 23 missed entities with 11 words (1.347393%)\n",
      "- 17 missed entities with 12 words (0.995899%)\n",
      "- 14 missed entities with 13 words (0.820152%)\n",
      "- 13 missed entities with 14 words (0.761570%)\n",
      "- 10 missed entities with 15 words (0.585823%)\n",
      "- 11 missed entities with 16 words (0.644405%)\n",
      "- 5 missed entities with 17 words (0.292912%)\n",
      "- 4 missed entities with 18 words (0.234329%)\n",
      "- 2 missed entities with 19 words (0.117165%)\n",
      "- 1 missed entities with 20 words (0.058582%)\n",
      "- 3 missed entities with 21 words (0.175747%)\n",
      "- 5 missed entities with 23 words (0.292912%)\n",
      "- 1 missed entities with 24 words (0.058582%)\n",
      "- 1 missed entities with 25 words (0.058582%)\n",
      "- 1 missed entities with 30 words (0.058582%)\n",
      "- 1 missed entities with 31 words (0.058582%)\n"
     ]
    },
    {
     "data": {
      "application/vnd.jupyter.widget-view+json": {
       "model_id": "d1fcec999ad84804b6d1cd2cfd16dc60",
       "version_major": 2,
       "version_minor": 0
      },
      "text/plain": [
       "Adding document-level context:   0%|          | 0/2590 [00:00<?, ?it/s]"
      ]
     },
     "metadata": {},
     "output_type": "display_data"
    },
    {
     "data": {
      "application/vnd.jupyter.widget-view+json": {
       "model_id": "49a0781f495b4498bd62fb87ecb95a73",
       "version_major": 2,
       "version_minor": 0
      },
      "text/plain": [
       "Spreading data between multiple samples:   0%|          | 0/2590 [00:00<?, ? examples/s]"
      ]
     },
     "metadata": {},
     "output_type": "display_data"
    },
    {
     "data": {
      "application/vnd.jupyter.widget-view+json": {
       "model_id": "23d4d10daa974e84872b8238c1cb6dbf",
       "version_major": 2,
       "version_minor": 0
      },
      "text/plain": [
       "Label normalizing the evaluation dataset:   0%|          | 0/2590 [00:00<?, ? examples/s]"
      ]
     },
     "metadata": {},
     "output_type": "display_data"
    },
    {
     "data": {
      "application/vnd.jupyter.widget-view+json": {
       "model_id": "3f21843443084cf48b13a3bbb5840ac6",
       "version_major": 2,
       "version_minor": 0
      },
      "text/plain": [
       "Tokenizing the evaluation dataset:   0%|          | 0/2590 [00:00<?, ? examples/s]"
      ]
     },
     "metadata": {},
     "output_type": "display_data"
    },
    {
     "name": "stderr",
     "output_type": "stream",
     "text": [
      "This SpanMarker model won't be able to predict 10.779145% of all annotated entities in the evaluation dataset. This is caused by the SpanMarkerModel maximum entity length of 8 words.\n",
      "These are the frequencies of the missed entities due to maximum entity length out of 1707 total entities:\n",
      "- 42 missed entities with 9 words (2.460457%)\n",
      "- 30 missed entities with 10 words (1.757469%)\n",
      "- 23 missed entities with 11 words (1.347393%)\n",
      "- 17 missed entities with 12 words (0.995899%)\n",
      "- 14 missed entities with 13 words (0.820152%)\n",
      "- 13 missed entities with 14 words (0.761570%)\n",
      "- 10 missed entities with 15 words (0.585823%)\n",
      "- 11 missed entities with 16 words (0.644405%)\n",
      "- 5 missed entities with 17 words (0.292912%)\n",
      "- 4 missed entities with 18 words (0.234329%)\n",
      "- 2 missed entities with 19 words (0.117165%)\n",
      "- 1 missed entities with 20 words (0.058582%)\n",
      "- 3 missed entities with 21 words (0.175747%)\n",
      "- 5 missed entities with 23 words (0.292912%)\n",
      "- 1 missed entities with 24 words (0.058582%)\n",
      "- 1 missed entities with 25 words (0.058582%)\n",
      "- 1 missed entities with 30 words (0.058582%)\n",
      "- 1 missed entities with 31 words (0.058582%)\n"
     ]
    },
    {
     "data": {
      "application/vnd.jupyter.widget-view+json": {
       "model_id": "2872e053737049dcb6ed5249c0779d46",
       "version_major": 2,
       "version_minor": 0
      },
      "text/plain": [
       "Adding document-level context:   0%|          | 0/2590 [00:00<?, ?it/s]"
      ]
     },
     "metadata": {},
     "output_type": "display_data"
    },
    {
     "data": {
      "application/vnd.jupyter.widget-view+json": {
       "model_id": "282a2262ed044596b3f8d4032009646a",
       "version_major": 2,
       "version_minor": 0
      },
      "text/plain": [
       "Spreading data between multiple samples:   0%|          | 0/2590 [00:00<?, ? examples/s]"
      ]
     },
     "metadata": {},
     "output_type": "display_data"
    },
    {
     "data": {
      "application/vnd.jupyter.widget-view+json": {
       "model_id": "037421d37b1a4956b51784d498ade78d",
       "version_major": 2,
       "version_minor": 0
      },
      "text/plain": [
       "Label normalizing the evaluation dataset:   0%|          | 0/2590 [00:00<?, ? examples/s]"
      ]
     },
     "metadata": {},
     "output_type": "display_data"
    },
    {
     "data": {
      "application/vnd.jupyter.widget-view+json": {
       "model_id": "b623d7a21fb343028a08cfdf3e604b93",
       "version_major": 2,
       "version_minor": 0
      },
      "text/plain": [
       "Tokenizing the evaluation dataset:   0%|          | 0/2590 [00:00<?, ? examples/s]"
      ]
     },
     "metadata": {},
     "output_type": "display_data"
    },
    {
     "name": "stderr",
     "output_type": "stream",
     "text": [
      "This SpanMarker model won't be able to predict 10.779145% of all annotated entities in the evaluation dataset. This is caused by the SpanMarkerModel maximum entity length of 8 words.\n",
      "These are the frequencies of the missed entities due to maximum entity length out of 1707 total entities:\n",
      "- 42 missed entities with 9 words (2.460457%)\n",
      "- 30 missed entities with 10 words (1.757469%)\n",
      "- 23 missed entities with 11 words (1.347393%)\n",
      "- 17 missed entities with 12 words (0.995899%)\n",
      "- 14 missed entities with 13 words (0.820152%)\n",
      "- 13 missed entities with 14 words (0.761570%)\n",
      "- 10 missed entities with 15 words (0.585823%)\n",
      "- 11 missed entities with 16 words (0.644405%)\n",
      "- 5 missed entities with 17 words (0.292912%)\n",
      "- 4 missed entities with 18 words (0.234329%)\n",
      "- 2 missed entities with 19 words (0.117165%)\n",
      "- 1 missed entities with 20 words (0.058582%)\n",
      "- 3 missed entities with 21 words (0.175747%)\n",
      "- 5 missed entities with 23 words (0.292912%)\n",
      "- 1 missed entities with 24 words (0.058582%)\n",
      "- 1 missed entities with 25 words (0.058582%)\n",
      "- 1 missed entities with 30 words (0.058582%)\n",
      "- 1 missed entities with 31 words (0.058582%)\n"
     ]
    },
    {
     "data": {
      "application/vnd.jupyter.widget-view+json": {
       "model_id": "730bbf7f3f3f4973bf15a9db24f6baca",
       "version_major": 2,
       "version_minor": 0
      },
      "text/plain": [
       "Adding document-level context:   0%|          | 0/2590 [00:00<?, ?it/s]"
      ]
     },
     "metadata": {},
     "output_type": "display_data"
    },
    {
     "data": {
      "application/vnd.jupyter.widget-view+json": {
       "model_id": "dab5d53964484da0bdcf7a43fb5a8d78",
       "version_major": 2,
       "version_minor": 0
      },
      "text/plain": [
       "Spreading data between multiple samples:   0%|          | 0/2590 [00:00<?, ? examples/s]"
      ]
     },
     "metadata": {},
     "output_type": "display_data"
    },
    {
     "data": {
      "application/vnd.jupyter.widget-view+json": {
       "model_id": "fbe4ba2db59445ab8f0383fe63996f72",
       "version_major": 2,
       "version_minor": 0
      },
      "text/plain": [
       "Label normalizing the evaluation dataset:   0%|          | 0/2590 [00:00<?, ? examples/s]"
      ]
     },
     "metadata": {},
     "output_type": "display_data"
    },
    {
     "data": {
      "application/vnd.jupyter.widget-view+json": {
       "model_id": "740d78522ba3436984379a0312aeaf2c",
       "version_major": 2,
       "version_minor": 0
      },
      "text/plain": [
       "Tokenizing the evaluation dataset:   0%|          | 0/2590 [00:00<?, ? examples/s]"
      ]
     },
     "metadata": {},
     "output_type": "display_data"
    },
    {
     "name": "stderr",
     "output_type": "stream",
     "text": [
      "This SpanMarker model won't be able to predict 10.779145% of all annotated entities in the evaluation dataset. This is caused by the SpanMarkerModel maximum entity length of 8 words.\n",
      "These are the frequencies of the missed entities due to maximum entity length out of 1707 total entities:\n",
      "- 42 missed entities with 9 words (2.460457%)\n",
      "- 30 missed entities with 10 words (1.757469%)\n",
      "- 23 missed entities with 11 words (1.347393%)\n",
      "- 17 missed entities with 12 words (0.995899%)\n",
      "- 14 missed entities with 13 words (0.820152%)\n",
      "- 13 missed entities with 14 words (0.761570%)\n",
      "- 10 missed entities with 15 words (0.585823%)\n",
      "- 11 missed entities with 16 words (0.644405%)\n",
      "- 5 missed entities with 17 words (0.292912%)\n",
      "- 4 missed entities with 18 words (0.234329%)\n",
      "- 2 missed entities with 19 words (0.117165%)\n",
      "- 1 missed entities with 20 words (0.058582%)\n",
      "- 3 missed entities with 21 words (0.175747%)\n",
      "- 5 missed entities with 23 words (0.292912%)\n",
      "- 1 missed entities with 24 words (0.058582%)\n",
      "- 1 missed entities with 25 words (0.058582%)\n",
      "- 1 missed entities with 30 words (0.058582%)\n",
      "- 1 missed entities with 31 words (0.058582%)\n"
     ]
    },
    {
     "data": {
      "application/vnd.jupyter.widget-view+json": {
       "model_id": "357bcbaa3cf34a08b348294e3ecca326",
       "version_major": 2,
       "version_minor": 0
      },
      "text/plain": [
       "Adding document-level context:   0%|          | 0/2590 [00:00<?, ?it/s]"
      ]
     },
     "metadata": {},
     "output_type": "display_data"
    },
    {
     "data": {
      "application/vnd.jupyter.widget-view+json": {
       "model_id": "eea96060e47e46b394262e180a349629",
       "version_major": 2,
       "version_minor": 0
      },
      "text/plain": [
       "Spreading data between multiple samples:   0%|          | 0/2590 [00:00<?, ? examples/s]"
      ]
     },
     "metadata": {},
     "output_type": "display_data"
    },
    {
     "data": {
      "application/vnd.jupyter.widget-view+json": {
       "model_id": "ff6f3d384e404a5fa6248590c5f8ac42",
       "version_major": 2,
       "version_minor": 0
      },
      "text/plain": [
       "Label normalizing the evaluation dataset:   0%|          | 0/2590 [00:00<?, ? examples/s]"
      ]
     },
     "metadata": {},
     "output_type": "display_data"
    },
    {
     "data": {
      "application/vnd.jupyter.widget-view+json": {
       "model_id": "090ccdf46e664567a4f7f1f44deb150d",
       "version_major": 2,
       "version_minor": 0
      },
      "text/plain": [
       "Tokenizing the evaluation dataset:   0%|          | 0/2590 [00:00<?, ? examples/s]"
      ]
     },
     "metadata": {},
     "output_type": "display_data"
    },
    {
     "name": "stderr",
     "output_type": "stream",
     "text": [
      "This SpanMarker model won't be able to predict 10.779145% of all annotated entities in the evaluation dataset. This is caused by the SpanMarkerModel maximum entity length of 8 words.\n",
      "These are the frequencies of the missed entities due to maximum entity length out of 1707 total entities:\n",
      "- 42 missed entities with 9 words (2.460457%)\n",
      "- 30 missed entities with 10 words (1.757469%)\n",
      "- 23 missed entities with 11 words (1.347393%)\n",
      "- 17 missed entities with 12 words (0.995899%)\n",
      "- 14 missed entities with 13 words (0.820152%)\n",
      "- 13 missed entities with 14 words (0.761570%)\n",
      "- 10 missed entities with 15 words (0.585823%)\n",
      "- 11 missed entities with 16 words (0.644405%)\n",
      "- 5 missed entities with 17 words (0.292912%)\n",
      "- 4 missed entities with 18 words (0.234329%)\n",
      "- 2 missed entities with 19 words (0.117165%)\n",
      "- 1 missed entities with 20 words (0.058582%)\n",
      "- 3 missed entities with 21 words (0.175747%)\n",
      "- 5 missed entities with 23 words (0.292912%)\n",
      "- 1 missed entities with 24 words (0.058582%)\n",
      "- 1 missed entities with 25 words (0.058582%)\n",
      "- 1 missed entities with 30 words (0.058582%)\n",
      "- 1 missed entities with 31 words (0.058582%)\n"
     ]
    },
    {
     "data": {
      "application/vnd.jupyter.widget-view+json": {
       "model_id": "31c01b26285d490f8fa482e637d0a2aa",
       "version_major": 2,
       "version_minor": 0
      },
      "text/plain": [
       "Adding document-level context:   0%|          | 0/2590 [00:00<?, ?it/s]"
      ]
     },
     "metadata": {},
     "output_type": "display_data"
    },
    {
     "data": {
      "application/vnd.jupyter.widget-view+json": {
       "model_id": "892e96a0315c44068654250638aded78",
       "version_major": 2,
       "version_minor": 0
      },
      "text/plain": [
       "Spreading data between multiple samples:   0%|          | 0/2590 [00:00<?, ? examples/s]"
      ]
     },
     "metadata": {},
     "output_type": "display_data"
    },
    {
     "data": {
      "application/vnd.jupyter.widget-view+json": {
       "model_id": "eb287102443a484d97077e3f723298fb",
       "version_major": 2,
       "version_minor": 0
      },
      "text/plain": [
       "Label normalizing the evaluation dataset:   0%|          | 0/2590 [00:00<?, ? examples/s]"
      ]
     },
     "metadata": {},
     "output_type": "display_data"
    },
    {
     "data": {
      "application/vnd.jupyter.widget-view+json": {
       "model_id": "0fe74d1249994e6998aa674f520cac34",
       "version_major": 2,
       "version_minor": 0
      },
      "text/plain": [
       "Tokenizing the evaluation dataset:   0%|          | 0/2590 [00:00<?, ? examples/s]"
      ]
     },
     "metadata": {},
     "output_type": "display_data"
    },
    {
     "name": "stderr",
     "output_type": "stream",
     "text": [
      "This SpanMarker model won't be able to predict 10.779145% of all annotated entities in the evaluation dataset. This is caused by the SpanMarkerModel maximum entity length of 8 words.\n",
      "These are the frequencies of the missed entities due to maximum entity length out of 1707 total entities:\n",
      "- 42 missed entities with 9 words (2.460457%)\n",
      "- 30 missed entities with 10 words (1.757469%)\n",
      "- 23 missed entities with 11 words (1.347393%)\n",
      "- 17 missed entities with 12 words (0.995899%)\n",
      "- 14 missed entities with 13 words (0.820152%)\n",
      "- 13 missed entities with 14 words (0.761570%)\n",
      "- 10 missed entities with 15 words (0.585823%)\n",
      "- 11 missed entities with 16 words (0.644405%)\n",
      "- 5 missed entities with 17 words (0.292912%)\n",
      "- 4 missed entities with 18 words (0.234329%)\n",
      "- 2 missed entities with 19 words (0.117165%)\n",
      "- 1 missed entities with 20 words (0.058582%)\n",
      "- 3 missed entities with 21 words (0.175747%)\n",
      "- 5 missed entities with 23 words (0.292912%)\n",
      "- 1 missed entities with 24 words (0.058582%)\n",
      "- 1 missed entities with 25 words (0.058582%)\n",
      "- 1 missed entities with 30 words (0.058582%)\n",
      "- 1 missed entities with 31 words (0.058582%)\n"
     ]
    },
    {
     "data": {
      "application/vnd.jupyter.widget-view+json": {
       "model_id": "83dd94fac1cb40e0b73d613a4b0b4b4d",
       "version_major": 2,
       "version_minor": 0
      },
      "text/plain": [
       "Adding document-level context:   0%|          | 0/2590 [00:00<?, ?it/s]"
      ]
     },
     "metadata": {},
     "output_type": "display_data"
    },
    {
     "data": {
      "application/vnd.jupyter.widget-view+json": {
       "model_id": "248f564988bb457282d40a0dc50dc968",
       "version_major": 2,
       "version_minor": 0
      },
      "text/plain": [
       "Spreading data between multiple samples:   0%|          | 0/2590 [00:00<?, ? examples/s]"
      ]
     },
     "metadata": {},
     "output_type": "display_data"
    },
    {
     "data": {
      "application/vnd.jupyter.widget-view+json": {
       "model_id": "e21b152def344e5594ee4af018ef6c0f",
       "version_major": 2,
       "version_minor": 0
      },
      "text/plain": [
       "Label normalizing the evaluation dataset:   0%|          | 0/2590 [00:00<?, ? examples/s]"
      ]
     },
     "metadata": {},
     "output_type": "display_data"
    },
    {
     "data": {
      "application/vnd.jupyter.widget-view+json": {
       "model_id": "6fc7fd27547a4c6a820c9d9a2026fdc7",
       "version_major": 2,
       "version_minor": 0
      },
      "text/plain": [
       "Tokenizing the evaluation dataset:   0%|          | 0/2590 [00:00<?, ? examples/s]"
      ]
     },
     "metadata": {},
     "output_type": "display_data"
    },
    {
     "name": "stderr",
     "output_type": "stream",
     "text": [
      "This SpanMarker model won't be able to predict 10.779145% of all annotated entities in the evaluation dataset. This is caused by the SpanMarkerModel maximum entity length of 8 words.\n",
      "These are the frequencies of the missed entities due to maximum entity length out of 1707 total entities:\n",
      "- 42 missed entities with 9 words (2.460457%)\n",
      "- 30 missed entities with 10 words (1.757469%)\n",
      "- 23 missed entities with 11 words (1.347393%)\n",
      "- 17 missed entities with 12 words (0.995899%)\n",
      "- 14 missed entities with 13 words (0.820152%)\n",
      "- 13 missed entities with 14 words (0.761570%)\n",
      "- 10 missed entities with 15 words (0.585823%)\n",
      "- 11 missed entities with 16 words (0.644405%)\n",
      "- 5 missed entities with 17 words (0.292912%)\n",
      "- 4 missed entities with 18 words (0.234329%)\n",
      "- 2 missed entities with 19 words (0.117165%)\n",
      "- 1 missed entities with 20 words (0.058582%)\n",
      "- 3 missed entities with 21 words (0.175747%)\n",
      "- 5 missed entities with 23 words (0.292912%)\n",
      "- 1 missed entities with 24 words (0.058582%)\n",
      "- 1 missed entities with 25 words (0.058582%)\n",
      "- 1 missed entities with 30 words (0.058582%)\n",
      "- 1 missed entities with 31 words (0.058582%)\n"
     ]
    },
    {
     "data": {
      "application/vnd.jupyter.widget-view+json": {
       "model_id": "7d562a3cc121467385c28cdf7282c978",
       "version_major": 2,
       "version_minor": 0
      },
      "text/plain": [
       "Adding document-level context:   0%|          | 0/2590 [00:00<?, ?it/s]"
      ]
     },
     "metadata": {},
     "output_type": "display_data"
    },
    {
     "data": {
      "application/vnd.jupyter.widget-view+json": {
       "model_id": "e3a5dfc7dc9643eb9b179273da23bc49",
       "version_major": 2,
       "version_minor": 0
      },
      "text/plain": [
       "Spreading data between multiple samples:   0%|          | 0/2590 [00:00<?, ? examples/s]"
      ]
     },
     "metadata": {},
     "output_type": "display_data"
    },
    {
     "data": {
      "application/vnd.jupyter.widget-view+json": {
       "model_id": "f490e191d5cd4c1f9b915da6a21f0984",
       "version_major": 2,
       "version_minor": 0
      },
      "text/plain": [
       "Label normalizing the evaluation dataset:   0%|          | 0/2590 [00:00<?, ? examples/s]"
      ]
     },
     "metadata": {},
     "output_type": "display_data"
    },
    {
     "data": {
      "application/vnd.jupyter.widget-view+json": {
       "model_id": "27a6d8de3cd24e81b6addaf041b60a0c",
       "version_major": 2,
       "version_minor": 0
      },
      "text/plain": [
       "Tokenizing the evaluation dataset:   0%|          | 0/2590 [00:00<?, ? examples/s]"
      ]
     },
     "metadata": {},
     "output_type": "display_data"
    },
    {
     "name": "stderr",
     "output_type": "stream",
     "text": [
      "This SpanMarker model won't be able to predict 10.779145% of all annotated entities in the evaluation dataset. This is caused by the SpanMarkerModel maximum entity length of 8 words.\n",
      "These are the frequencies of the missed entities due to maximum entity length out of 1707 total entities:\n",
      "- 42 missed entities with 9 words (2.460457%)\n",
      "- 30 missed entities with 10 words (1.757469%)\n",
      "- 23 missed entities with 11 words (1.347393%)\n",
      "- 17 missed entities with 12 words (0.995899%)\n",
      "- 14 missed entities with 13 words (0.820152%)\n",
      "- 13 missed entities with 14 words (0.761570%)\n",
      "- 10 missed entities with 15 words (0.585823%)\n",
      "- 11 missed entities with 16 words (0.644405%)\n",
      "- 5 missed entities with 17 words (0.292912%)\n",
      "- 4 missed entities with 18 words (0.234329%)\n",
      "- 2 missed entities with 19 words (0.117165%)\n",
      "- 1 missed entities with 20 words (0.058582%)\n",
      "- 3 missed entities with 21 words (0.175747%)\n",
      "- 5 missed entities with 23 words (0.292912%)\n",
      "- 1 missed entities with 24 words (0.058582%)\n",
      "- 1 missed entities with 25 words (0.058582%)\n",
      "- 1 missed entities with 30 words (0.058582%)\n",
      "- 1 missed entities with 31 words (0.058582%)\n"
     ]
    },
    {
     "data": {
      "application/vnd.jupyter.widget-view+json": {
       "model_id": "c83def590cea4afe8cc09f1df49c7716",
       "version_major": 2,
       "version_minor": 0
      },
      "text/plain": [
       "Adding document-level context:   0%|          | 0/2590 [00:00<?, ?it/s]"
      ]
     },
     "metadata": {},
     "output_type": "display_data"
    },
    {
     "data": {
      "application/vnd.jupyter.widget-view+json": {
       "model_id": "bb5c075a89c64901998b8e34e2d9b01e",
       "version_major": 2,
       "version_minor": 0
      },
      "text/plain": [
       "Spreading data between multiple samples:   0%|          | 0/2590 [00:00<?, ? examples/s]"
      ]
     },
     "metadata": {},
     "output_type": "display_data"
    },
    {
     "data": {
      "application/vnd.jupyter.widget-view+json": {
       "model_id": "793634649e7a418d8fc4360ca09cec53",
       "version_major": 2,
       "version_minor": 0
      },
      "text/plain": [
       "Label normalizing the evaluation dataset:   0%|          | 0/2590 [00:00<?, ? examples/s]"
      ]
     },
     "metadata": {},
     "output_type": "display_data"
    },
    {
     "data": {
      "application/vnd.jupyter.widget-view+json": {
       "model_id": "9dc79c7bd84c42ae8ce5a8bb69c6c474",
       "version_major": 2,
       "version_minor": 0
      },
      "text/plain": [
       "Tokenizing the evaluation dataset:   0%|          | 0/2590 [00:00<?, ? examples/s]"
      ]
     },
     "metadata": {},
     "output_type": "display_data"
    },
    {
     "name": "stderr",
     "output_type": "stream",
     "text": [
      "This SpanMarker model won't be able to predict 10.779145% of all annotated entities in the evaluation dataset. This is caused by the SpanMarkerModel maximum entity length of 8 words.\n",
      "These are the frequencies of the missed entities due to maximum entity length out of 1707 total entities:\n",
      "- 42 missed entities with 9 words (2.460457%)\n",
      "- 30 missed entities with 10 words (1.757469%)\n",
      "- 23 missed entities with 11 words (1.347393%)\n",
      "- 17 missed entities with 12 words (0.995899%)\n",
      "- 14 missed entities with 13 words (0.820152%)\n",
      "- 13 missed entities with 14 words (0.761570%)\n",
      "- 10 missed entities with 15 words (0.585823%)\n",
      "- 11 missed entities with 16 words (0.644405%)\n",
      "- 5 missed entities with 17 words (0.292912%)\n",
      "- 4 missed entities with 18 words (0.234329%)\n",
      "- 2 missed entities with 19 words (0.117165%)\n",
      "- 1 missed entities with 20 words (0.058582%)\n",
      "- 3 missed entities with 21 words (0.175747%)\n",
      "- 5 missed entities with 23 words (0.292912%)\n",
      "- 1 missed entities with 24 words (0.058582%)\n",
      "- 1 missed entities with 25 words (0.058582%)\n",
      "- 1 missed entities with 30 words (0.058582%)\n",
      "- 1 missed entities with 31 words (0.058582%)\n"
     ]
    },
    {
     "data": {
      "application/vnd.jupyter.widget-view+json": {
       "model_id": "535bb7f4469f46a5805cb25a7c692160",
       "version_major": 2,
       "version_minor": 0
      },
      "text/plain": [
       "Adding document-level context:   0%|          | 0/2590 [00:00<?, ?it/s]"
      ]
     },
     "metadata": {},
     "output_type": "display_data"
    },
    {
     "data": {
      "application/vnd.jupyter.widget-view+json": {
       "model_id": "fb94a6a0daaa4c20b79f52d4766c8764",
       "version_major": 2,
       "version_minor": 0
      },
      "text/plain": [
       "Spreading data between multiple samples:   0%|          | 0/2590 [00:00<?, ? examples/s]"
      ]
     },
     "metadata": {},
     "output_type": "display_data"
    },
    {
     "data": {
      "application/vnd.jupyter.widget-view+json": {
       "model_id": "d3e68239fc6b433faf5a482cce4a7b0d",
       "version_major": 2,
       "version_minor": 0
      },
      "text/plain": [
       "Label normalizing the evaluation dataset:   0%|          | 0/2590 [00:00<?, ? examples/s]"
      ]
     },
     "metadata": {},
     "output_type": "display_data"
    },
    {
     "data": {
      "application/vnd.jupyter.widget-view+json": {
       "model_id": "46e8f69db65c443cb2dfc3c12f84e68b",
       "version_major": 2,
       "version_minor": 0
      },
      "text/plain": [
       "Tokenizing the evaluation dataset:   0%|          | 0/2590 [00:00<?, ? examples/s]"
      ]
     },
     "metadata": {},
     "output_type": "display_data"
    },
    {
     "name": "stderr",
     "output_type": "stream",
     "text": [
      "This SpanMarker model won't be able to predict 10.779145% of all annotated entities in the evaluation dataset. This is caused by the SpanMarkerModel maximum entity length of 8 words.\n",
      "These are the frequencies of the missed entities due to maximum entity length out of 1707 total entities:\n",
      "- 42 missed entities with 9 words (2.460457%)\n",
      "- 30 missed entities with 10 words (1.757469%)\n",
      "- 23 missed entities with 11 words (1.347393%)\n",
      "- 17 missed entities with 12 words (0.995899%)\n",
      "- 14 missed entities with 13 words (0.820152%)\n",
      "- 13 missed entities with 14 words (0.761570%)\n",
      "- 10 missed entities with 15 words (0.585823%)\n",
      "- 11 missed entities with 16 words (0.644405%)\n",
      "- 5 missed entities with 17 words (0.292912%)\n",
      "- 4 missed entities with 18 words (0.234329%)\n",
      "- 2 missed entities with 19 words (0.117165%)\n",
      "- 1 missed entities with 20 words (0.058582%)\n",
      "- 3 missed entities with 21 words (0.175747%)\n",
      "- 5 missed entities with 23 words (0.292912%)\n",
      "- 1 missed entities with 24 words (0.058582%)\n",
      "- 1 missed entities with 25 words (0.058582%)\n",
      "- 1 missed entities with 30 words (0.058582%)\n",
      "- 1 missed entities with 31 words (0.058582%)\n"
     ]
    },
    {
     "data": {
      "application/vnd.jupyter.widget-view+json": {
       "model_id": "7744df252bff48bf9ea5478f175dc65c",
       "version_major": 2,
       "version_minor": 0
      },
      "text/plain": [
       "Adding document-level context:   0%|          | 0/2590 [00:00<?, ?it/s]"
      ]
     },
     "metadata": {},
     "output_type": "display_data"
    },
    {
     "data": {
      "application/vnd.jupyter.widget-view+json": {
       "model_id": "3f314bee727e4d6398bc74a712c6756e",
       "version_major": 2,
       "version_minor": 0
      },
      "text/plain": [
       "Spreading data between multiple samples:   0%|          | 0/2590 [00:00<?, ? examples/s]"
      ]
     },
     "metadata": {},
     "output_type": "display_data"
    },
    {
     "data": {
      "text/html": [
       "Waiting for W&B process to finish... <strong style=\"color:green\">(success).</strong>"
      ],
      "text/plain": [
       "<IPython.core.display.HTML object>"
      ]
     },
     "metadata": {},
     "output_type": "display_data"
    },
    {
     "data": {
      "text/html": [
       "<style>\n",
       "    table.wandb td:nth-child(1) { padding: 0 10px; text-align: left ; width: auto;} td:nth-child(2) {text-align: left ; width: 100%}\n",
       "    .wandb-row { display: flex; flex-direction: row; flex-wrap: wrap; justify-content: flex-start; width: 100% }\n",
       "    .wandb-col { display: flex; flex-direction: column; flex-basis: 100%; flex: 1; padding: 10px; }\n",
       "    </style>\n",
       "<div class=\"wandb-row\"><div class=\"wandb-col\"><h3>Run history:</h3><br/><table class=\"wandb\"><tr><td>eval/loss</td><td>▁▁▁▁▂▃▃▃▄▃▃▄▄▅▅▅▄▅▅▄▅▅▆▅▅▆▆▆▆▆▆▇▇█▇█████</td></tr><tr><td>eval/overall_accuracy</td><td>▁▆▇▆▅▅▄█▅▄▄█▄▃█▄▆▅▆▅▆▆▇▇▅▇▆▆▇▇▇▇▆▇▆▇▆▇▆▇</td></tr><tr><td>eval/overall_f1</td><td>▁▆▆▆▆▆▆▇▅▅▇█▆▅▇▆▆▆▆▆▆▆▇▇▅▆▇▇█▇██▇▇▇▇▇▇▇▇</td></tr><tr><td>eval/overall_precision</td><td>▁▅▃▂▃▂▂▆▃▁▂▅▇▁▆▄▅▁▃▃▄▂█▄▄▆▅▅▆▅▄▅▄▅▃▅▄▅▄▅</td></tr><tr><td>eval/overall_recall</td><td>▁▄▇▇▇▇▆▅▅▇█▇▃▇▄▆▅█▆▆▆█▄▇▅▄▆▅▆▇██▆▆▇▆▇▆▇▆</td></tr><tr><td>eval/runtime</td><td>▅▁▁▆▃▂▃▁▇▂▄▃▄▂▅▅▆▅▅▆▇▃▆▅▅▅█▆▆▆▇▃█▇▂▅▅█▅▄</td></tr><tr><td>eval/samples_per_second</td><td>▄██▃▆▇▆█▂▇▅▅▅▇▄▃▃▃▄▃▂▆▃▄▄▄▁▃▃▃▂▆▁▂▇▄▄▁▄▅</td></tr><tr><td>eval/steps_per_second</td><td>▄██▃▆▇▆█▂▇▅▆▅▇▄▃▃▃▄▃▂▆▃▄▄▄▁▃▃▃▂▆▁▂▇▄▄▁▄▅</td></tr><tr><td>train/epoch</td><td>▁▁▁▁▂▂▂▂▂▃▃▃▃▃▄▄▄▄▄▄▅▅▅▅▅▅▆▆▆▆▆▇▇▇▇▇████</td></tr><tr><td>train/global_step</td><td>▁▁▁▁▂▂▂▂▂▃▃▃▃▃▄▄▄▄▄▄▅▅▅▅▅▅▆▆▆▆▆▇▇▇▇▇████</td></tr><tr><td>train/learning_rate</td><td>████▇▇▇▇▇▆▆▆▆▆▆▅▅▅▅▅▄▄▄▄▄▄▃▃▃▃▃▃▂▂▂▂▂▁▁▁</td></tr><tr><td>train/loss</td><td>█▃▂▂▂▂▁▁▁▁▁▁▁▁▁▁▁▁▁▁▁▁▁▁▁▁▁▁▁▁▁▁▁▁▁▁▁▁▁▁</td></tr><tr><td>train/total_flos</td><td>▁</td></tr><tr><td>train/train_loss</td><td>▁</td></tr><tr><td>train/train_runtime</td><td>▁</td></tr><tr><td>train/train_samples_per_second</td><td>▁</td></tr><tr><td>train/train_steps_per_second</td><td>▁</td></tr></table><br/></div><div class=\"wandb-col\"><h3>Run summary:</h3><br/><table class=\"wandb\"><tr><td>eval/loss</td><td>0.01791</td></tr><tr><td>eval/overall_accuracy</td><td>0.964</td></tr><tr><td>eval/overall_f1</td><td>0.75025</td></tr><tr><td>eval/overall_precision</td><td>0.75804</td></tr><tr><td>eval/overall_recall</td><td>0.74261</td></tr><tr><td>eval/runtime</td><td>24.0388</td></tr><tr><td>eval/samples_per_second</td><td>192.439</td></tr><tr><td>eval/steps_per_second</td><td>6.032</td></tr><tr><td>train/epoch</td><td>40.0</td></tr><tr><td>train/global_step</td><td>23560</td></tr><tr><td>train/learning_rate</td><td>0.0</td></tr><tr><td>train/loss</td><td>0.0</td></tr><tr><td>train/total_flos</td><td>1.9804198073819136e+17</td></tr><tr><td>train/train_loss</td><td>0.00106</td></tr><tr><td>train/train_runtime</td><td>12716.543</td></tr><tr><td>train/train_samples_per_second</td><td>59.189</td></tr><tr><td>train/train_steps_per_second</td><td>1.853</td></tr></table><br/></div></div>"
      ],
      "text/plain": [
       "<IPython.core.display.HTML object>"
      ]
     },
     "metadata": {},
     "output_type": "display_data"
    },
    {
     "data": {
      "text/html": [
       " View run <strong style=\"color:#cdcd00\">balmy-lake-23</strong> at: <a href='https://wandb.ai/illorca/symptemist_ner/runs/yerzjtw5' target=\"_blank\">https://wandb.ai/illorca/symptemist_ner/runs/yerzjtw5</a><br/>Synced 5 W&B file(s), 0 media file(s), 0 artifact file(s) and 0 other file(s)"
      ],
      "text/plain": [
       "<IPython.core.display.HTML object>"
      ]
     },
     "metadata": {},
     "output_type": "display_data"
    },
    {
     "data": {
      "text/html": [
       "Find logs at: <code>./wandb/run-20230912_114805-yerzjtw5/logs</code>"
      ],
      "text/plain": [
       "<IPython.core.display.HTML object>"
      ]
     },
     "metadata": {},
     "output_type": "display_data"
    }
   ],
   "source": [
    "import wandb\n",
    "with wandb.init(project=f'symptemist_ner',tags=[\"dev\"]):\n",
    "    trainer.train()"
   ]
  },
  {
   "cell_type": "code",
   "execution_count": null,
   "id": "17eb92f2-a66b-492b-8749-c7a64dad430c",
   "metadata": {},
   "outputs": [],
   "source": []
  }
 ],
 "metadata": {
  "kernelspec": {
   "display_name": "xmen",
   "language": "python",
   "name": "xmen"
  },
  "language_info": {
   "codemirror_mode": {
    "name": "ipython",
    "version": 3
   },
   "file_extension": ".py",
   "mimetype": "text/x-python",
   "name": "python",
   "nbconvert_exporter": "python",
   "pygments_lexer": "ipython3",
   "version": "3.8.10"
  }
 },
 "nbformat": 4,
 "nbformat_minor": 5
}
