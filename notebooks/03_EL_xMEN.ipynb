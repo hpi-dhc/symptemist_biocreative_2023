{
 "cells": [
  {
   "cell_type": "markdown",
   "id": "a98f1c88-00b3-49d3-9bde-1083ad9bb30d",
   "metadata": {},
   "source": [
    "# Preparation"
   ]
  },
  {
   "cell_type": "markdown",
   "id": "eed3d0a5-8e71-4b42-94a7-9f9ba1f51000",
   "metadata": {},
   "source": [
    "`pip install xmen` (install [xmen](https://github.com/hpi-dhc/xmen) Python package)\n",
    "\n",
    "`xmen dict conf/xmen.yaml --code src/gazetteer.py`\n",
    "(extend the SympTEMIST gazetteer with UMLS aliases and save as jsonl file)\n",
    "\n",
    "`xmen index conf/xmen.yaml --all`\n",
    "(compute TF-IDF and SapBERT indices)"
   ]
  },
  {
   "cell_type": "code",
   "execution_count": 18,
   "id": "18211ef8-4e9f-4893-aabf-5721bd39064f",
   "metadata": {},
   "outputs": [],
   "source": [
    "def count_ents(ds):\n",
    "    print(len([e for d in ds['entities'] for e in d]))"
   ]
  },
  {
   "cell_type": "code",
   "execution_count": 3,
   "id": "613f5708-2682-4933-af8e-d4ad1e3ac408",
   "metadata": {},
   "outputs": [],
   "source": [
    "from datasets import load_dataset, DatasetDict, load_from_disk\n",
    "from pathlib import Path\n",
    "from xmen.evaluation import *"
   ]
  },
  {
   "cell_type": "code",
   "execution_count": 4,
   "id": "685c3dbe-0fd7-4428-a96b-dc42d4d5d2c5",
   "metadata": {},
   "outputs": [],
   "source": [
    "base_path = Path.home() / '.cache' / 'xmen' / 'symptemist'"
   ]
  },
  {
   "cell_type": "code",
   "execution_count": 5,
   "id": "cc930779-8e30-42bf-884e-589664a1f717",
   "metadata": {},
   "outputs": [
    {
     "data": {
      "application/vnd.jupyter.widget-view+json": {
       "model_id": "a1fb78f313664fcebaae1fe6fcc40c8e",
       "version_major": 2,
       "version_minor": 0
      },
      "text/plain": [
       "Generating train split: 0 examples [00:00, ? examples/s]"
      ]
     },
     "metadata": {},
     "output_type": "display_data"
    },
    {
     "data": {
      "application/vnd.jupyter.widget-view+json": {
       "model_id": "5f53082eb03041f790c9e2daa19531f6",
       "version_major": 2,
       "version_minor": 0
      },
      "text/plain": [
       "Generating test split: 0 examples [00:00, ? examples/s]"
      ]
     },
     "metadata": {},
     "output_type": "display_data"
    }
   ],
   "source": [
    "symptemist_data = load_dataset(\n",
    "    path=\"../../biomedical/bigbio/hub/hub_repos/symptemist/symptemist.py\", \n",
    "    name=\"symptemist_linking_bigbio_kb\"\n",
    ")\n",
    "train_data = symptemist_data['train']\n",
    "test_data = symptemist_data['test']"
   ]
  },
  {
   "cell_type": "code",
   "execution_count": 6,
   "id": "b3376ccd-2313-413b-9a59-1365edddd6dd",
   "metadata": {},
   "outputs": [
    {
     "data": {
      "text/plain": [
       "60"
      ]
     },
     "execution_count": 6,
     "metadata": {},
     "output_type": "execute_result"
    }
   ],
   "source": [
    "#import random\n",
    "#random.seed(42)\n",
    "\n",
    "#doc_ids = symptemist_data['train']['document_id']\n",
    "#n_valid = int(0.2 * len(doc_ids))\n",
    "#n_valid\n",
    "#valid_doc_ids = random.sample(doc_ids, n_valid)\n",
    "#with open('../data/subtrack2_valid_docids.txt', 'w') as fh:\n",
    "#     for v in valid_doc_ids:\n",
    "#        fh.write(v + '\\n')\n",
    "valid_doc_ids = [doc_id.strip() for doc_id in open('../data/subtrack2_valid_docids.txt', 'r').readlines()]\n",
    "len(valid_doc_ids)"
   ]
  },
  {
   "cell_type": "code",
   "execution_count": 7,
   "id": "abd090c6-751b-4ca8-9451-9e9ea27fb4ae",
   "metadata": {},
   "outputs": [
    {
     "data": {
      "application/vnd.jupyter.widget-view+json": {
       "model_id": "15e2f3688e5c46aea9fd4291d98ddb12",
       "version_major": 2,
       "version_minor": 0
      },
      "text/plain": [
       "Filter:   0%|          | 0/304 [00:00<?, ? examples/s]"
      ]
     },
     "metadata": {},
     "output_type": "display_data"
    },
    {
     "data": {
      "application/vnd.jupyter.widget-view+json": {
       "model_id": "453ebff2922348bdb9b5d00125e28cec",
       "version_major": 2,
       "version_minor": 0
      },
      "text/plain": [
       "Filter:   0%|          | 0/304 [00:00<?, ? examples/s]"
      ]
     },
     "metadata": {},
     "output_type": "display_data"
    },
    {
     "data": {
      "text/plain": [
       "DatasetDict({\n",
       "    train: Dataset({\n",
       "        features: ['id', 'document_id', 'passages', 'entities', 'events', 'coreferences', 'relations'],\n",
       "        num_rows: 244\n",
       "    })\n",
       "    validation: Dataset({\n",
       "        features: ['id', 'document_id', 'passages', 'entities', 'events', 'coreferences', 'relations'],\n",
       "        num_rows: 60\n",
       "    })\n",
       "    test: Dataset({\n",
       "        features: ['id', 'document_id', 'passages', 'entities', 'events', 'coreferences', 'relations'],\n",
       "        num_rows: 247\n",
       "    })\n",
       "})"
      ]
     },
     "execution_count": 7,
     "metadata": {},
     "output_type": "execute_result"
    }
   ],
   "source": [
    "dataset = DatasetDict()\n",
    "dataset['train'] = train_data.filter(lambda d: d['document_id'] not in valid_doc_ids)\n",
    "dataset['validation'] = train_data.filter(lambda d: d['document_id'] in valid_doc_ids)\n",
    "dataset['test'] = test_data\n",
    "dataset"
   ]
  },
  {
   "cell_type": "code",
   "execution_count": 8,
   "id": "70634a39-008a-4afe-8398-aa60042fbe3f",
   "metadata": {},
   "outputs": [
    {
     "data": {
      "text/plain": [
       "3484"
      ]
     },
     "execution_count": 8,
     "metadata": {},
     "output_type": "execute_result"
    }
   ],
   "source": [
    "from xmen.data import get_cuis\n",
    "cuis = get_cuis(dataset['train']) + get_cuis(dataset['validation'])\n",
    "len(cuis)"
   ]
  },
  {
   "cell_type": "code",
   "execution_count": 9,
   "id": "7b0dbaaf-ea2f-45e4-ad29-7e0412770200",
   "metadata": {},
   "outputs": [],
   "source": [
    "from xmen import load_kb\n",
    "kb = load_kb(base_path / 'symptemist.jsonl')"
   ]
  },
  {
   "cell_type": "code",
   "execution_count": 12,
   "id": "9b4663d5-daa8-48f3-afd3-8e35fbd4c537",
   "metadata": {},
   "outputs": [
    {
     "data": {
      "text/plain": [
       "121760"
      ]
     },
     "execution_count": 12,
     "metadata": {},
     "output_type": "execute_result"
    }
   ],
   "source": [
    "len(pd.read_csv('../data/symptemist-train_all_subtasks+gazetteer+multilingual+test_all_subtasks+bg_231006/symptemist_gazetteer/symptemist_gazetter_snomed_ES_v2.tsv', sep='\\t').code.unique())"
   ]
  },
  {
   "cell_type": "code",
   "execution_count": 16,
   "id": "85c64f25-64cd-4262-89c4-f9a06a80247c",
   "metadata": {},
   "outputs": [
    {
     "data": {
      "text/plain": [
       "992924"
      ]
     },
     "execution_count": 16,
     "metadata": {},
     "output_type": "execute_result"
    }
   ],
   "source": [
    "len(kb.alias_to_cuis)"
   ]
  },
  {
   "cell_type": "code",
   "execution_count": 15,
   "id": "27b2f628-934d-422d-9865-c77245fd9de3",
   "metadata": {},
   "outputs": [
    {
     "data": {
      "text/plain": [
       "1079623"
      ]
     },
     "execution_count": 15,
     "metadata": {},
     "output_type": "execute_result"
    }
   ],
   "source": [
    "sum([len(v) for a, v in kb.alias_to_cuis.items()])"
   ]
  },
  {
   "cell_type": "code",
   "execution_count": 9,
   "id": "047c826f-121a-4645-ab50-082f3b6fa9be",
   "metadata": {},
   "outputs": [
    {
     "data": {
      "text/plain": [
       "{'NO_CODE'}"
      ]
     },
     "execution_count": 9,
     "metadata": {},
     "output_type": "execute_result"
    }
   ],
   "source": [
    "set([c for c in cuis if not c in kb.cui_to_entity])"
   ]
  },
  {
   "cell_type": "code",
   "execution_count": 10,
   "id": "fe183a67-d8e3-4d64-a860-528fe251f224",
   "metadata": {},
   "outputs": [
    {
     "data": {
      "text/plain": [
       "1079623"
      ]
     },
     "execution_count": 10,
     "metadata": {},
     "output_type": "execute_result"
    }
   ],
   "source": [
    "# aliases\n",
    "sum([len(c) for c in kb.alias_to_cuis.values()])"
   ]
  },
  {
   "cell_type": "markdown",
   "id": "da098f44-aa29-4527-adf2-154c871fd58d",
   "metadata": {},
   "source": [
    "# Candidate Generation"
   ]
  },
  {
   "cell_type": "code",
   "execution_count": 11,
   "id": "2fba3fcd-f2c2-4160-b774-6bdab25764d4",
   "metadata": {},
   "outputs": [],
   "source": [
    "from xmen.linkers import default_ensemble"
   ]
  },
  {
   "cell_type": "code",
   "execution_count": null,
   "id": "80183943-568c-491f-8dab-d7859906f262",
   "metadata": {},
   "outputs": [],
   "source": [
    "linker = default_ensemble(base_path / 'index')"
   ]
  },
  {
   "cell_type": "code",
   "execution_count": null,
   "id": "4b150c65-6536-45c3-bb23-8db13a4f3b9d",
   "metadata": {},
   "outputs": [],
   "source": [
    "candidates_ngram = linker.linkers_fn['ngram']().predict_batch(dataset)"
   ]
  },
  {
   "cell_type": "code",
   "execution_count": null,
   "id": "ffc01a6e-298f-4060-84a1-ca2f092fe6e4",
   "metadata": {},
   "outputs": [],
   "source": [
    "print('Training Set:')\n",
    "_ = evaluate_at_k(dataset['train'], candidates_ngram['train'])\n",
    "print('Validation Set:')\n",
    "_ = evaluate_at_k(dataset['validation'], candidates_ngram['validation'])"
   ]
  },
  {
   "cell_type": "code",
   "execution_count": null,
   "id": "8ad57c4f-9a41-459c-8d02-b86c4742caa9",
   "metadata": {},
   "outputs": [],
   "source": [
    "candidates_sap = linker.linkers_fn['sapbert']().predict_batch(dataset, batch_size=128)"
   ]
  },
  {
   "cell_type": "code",
   "execution_count": null,
   "id": "94131636-05ff-43c0-89b3-b8e8ccf2bc0a",
   "metadata": {},
   "outputs": [],
   "source": [
    "print('Training Set:')\n",
    "_ = evaluate_at_k(dataset['train'], candidates_sap['train'])\n",
    "print('Validation Set:')\n",
    "_ = evaluate_at_k(dataset['validation'], candidates_sap['validation'])"
   ]
  },
  {
   "cell_type": "code",
   "execution_count": null,
   "id": "b283495f-d92b-4a6c-8ecf-e8203f88fc41",
   "metadata": {},
   "outputs": [],
   "source": [
    "candidates = linker.predict_batch(dataset, batch_size=128, top_k=64, reuse_preds={'sapbert' : candidates_sap, 'ngram' : candidates_ngram})"
   ]
  },
  {
   "cell_type": "code",
   "execution_count": null,
   "id": "2c993d4a-67bf-485c-8149-ca8afc7ac77f",
   "metadata": {},
   "outputs": [],
   "source": [
    "print('Training Set:')\n",
    "_ = evaluate_at_k(dataset['train'], candidates['train'])\n",
    "print('Validation Set:')\n",
    "_ = evaluate_at_k(dataset['validation'], candidates['validation'])"
   ]
  },
  {
   "cell_type": "code",
   "execution_count": null,
   "id": "fc612f23-d23b-4702-a244-71f5b62a0c9f",
   "metadata": {},
   "outputs": [],
   "source": [
    "candidates.save_to_disk('../data/candidates')"
   ]
  },
  {
   "cell_type": "code",
   "execution_count": null,
   "id": "6c95e491-119f-4ac9-8c47-cba7b4157663",
   "metadata": {},
   "outputs": [],
   "source": [
    "candidates"
   ]
  },
  {
   "cell_type": "markdown",
   "id": "00292c19-186c-4e54-9a8d-3b5d422e6efd",
   "metadata": {},
   "source": [
    "# Prepare Data for Reranking"
   ]
  },
  {
   "cell_type": "code",
   "execution_count": 12,
   "id": "9bbb8575-e71e-4983-9284-3574e5d675da",
   "metadata": {},
   "outputs": [],
   "source": [
    "from xmen.reranking import CrossEncoderReranker"
   ]
  },
  {
   "cell_type": "code",
   "execution_count": 13,
   "id": "8a684c02-33cb-418b-ade9-9646969650ce",
   "metadata": {},
   "outputs": [],
   "source": [
    "candidates = load_from_disk('../data/candidates')"
   ]
  },
  {
   "cell_type": "code",
   "execution_count": 15,
   "id": "1bb6ff55-0c34-4f42-9011-8f0f377e4b85",
   "metadata": {},
   "outputs": [
    {
     "name": "stdout",
     "output_type": "stream",
     "text": [
      "Recall@1 0.4217335058214748\n",
      "Recall@2 0.5433376455368694\n",
      "Recall@4 0.6261319534282018\n",
      "Recall@8 0.6817593790426908\n",
      "Recall@16 0.7309184993531694\n",
      "Recall@32 0.7684346701164295\n",
      "Recall@64 0.8020698576972833\n"
     ]
    }
   ],
   "source": [
    "_ = evaluate_at_k(dataset['validation'], candidates['validation'])"
   ]
  },
  {
   "cell_type": "code",
   "execution_count": 17,
   "id": "d85082d0-5d0b-4d25-8ddc-d1060314f89c",
   "metadata": {},
   "outputs": [
    {
     "name": "stdout",
     "output_type": "stream",
     "text": [
      "Context length: 128\n",
      "Use NIL values: True\n"
     ]
    },
    {
     "data": {
      "application/vnd.jupyter.widget-view+json": {
       "model_id": "1effc303578b48d7a5ea40567bdada1a",
       "version_major": 2,
       "version_minor": 0
      },
      "text/plain": [
       "  0%|          | 0/2711 [00:00<?, ?it/s]"
      ]
     },
     "metadata": {},
     "output_type": "display_data"
    },
    {
     "data": {
      "application/vnd.jupyter.widget-view+json": {
       "model_id": "f098d63682a04fbcbabe17a5304ff4d5",
       "version_major": 2,
       "version_minor": 0
      },
      "text/plain": [
       "  0%|          | 0/2711 [00:00<?, ?it/s]"
      ]
     },
     "metadata": {},
     "output_type": "display_data"
    },
    {
     "data": {
      "application/vnd.jupyter.widget-view+json": {
       "model_id": "7edb2f4e571b4e8ea5ad0ae0a0f299cc",
       "version_major": 2,
       "version_minor": 0
      },
      "text/plain": [
       "  0%|          | 0/2711 [00:00<?, ?it/s]"
      ]
     },
     "metadata": {},
     "output_type": "display_data"
    },
    {
     "data": {
      "application/vnd.jupyter.widget-view+json": {
       "model_id": "506979dde4cb40f9949d5e6baf1daafd",
       "version_major": 2,
       "version_minor": 0
      },
      "text/plain": [
       "  0%|          | 0/773 [00:00<?, ?it/s]"
      ]
     },
     "metadata": {},
     "output_type": "display_data"
    },
    {
     "data": {
      "application/vnd.jupyter.widget-view+json": {
       "model_id": "5952a364c59845eea4fe96662efb7021",
       "version_major": 2,
       "version_minor": 0
      },
      "text/plain": [
       "  0%|          | 0/773 [00:00<?, ?it/s]"
      ]
     },
     "metadata": {},
     "output_type": "display_data"
    },
    {
     "data": {
      "application/vnd.jupyter.widget-view+json": {
       "model_id": "a39bb3679a4e406bad9aba5170bea6b6",
       "version_major": 2,
       "version_minor": 0
      },
      "text/plain": [
       "  0%|          | 0/773 [00:00<?, ?it/s]"
      ]
     },
     "metadata": {},
     "output_type": "display_data"
    },
    {
     "data": {
      "application/vnd.jupyter.widget-view+json": {
       "model_id": "e67aa4967d4f41e6aaaa206f3e10c75d",
       "version_major": 2,
       "version_minor": 0
      },
      "text/plain": [
       "  0%|          | 0/3104 [00:00<?, ?it/s]"
      ]
     },
     "metadata": {},
     "output_type": "display_data"
    },
    {
     "data": {
      "application/vnd.jupyter.widget-view+json": {
       "model_id": "999ea84d3ed8457fa2ce5512cd838705",
       "version_major": 2,
       "version_minor": 0
      },
      "text/plain": [
       "  0%|          | 0/3104 [00:00<?, ?it/s]"
      ]
     },
     "metadata": {},
     "output_type": "display_data"
    },
    {
     "data": {
      "application/vnd.jupyter.widget-view+json": {
       "model_id": "015ab7f03848423f89e3229903fd5e27",
       "version_major": 2,
       "version_minor": 0
      },
      "text/plain": [
       "  0%|          | 0/3104 [00:00<?, ?it/s]"
      ]
     },
     "metadata": {},
     "output_type": "display_data"
    }
   ],
   "source": [
    "ce_dataset = CrossEncoderReranker.prepare_data(candidates, dataset, kb)"
   ]
  },
  {
   "cell_type": "markdown",
   "id": "f4c3d08d-7c1b-42f0-ab00-d82a7d7bda4b",
   "metadata": {},
   "source": [
    "# Reranker Training"
   ]
  },
  {
   "cell_type": "code",
   "execution_count": null,
   "id": "679e98be-a7fa-4ff6-b247-027d190188e9",
   "metadata": {},
   "outputs": [],
   "source": [
    "from xmen.reranking.cross_encoder import CrossEncoderTrainingArgs\n",
    "args = CrossEncoderTrainingArgs(num_train_epochs=20, model_name='PlanTL-GOB-ES/roberta-base-biomedical-clinical-es')"
   ]
  },
  {
   "cell_type": "code",
   "execution_count": null,
   "id": "a154681b-4b8c-4865-8c43-52111b9ea2e4",
   "metadata": {},
   "outputs": [],
   "source": [
    "import datetime\n",
    "output_dir = Path('output') / 'cross_encoder' / datetime.datetime.now().strftime(\"%Y%m%d-%H%M%S\")"
   ]
  },
  {
   "cell_type": "code",
   "execution_count": null,
   "id": "c7d55c13-51f7-43a1-9c3a-575b04d510aa",
   "metadata": {},
   "outputs": [],
   "source": [
    "import wandb\n",
    "\n",
    "wandb.init(project=\"symptemist\")\n",
    "\n",
    "try:\n",
    "    rr = CrossEncoderReranker()\n",
    "    rr.fit(args, ce_dataset['train'].dataset, ce_dataset['validation'].dataset, show_progress_bar=False, eval_callback=wandb.log, output_dir=output_dir)\n",
    "finally:\n",
    "    if run := wandb.run:\n",
    "        run.finish()"
   ]
  },
  {
   "cell_type": "markdown",
   "id": "7d7705e8-e7f4-4ea7-a255-ab59b8c13efb",
   "metadata": {},
   "source": [
    "# Prediction on Validation / Test Set"
   ]
  },
  {
   "cell_type": "code",
   "execution_count": 18,
   "id": "a372efb9-c1c2-4dfd-a7e4-4fc9b5e0bc90",
   "metadata": {},
   "outputs": [],
   "source": [
    "rr = CrossEncoderReranker.load('output/cross_encoder/20230920-134756/', device=0)"
   ]
  },
  {
   "cell_type": "code",
   "execution_count": 19,
   "id": "8d7759ad-0ca2-41d9-a5e6-3a41f18ce2dc",
   "metadata": {},
   "outputs": [
    {
     "data": {
      "application/vnd.jupyter.widget-view+json": {
       "model_id": "dac65a79c5394b57b47da776cbe53501",
       "version_major": 2,
       "version_minor": 0
      },
      "text/plain": [
       "Batches:   0%|          | 0/773 [00:00<?, ?it/s]"
      ]
     },
     "metadata": {},
     "output_type": "display_data"
    },
    {
     "data": {
      "application/vnd.jupyter.widget-view+json": {
       "model_id": "",
       "version_major": 2,
       "version_minor": 0
      },
      "text/plain": [
       "Map:   0%|          | 0/60 [00:00<?, ? examples/s]"
      ]
     },
     "metadata": {},
     "output_type": "display_data"
    },
    {
     "data": {
      "application/vnd.jupyter.widget-view+json": {
       "model_id": "",
       "version_major": 2,
       "version_minor": 0
      },
      "text/plain": [
       "Map:   0%|          | 0/60 [00:00<?, ? examples/s]"
      ]
     },
     "metadata": {},
     "output_type": "display_data"
    },
    {
     "data": {
      "application/vnd.jupyter.widget-view+json": {
       "model_id": "",
       "version_major": 2,
       "version_minor": 0
      },
      "text/plain": [
       "Saving the dataset (0/1 shards):   0%|          | 0/60 [00:00<?, ? examples/s]"
      ]
     },
     "metadata": {},
     "output_type": "display_data"
    }
   ],
   "source": [
    "pred_validation = rr.rerank_batch(candidates['validation'], ce_dataset['validation'])\n",
    "pred_validation.save_to_disk('../data/pred_validation')"
   ]
  },
  {
   "cell_type": "code",
   "execution_count": 21,
   "id": "926bf4d8-eb13-4990-83ed-bdf137fdee5e",
   "metadata": {},
   "outputs": [
    {
     "data": {
      "text/plain": [
       "{'strict': {'precision': 0.69558599695586,\n",
       "  'recall': 0.5912031047865459,\n",
       "  'fscore': 0.6391608391608392,\n",
       "  'ptp': 457,\n",
       "  'fp': 200,\n",
       "  'rtp': 457,\n",
       "  'fn': 316,\n",
       "  'n_docs_system': 60,\n",
       "  'n_annos_system': 657,\n",
       "  'n_docs_gold': 60,\n",
       "  'n_annos_gold': 773}}"
      ]
     },
     "execution_count": 21,
     "metadata": {},
     "output_type": "execute_result"
    }
   ],
   "source": [
    "evaluate(dataset['validation'], pred_validation)"
   ]
  },
  {
   "cell_type": "code",
   "execution_count": 20,
   "id": "df1f2c13-25bf-4778-b261-d2ff0c0bf20b",
   "metadata": {},
   "outputs": [
    {
     "data": {
      "application/vnd.jupyter.widget-view+json": {
       "model_id": "6b56c5b80d3249ceb53b8b9a0bb2ae14",
       "version_major": 2,
       "version_minor": 0
      },
      "text/plain": [
       "Batches:   0%|          | 0/773 [00:00<?, ?it/s]"
      ]
     },
     "metadata": {},
     "output_type": "display_data"
    },
    {
     "data": {
      "application/vnd.jupyter.widget-view+json": {
       "model_id": "",
       "version_major": 2,
       "version_minor": 0
      },
      "text/plain": [
       "Map:   0%|          | 0/60 [00:00<?, ? examples/s]"
      ]
     },
     "metadata": {},
     "output_type": "display_data"
    },
    {
     "data": {
      "application/vnd.jupyter.widget-view+json": {
       "model_id": "",
       "version_major": 2,
       "version_minor": 0
      },
      "text/plain": [
       "Map:   0%|          | 0/60 [00:00<?, ? examples/s]"
      ]
     },
     "metadata": {},
     "output_type": "display_data"
    },
    {
     "data": {
      "application/vnd.jupyter.widget-view+json": {
       "model_id": "",
       "version_major": 2,
       "version_minor": 0
      },
      "text/plain": [
       "Saving the dataset (0/1 shards):   0%|          | 0/60 [00:00<?, ? examples/s]"
      ]
     },
     "metadata": {},
     "output_type": "display_data"
    }
   ],
   "source": [
    "pred_validation_no_nil = rr.rerank_batch(candidates['validation'], ce_dataset['validation'], allow_nil=False)\n",
    "pred_validation_no_nil.save_to_disk('../data/pred_validation_no_nil')"
   ]
  },
  {
   "cell_type": "code",
   "execution_count": 22,
   "id": "b6fba581-ff32-4027-8af9-47b78d091120",
   "metadata": {},
   "outputs": [
    {
     "data": {
      "text/plain": [
       "{'strict': {'precision': 0.6093143596377749,\n",
       "  'recall': 0.6093143596377749,\n",
       "  'fscore': 0.6093143596377749,\n",
       "  'ptp': 471,\n",
       "  'fp': 302,\n",
       "  'rtp': 471,\n",
       "  'fn': 302,\n",
       "  'n_docs_system': 60,\n",
       "  'n_annos_system': 773,\n",
       "  'n_docs_gold': 60,\n",
       "  'n_annos_gold': 773}}"
      ]
     },
     "execution_count": 22,
     "metadata": {},
     "output_type": "execute_result"
    }
   ],
   "source": [
    "evaluate(dataset['validation'], pred_validation_no_nil)"
   ]
  },
  {
   "cell_type": "code",
   "execution_count": 23,
   "id": "a3cccbb1-b4ac-4ac2-9123-404bf63b0c2f",
   "metadata": {},
   "outputs": [
    {
     "data": {
      "application/vnd.jupyter.widget-view+json": {
       "model_id": "8d717a6864684660aebb5c5e957b5e80",
       "version_major": 2,
       "version_minor": 0
      },
      "text/plain": [
       "Batches:   0%|          | 0/3104 [00:00<?, ?it/s]"
      ]
     },
     "metadata": {},
     "output_type": "display_data"
    },
    {
     "data": {
      "application/vnd.jupyter.widget-view+json": {
       "model_id": "",
       "version_major": 2,
       "version_minor": 0
      },
      "text/plain": [
       "Map:   0%|          | 0/247 [00:00<?, ? examples/s]"
      ]
     },
     "metadata": {},
     "output_type": "display_data"
    },
    {
     "data": {
      "application/vnd.jupyter.widget-view+json": {
       "model_id": "",
       "version_major": 2,
       "version_minor": 0
      },
      "text/plain": [
       "Map:   0%|          | 0/247 [00:00<?, ? examples/s]"
      ]
     },
     "metadata": {},
     "output_type": "display_data"
    },
    {
     "data": {
      "application/vnd.jupyter.widget-view+json": {
       "model_id": "",
       "version_major": 2,
       "version_minor": 0
      },
      "text/plain": [
       "Saving the dataset (0/1 shards):   0%|          | 0/247 [00:00<?, ? examples/s]"
      ]
     },
     "metadata": {},
     "output_type": "display_data"
    }
   ],
   "source": [
    "pred_test = rr.rerank_batch(candidates['test'], ce_dataset['test'])\n",
    "pred_test.save_to_disk('../data/pred_test')"
   ]
  },
  {
   "cell_type": "code",
   "execution_count": 24,
   "id": "b76dae6f-5f44-4779-a5f6-fda44a75a426",
   "metadata": {},
   "outputs": [
    {
     "data": {
      "application/vnd.jupyter.widget-view+json": {
       "model_id": "f61b615751e246088eef58a2b3400def",
       "version_major": 2,
       "version_minor": 0
      },
      "text/plain": [
       "Batches:   0%|          | 0/3104 [00:00<?, ?it/s]"
      ]
     },
     "metadata": {},
     "output_type": "display_data"
    },
    {
     "data": {
      "application/vnd.jupyter.widget-view+json": {
       "model_id": "",
       "version_major": 2,
       "version_minor": 0
      },
      "text/plain": [
       "Map:   0%|          | 0/247 [00:00<?, ? examples/s]"
      ]
     },
     "metadata": {},
     "output_type": "display_data"
    },
    {
     "data": {
      "application/vnd.jupyter.widget-view+json": {
       "model_id": "",
       "version_major": 2,
       "version_minor": 0
      },
      "text/plain": [
       "Map:   0%|          | 0/247 [00:00<?, ? examples/s]"
      ]
     },
     "metadata": {},
     "output_type": "display_data"
    },
    {
     "data": {
      "application/vnd.jupyter.widget-view+json": {
       "model_id": "",
       "version_major": 2,
       "version_minor": 0
      },
      "text/plain": [
       "Saving the dataset (0/1 shards):   0%|          | 0/247 [00:00<?, ? examples/s]"
      ]
     },
     "metadata": {},
     "output_type": "display_data"
    }
   ],
   "source": [
    "pred_test_no_nil = rr.rerank_batch(candidates['test'], ce_dataset['test'], allow_nil=False)\n",
    "pred_test_no_nil.save_to_disk('../data/pred_test_no_nil')"
   ]
  },
  {
   "cell_type": "markdown",
   "id": "75a5b652-7ab3-4b88-aead-89fa2633e489",
   "metadata": {},
   "source": [
    "# Post-Processing"
   ]
  },
  {
   "cell_type": "code",
   "execution_count": 19,
   "id": "0822a3e2-5fe6-4c29-a451-73478d27edbf",
   "metadata": {},
   "outputs": [
    {
     "data": {
      "text/plain": [
       "text\n",
       "5HIAA en orina de 24 horas estaba dentro de los parámetros normales    171250001\n",
       "A nivel analítico no presentaba alteración                             166315009\n",
       "ALT y AST mayores de 20 veces el valor normal                          707724006\n",
       "ALT y AST menos de 3 veces el valor normal                             166642001\n",
       "AMA (Anticuerpos antimitocondriales) negativos                         310293008\n",
       "                                                                         ...    \n",
       "éxitus                                                                 419099009\n",
       "íleon por engrosamiento parietal                                       312895004\n",
       "íleon terminal una mucosa extremadamente irregular                     312895004\n",
       "óbito                                                                  419099009\n",
       "β-HCG normal                                                            33809001\n",
       "Name: norm, Length: 1985, dtype: object"
      ]
     },
     "execution_count": 19,
     "metadata": {},
     "output_type": "execute_result"
    }
   ],
   "source": [
    "str2cui = []\n",
    "for d in dataset['train']['entities']:\n",
    "    for e in d:\n",
    "        str2cui.append({'text' : ' '.join(e['text']), 'norm' : e['normalized'][0]['db_id']})\n",
    "str2cui = pd.DataFrame(str2cui)\n",
    "str2norm = str2cui.groupby('text').agg(set).norm\n",
    "\n",
    "str2cui_list = str2cui.groupby('text').agg(list).norm\n",
    "\n",
    "lookup = str2cui_list[str2cui_list.map(len) > 1].map(lambda l: l[0])\n",
    "lookup = str2norm.map(lambda s: list(s)[0])\n",
    "\n",
    "lookup"
   ]
  },
  {
   "cell_type": "code",
   "execution_count": 20,
   "id": "894ae7b7-3a01-447c-ade9-1f89fd8472de",
   "metadata": {},
   "outputs": [
    {
     "data": {
      "text/plain": [
       "Series([], Name: norm, dtype: object)"
      ]
     },
     "execution_count": 20,
     "metadata": {},
     "output_type": "execute_result"
    }
   ],
   "source": [
    "# Mapping is unique\n",
    "str2norm[str2norm.map(len) != 1]"
   ]
  },
  {
   "cell_type": "code",
   "execution_count": 21,
   "id": "5bb112e4-1aef-466b-99ec-6593e398d2b6",
   "metadata": {},
   "outputs": [],
   "source": [
    "def transform_lookup(sample):\n",
    "    entities = sample['entities'].copy()\n",
    "    for e in entities:\n",
    "        t = ' '.join(e['text'])\n",
    "        if t in lookup.index:\n",
    "            train_cui = lookup.loc[t]\n",
    "            norm = e['normalized']\n",
    "            entry = {'db_name': 'SNOMED_CT', 'db_id': train_cui, 'score' : 1.0, 'predicted_by' : ['lookup']}\n",
    "            norm.insert(0, entry)\n",
    "    return { 'entities' : entities }"
   ]
  },
  {
   "cell_type": "code",
   "execution_count": 22,
   "id": "ebd62cf0-0a33-4a52-9d22-7729a58c47d7",
   "metadata": {},
   "outputs": [],
   "source": [
    "from xmen.data import filter_and_apply_threshold\n",
    "\n",
    "def get_all_predictions(pred, pred_no_nil):\n",
    "    pred = pred.map(transform_lookup)\n",
    "    pred_no_nil = pred_no_nil.map(transform_lookup)\n",
    "    \n",
    "    pred_02 = filter_and_apply_threshold(pred, k=64, threshold=0.02)\n",
    "    pred_no_nil_02 = filter_and_apply_threshold(pred_no_nil, k=64, threshold=0.02)\n",
    "    \n",
    "    return {\n",
    "        'xmen' : pred,\n",
    "        'xmen_no_nil': pred_no_nil,\n",
    "        'xmen_02': pred_02,\n",
    "        'xmen_no_nil_02' : pred_no_nil_02\n",
    "    }"
   ]
  },
  {
   "cell_type": "code",
   "execution_count": 25,
   "id": "92f7f38f-156e-4eca-803d-95cb25439d28",
   "metadata": {},
   "outputs": [],
   "source": [
    "import datasets\n",
    "pred_validation = datasets.load_from_disk('../data/pred_validation')\n",
    "pred_validation_no_nil = datasets.load_from_disk('../data/pred_validation_no_nil')"
   ]
  },
  {
   "cell_type": "code",
   "execution_count": 26,
   "id": "59c27582-8647-458e-adf3-5ce220cbcae8",
   "metadata": {},
   "outputs": [
    {
     "data": {
      "application/vnd.jupyter.widget-view+json": {
       "model_id": "10a239efcd124ee6be9c49505242a636",
       "version_major": 2,
       "version_minor": 0
      },
      "text/plain": [
       "Map:   0%|          | 0/60 [00:00<?, ? examples/s]"
      ]
     },
     "metadata": {},
     "output_type": "display_data"
    },
    {
     "data": {
      "application/vnd.jupyter.widget-view+json": {
       "model_id": "b2a4ffba18844eaa86b45299a6306c08",
       "version_major": 2,
       "version_minor": 0
      },
      "text/plain": [
       "Map:   0%|          | 0/60 [00:00<?, ? examples/s]"
      ]
     },
     "metadata": {},
     "output_type": "display_data"
    },
    {
     "data": {
      "application/vnd.jupyter.widget-view+json": {
       "model_id": "520f9df8411a4782ad5d18bf732388b9",
       "version_major": 2,
       "version_minor": 0
      },
      "text/plain": [
       "Map:   0%|          | 0/60 [00:00<?, ? examples/s]"
      ]
     },
     "metadata": {},
     "output_type": "display_data"
    },
    {
     "data": {
      "application/vnd.jupyter.widget-view+json": {
       "model_id": "0e97efa395c54563a88530fcd39e539b",
       "version_major": 2,
       "version_minor": 0
      },
      "text/plain": [
       "Map:   0%|          | 0/60 [00:00<?, ? examples/s]"
      ]
     },
     "metadata": {},
     "output_type": "display_data"
    }
   ],
   "source": [
    "results_valid = get_all_predictions(pred_validation, pred_validation_no_nil)\n",
    "#results_test = get_all_predictions(pred_test, pred_test_no_nil)"
   ]
  },
  {
   "cell_type": "code",
   "execution_count": 29,
   "id": "c1610e38-6de9-43b2-92fa-7abaff0b4299",
   "metadata": {},
   "outputs": [
    {
     "data": {
      "text/plain": [
       "{'strict': {'precision': 0.6261319534282018,\n",
       "  'recall': 0.6261319534282018,\n",
       "  'fscore': 0.6261319534282018,\n",
       "  'ptp': 484,\n",
       "  'fp': 289,\n",
       "  'rtp': 484,\n",
       "  'fn': 289,\n",
       "  'n_docs_system': 60,\n",
       "  'n_annos_system': 773,\n",
       "  'n_docs_gold': 60,\n",
       "  'n_annos_gold': 773}}"
      ]
     },
     "execution_count": 29,
     "metadata": {},
     "output_type": "execute_result"
    }
   ],
   "source": [
    "evaluate(dataset['validation'], results_valid['xmen_no_nil'])"
   ]
  },
  {
   "cell_type": "markdown",
   "id": "8f52b5a4-7424-4cf2-b02e-bd77720c9679",
   "metadata": {},
   "source": [
    "# Create Submission TSV"
   ]
  },
  {
   "cell_type": "code",
   "execution_count": 74,
   "id": "54820a5d-1332-460b-842b-0551d6b0df19",
   "metadata": {},
   "outputs": [],
   "source": [
    "def write_tsv(folder, input_tsv, name, result):\n",
    "    pred_tsv = input_tsv.copy()[['filename', 'label', 'span_ini', 'span_end', 'text']]\n",
    "    ents = {(d['document_id'], e['offsets'][0][0], e['offsets'][0][1]) : e for d in result for e in d['entities']}\n",
    "    \n",
    "    assert len(ents) == len(pred_tsv.drop_duplicates(subset=['filename', 'span_ini', 'span_end'])), (len(ents), len(pred_tsv))\n",
    "    output = pred_tsv.copy()\n",
    "    for idx, pred in pred_tsv.iterrows():\n",
    "        e_idx = (pred['filename'], pred['span_ini'], pred['span_end'])\n",
    "        assert e_idx in ents\n",
    "        norms = ents[e_idx]['normalized']\n",
    "        if len(norms) > 0:\n",
    "            output.loc[idx, 'code'] = norms[0]['db_id']        \n",
    "    out = Path(folder) / name\n",
    "    print('Written to:', out)\n",
    "    output[~output.code.isna()].rename(columns={'span_ini' : 'start_span', 'span_end' : 'end_span'}).to_csv(out, sep='\\t', index=False)"
   ]
  },
  {
   "cell_type": "markdown",
   "id": "82f7d535-25a2-4751-9aaa-a68f2740b862",
   "metadata": {},
   "source": [
    "## Validation Set"
   ]
  },
  {
   "cell_type": "code",
   "execution_count": 50,
   "id": "b6e72993-c1bb-4971-91e0-3cb9a090f391",
   "metadata": {},
   "outputs": [],
   "source": [
    "import pandas as pd\n",
    "train_tsv = pd.read_csv(Path('../data/symptemist-train_all_subtasks+gazetteer+multilingual_230919/symptemist_train/subtask2-linking/symptemist_tsv_train_subtask2.tsv'), sep='\\t')\n",
    "valid_tsv = train_tsv[train_tsv.filename.isin(valid_doc_ids)]\n",
    "valid_tsv.rename(columns={'span_ini' : 'start_span', 'span_end' : 'end_span'}).to_csv('../data/valid_subtask2.tsv', sep='\\t', index=False)"
   ]
  },
  {
   "cell_type": "code",
   "execution_count": 51,
   "id": "238adaf0-4a43-4056-bf5a-30cde0a5eab4",
   "metadata": {},
   "outputs": [
    {
     "data": {
      "text/plain": [
       "773"
      ]
     },
     "execution_count": 51,
     "metadata": {},
     "output_type": "execute_result"
    }
   ],
   "source": [
    "len(valid_tsv)"
   ]
  },
  {
   "cell_type": "code",
   "execution_count": 52,
   "id": "1d2c99d1-a6b0-4b43-a8e3-94e3b79d8ced",
   "metadata": {},
   "outputs": [
    {
     "name": "stdout",
     "output_type": "stream",
     "text": [
      "Written to: submission/validation/xmen.tsv\n",
      "{'strict': {'precision': 0.706766917293233, 'recall': 0.6080206985769728, 'fscore': 0.6536856745479833, 'ptp': 470, 'fp': 195, 'rtp': 470, 'fn': 303, 'n_docs_system': 60, 'n_annos_system': 665, 'n_docs_gold': 60, 'n_annos_gold': 773}}\n",
      "Written to: submission/validation/xmen_no_nil.tsv\n",
      "{'strict': {'precision': 0.6261319534282018, 'recall': 0.6261319534282018, 'fscore': 0.6261319534282018, 'ptp': 484, 'fp': 289, 'rtp': 484, 'fn': 289, 'n_docs_system': 60, 'n_annos_system': 773, 'n_docs_gold': 60, 'n_annos_gold': 773}}\n",
      "Written to: submission/validation/xmen_02.tsv\n",
      "{'strict': {'precision': 0.8924731182795699, 'recall': 0.536869340232859, 'fscore': 0.6704361873990307, 'ptp': 415, 'fp': 50, 'rtp': 415, 'fn': 358, 'n_docs_system': 60, 'n_annos_system': 465, 'n_docs_gold': 60, 'n_annos_gold': 773}}\n",
      "Written to: submission/validation/xmen_no_nil_02.tsv\n",
      "{'strict': {'precision': 0.8919491525423728, 'recall': 0.5446313065976714, 'fscore': 0.6763052208835341, 'ptp': 421, 'fp': 51, 'rtp': 421, 'fn': 352, 'n_docs_system': 60, 'n_annos_system': 472, 'n_docs_gold': 60, 'n_annos_gold': 773}}\n"
     ]
    }
   ],
   "source": [
    "for k, v in results_valid.items():\n",
    "    write_tsv('submission/validation', valid_tsv, k + '.tsv', v)\n",
    "    print(evaluate(dataset['validation'], v))"
   ]
  },
  {
   "cell_type": "markdown",
   "id": "3e0b911a-f1a0-4261-88b0-2a3a8aa3c016",
   "metadata": {},
   "source": [
    "# Test Set"
   ]
  },
  {
   "cell_type": "code",
   "execution_count": 76,
   "id": "6a544b3a-81d4-4fee-ac7e-e3e5ce8cc3b4",
   "metadata": {},
   "outputs": [
    {
     "data": {
      "text/html": [
       "<div>\n",
       "<style scoped>\n",
       "    .dataframe tbody tr th:only-of-type {\n",
       "        vertical-align: middle;\n",
       "    }\n",
       "\n",
       "    .dataframe tbody tr th {\n",
       "        vertical-align: top;\n",
       "    }\n",
       "\n",
       "    .dataframe thead th {\n",
       "        text-align: right;\n",
       "    }\n",
       "</style>\n",
       "<table border=\"1\" class=\"dataframe\">\n",
       "  <thead>\n",
       "    <tr style=\"text-align: right;\">\n",
       "      <th></th>\n",
       "      <th>filename</th>\n",
       "      <th>label</th>\n",
       "      <th>span_ini</th>\n",
       "      <th>span_end</th>\n",
       "      <th>text</th>\n",
       "      <th>code</th>\n",
       "    </tr>\n",
       "  </thead>\n",
       "  <tbody>\n",
       "    <tr>\n",
       "      <th>0</th>\n",
       "      <td>es-S1138-123X2005000200006-2</td>\n",
       "      <td>SINTOMA</td>\n",
       "      <td>227</td>\n",
       "      <td>257</td>\n",
       "      <td>tensión de los tejidos blandos</td>\n",
       "      <td>NaN</td>\n",
       "    </tr>\n",
       "    <tr>\n",
       "      <th>1</th>\n",
       "      <td>es-S1138-123X2005000200006-2</td>\n",
       "      <td>SINTOMA</td>\n",
       "      <td>579</td>\n",
       "      <td>606</td>\n",
       "      <td>segmentos estaban alineados</td>\n",
       "      <td>NaN</td>\n",
       "    </tr>\n",
       "    <tr>\n",
       "      <th>2</th>\n",
       "      <td>es-S0211-69952011000100019-1</td>\n",
       "      <td>SINTOMA</td>\n",
       "      <td>676</td>\n",
       "      <td>716</td>\n",
       "      <td>normalización de la radiografía de tórax</td>\n",
       "      <td>NaN</td>\n",
       "    </tr>\n",
       "    <tr>\n",
       "      <th>3</th>\n",
       "      <td>es-S0211-69952011000100019-1</td>\n",
       "      <td>SINTOMA</td>\n",
       "      <td>390</td>\n",
       "      <td>411</td>\n",
       "      <td>incomodidad abdominal</td>\n",
       "      <td>NaN</td>\n",
       "    </tr>\n",
       "    <tr>\n",
       "      <th>4</th>\n",
       "      <td>es-S0211-69952011000100019-1</td>\n",
       "      <td>SINTOMA</td>\n",
       "      <td>413</td>\n",
       "      <td>445</td>\n",
       "      <td>dolor pleurítico en el hemitórax</td>\n",
       "      <td>NaN</td>\n",
       "    </tr>\n",
       "    <tr>\n",
       "      <th>...</th>\n",
       "      <td>...</td>\n",
       "      <td>...</td>\n",
       "      <td>...</td>\n",
       "      <td>...</td>\n",
       "      <td>...</td>\n",
       "      <td>...</td>\n",
       "    </tr>\n",
       "    <tr>\n",
       "      <th>3099</th>\n",
       "      <td>es-S0212-16112011000300031-1</td>\n",
       "      <td>SINTOMA</td>\n",
       "      <td>1502</td>\n",
       "      <td>1523</td>\n",
       "      <td>estómago de retención</td>\n",
       "      <td>NaN</td>\n",
       "    </tr>\n",
       "    <tr>\n",
       "      <th>3100</th>\n",
       "      <td>es-S0212-16112011000300031-1</td>\n",
       "      <td>SINTOMA</td>\n",
       "      <td>1527</td>\n",
       "      <td>1559</td>\n",
       "      <td>alteraciones hidroelectrolíticas</td>\n",
       "      <td>NaN</td>\n",
       "    </tr>\n",
       "    <tr>\n",
       "      <th>3101</th>\n",
       "      <td>es-S0212-16112011000300031-1</td>\n",
       "      <td>SINTOMA</td>\n",
       "      <td>2321</td>\n",
       "      <td>2339</td>\n",
       "      <td>hipotonía gástrica</td>\n",
       "      <td>NaN</td>\n",
       "    </tr>\n",
       "    <tr>\n",
       "      <th>3102</th>\n",
       "      <td>es-S0212-16112011000300031-1</td>\n",
       "      <td>SINTOMA</td>\n",
       "      <td>255</td>\n",
       "      <td>332</td>\n",
       "      <td>estudio bioquímico completo, hemograma y funci...</td>\n",
       "      <td>NaN</td>\n",
       "    </tr>\n",
       "    <tr>\n",
       "      <th>3103</th>\n",
       "      <td>es-S0212-16112011000300031-1</td>\n",
       "      <td>SINTOMA</td>\n",
       "      <td>594</td>\n",
       "      <td>695</td>\n",
       "      <td>endoscopia digestiva alta (EDA), anticuerpos a...</td>\n",
       "      <td>NaN</td>\n",
       "    </tr>\n",
       "  </tbody>\n",
       "</table>\n",
       "<p>3104 rows × 6 columns</p>\n",
       "</div>"
      ],
      "text/plain": [
       "                          filename    label  span_ini  span_end  \\\n",
       "0     es-S1138-123X2005000200006-2  SINTOMA       227       257   \n",
       "1     es-S1138-123X2005000200006-2  SINTOMA       579       606   \n",
       "2     es-S0211-69952011000100019-1  SINTOMA       676       716   \n",
       "3     es-S0211-69952011000100019-1  SINTOMA       390       411   \n",
       "4     es-S0211-69952011000100019-1  SINTOMA       413       445   \n",
       "...                            ...      ...       ...       ...   \n",
       "3099  es-S0212-16112011000300031-1  SINTOMA      1502      1523   \n",
       "3100  es-S0212-16112011000300031-1  SINTOMA      1527      1559   \n",
       "3101  es-S0212-16112011000300031-1  SINTOMA      2321      2339   \n",
       "3102  es-S0212-16112011000300031-1  SINTOMA       255       332   \n",
       "3103  es-S0212-16112011000300031-1  SINTOMA       594       695   \n",
       "\n",
       "                                                   text  code  \n",
       "0                        tensión de los tejidos blandos   NaN  \n",
       "1                           segmentos estaban alineados   NaN  \n",
       "2              normalización de la radiografía de tórax   NaN  \n",
       "3                                 incomodidad abdominal   NaN  \n",
       "4                      dolor pleurítico en el hemitórax   NaN  \n",
       "...                                                 ...   ...  \n",
       "3099                              estómago de retención   NaN  \n",
       "3100                   alteraciones hidroelectrolíticas   NaN  \n",
       "3101                                 hipotonía gástrica   NaN  \n",
       "3102  estudio bioquímico completo, hemograma y funci...   NaN  \n",
       "3103  endoscopia digestiva alta (EDA), anticuerpos a...   NaN  \n",
       "\n",
       "[3104 rows x 6 columns]"
      ]
     },
     "execution_count": 76,
     "metadata": {},
     "output_type": "execute_result"
    }
   ],
   "source": [
    "test_tsv = pd.read_csv(Path('../data/symptemist-train_all_subtasks+gazetteer+multilingual+test_all_subtasks+bg_231006/symptemist_test/subtask2-linking/symptemist_tsv_test_subtask2.tsv'), sep='\\t')\n",
    "test_tsv"
   ]
  },
  {
   "cell_type": "code",
   "execution_count": 101,
   "id": "61781071-ed24-47d6-b3a6-dcb0865a408b",
   "metadata": {},
   "outputs": [
    {
     "name": "stdout",
     "output_type": "stream",
     "text": [
      "Written to: submission/test/subtask2-linking/1-xmen.tsv\n",
      "Written to: submission/test/subtask2-linking/2-xmen_no_nil.tsv\n",
      "Written to: submission/test/subtask2-linking/3-xmen_02.tsv\n",
      "Written to: submission/test/subtask2-linking/4-xmen_no_nil_02.tsv\n"
     ]
    }
   ],
   "source": [
    "for i, (k, v) in enumerate(results_test.items()):\n",
    "    write_tsv('submission/test/subtask2-linking', test_tsv, f\"{i+1}-{k}.tsv\", v)"
   ]
  },
  {
   "cell_type": "code",
   "execution_count": null,
   "id": "455c74d8-bf1d-4c6c-a0af-b9583c6bad2b",
   "metadata": {},
   "outputs": [],
   "source": []
  }
 ],
 "metadata": {
  "kernelspec": {
   "display_name": "Python [conda env:xmen_notebooks]",
   "language": "python",
   "name": "conda-env-xmen_notebooks-py"
  },
  "language_info": {
   "codemirror_mode": {
    "name": "ipython",
    "version": 3
   },
   "file_extension": ".py",
   "mimetype": "text/x-python",
   "name": "python",
   "nbconvert_exporter": "python",
   "pygments_lexer": "ipython3",
   "version": "3.10.11"
  }
 },
 "nbformat": 4,
 "nbformat_minor": 5
}
