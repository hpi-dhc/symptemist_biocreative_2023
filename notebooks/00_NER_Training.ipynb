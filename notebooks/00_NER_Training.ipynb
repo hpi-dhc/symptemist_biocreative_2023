{
 "cells": [
  {
   "cell_type": "code",
   "execution_count": 1,
   "id": "fcd34648-dd9a-46b6-bfc4-202a017c7020",
   "metadata": {},
   "outputs": [],
   "source": [
    "from datasets import load_dataset, Dataset \n",
    "import datasets\n",
    "import torch\n",
    "import os\n",
    "import pandas as pd\n",
    "from tqdm import tqdm\n",
    "from span_marker import SpanMarkerModel\n",
    "import spacy"
   ]
  },
  {
   "cell_type": "code",
   "execution_count": 3,
   "id": "a7dc2f05-f968-40a8-8e41-f34ded13b8bc",
   "metadata": {},
   "outputs": [
    {
     "name": "stderr",
     "output_type": "stream",
     "text": [
      "Found cached dataset symptemist (/home/Ignacio.Rodriguez/.cache/huggingface/datasets/symptemist/symptemist_entities_bigbio_kb/2.0.0/2542aaab0d6c9963785fca5b4b0712501e06aa5a2e136b7b4d26d1fd7a2c382a)\n"
     ]
    },
    {
     "data": {
      "application/vnd.jupyter.widget-view+json": {
       "model_id": "bf1957272af04a98a4d34d47b2ba58b1",
       "version_major": 2,
       "version_minor": 0
      },
      "text/plain": [
       "  0%|          | 0/1 [00:00<?, ?it/s]"
      ]
     },
     "metadata": {},
     "output_type": "display_data"
    },
    {
     "name": "stderr",
     "output_type": "stream",
     "text": [
      "Loading cached sorted indices for dataset at /home/Ignacio.Rodriguez/.cache/huggingface/datasets/symptemist/symptemist_entities_bigbio_kb/2.0.0/2542aaab0d6c9963785fca5b4b0712501e06aa5a2e136b7b4d26d1fd7a2c382a/cache-a1bc75b8e00708bf.arrow\n"
     ]
    },
    {
     "data": {
      "text/plain": [
       "DatasetDict({\n",
       "    train: Dataset({\n",
       "        features: ['id', 'document_id', 'passages', 'entities', 'events', 'coreferences', 'relations'],\n",
       "        num_rows: 744\n",
       "    })\n",
       "})"
      ]
     },
     "execution_count": 3,
     "metadata": {},
     "output_type": "execute_result"
    }
   ],
   "source": [
    "data = load_dataset(\n",
    "    path=\"../../biomedical/bigbio/hub/hub_repos/symptemist/symptemist.py\", \n",
    "    name=\"symptemist_entities_bigbio_kb\"\n",
    ")\n",
    "data = data.sort(\"document_id\")\n",
    "data"
   ]
  },
  {
   "cell_type": "code",
   "execution_count": 4,
   "id": "17fd44ab-329e-4cbb-8dea-679dfab10d50",
   "metadata": {},
   "outputs": [],
   "source": [
    "data_train = data[\"train\"].select(range(600))\n",
    "data_eval = data[\"train\"].select(range(600,744))"
   ]
  },
  {
   "cell_type": "code",
   "execution_count": 5,
   "id": "6d74b672-6056-4d53-941e-807a97778402",
   "metadata": {},
   "outputs": [
    {
     "name": "stderr",
     "output_type": "stream",
     "text": [
      "Document progress:: 600it [00:18, 31.76it/s]\n",
      "Document progress:: 144it [00:04, 30.83it/s]\n"
     ]
    }
   ],
   "source": [
    "labels = [\"O\", \"SINTOMA\"]\n",
    "\n",
    "def bigbio2spanmarker(split: Dataset) -> Dataset:\n",
    "\n",
    "    nlp = spacy.load(\"es_core_news_sm\")\n",
    "\n",
    "    output = {\n",
    "        \"filename\": [],\n",
    "        \"document_id\": [],\n",
    "        \"sentence_id\": [],\n",
    "        \"tokens\": [],\n",
    "        \"ner_tags\": [],\n",
    "        \"text\": [],        \n",
    "    }\n",
    "    \n",
    "    for doc_id, row in tqdm(enumerate(split), desc=\"Document progress:\"):\n",
    "        \n",
    "        text = row[\"passages\"][0][\"text\"][0]\n",
    "        entities = row[\"entities\"]\n",
    "        doc = nlp(text)\n",
    "        \n",
    "        for sentence_id, sentence in enumerate(doc.sents):\n",
    "            \n",
    "            tokens = []\n",
    "            token_positions = []\n",
    "            \n",
    "            for token in sentence:\n",
    "                tokens.append(token.text)\n",
    "                token_positions.append(token.idx)\n",
    "        \n",
    "            ner_tags = [0] * len(tokens)\n",
    "                \n",
    "            for i, position in enumerate(token_positions):\n",
    "                for entity in entities:\n",
    "                    for offset in entity[\"offsets\"]:\n",
    "                        if position==offset[0] or position in range(offset[0],offset[1]):\n",
    "                            ner_tags[i] = 1\n",
    "\n",
    "            output[\"filename\"].append(row[\"document_id\"])\n",
    "            output[\"document_id\"].append(doc_id)\n",
    "            output[\"sentence_id\"].append(sentence_id)\n",
    "            output[\"tokens\"].append(tokens)\n",
    "            output[\"ner_tags\"].append(ner_tags)\n",
    "            output[\"text\"].append(sentence.text)\n",
    "        \n",
    "    return datasets.Dataset.from_dict(output)\n",
    "\n",
    "data_train = bigbio2spanmarker(data_train)\n",
    "data_eval = bigbio2spanmarker(data_eval)"
   ]
  },
  {
   "cell_type": "code",
   "execution_count": 14,
   "id": "f6a3afcc-22a9-474d-94ed-d16e37c02db2",
   "metadata": {},
   "outputs": [
    {
     "name": "stderr",
     "output_type": "stream",
     "text": [
      "Some weights of RobertaModel were not initialized from the model checkpoint at PlanTL-GOB-ES/roberta-base-biomedical-clinical-es and are newly initialized: ['roberta.pooler.dense.weight', 'roberta.pooler.dense.bias']\n",
      "You should probably TRAIN this model on a down-stream task to be able to use it for predictions and inference.\n",
      "You are resizing the embedding layer without providing a `pad_to_multiple_of` parameter. This means that the new embeding dimension will be 52002. This might induce some performance reduction as *Tensor Cores* will not be available. For more details  about this, or help on choosing the correct value for resizing, refer to this guide: https://docs.nvidia.com/deeplearning/performance/dl-performance-matrix-multiplication/index.html#requirements-tc\n"
     ]
    }
   ],
   "source": [
    "model_name = \"PlanTL-GOB-ES/roberta-base-biomedical-clinical-es\"\n",
    "model = SpanMarkerModel.from_pretrained(model_name, labels=labels, model_max_length=256, entity_max_length=15, device=0)"
   ]
  },
  {
   "cell_type": "code",
   "execution_count": 15,
   "id": "e9d2dcda-311b-4754-bdf1-2a02c1c46b92",
   "metadata": {},
   "outputs": [],
   "source": [
    "from transformers import TrainingArguments\n",
    "\n",
    "args = TrainingArguments(\n",
    "    output_dir = \"../checkpoints/v2\",\n",
    "    per_device_train_batch_size = 32,\n",
    "    per_device_eval_batch_size = 32,\n",
    "    fp16 = True,\n",
    "    save_strategy = \"epoch\",\n",
    "    overwrite_output_dir = True,\n",
    "    evaluation_strategy = \"epoch\",\n",
    "    save_total_limit = 2,\n",
    "    num_train_epochs = 30,\n",
    "    load_best_model_at_end = True,\n",
    "    metric_for_best_model = \"eval_overall_f1\",\n",
    "    lr_scheduler_type = \"linear\",\n",
    "    learning_rate = 0.00005,\n",
    "    warmup_ratio = 0.0,\n",
    "    label_smoothing_factor = 0.0,\n",
    "    weight_decay = 0.0,\n",
    ")\n"
   ]
  },
  {
   "cell_type": "code",
   "execution_count": 16,
   "id": "5c6d5884-c720-4fb0-9b0a-6641f54280a2",
   "metadata": {},
   "outputs": [],
   "source": [
    "from span_marker import Trainer\n",
    "\n",
    "trainer = Trainer(\n",
    "    model=model,\n",
    "    args=args,\n",
    "    train_dataset = data_train,\n",
    "    eval_dataset = data_eval,\n",
    ")"
   ]
  },
  {
   "cell_type": "code",
   "execution_count": null,
   "id": "1ad9c9ee-e239-4474-bed5-3b5197852a92",
   "metadata": {
    "scrolled": true
   },
   "outputs": [],
   "source": [
    "import wandb\n",
    "with wandb.init(project=f'symptemist_ner',tags=[\"dev\"]):\n",
    "    trainer.train()"
   ]
  }
 ],
 "metadata": {
  "kernelspec": {
   "display_name": "Python [conda env:symptemist]",
   "language": "python",
   "name": "conda-env-symptemist-py"
  },
  "language_info": {
   "codemirror_mode": {
    "name": "ipython",
    "version": 3
   },
   "file_extension": ".py",
   "mimetype": "text/x-python",
   "name": "python",
   "nbconvert_exporter": "python",
   "pygments_lexer": "ipython3",
   "version": "3.10.13"
  }
 },
 "nbformat": 4,
 "nbformat_minor": 5
}
